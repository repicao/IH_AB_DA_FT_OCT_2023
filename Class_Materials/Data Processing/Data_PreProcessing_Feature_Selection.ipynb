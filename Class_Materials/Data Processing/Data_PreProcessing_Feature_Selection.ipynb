{
 "cells": [
  {
   "cell_type": "markdown",
   "metadata": {
    "id": "Q9EzL9UMtzuN"
   },
   "source": [
    "# Loading libraries"
   ]
  },
  {
   "cell_type": "code",
   "execution_count": null,
   "metadata": {
    "ExecuteTime": {
     "end_time": "2022-11-25T20:13:44.140071Z",
     "start_time": "2022-11-25T20:13:43.992841Z"
    },
    "executionInfo": {
     "elapsed": 4,
     "status": "ok",
     "timestamp": 1626337802795,
     "user": {
      "displayName": "Ignacio Soteras",
      "photoUrl": "",
      "userId": "02050793736257155229"
     },
     "user_tz": -120
    },
    "id": "3ICZaLT_txUh"
   },
   "outputs": [],
   "source": [
    "import pandas as pd\n",
    "import numpy as np\n",
    "import warnings\n",
    "warnings.filterwarnings(\"ignore\")"
   ]
  },
  {
   "cell_type": "markdown",
   "metadata": {
    "id": "1QyUWmgZt7T5"
   },
   "source": [
    "# Load data"
   ]
  },
  {
   "cell_type": "code",
   "execution_count": null,
   "metadata": {
    "ExecuteTime": {
     "end_time": "2022-11-25T20:13:44.159940Z",
     "start_time": "2022-11-25T20:13:44.140912Z"
    },
    "colab": {
     "base_uri": "https://localhost:8080/",
     "height": 255
    },
    "executionInfo": {
     "elapsed": 1009,
     "status": "ok",
     "timestamp": 1626337837179,
     "user": {
      "displayName": "Ignacio Soteras",
      "photoUrl": "",
      "userId": "02050793736257155229"
     },
     "user_tz": -120
    },
    "id": "4ZMpqb1Xt6IN",
    "outputId": "edaee620-73df-4c4b-aa4c-cfcfa9bdbeee"
   },
   "outputs": [],
   "source": [
    "data = pd.read_csv(\"Data/DATA_Housing_Prices.csv\")\n",
    "data.head()"
   ]
  },
  {
   "cell_type": "markdown",
   "metadata": {
    "id": "dhfC9tUXuWWh"
   },
   "source": [
    "# Defining X, y"
   ]
  },
  {
   "cell_type": "code",
   "execution_count": null,
   "metadata": {
    "ExecuteTime": {
     "end_time": "2022-11-25T20:13:44.165618Z",
     "start_time": "2022-11-25T20:13:44.162489Z"
    },
    "executionInfo": {
     "elapsed": 338,
     "status": "ok",
     "timestamp": 1626337884572,
     "user": {
      "displayName": "Ignacio Soteras",
      "photoUrl": "",
      "userId": "02050793736257155229"
     },
     "user_tz": -120
    },
    "id": "oAxOOgtBuVGg"
   },
   "outputs": [],
   "source": [
    "X = data.drop(columns=['Id','SalePrice'], axis = 1)\n",
    "y = np.log(data['SalePrice'])"
   ]
  },
  {
   "cell_type": "markdown",
   "metadata": {
    "id": "zJ9ObH7EuNs8"
   },
   "source": [
    "# Data splitting"
   ]
  },
  {
   "cell_type": "code",
   "execution_count": null,
   "metadata": {
    "ExecuteTime": {
     "end_time": "2022-11-25T20:13:44.380321Z",
     "start_time": "2022-11-25T20:13:44.166439Z"
    },
    "executionInfo": {
     "elapsed": 926,
     "status": "ok",
     "timestamp": 1626337892740,
     "user": {
      "displayName": "Ignacio Soteras",
      "photoUrl": "",
      "userId": "02050793736257155229"
     },
     "user_tz": -120
    },
    "id": "5DhzGwr3uPa_"
   },
   "outputs": [],
   "source": [
    "from sklearn.model_selection import train_test_split\n",
    "\n",
    "X_train, X_test, y_train, y_test = train_test_split(X, y, test_size=0.20, random_state=42)\n",
    "\n",
    "X_train = pd.DataFrame(X_train, columns=X.columns)\n",
    "X_test  = pd.DataFrame(X_test, columns=X.columns)\n"
   ]
  },
  {
   "cell_type": "code",
   "execution_count": null,
   "metadata": {
    "ExecuteTime": {
     "end_time": "2022-11-25T20:13:44.408970Z",
     "start_time": "2022-11-25T20:13:44.381277Z"
    },
    "colab": {
     "base_uri": "https://localhost:8080/",
     "height": 319
    },
    "executionInfo": {
     "elapsed": 227,
     "status": "ok",
     "timestamp": 1626337896560,
     "user": {
      "displayName": "Ignacio Soteras",
      "photoUrl": "",
      "userId": "02050793736257155229"
     },
     "user_tz": -120
    },
    "id": "sgryVkbXwTaH",
    "outputId": "dd101934-a0fd-49f0-9947-4ad97b0bca77"
   },
   "outputs": [],
   "source": [
    "X_train.describe()"
   ]
  },
  {
   "cell_type": "markdown",
   "metadata": {
    "id": "GNrheL61urqx"
   },
   "source": [
    "# Variance threshold method"
   ]
  },
  {
   "cell_type": "markdown",
   "metadata": {
    "id": "-2alUutG7hiJ"
   },
   "source": [
    "Univariate method"
   ]
  },
  {
   "cell_type": "code",
   "execution_count": null,
   "metadata": {
    "ExecuteTime": {
     "end_time": "2022-11-25T20:13:44.445496Z",
     "start_time": "2022-11-25T20:13:44.409791Z"
    },
    "colab": {
     "base_uri": "https://localhost:8080/",
     "height": 511
    },
    "executionInfo": {
     "elapsed": 673,
     "status": "ok",
     "timestamp": 1626338146546,
     "user": {
      "displayName": "Ignacio Soteras",
      "photoUrl": "",
      "userId": "02050793736257155229"
     },
     "user_tz": -120
    },
    "id": "TbwUGz_MuvPB",
    "outputId": "febba3a3-ccff-4817-da75-c9d4a7b55a06"
   },
   "outputs": [],
   "source": [
    "from sklearn.feature_selection import VarianceThreshold # It only works with numerical features\n",
    "\n",
    "\n",
    "X_train = X_train.select_dtypes(include=np.number)\n",
    "X_test  = X_test.select_dtypes(include=np.number)\n",
    "\n",
    "#display(X_train)\n",
    "print(\"Initial number of numerical columns: \",X_train.shape)\n",
    "print()\n",
    "\n",
    "\n",
    "selector = VarianceThreshold() # Default threshold value is 0\n",
    "# Features with a training-set variance lower than this threshold will be removed.\n",
    "selector.fit(X_train)\n",
    "\n",
    "kept_features_indexes = selector.get_support(indices = True) #returns an array of integers corresponding to nonremoved features\n",
    "kept_features = list(X_train.iloc[:,kept_features_indexes].columns)\n",
    "\n",
    "X_train = selector.transform(X_train)\n",
    "X_test  = selector.transform(X_test)\n",
    "\n",
    "X_train = pd.DataFrame(X_train, columns=kept_features)\n",
    "X_test  = pd.DataFrame(X_test, columns=kept_features)\n",
    "\n",
    "print(\"Final number of numerical columns: \",X_train.shape)\n",
    "print()\n",
    "X_train"
   ]
  },
  {
   "cell_type": "markdown",
   "metadata": {
    "id": "eDaOkO2N2Ol5"
   },
   "source": [
    "# Correlation matrix"
   ]
  },
  {
   "cell_type": "code",
   "execution_count": null,
   "metadata": {
    "ExecuteTime": {
     "end_time": "2022-11-25T20:13:44.792447Z",
     "start_time": "2022-11-25T20:13:44.447243Z"
    },
    "colab": {
     "base_uri": "https://localhost:8080/",
     "height": 439
    },
    "executionInfo": {
     "elapsed": 247,
     "status": "ok",
     "timestamp": 1626338668085,
     "user": {
      "displayName": "Ignacio Soteras",
      "photoUrl": "",
      "userId": "02050793736257155229"
     },
     "user_tz": -120
    },
    "id": "oupmFDB72QYC",
    "outputId": "53f90076-2ab8-4812-c1c6-26af5a994ac8"
   },
   "outputs": [],
   "source": [
    "import seaborn as sns\n",
    "import matplotlib.pyplot as plt\n",
    "\n",
    "c = abs(data.corr())\n",
    "#c\n",
    "\n",
    "fig, ax = plt.subplots(figsize=(14,14))\n",
    "sns.heatmap(c, annot=True);\n",
    "\n",
    "#c['SalePrice']\n",
    "c_last = c['SalePrice'].sort_values(ascending=False)\n",
    "#c_last\n",
    "c_thr = .3\n",
    "cols_to_keep = list(c_last[c_last > c_thr].index)[1:] + [list(c_last[c_last > c_thr].index)[0]]\n",
    "print(cols_to_keep)\n",
    "\n",
    "data[cols_to_keep]"
   ]
  },
  {
   "cell_type": "markdown",
   "metadata": {
    "id": "ewR_S8q36_SW"
   },
   "source": [
    "# Recursive feature elimination"
   ]
  },
  {
   "cell_type": "code",
   "execution_count": null,
   "metadata": {
    "ExecuteTime": {
     "end_time": "2022-11-25T20:13:44.831897Z",
     "start_time": "2022-11-25T20:13:44.793326Z"
    },
    "colab": {
     "base_uri": "https://localhost:8080/",
     "height": 871
    },
    "executionInfo": {
     "elapsed": 252,
     "status": "ok",
     "timestamp": 1626339439697,
     "user": {
      "displayName": "Ignacio Soteras",
      "photoUrl": "",
      "userId": "02050793736257155229"
     },
     "user_tz": -120
    },
    "id": "gKL926IVXnEL",
    "outputId": "7f07e37b-6fc0-4f5b-f835-8507d08c1db4"
   },
   "outputs": [],
   "source": [
    "from sklearn.linear_model import LinearRegression\n",
    "from sklearn.feature_selection import RFE  ## recursive feature elemination technique\n",
    "\n",
    "X_train, X_test, y_train, y_test = train_test_split(X, y, test_size=0.20, random_state=42)\n",
    "\n",
    "X_train = X_train.select_dtypes(include=np.number)\n",
    "X_test  = X_test.select_dtypes(include=np.number)\n",
    "\n",
    "X_train = pd.DataFrame(X_train, columns=X.columns)\n",
    "X_test  = pd.DataFrame(X_test, columns=X.columns)\n",
    "\n",
    "#X_train.isna().sum()\n",
    "nulls = pd.DataFrame(X_train.isna().sum()).reset_index()\n",
    "#nulls.head()\n",
    "nulls.columns = ['Column','nas']\n",
    "#nulls.head()\n",
    "#nulls[nulls['nas'] > 0].head()\n",
    "cols_to_drop = nulls[nulls['nas'] > 0]['Column'] # Too drastic, but made on pourpose for quick filtering (don't do this in production!!)\n",
    "\n",
    "X_train.drop(columns=cols_to_drop, axis=1, inplace = True)\n",
    "X_test.drop(columns=cols_to_drop, axis=1, inplace = True)\n",
    "\n",
    "#display(X_train)\n",
    "\n",
    "lm = LinearRegression()\n",
    "\n",
    "selector = RFE(lm, n_features_to_select= 8, step = 1, verbose = 1) # Step is how many features to add or drop everytime\n",
    "selector.fit(X_train, y_train)\n",
    "\n",
    "kept_features = selector.get_support(indices = True) #returns an array of integers corresponding to nonremoved features\n",
    "kept_features = list(X_train.iloc[:,kept_features].columns)\n",
    "\n",
    "X_train = selector.transform(X_train)\n",
    "X_test  = selector.transform(X_test)\n",
    "\n",
    "X_train = pd.DataFrame(X_train, columns=kept_features)\n",
    "X_test  = pd.DataFrame(X_test, columns=kept_features)\n",
    "\n",
    "print(\"Final selected features: \")\n",
    "display(X_train)"
   ]
  },
  {
   "cell_type": "markdown",
   "metadata": {},
   "source": [
    "## Embedded Methods"
   ]
  },
  {
   "cell_type": "code",
   "execution_count": null,
   "metadata": {
    "ExecuteTime": {
     "end_time": "2022-11-25T20:13:44.839368Z",
     "start_time": "2022-11-25T20:13:44.835312Z"
    }
   },
   "outputs": [],
   "source": [
    "X_train, X_test, y_train, y_test = train_test_split(X, y, test_size=0.30, random_state=42)\n",
    "\n",
    "X_train = X_train.select_dtypes(include=np.number)\n",
    "X_test  = X_test.select_dtypes(include=np.number)"
   ]
  },
  {
   "cell_type": "code",
   "execution_count": null,
   "metadata": {
    "ExecuteTime": {
     "end_time": "2022-11-25T20:13:44.848017Z",
     "start_time": "2022-11-25T20:13:44.840735Z"
    }
   },
   "outputs": [],
   "source": [
    "import numpy as np\n",
    "from sklearn.impute import SimpleImputer\n",
    "imp_mean = SimpleImputer(missing_values=np.nan, strategy='mean')\n",
    "X_train=imp_mean.fit_transform(X_train)\n",
    "X_test = imp_mean.fit_transform(X_test)"
   ]
  },
  {
   "cell_type": "markdown",
   "metadata": {},
   "source": [
    "## OLS"
   ]
  },
  {
   "cell_type": "code",
   "execution_count": null,
   "metadata": {
    "ExecuteTime": {
     "end_time": "2022-11-25T20:13:44.854569Z",
     "start_time": "2022-11-25T20:13:44.849037Z"
    }
   },
   "outputs": [],
   "source": [
    "model=LinearRegression()\n",
    "model.fit(X_train, y_train)\n",
    "print(f\"{model.__class__.__name__}: Train -> {model.score(X_train, y_train)}, Test -> {model.score(X_test, y_test)}\")"
   ]
  },
  {
   "cell_type": "markdown",
   "metadata": {},
   "source": [
    "<b> A lasso model can drop features and be a feature selection technique <b>"
   ]
  },
  {
   "cell_type": "code",
   "execution_count": null,
   "metadata": {
    "ExecuteTime": {
     "end_time": "2022-11-25T20:19:47.745546Z",
     "start_time": "2022-11-25T20:19:47.698005Z"
    }
   },
   "outputs": [],
   "source": [
    "from sklearn.linear_model import Lasso,Ridge,ElasticNet, LinearRegression\n",
    "model=Lasso(alpha=0)\n",
    "\n",
    "model.fit(X_train, y_train)\n",
    "print(f\"{model.__class__.__name__}: Train -> {model.score(X_train, y_train)}, Test -> {model.score(X_test, y_test)}\")"
   ]
  },
  {
   "cell_type": "markdown",
   "metadata": {},
   "source": [
    "<b> Ridge"
   ]
  },
  {
   "cell_type": "code",
   "execution_count": null,
   "metadata": {
    "ExecuteTime": {
     "end_time": "2022-11-25T20:19:50.399205Z",
     "start_time": "2022-11-25T20:19:50.391087Z"
    }
   },
   "outputs": [],
   "source": [
    "model=Ridge(alpha=0)\n",
    "model.fit(X_train, y_train)\n",
    "print(f\"{model.__class__.__name__}: Train -> {model.score(X_train, y_train)}, Test -> {model.score(X_test, y_test)}\")"
   ]
  },
  {
   "cell_type": "markdown",
   "metadata": {},
   "source": [
    "<b> ElasticNet"
   ]
  },
  {
   "cell_type": "code",
   "execution_count": null,
   "metadata": {
    "ExecuteTime": {
     "end_time": "2022-11-25T20:19:52.414383Z",
     "start_time": "2022-11-25T20:19:52.374945Z"
    }
   },
   "outputs": [],
   "source": [
    "model=ElasticNet(alpha=0)\n",
    "model.fit(X_train, y_train)\n",
    "print(f\"{model.__class__.__name__}: Train -> {model.score(X_train, y_train)}, Test -> {model.score(X_test, y_test)}\")"
   ]
  },
  {
   "cell_type": "code",
   "execution_count": null,
   "metadata": {},
   "outputs": [],
   "source": [
    "import statsmodels.api as sm"
   ]
  }
 ],
 "metadata": {
  "colab": {
   "authorship_tag": "ABX9TyPY1B5JFpKNmfd8e/xlY/k3",
   "name": "Feature_selection.ipynb",
   "provenance": []
  },
  "kernelspec": {
   "display_name": "Python 3 (ipykernel)",
   "language": "python",
   "name": "python3"
  },
  "language_info": {
   "codemirror_mode": {
    "name": "ipython",
    "version": 3
   },
   "file_extension": ".py",
   "mimetype": "text/x-python",
   "name": "python",
   "nbconvert_exporter": "python",
   "pygments_lexer": "ipython3",
   "version": "3.11.5"
  },
  "toc": {
   "base_numbering": 1,
   "nav_menu": {},
   "number_sections": true,
   "sideBar": true,
   "skip_h1_title": false,
   "title_cell": "Table of Contents",
   "title_sidebar": "Contents",
   "toc_cell": false,
   "toc_position": {},
   "toc_section_display": true,
   "toc_window_display": false
  },
  "varInspector": {
   "cols": {
    "lenName": 16,
    "lenType": 16,
    "lenVar": 40
   },
   "kernels_config": {
    "python": {
     "delete_cmd_postfix": "",
     "delete_cmd_prefix": "del ",
     "library": "var_list.py",
     "varRefreshCmd": "print(var_dic_list())"
    },
    "r": {
     "delete_cmd_postfix": ") ",
     "delete_cmd_prefix": "rm(",
     "library": "var_list.r",
     "varRefreshCmd": "cat(var_dic_list()) "
    }
   },
   "types_to_exclude": [
    "module",
    "function",
    "builtin_function_or_method",
    "instance",
    "_Feature"
   ],
   "window_display": false
  }
 },
 "nbformat": 4,
 "nbformat_minor": 1
}
