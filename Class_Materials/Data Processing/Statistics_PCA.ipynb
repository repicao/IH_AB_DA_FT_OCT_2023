{
 "cells": [
  {
   "cell_type": "markdown",
   "metadata": {
    "id": "JIbtOgdA10lH"
   },
   "source": [
    "# Principal Component Analysis (PCA)\n"
   ]
  },
  {
   "cell_type": "markdown",
   "metadata": {},
   "source": [
    "PCA is a technique for reducing the dimension of a $n \\times p$ data matrix $X$ by singling out the directions under which $X$ varies the most. The principal components $Z_i$ may be written as a sum $Z_i = \\sum_{j=1}^p \\phi_{ij} X_j \\ $  where $p$ is the number of original predictor variables $X_j$. The coefficients  $\\phi_{ij}$ are determined by maximizing the variance under the constraint $\\sum_{j}\\phi_{ij}^2 = 1$ for all $i$. The first principal component vector has a special geometric interpretation because it defines the line that is as close as possible to the data. In other words, the first principal component line minimizes the sum of the squared perpendicular distances between each point and the line. In this notebook we use scikit-learn to obtain a PCA decomposition of the input matrix for housing price data and construct a linear regression model using the PCs as input to predict the price."
   ]
  },
  {
   "cell_type": "code",
   "execution_count": null,
   "metadata": {
    "executionInfo": {
     "elapsed": 1022,
     "status": "ok",
     "timestamp": 1626422791927,
     "user": {
      "displayName": "Ignacio Soteras",
      "photoUrl": "",
      "userId": "02050793736257155229"
     },
     "user_tz": -120
    },
    "id": "Xie9v3Xc3vB8"
   },
   "outputs": [],
   "source": [
    "import pandas as pd\n",
    "import numpy as np\n",
    "from sklearn.preprocessing import StandardScaler\n",
    "from sklearn.model_selection import train_test_split\n",
    "from sklearn.metrics import r2_score"
   ]
  },
  {
   "cell_type": "code",
   "execution_count": null,
   "metadata": {
    "executionInfo": {
     "elapsed": 594,
     "status": "ok",
     "timestamp": 1626422822011,
     "user": {
      "displayName": "Ignacio Soteras",
      "photoUrl": "",
      "userId": "02050793736257155229"
     },
     "user_tz": -120
    },
    "id": "hakKlTeEFzQG"
   },
   "outputs": [],
   "source": [
    "data = pd.read_csv('Data/DATA_Housing_Prices.csv') # load housing data"
   ]
  },
  {
   "cell_type": "code",
   "execution_count": null,
   "metadata": {
    "colab": {
     "base_uri": "https://localhost:8080/",
     "height": 255
    },
    "executionInfo": {
     "elapsed": 216,
     "status": "ok",
     "timestamp": 1626422859401,
     "user": {
      "displayName": "Ignacio Soteras",
      "photoUrl": "",
      "userId": "02050793736257155229"
     },
     "user_tz": -120
    },
    "id": "5GcsqgmO8YEE",
    "outputId": "c5fb0be8-4448-4ad1-837d-6fee73102b84"
   },
   "outputs": [],
   "source": [
    "# Let's construct a dataframe with these features\n",
    "data['Antiquity'] = data['YrSold'] - data['YearRemodAdd']\n",
    "\n",
    "X = data.drop(columns=['Id','SalePrice','YearBuilt', 'YearRemodAdd', 'YrSold',\n",
    "                       'LotFrontage','MasVnrArea','GarageYrBlt'], axis = 1)\n",
    "y = np.log(data['SalePrice'])\n",
    "\n",
    "data.describe() # inspect the data"
   ]
  },
  {
   "cell_type": "code",
   "execution_count": null,
   "metadata": {
    "colab": {
     "base_uri": "https://localhost:8080/",
     "height": 225
    },
    "executionInfo": {
     "elapsed": 203,
     "status": "ok",
     "timestamp": 1626422902058,
     "user": {
      "displayName": "Ignacio Soteras",
      "photoUrl": "",
      "userId": "02050793736257155229"
     },
     "user_tz": -120
    },
    "id": "F7CQG_8rGRAZ",
    "outputId": "685bff9b-c2a8-4a0c-8607-0bb9e4c81f71"
   },
   "outputs": [],
   "source": [
    "X = X.select_dtypes(include=np.number)\n",
    "X_cols = X.columns\n",
    "X.head()"
   ]
  },
  {
   "cell_type": "code",
   "execution_count": null,
   "metadata": {
    "colab": {
     "base_uri": "https://localhost:8080/"
    },
    "executionInfo": {
     "elapsed": 211,
     "status": "ok",
     "timestamp": 1626422910768,
     "user": {
      "displayName": "Ignacio Soteras",
      "photoUrl": "",
      "userId": "02050793736257155229"
     },
     "user_tz": -120
    },
    "id": "D3Hh1vJBHvuq",
    "outputId": "84e77b2d-c41c-4d27-b250-b9df59d0a012"
   },
   "outputs": [],
   "source": [
    "X.isna().sum() # check for missing values"
   ]
  },
  {
   "cell_type": "markdown",
   "metadata": {
    "id": "YW4TNP_XBpp-"
   },
   "source": [
    "# Scaling the data before PCA"
   ]
  },
  {
   "cell_type": "code",
   "execution_count": null,
   "metadata": {
    "executionInfo": {
     "elapsed": 201,
     "status": "ok",
     "timestamp": 1626422969811,
     "user": {
      "displayName": "Ignacio Soteras",
      "photoUrl": "",
      "userId": "02050793736257155229"
     },
     "user_tz": -120
    },
    "id": "LfxVqHwy5CmB"
   },
   "outputs": [],
   "source": [
    "# split the data into test/train sets for machine learning\n",
    "X_train, X_test, y_train, y_test = train_test_split(X, y, test_size=0.20, random_state=42)\n",
    "\n",
    "scaler = StandardScaler() # transform to a new variable z=(x-mu)/sigma, which scales and shifts the data\n",
    "\n",
    "scaler.fit(X_train) # get the parameters mu and sigma for each column (from the train set!)\n",
    "\n",
    "X_train = scaler.transform(X_train) # transform\n",
    "X_test  = scaler.transform(X_test) # transform\n",
    "\n",
    "X_train = pd.DataFrame(X_train, columns = X.columns) # repack\n",
    "X_test  = pd.DataFrame(X_test , columns = X.columns)"
   ]
  },
  {
   "cell_type": "code",
   "execution_count": null,
   "metadata": {
    "colab": {
     "base_uri": "https://localhost:8080/"
    },
    "executionInfo": {
     "elapsed": 213,
     "status": "ok",
     "timestamp": 1626422979582,
     "user": {
      "displayName": "Ignacio Soteras",
      "photoUrl": "",
      "userId": "02050793736257155229"
     },
     "user_tz": -120
    },
    "id": "PjdFdVKl0z8R",
    "outputId": "ec87a69b-0c71-47f2-c83a-03e7bd8ec697"
   },
   "outputs": [],
   "source": [
    "X_train.shape"
   ]
  },
  {
   "cell_type": "code",
   "execution_count": null,
   "metadata": {},
   "outputs": [],
   "source": [
    "X_train"
   ]
  },
  {
   "cell_type": "markdown",
   "metadata": {
    "id": "RxdMEL4lCWMD"
   },
   "source": [
    "# Performing PCA"
   ]
  },
  {
   "cell_type": "code",
   "execution_count": null,
   "metadata": {
    "executionInfo": {
     "elapsed": 211,
     "status": "ok",
     "timestamp": 1626423259204,
     "user": {
      "displayName": "Ignacio Soteras",
      "photoUrl": "",
      "userId": "02050793736257155229"
     },
     "user_tz": -120
    },
    "id": "7zp2BOXXBgoL"
   },
   "outputs": [],
   "source": [
    "from sklearn.decomposition import PCA\n",
    "\n",
    "pca = PCA(svd_solver='full') # singular value decomp\n",
    "\n",
    "pca.fit(X_train) # fit to train\n",
    "\n",
    "X_train = pca.transform(X_train) # transform\n",
    "X_test  = pca.transform(X_test)  # transform\n",
    "\n",
    "cols = ['PCA_' + str(i) for i in list(range(1,len(X.columns)+1))] # rename columns\n",
    "\n",
    "X_train = pd.DataFrame(X_train, columns = cols)\n",
    "X_test  = pd.DataFrame(X_test , columns = cols)"
   ]
  },
  {
   "cell_type": "code",
   "execution_count": null,
   "metadata": {},
   "outputs": [],
   "source": [
    "# select the top 15 PCs\n",
    "X_train = X_train.iloc[:,:15]\n",
    "X_test = X_test.iloc[:,:15]\n",
    "X_train"
   ]
  },
  {
   "cell_type": "markdown",
   "metadata": {
    "id": "ULRwKeARCb3D"
   },
   "source": [
    "# Getting variances"
   ]
  },
  {
   "cell_type": "code",
   "execution_count": null,
   "metadata": {
    "colab": {
     "base_uri": "https://localhost:8080/"
    },
    "executionInfo": {
     "elapsed": 251,
     "status": "ok",
     "timestamp": 1626423394922,
     "user": {
      "displayName": "Ignacio Soteras",
      "photoUrl": "",
      "userId": "02050793736257155229"
     },
     "user_tz": -120
    },
    "id": "tt2nU1uiCdfb",
    "outputId": "a1cf4200-ecec-483d-d183-2806a09b28f2"
   },
   "outputs": [],
   "source": [
    "print(pca.explained_variance_ratio_) # Individual variances of each principal components\n",
    "print(pca.singular_values_)"
   ]
  },
  {
   "cell_type": "code",
   "execution_count": null,
   "metadata": {
    "executionInfo": {
     "elapsed": 214,
     "status": "ok",
     "timestamp": 1626423495456,
     "user": {
      "displayName": "Ignacio Soteras",
      "photoUrl": "",
      "userId": "02050793736257155229"
     },
     "user_tz": -120
    },
    "id": "gNXO9WGEP_y-"
   },
   "outputs": [],
   "source": [
    "variances = pca.explained_variance_ratio_.tolist()\n",
    "variances[:5]"
   ]
  },
  {
   "cell_type": "code",
   "execution_count": null,
   "metadata": {
    "colab": {
     "base_uri": "https://localhost:8080/",
     "height": 236
    },
    "executionInfo": {
     "elapsed": 215,
     "status": "ok",
     "timestamp": 1626423663595,
     "user": {
      "displayName": "Ignacio Soteras",
      "photoUrl": "",
      "userId": "02050793736257155229"
     },
     "user_tz": -120
    },
    "id": "S1o-Ems8QsJO",
    "outputId": "7eee79f8-bbce-429b-9874-0076cdb12447"
   },
   "outputs": [],
   "source": [
    "total_variance = [sum(variances[:i]) for i in range(1, len(variances)+1)]\n",
    "scree = pd.DataFrame({'num_pca': range(1,len(variances)+1),'variance': variances,'cumulative_variance': total_variance})\n",
    "scree.head(10)"
   ]
  },
  {
   "cell_type": "code",
   "execution_count": null,
   "metadata": {
    "colab": {
     "base_uri": "https://localhost:8080/",
     "height": 515
    },
    "executionInfo": {
     "elapsed": 1573,
     "status": "ok",
     "timestamp": 1626423811432,
     "user": {
      "displayName": "Ignacio Soteras",
      "photoUrl": "",
      "userId": "02050793736257155229"
     },
     "user_tz": -120
    },
    "id": "sOkM5yK5JEnx",
    "outputId": "de5e7c0b-f903-4c58-e7f6-f521b669a5ee"
   },
   "outputs": [],
   "source": [
    "import matplotlib.pyplot as plt\n",
    "import seaborn as sns\n",
    "%matplotlib inline\n",
    "\n",
    "sns.set_style(\"darkgrid\", {\"axes.facecolor\": \".9\"})\n",
    "\n",
    "fig, ax = plt.subplots(1,2,figsize=(16,8))\n",
    "\n",
    "sns.lineplot(x=\"num_pca\", y=\"variance\", data=scree, ax = ax[0], color = 'black')\n",
    "ax[0].set_xticks(range(1,32))\n",
    "sns.barplot(x=\"num_pca\", y=\"cumulative_variance\", data=scree, ax = ax[1], color = 'lightblue')"
   ]
  },
  {
   "cell_type": "markdown",
   "metadata": {
    "id": "Tqw3OlSmUCF0"
   },
   "source": [
    "Here we have a very bad scenario. On the left plot it looks that there is an elbow at 6 pca's. However, with five principal components we are only able to explain only 51% of the total variability of the data!!! This can be seen from\n",
    "\n",
    "```\n",
    "cumulative_variance[6] = 0.51\n",
    "```\n",
    "Bear in mind that we only selected the numerical columns and we didn't take into account the categorical ones. \n"
   ]
  },
  {
   "cell_type": "markdown",
   "metadata": {
    "id": "MYifnhkumyK5"
   },
   "source": [
    "# pca coefficients"
   ]
  },
  {
   "cell_type": "code",
   "execution_count": null,
   "metadata": {
    "colab": {
     "base_uri": "https://localhost:8080/"
    },
    "executionInfo": {
     "elapsed": 261,
     "status": "ok",
     "timestamp": 1626423965953,
     "user": {
      "displayName": "Ignacio Soteras",
      "photoUrl": "",
      "userId": "02050793736257155229"
     },
     "user_tz": -120
    },
    "id": "cQymnyxmmxhj",
    "outputId": "ed79975c-eda4-47f7-c0c1-bc63e23784a6"
   },
   "outputs": [],
   "source": [
    "pca.components_"
   ]
  },
  {
   "cell_type": "code",
   "execution_count": null,
   "metadata": {
    "colab": {
     "base_uri": "https://localhost:8080/"
    },
    "executionInfo": {
     "elapsed": 227,
     "status": "ok",
     "timestamp": 1626424263798,
     "user": {
      "displayName": "Ignacio Soteras",
      "photoUrl": "",
      "userId": "02050793736257155229"
     },
     "user_tz": -120
    },
    "id": "xgCXk-Z3nB1a",
    "outputId": "18e1eb6d-7d03-463d-b678-43ad41d18480"
   },
   "outputs": [],
   "source": [
    "# First pca components. The first principal component direction of the data is that along which the observations vary the most.\n",
    "pca.components_[0,:]"
   ]
  },
  {
   "cell_type": "code",
   "execution_count": null,
   "metadata": {
    "colab": {
     "base_uri": "https://localhost:8080/"
    },
    "executionInfo": {
     "elapsed": 222,
     "status": "ok",
     "timestamp": 1626424589642,
     "user": {
      "displayName": "Ignacio Soteras",
      "photoUrl": "",
      "userId": "02050793736257155229"
     },
     "user_tz": -120
    },
    "id": "J4PHai6CnMl-",
    "outputId": "e9dd4bdb-cf86-47b3-b03f-c515b2397874",
    "scrolled": false
   },
   "outputs": [],
   "source": [
    "# decomposition of the PCAs in terms of the original variables\n",
    "for comp in range(1,len(pca.components_)+1):\n",
    "    print(\"Principal component \",comp)\n",
    "    my_list = [(abs(value),index+1,X.columns[index],value) for index,value in enumerate(pca.components_[comp-1,:]) ]\n",
    "    my_list.sort(reverse=True)\n",
    "    my_list = [(elem[1],elem[2],round(elem[3],2)) for elem in my_list]\n",
    "    print(my_list)\n",
    "    print()"
   ]
  },
  {
   "cell_type": "markdown",
   "metadata": {
    "id": "YZNYgOWGqqIH"
   },
   "source": [
    "=# Generating a regression model with the pca"
   ]
  },
  {
   "cell_type": "code",
   "execution_count": null,
   "metadata": {
    "executionInfo": {
     "elapsed": 213,
     "status": "ok",
     "timestamp": 1626424748835,
     "user": {
      "displayName": "Ignacio Soteras",
      "photoUrl": "",
      "userId": "02050793736257155229"
     },
     "user_tz": -120
    },
    "id": "S06GdLaUrgp-"
   },
   "outputs": [],
   "source": [
    "from matplotlib.ticker import FuncFormatter\n",
    "import matplotlib.ticker as ticker\n",
    "\n",
    "def show_errors(y_real_train, y_pred_train, y_real_test, y_pred_test):\n",
    "    \"\"\" plots the errors of a linear regression model\n",
    "    :param y_real_train: target variable (price) for the train set\n",
    "    :param y_pred_train: predicted price  from model on the train set\n",
    "    :param y_real_test: target variable (price) for the test set\n",
    "    :param y_pred_test: predicted price from model on the test set\n",
    "    :return: array of plots comparing y_true and y_predict for test and train and distribution of residuals in both cases\n",
    "    \"\"\"\n",
    "\n",
    "    plt.style.use('seaborn') \n",
    "\n",
    "    fig, ax = plt.subplots(2,2,figsize=(10,10))\n",
    "    \n",
    "    ax[0,0].scatter(x = np.exp(y_real_train), y = np.exp(y_pred_train), c = 'green')\n",
    "    ax[0,0].plot([0,700000], [0,700000], linestyle = '--',c = 'black')\n",
    "    ax[0,0].set_xlim(0,700000)\n",
    "    ax[0,0].set_ylim(0,700000)\n",
    "\n",
    "    ax[0,0].xaxis.set_major_formatter(FuncFormatter(lambda x, p: f'{int(x/1000)}K'))\n",
    "    ax[0,0].yaxis.set_major_formatter(FuncFormatter(lambda x, p: f'{int(x/1000)}K'))\n",
    "    ax[0,0].set_title('Train set')\n",
    "\n",
    "    ax[0,1].hist(x = np.exp(y_real_train)-np.exp(y_pred_train), bins = 50,color = 'green')\n",
    "    ax[0,1].set_xlim(-200000,200000)\n",
    "    ax[0,1].xaxis.set_major_formatter(FuncFormatter(lambda x, p: f'{int(x/1000)}K'))\n",
    "    ax[0,1].set_title('Train set')\n",
    "\n",
    "    ax[1,0].scatter(x = np.exp(y_real_test), y = np.exp(y_pred_test), c = 'blue')\n",
    "    ax[1,0].plot([0,700000], [0,700000], linestyle = '--',c = 'black')\n",
    "    ax[1,0].set_xlim(0,700000)\n",
    "    ax[1,0].set_ylim(0,700000)\n",
    "    ax[1,0].xaxis.set_major_formatter(FuncFormatter(lambda x, p: f'{int(x/1000)}K'))\n",
    "    ax[1,0].yaxis.set_major_formatter(FuncFormatter(lambda x, p: f'{int(x/1000)}K'))\n",
    "    ax[1,0].set_title('Test set')   \n",
    "\n",
    "    ax[1,1].hist(x = np.exp(y_real_test)-np.exp(y_pred_test), bins = 50,color = 'blue')\n",
    "    ax[1,1].set_xlim(-200000,200000)\n",
    "    ax[1,1].xaxis.set_major_formatter(FuncFormatter(lambda x, p: f'{int(x/1000)}K'))\n",
    "    ax[1,1].set_title('Test set')\n",
    "\n",
    "    fig.tight_layout()\n",
    "    pass"
   ]
  },
  {
   "cell_type": "code",
   "execution_count": null,
   "metadata": {},
   "outputs": [],
   "source": [
    "X_test"
   ]
  },
  {
   "cell_type": "code",
   "execution_count": null,
   "metadata": {
    "colab": {
     "base_uri": "https://localhost:8080/",
     "height": 729
    },
    "executionInfo": {
     "elapsed": 2317,
     "status": "ok",
     "timestamp": 1626424783724,
     "user": {
      "displayName": "Ignacio Soteras",
      "photoUrl": "",
      "userId": "02050793736257155229"
     },
     "user_tz": -120
    },
    "id": "YUVB7MDU10lO",
    "outputId": "9d237145-cd93-4e9d-d989-c245c5f33182"
   },
   "outputs": [],
   "source": [
    "from sklearn.linear_model import LinearRegression\n",
    "\n",
    "lm = LinearRegression()\n",
    "\n",
    "lm.fit(X_train,y_train)\n",
    "\n",
    "y_pred_train = lm.predict(X_train)\n",
    "y_pred_test  = lm.predict(X_test)\n",
    "\n",
    "show_errors(y_train, y_pred_train, y_test, y_pred_test)"
   ]
  },
  {
   "cell_type": "markdown",
   "metadata": {},
   "source": [
    "Error metrics"
   ]
  },
  {
   "cell_type": "code",
   "execution_count": null,
   "metadata": {},
   "outputs": [],
   "source": [
    "lm.score(X_test,y_test), r2_score(y_test,y_pred_test)"
   ]
  },
  {
   "cell_type": "code",
   "execution_count": null,
   "metadata": {},
   "outputs": [],
   "source": [
    "lm.score(X_train,y_train), r2_score(y_train,y_pred_train)"
   ]
  }
 ],
 "metadata": {
  "colab": {
   "collapsed_sections": [],
   "name": "PCA_code_along.ipynb",
   "provenance": []
  },
  "kernelspec": {
   "display_name": "Python 3 (ipykernel)",
   "language": "python",
   "name": "python3"
  },
  "language_info": {
   "codemirror_mode": {
    "name": "ipython",
    "version": 3
   },
   "file_extension": ".py",
   "mimetype": "text/x-python",
   "name": "python",
   "nbconvert_exporter": "python",
   "pygments_lexer": "ipython3",
   "version": "3.9.16"
  },
  "toc": {
   "base_numbering": 1,
   "nav_menu": {},
   "number_sections": true,
   "sideBar": true,
   "skip_h1_title": false,
   "title_cell": "Table of Contents",
   "title_sidebar": "Contents",
   "toc_cell": false,
   "toc_position": {},
   "toc_section_display": true,
   "toc_window_display": false
  },
  "varInspector": {
   "cols": {
    "lenName": 16,
    "lenType": 16,
    "lenVar": 40
   },
   "kernels_config": {
    "python": {
     "delete_cmd_postfix": "",
     "delete_cmd_prefix": "del ",
     "library": "var_list.py",
     "varRefreshCmd": "print(var_dic_list())"
    },
    "r": {
     "delete_cmd_postfix": ") ",
     "delete_cmd_prefix": "rm(",
     "library": "var_list.r",
     "varRefreshCmd": "cat(var_dic_list()) "
    }
   },
   "types_to_exclude": [
    "module",
    "function",
    "builtin_function_or_method",
    "instance",
    "_Feature"
   ],
   "window_display": false
  }
 },
 "nbformat": 4,
 "nbformat_minor": 1
}
