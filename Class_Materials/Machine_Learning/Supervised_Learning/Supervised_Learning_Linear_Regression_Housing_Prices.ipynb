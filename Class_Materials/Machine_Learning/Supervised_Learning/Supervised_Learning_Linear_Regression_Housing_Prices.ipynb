{
 "cells": [
  {
   "cell_type": "markdown",
   "metadata": {
    "id": "zo3lyw_MjKCp"
   },
   "source": [
    "## Intro to Supervised Machine Learning: Housing Prices Complete Case Study\n",
    "\n",
    "You work for a consultancy that specializes in real estate: your clients involve developers, agencies and investors.  It's a domain of home appraisers, who aim to determine the value of a house in an unbiased way, and follow an official criteria to ensure they don't play in favour of neither the buyer or the seller.\n",
    "\n",
    "A central aspect to the business is pricing. However, the market often deviates from appraisal prices. Your consultancy wants to detect these deviations. It has therefore acquired a dataset containing a historical register of housing prices - the actual prices at which the properties were sold. For each house, in addition to price, the data contains around 80 different features, such as the area, the state of the property, whether it has a backyard or not, and so on.\n",
    "\n",
    "You were tasked with creating a model that predicts the prices. Your manager told you that the model should have an average relative error of 15%. With such a model, you would be able to advise your clients on housing in a massively scalable way: once the features of a house have been collected, the model will output the price. The results of your work are below...\n"
   ]
  },
  {
   "cell_type": "markdown",
   "metadata": {
    "id": "73jx8AW7jKCw"
   },
   "source": [
    "# Reading & Exploring"
   ]
  },
  {
   "cell_type": "code",
   "execution_count": null,
   "metadata": {
    "id": "DGTMQYjDjKCx"
   },
   "outputs": [],
   "source": [
    "import pandas as pd\n",
    "import numpy as np\n",
    "import warnings\n",
    "warnings.filterwarnings(\"ignore\")"
   ]
  },
  {
   "cell_type": "code",
   "execution_count": null,
   "metadata": {
    "colab": {
     "base_uri": "https://localhost:8080/"
    },
    "executionInfo": {
     "elapsed": 2236,
     "status": "ok",
     "timestamp": 1619975012239,
     "user": {
      "displayName": "Ignacio Soteras",
      "photoUrl": "",
      "userId": "02050793736257155229"
     },
     "user_tz": -120
    },
    "id": "hHTK1fpIjbAV",
    "outputId": "15dd6ed9-29e9-4413-fdd6-9b7614ffda3c"
   },
   "outputs": [],
   "source": [
    "from google.colab import drive\n",
    "drive.mount('/content/drive')"
   ]
  },
  {
   "cell_type": "code",
   "execution_count": null,
   "metadata": {
    "id": "YrgXdirsjKCx"
   },
   "outputs": [],
   "source": [
    "data = pd.read_csv(\"/content/drive/MyDrive/OLD_CURR/UNIT7/DAY1/housing_prices.csv\")"
   ]
  },
  {
   "cell_type": "code",
   "execution_count": null,
   "metadata": {
    "colab": {
     "base_uri": "https://localhost:8080/",
     "height": 253
    },
    "executionInfo": {
     "elapsed": 2227,
     "status": "ok",
     "timestamp": 1619975012240,
     "user": {
      "displayName": "Ignacio Soteras",
      "photoUrl": "",
      "userId": "02050793736257155229"
     },
     "user_tz": -120
    },
    "id": "ZWOBoG56jKCy",
    "outputId": "1a8bf38c-3454-48cf-a5eb-434bf4041bf4"
   },
   "outputs": [],
   "source": [
    "# Get a glimpse of the dataframe\n",
    "data.head()"
   ]
  },
  {
   "cell_type": "code",
   "execution_count": null,
   "metadata": {
    "colab": {
     "base_uri": "https://localhost:8080/"
    },
    "executionInfo": {
     "elapsed": 2420,
     "status": "ok",
     "timestamp": 1619975012442,
     "user": {
      "displayName": "Ignacio Soteras",
      "photoUrl": "",
      "userId": "02050793736257155229"
     },
     "user_tz": -120
    },
    "id": "x7lLDPwkk7zt",
    "outputId": "7b663a0d-1967-4bc7-9102-d7c6a995f77a"
   },
   "outputs": [],
   "source": [
    "# Get the shape of the dataframe\n",
    "data.shape"
   ]
  },
  {
   "cell_type": "code",
   "execution_count": null,
   "metadata": {
    "colab": {
     "base_uri": "https://localhost:8080/"
    },
    "executionInfo": {
     "elapsed": 2411,
     "status": "ok",
     "timestamp": 1619975012442,
     "user": {
      "displayName": "Ignacio Soteras",
      "photoUrl": "",
      "userId": "02050793736257155229"
     },
     "user_tz": -120
    },
    "id": "FV-lNPp5lARD",
    "outputId": "95cf5675-2598-48ee-9b20-428c9caa34ff"
   },
   "outputs": [],
   "source": [
    "# Get the colum types.\n",
    "data.info()"
   ]
  },
  {
   "cell_type": "code",
   "execution_count": null,
   "metadata": {
    "colab": {
     "base_uri": "https://localhost:8080/",
     "height": 605
    },
    "executionInfo": {
     "elapsed": 2882,
     "status": "ok",
     "timestamp": 1619975012923,
     "user": {
      "displayName": "Ignacio Soteras",
      "photoUrl": "",
      "userId": "02050793736257155229"
     },
     "user_tz": -120
    },
    "id": "fPgooJuZmL1y",
    "outputId": "1f8ce9e6-a581-446e-c744-55d1ad9d054b"
   },
   "outputs": [],
   "source": [
    "# Get a histogram of selling prices which is what we want to predict\n",
    "import matplotlib.pyplot as plt\n",
    "from matplotlib.ticker import FuncFormatter\n",
    "import matplotlib.ticker as ticker\n",
    "import seaborn as sns\n",
    "%matplotlib inline\n",
    "\n",
    "g = sns.displot(data['SalePrice'],height=8.27, aspect=1)\n",
    "for ax in g.axes.flat:\n",
    "    ax.xaxis.set_major_locator(ticker.MultipleLocator(50000))\n",
    "    ax.xaxis.set_major_formatter(FuncFormatter(lambda x, p: f'{int(x/1000)}K'))\n"
   ]
  },
  {
   "cell_type": "markdown",
   "metadata": {
    "id": "11vgQmo1DYiI"
   },
   "source": [
    "Clearly, tihs distribution is highly skewed, threrefore it's needs to be transformed. Dependent variables which are highly skewed can be easilly transformed taking the logarithm."
   ]
  },
  {
   "cell_type": "code",
   "execution_count": null,
   "metadata": {
    "colab": {
     "base_uri": "https://localhost:8080/",
     "height": 605
    },
    "executionInfo": {
     "elapsed": 3555,
     "status": "ok",
     "timestamp": 1619975013605,
     "user": {
      "displayName": "Ignacio Soteras",
      "photoUrl": "",
      "userId": "02050793736257155229"
     },
     "user_tz": -120
    },
    "id": "CoR2vVmaDg_w",
    "outputId": "0faaad5c-333d-4dc8-f814-507617e9b70b"
   },
   "outputs": [],
   "source": [
    "g = sns.displot(np.log(data['SalePrice']),height=8.27, aspect=1)"
   ]
  },
  {
   "cell_type": "code",
   "execution_count": null,
   "metadata": {
    "id": "1H1x6wE6uGEH"
   },
   "outputs": [],
   "source": [
    "def plot_count_box(df, grouping_var, dependent_var, orient = 'v'):\n",
    "    '''\n",
    "    Function to plot two plots side by side.\n",
    "    The left plot will be a count plot of 'grouping_var'\n",
    "    The right plot will be a boxplot of 'dependent_var' grouped by 'grouping var'\n",
    "    Inputs: \n",
    "    df = dataframe\n",
    "    grouping_var = variable to perform the agregation\n",
    "    dependent_var = variable to plot the boxplot\n",
    "    Output:\n",
    "    A canvas with a counplot on the left and boxplot on the right\n",
    "    The boxplots are ordered based on the median value of the dependent feature.\n",
    "    '''\n",
    "\n",
    "    # Getting a list of unique valus for the grouping variable\n",
    "    levels = list(df[grouping_var].unique())    \n",
    "    diver = sns.color_palette(\"Paired\", len(levels)) # RdBu, Set3, Paired\n",
    "    # Setting a dictionary of {'value': color} to use in each plot\n",
    "    cmap = dict(zip(levels,diver))\n",
    "\n",
    "    mean_price = pd.DataFrame(df.groupby([grouping_var])[dependent_var].median().sort_values()).reset_index()\n",
    "\n",
    "    fig, ax = plt.subplots(1,2,figsize=(16,8))\n",
    "    if ( orient == 'v' ):\n",
    "        sns.countplot(x = grouping_var, data = df, order = df[grouping_var].value_counts().index, ax = ax[0], palette = cmap) \n",
    "        sns.boxplot(y= dependent_var , x= grouping_var, data = data, order = mean_price[grouping_var], ax = ax[1], palette=  cmap)\n",
    "        ax[1].yaxis.set_major_formatter(FuncFormatter(lambda x, p: f'{int(x/1000)}K'))\n",
    "    else:\n",
    "        sns.countplot(y = grouping_var, data = df, order = df[grouping_var].value_counts().index, ax = ax[0], palette = cmap)\n",
    "        sns.boxplot(x= dependent_var , y= grouping_var, data = data, order = mean_price[grouping_var], ax = ax[1], palette = cmap)\n",
    "        ax[1].xaxis.set_major_formatter(FuncFormatter(lambda x, p: f'{int(x/1000)}K'))        \n",
    "    fig.show()\n",
    "    pass"
   ]
  },
  {
   "cell_type": "markdown",
   "metadata": {
    "id": "LtS_W-wgthuO"
   },
   "source": [
    "MSZoning: Identifies the general zoning classification of the sale.\n",
    "\t\t\n",
    "       A\tAgriculture\n",
    "       C\tCommercial\n",
    "       FV\tFloating Village Residential\n",
    "       I\tIndustrial\n",
    "       RH\tResidential High Density\n",
    "       RL\tResidential Low Density\n",
    "       RP\tResidential Low Density Park \n",
    "       RM\tResidential Medium Density"
   ]
  },
  {
   "cell_type": "code",
   "execution_count": null,
   "metadata": {
    "colab": {
     "base_uri": "https://localhost:8080/",
     "height": 498
    },
    "executionInfo": {
     "elapsed": 4081,
     "status": "ok",
     "timestamp": 1619975014142,
     "user": {
      "displayName": "Ignacio Soteras",
      "photoUrl": "",
      "userId": "02050793736257155229"
     },
     "user_tz": -120
    },
    "id": "xnMHpUu2m3aS",
    "outputId": "0ebf0128-5a77-48df-9278-c4a01909a615"
   },
   "outputs": [],
   "source": [
    "# Check out the variable \"MSZoning\"\n",
    "\n",
    "plot_count_box(data, 'MSZoning', 'SalePrice')"
   ]
  },
  {
   "cell_type": "markdown",
   "metadata": {
    "id": "NjYRazLVEXZR"
   },
   "source": [
    "MSZoning is a highly imbalanced variable: we have much more samples of type RL than the others. That prevents to make a fair comparison of the boxplots of selling prices split by this variable. In addition, even with the small size of the dataset there is clear overlap between the median SalesPrices for each value of MSZooning. Even more, the houses in the most sample MSZooning has has huge rangfe of values which doesn't allow to discriminate between the other values. Therefore, this variable doesn't look quite usefull to predit the SalesPrice."
   ]
  },
  {
   "cell_type": "code",
   "execution_count": null,
   "metadata": {
    "id": "MKROR0QMFKWb"
   },
   "outputs": [],
   "source": [
    "cols_to_drop = []\n",
    "cols_to_drop += ['MSZoning']"
   ]
  },
  {
   "cell_type": "markdown",
   "metadata": {
    "id": "3C8I6eyPu67T"
   },
   "source": [
    "Neighborhood: Physical locations within Ames city limits\n",
    "\n",
    "       Blmngtn\tBloomington Heights\n",
    "       Blueste\tBluestem\n",
    "       BrDale\tBriardale\n",
    "       BrkSide\tBrookside\n",
    "       ClearCr\tClear Creek\n",
    "       CollgCr\tCollege Creek\n",
    "       Crawfor\tCrawford\n",
    "       Edwards\tEdwards\n",
    "       Gilbert\tGilbert\n",
    "       IDOTRR\tIowa DOT and Rail Road\n",
    "       MeadowV\tMeadow Village\n",
    "       Mitchel\tMitchell\n",
    "       Names\tNorth Ames\n",
    "       NoRidge\tNorthridge\n",
    "       NPkVill\tNorthpark Villa\n",
    "       NridgHt\tNorthridge Heights\n",
    "       NWAmes\tNorthwest Ames\n",
    "       OldTown\tOld Town\n",
    "       SWISU\tSouth & West of Iowa State University\n",
    "       Sawyer\tSawyer\n",
    "       SawyerW\tSawyer West\n",
    "       Somerst\tSomerset\n",
    "       StoneBr\tStone Brook\n",
    "       Timber\tTimberland\n",
    "       Veenker\tVeenker"
   ]
  },
  {
   "cell_type": "code",
   "execution_count": null,
   "metadata": {
    "colab": {
     "base_uri": "https://localhost:8080/",
     "height": 497
    },
    "executionInfo": {
     "elapsed": 5623,
     "status": "ok",
     "timestamp": 1619975015695,
     "user": {
      "displayName": "Ignacio Soteras",
      "photoUrl": "",
      "userId": "02050793736257155229"
     },
     "user_tz": -120
    },
    "id": "n61bfwuRrifQ",
    "outputId": "12eab9b7-8720-4de0-d010-7056f1f11c48"
   },
   "outputs": [],
   "source": [
    "# Check out the variable \"Neighbourhood\"\n",
    "\n",
    "plot_count_box(data, 'Neighborhood', 'SalePrice', orient = 'h')"
   ]
  },
  {
   "cell_type": "code",
   "execution_count": null,
   "metadata": {
    "colab": {
     "base_uri": "https://localhost:8080/"
    },
    "executionInfo": {
     "elapsed": 5614,
     "status": "ok",
     "timestamp": 1619975015696,
     "user": {
      "displayName": "Ignacio Soteras",
      "photoUrl": "",
      "userId": "02050793736257155229"
     },
     "user_tz": -120
    },
    "id": "HyQe-MDfG63u",
    "outputId": "f5ab2cec-ee52-4629-e410-9ec3ed509eb0"
   },
   "outputs": [],
   "source": [
    "len(list(data['Neighborhood'].unique()))"
   ]
  },
  {
   "cell_type": "markdown",
   "metadata": {
    "id": "ZqHMLC9KGr9E"
   },
   "source": [
    "We have a similar problem as before. To make it worse, the `cardinality` (number of possible values) of this variable is huge (25). Therefore, we can think of dropping this variable."
   ]
  },
  {
   "cell_type": "code",
   "execution_count": null,
   "metadata": {
    "id": "vvuNv8naHRJC"
   },
   "outputs": [],
   "source": [
    "cols_to_drop += ['Neighborhood']"
   ]
  },
  {
   "cell_type": "markdown",
   "metadata": {
    "id": "6jqxyvk0tu1B"
   },
   "source": [
    "OverallQual: Rates the overall material and finish of the house\n",
    "\n",
    "       10\tVery Excellent\n",
    "       9\tExcellent\n",
    "       8\tVery Good\n",
    "       7\tGood\n",
    "       6\tAbove Average\n",
    "       5\tAverage\n",
    "       4\tBelow Average\n",
    "       3\tFair\n",
    "       2\tPoor\n",
    "       1\tVery Poor"
   ]
  },
  {
   "cell_type": "code",
   "execution_count": null,
   "metadata": {
    "colab": {
     "base_uri": "https://localhost:8080/",
     "height": 497
    },
    "executionInfo": {
     "elapsed": 6084,
     "status": "ok",
     "timestamp": 1619975016177,
     "user": {
      "displayName": "Ignacio Soteras",
      "photoUrl": "",
      "userId": "02050793736257155229"
     },
     "user_tz": -120
    },
    "id": "meLlb8VAsUMU",
    "outputId": "6659fee3-e578-4ca7-d8d2-8a899e7f34a8"
   },
   "outputs": [],
   "source": [
    "# Check out the variable \"OverallQual\"\n",
    "\n",
    "plot_count_box(data, 'OverallQual', 'SalePrice')"
   ]
  },
  {
   "cell_type": "markdown",
   "metadata": {
    "id": "uNfGlQNCHikO"
   },
   "source": [
    "Again, we have a class imbalance. However, as it can be seen in the above picture the overal quality has a big impact on the SalePrice as it could be expected. This variable looks promising and the relationships between the OveralQual and the SalesPrice seems to be quadratic. Let's test this assumption"
   ]
  },
  {
   "cell_type": "code",
   "execution_count": null,
   "metadata": {
    "colab": {
     "base_uri": "https://localhost:8080/",
     "height": 296
    },
    "executionInfo": {
     "elapsed": 6615,
     "status": "ok",
     "timestamp": 1619975016717,
     "user": {
      "displayName": "Ignacio Soteras",
      "photoUrl": "",
      "userId": "02050793736257155229"
     },
     "user_tz": -120
    },
    "id": "LqVHK1LQIUle",
    "outputId": "b5b515a5-8950-4e66-c655-076683f8c23e"
   },
   "outputs": [],
   "source": [
    "sns.regplot(x = data['OverallQual']**2, y = data['SalePrice'])"
   ]
  },
  {
   "cell_type": "markdown",
   "metadata": {
    "id": "DMs6VtE4Iul3"
   },
   "source": [
    "We see vertical bars because this variable is a perfect example of an ordinal categorical variable."
   ]
  },
  {
   "cell_type": "markdown",
   "metadata": {
    "id": "Oz8DmonDt8uG"
   },
   "source": [
    "OverallCond: Rates the overall condition of the house\n",
    "\n",
    "       10   Elite\n",
    "       9\tExcellent\n",
    "       8\tVery Good\n",
    "       7\tGood\n",
    "       6\tAbove Average\t\n",
    "       5\tAverage\n",
    "       4\tBelow Average\t\n",
    "       3\tFair\n",
    "       2\tPoor\n",
    "       1\tVery Poor"
   ]
  },
  {
   "cell_type": "code",
   "execution_count": null,
   "metadata": {
    "colab": {
     "base_uri": "https://localhost:8080/",
     "height": 497
    },
    "executionInfo": {
     "elapsed": 6959,
     "status": "ok",
     "timestamp": 1619975017070,
     "user": {
      "displayName": "Ignacio Soteras",
      "photoUrl": "",
      "userId": "02050793736257155229"
     },
     "user_tz": -120
    },
    "id": "B4UbRVddtBWK",
    "outputId": "a5b491b1-85aa-4f2f-81e4-11e38b7312f2"
   },
   "outputs": [],
   "source": [
    "# Check out the variable \"OverallCond\"\n",
    "\n",
    "plot_count_box(data, \"OverallCond\", \"SalePrice\")"
   ]
  },
  {
   "cell_type": "markdown",
   "metadata": {
    "id": "ztymP93BJWX5"
   },
   "source": [
    "Again we also have a class imbalance and there is a high range of selling prices for every possible value of `OverallCond`. In addition, this variable can be redundant as we already have the previous one. Therefore, we will drop this one."
   ]
  },
  {
   "cell_type": "code",
   "execution_count": null,
   "metadata": {
    "id": "r-jcRqNRJvDR"
   },
   "outputs": [],
   "source": [
    "cols_to_drop += ['OverallCond']"
   ]
  },
  {
   "cell_type": "markdown",
   "metadata": {
    "id": "MLP48LsquKbj"
   },
   "source": [
    "MoSold: Month Sold (MM)\n"
   ]
  },
  {
   "cell_type": "code",
   "execution_count": null,
   "metadata": {
    "colab": {
     "base_uri": "https://localhost:8080/",
     "height": 497
    },
    "executionInfo": {
     "elapsed": 7805,
     "status": "ok",
     "timestamp": 1619975017928,
     "user": {
      "displayName": "Ignacio Soteras",
      "photoUrl": "",
      "userId": "02050793736257155229"
     },
     "user_tz": -120
    },
    "id": "6zQvE_GstjKw",
    "outputId": "0edb5840-c319-4ef4-ad1b-9636912d5f62"
   },
   "outputs": [],
   "source": [
    "# Check out the variable \"MoSold\"\n",
    "\n",
    "plot_count_box(data, \"MoSold\", \"SalePrice\")"
   ]
  },
  {
   "cell_type": "markdown",
   "metadata": {
    "id": "sJHoxJ0RuTKd"
   },
   "source": [
    "Selling month doesn't have any relationship with the selling price, even is worth of knowing that the month with the highest amount of sales is june. Therefore, let's drop the variable `MoSold`"
   ]
  },
  {
   "cell_type": "code",
   "execution_count": null,
   "metadata": {
    "id": "fwJIFs4i1poM"
   },
   "outputs": [],
   "source": [
    "cols_to_drop += ['MoSold']"
   ]
  },
  {
   "cell_type": "code",
   "execution_count": null,
   "metadata": {
    "colab": {
     "base_uri": "https://localhost:8080/",
     "height": 514
    },
    "executionInfo": {
     "elapsed": 8877,
     "status": "ok",
     "timestamp": 1619975019011,
     "user": {
      "displayName": "Ignacio Soteras",
      "photoUrl": "",
      "userId": "02050793736257155229"
     },
     "user_tz": -120
    },
    "id": "AkYugZ6nt5U-",
    "outputId": "0a985b08-05a8-4e0a-f037-f2d0fb4120bf"
   },
   "outputs": [],
   "source": [
    "# Check out the variable \"LotArea\"which is continuous\n",
    "\n",
    "levels = list(data['OverallQual'].unique())  # OverallCond  \n",
    "diver = sns.color_palette(\"RdBu\", len(levels)) # RdBu, Set3, Paired\n",
    "# Setting a dictionary of {'value': color} to use in each plot\n",
    "cmap = dict(zip(levels,diver))\n",
    "\n",
    "fig, ax = plt.subplots(1,2,figsize=(16,8))\n",
    "sns.distplot(data['LotArea'], ax = ax[0], kde=False)\n",
    "sns.scatterplot(x = 'LotArea', y = 'SalePrice', data = data, ax = ax[1], hue ='OverallQual', palette=cmap) # hue ='OverallCond'\n",
    "ax[0].xaxis.set_major_formatter(FuncFormatter(lambda x, p: f'{int(x/1000)}K'))\n",
    "ax[1].yaxis.set_major_formatter(FuncFormatter(lambda x, p: f'{int(x/1000)}K'))\n",
    "ax[1].xaxis.set_major_formatter(FuncFormatter(lambda x, p: f'{int(x/1000)}'))\n",
    "ax[1].set_xlabel('LotArea (Squared feet x 1000)')\n",
    "ax[1].axvline(x=25000)\n",
    "\n"
   ]
  },
  {
   "cell_type": "markdown",
   "metadata": {
    "id": "BNIxssoSJ8RB"
   },
   "source": [
    "Clearly, the distribution of squared feet is strongly skewed. On the other hamd it seems that below 25K the relationship between the selling price and the squared feet seems to be linnear. In contrast, for higher surface values, the is no clear relationship between the selling price and the surface.\n",
    "\n",
    "Another conclussion that can be extracted from the previous plots is that above 25K squared feets, the overall quality is usually above 5."
   ]
  },
  {
   "cell_type": "markdown",
   "metadata": {
    "id": "QWw3Rrb6N_CX"
   },
   "source": [
    "Let's check the previous assumption"
   ]
  },
  {
   "cell_type": "code",
   "execution_count": null,
   "metadata": {
    "colab": {
     "base_uri": "https://localhost:8080/",
     "height": 296
    },
    "executionInfo": {
     "elapsed": 9567,
     "status": "ok",
     "timestamp": 1619975019709,
     "user": {
      "displayName": "Ignacio Soteras",
      "photoUrl": "",
      "userId": "02050793736257155229"
     },
     "user_tz": -120
    },
    "id": "vLt0ttnjLn2d",
    "outputId": "e499c7d4-f69c-445d-bc4b-b7a05d0c5d12"
   },
   "outputs": [],
   "source": [
    "sns.scatterplot(x ='LotArea', y = 'SalePrice', data = data[data['LotArea'] < 25000], hue ='OverallQual', palette=cmap)"
   ]
  },
  {
   "cell_type": "code",
   "execution_count": null,
   "metadata": {
    "colab": {
     "base_uri": "https://localhost:8080/",
     "height": 386
    },
    "executionInfo": {
     "elapsed": 10055,
     "status": "ok",
     "timestamp": 1619975020205,
     "user": {
      "displayName": "Ignacio Soteras",
      "photoUrl": "",
      "userId": "02050793736257155229"
     },
     "user_tz": -120
    },
    "id": "3lsuQbSgODqY",
    "outputId": "68129afb-7b54-40ee-8641-0a6e373db1af"
   },
   "outputs": [],
   "source": [
    "sns.displot(data[data['LotArea'] < 25000 ]['LotArea'], kde=False)"
   ]
  },
  {
   "cell_type": "markdown",
   "metadata": {
    "id": "PAc2ChN_OjrZ"
   },
   "source": [
    "We can apply this filter to our dataframe"
   ]
  },
  {
   "cell_type": "code",
   "execution_count": null,
   "metadata": {
    "id": "X0oRj2K6Onan"
   },
   "outputs": [],
   "source": [
    "data = data[data['LotArea'] < 25000 ]"
   ]
  },
  {
   "cell_type": "markdown",
   "metadata": {
    "id": "xcYLX5VOwcUo"
   },
   "source": [
    "# Finding missing values"
   ]
  },
  {
   "cell_type": "code",
   "execution_count": null,
   "metadata": {
    "colab": {
     "base_uri": "https://localhost:8080/"
    },
    "executionInfo": {
     "elapsed": 10048,
     "status": "ok",
     "timestamp": 1619975020208,
     "user": {
      "displayName": "Ignacio Soteras",
      "photoUrl": "",
      "userId": "02050793736257155229"
     },
     "user_tz": -120
    },
    "id": "Wh7Zdq5mwmbS",
    "outputId": "ee28e501-d856-4eab-a755-689efe5f81e3"
   },
   "outputs": [],
   "source": [
    "# Get a dataframe of missing values by column. Use sort_values(ascending=False) to sort the results\n",
    "nulls = pd.DataFrame(data.isnull().sum().sort_values(ascending=False))\n",
    "\n",
    "\n",
    "# Use reset_index() to make the index to become column and rename the column names\n",
    "nulls.reset_index(inplace=True)\n",
    "nulls.columns = ['Variable','Count']\n",
    "nulls.head()"
   ]
  },
  {
   "cell_type": "code",
   "execution_count": null,
   "metadata": {
    "colab": {
     "base_uri": "https://localhost:8080/"
    },
    "executionInfo": {
     "elapsed": 10042,
     "status": "ok",
     "timestamp": 1619975020208,
     "user": {
      "displayName": "Ignacio Soteras",
      "photoUrl": "",
      "userId": "02050793736257155229"
     },
     "user_tz": -120
    },
    "id": "R3thE9hOyB6D",
    "outputId": "63af9804-3997-4a27-a0bd-69f349955e79"
   },
   "outputs": [],
   "source": [
    "# Get the columns which have NA's\n",
    "\n",
    "nulls[nulls['Count'] > 0].Variable"
   ]
  },
  {
   "cell_type": "markdown",
   "metadata": {
    "id": "LIPt_f1s2kMV"
   },
   "source": [
    "Let's start dealing with those NA's column by column"
   ]
  },
  {
   "cell_type": "markdown",
   "metadata": {
    "id": "koaVHmcK2sWp"
   },
   "source": [
    "PoolQC: Pool quality\n",
    "\t\t\n",
    "       Ex\tExcellent\n",
    "       Gd\tGood\n",
    "       TA\tAverage/Typical\n",
    "       Fa\tFair\n",
    "       NA\tNo Pool\n",
    "\n",
    "If the is no pool, we can assing a value flag to it like 'NA'"
   ]
  },
  {
   "cell_type": "code",
   "execution_count": null,
   "metadata": {
    "colab": {
     "base_uri": "https://localhost:8080/"
    },
    "executionInfo": {
     "elapsed": 10037,
     "status": "ok",
     "timestamp": 1619975020209,
     "user": {
      "displayName": "Ignacio Soteras",
      "photoUrl": "",
      "userId": "02050793736257155229"
     },
     "user_tz": -120
    },
    "id": "47HPyMtp25qY",
    "outputId": "4ff3aec5-9347-4dd1-d96f-5217139b6348"
   },
   "outputs": [],
   "source": [
    "data['PoolQC'] = data['PoolQC'].fillna('NA')\n",
    "data['PoolQC'].unique()"
   ]
  },
  {
   "cell_type": "markdown",
   "metadata": {
    "id": "wSnhV0fe3QZE"
   },
   "source": [
    "Now let's inspect the relatioship between `PoolQC`and `SellPrice`\n",
    "\n"
   ]
  },
  {
   "cell_type": "code",
   "execution_count": null,
   "metadata": {
    "colab": {
     "base_uri": "https://localhost:8080/"
    },
    "executionInfo": {
     "elapsed": 10033,
     "status": "ok",
     "timestamp": 1619975020210,
     "user": {
      "displayName": "Ignacio Soteras",
      "photoUrl": "",
      "userId": "02050793736257155229"
     },
     "user_tz": -120
    },
    "id": "YiVN-Le1Pgwh",
    "outputId": "f264b472-8a5f-481b-b9f1-0c9c3347ea69"
   },
   "outputs": [],
   "source": [
    "data['PoolQC'].value_counts()"
   ]
  },
  {
   "cell_type": "code",
   "execution_count": null,
   "metadata": {
    "colab": {
     "base_uri": "https://localhost:8080/"
    },
    "executionInfo": {
     "elapsed": 10337,
     "status": "ok",
     "timestamp": 1619975020520,
     "user": {
      "displayName": "Ignacio Soteras",
      "photoUrl": "",
      "userId": "02050793736257155229"
     },
     "user_tz": -120
    },
    "id": "S_yv2uS_3cGc",
    "outputId": "fffebfc2-456d-42cc-d81b-687793a22a72"
   },
   "outputs": [],
   "source": [
    "plot_count_box(data[data['PoolQC'] != 'NA'], \"PoolQC\", \"SalePrice\")"
   ]
  },
  {
   "cell_type": "markdown",
   "metadata": {
    "id": "8SEBiqxG41ZH"
   },
   "source": [
    "Clearly, the sampling of houses with pool is not big enough to extract conclussions. Therefore we can drop this feature"
   ]
  },
  {
   "cell_type": "code",
   "execution_count": null,
   "metadata": {
    "id": "KjJPSDrqP8Vm"
   },
   "outputs": [],
   "source": [
    "cols_to_drop += ['PoolQC']"
   ]
  },
  {
   "cell_type": "markdown",
   "metadata": {
    "id": "aPsAiJSmC1NN"
   },
   "source": [
    "MiscFeature: Miscellaneous feature not covered in other categories\n",
    "\t\t\n",
    "       Elev\tElevator\n",
    "       Gar2\t2nd Garage (if not described in garage section)\n",
    "       Othr\tOther\n",
    "       Shed\tShed (over 100 SF)\n",
    "       TenC\tTennis Court\n",
    "       NA\tNone"
   ]
  },
  {
   "cell_type": "code",
   "execution_count": null,
   "metadata": {
    "colab": {
     "base_uri": "https://localhost:8080/"
    },
    "executionInfo": {
     "elapsed": 10331,
     "status": "ok",
     "timestamp": 1619975020522,
     "user": {
      "displayName": "Ignacio Soteras",
      "photoUrl": "",
      "userId": "02050793736257155229"
     },
     "user_tz": -120
    },
    "id": "tiYDYXZdQQ_e",
    "outputId": "c11c6e22-d9f3-4c70-a4e8-2cb91c2cd8cd"
   },
   "outputs": [],
   "source": [
    "data['MiscFeature'].value_counts()"
   ]
  },
  {
   "cell_type": "code",
   "execution_count": null,
   "metadata": {
    "colab": {
     "base_uri": "https://localhost:8080/"
    },
    "executionInfo": {
     "elapsed": 10739,
     "status": "ok",
     "timestamp": 1619975020936,
     "user": {
      "displayName": "Ignacio Soteras",
      "photoUrl": "",
      "userId": "02050793736257155229"
     },
     "user_tz": -120
    },
    "id": "-UCd_TrGC6WA",
    "outputId": "de38cafb-fada-4e06-93a5-8a801c9fbccd"
   },
   "outputs": [],
   "source": [
    "plot_count_box(data, \"MiscFeature\", \"SalePrice\")"
   ]
  },
  {
   "cell_type": "markdown",
   "metadata": {
    "id": "rViiPcTyDg4s"
   },
   "source": [
    "Clearly we don't have enough samples to extract conclussions. Therefore, we will drop this other feature."
   ]
  },
  {
   "cell_type": "code",
   "execution_count": null,
   "metadata": {
    "id": "totcNIdTRPy5"
   },
   "outputs": [],
   "source": [
    "cols_to_drop += ['MiscFeature']"
   ]
  },
  {
   "cell_type": "markdown",
   "metadata": {
    "id": "YWv8yxXEG-NJ"
   },
   "source": [
    "Alley: Type of alley access to property\n",
    "\n",
    "       Grvl\tGravel\n",
    "       Pave\tPaved\n",
    "       NA \tNo alley access"
   ]
  },
  {
   "cell_type": "code",
   "execution_count": null,
   "metadata": {
    "colab": {
     "base_uri": "https://localhost:8080/"
    },
    "executionInfo": {
     "elapsed": 11264,
     "status": "ok",
     "timestamp": 1619975021469,
     "user": {
      "displayName": "Ignacio Soteras",
      "photoUrl": "",
      "userId": "02050793736257155229"
     },
     "user_tz": -120
    },
    "id": "CF8MwGQgHB2m",
    "outputId": "ef29abfc-9faa-450d-9178-96cd10b5e0b7"
   },
   "outputs": [],
   "source": [
    "plot_count_box(data, \"Alley\", \"SalePrice\")"
   ]
  },
  {
   "cell_type": "markdown",
   "metadata": {
    "id": "cnXlQDPBHcfb"
   },
   "source": [
    "It seems to be some overlap between both possibilities although having a pavement alley usually has a bigger impact and the sampling is poor. Again we will drop this feature."
   ]
  },
  {
   "cell_type": "code",
   "execution_count": null,
   "metadata": {
    "id": "A2gdEYjjRd8o"
   },
   "outputs": [],
   "source": [
    "cols_to_drop += ['Alley']"
   ]
  },
  {
   "cell_type": "markdown",
   "metadata": {
    "id": "iEcxY1LoXH6I"
   },
   "source": [
    "Fence: Fence quality\n",
    "\t\t\n",
    "       GdPrv\tGood Privacy\n",
    "       MnPrv\tMinimum Privacy\n",
    "       GdWo\tGood Wood\n",
    "       MnWw\tMinimum Wood/Wire\n",
    "       NA\tNo Fence"
   ]
  },
  {
   "cell_type": "code",
   "execution_count": null,
   "metadata": {
    "colab": {
     "base_uri": "https://localhost:8080/"
    },
    "executionInfo": {
     "elapsed": 11796,
     "status": "ok",
     "timestamp": 1619975022010,
     "user": {
      "displayName": "Ignacio Soteras",
      "photoUrl": "",
      "userId": "02050793736257155229"
     },
     "user_tz": -120
    },
    "id": "Q3hYpKRwXm-M",
    "outputId": "9b41769f-c8fe-4ab3-8cd2-ba40cefeefe7"
   },
   "outputs": [],
   "source": [
    "plot_count_box(data, \"Fence\", \"SalePrice\")"
   ]
  },
  {
   "cell_type": "markdown",
   "metadata": {
    "id": "rM0tOcQ0Xx0j"
   },
   "source": [
    "Clearly it looks like that there are no significant differences among the fence condition. Therefore this variable is a good candidate to drop."
   ]
  },
  {
   "cell_type": "code",
   "execution_count": null,
   "metadata": {
    "id": "XtjscuWYRtjG"
   },
   "outputs": [],
   "source": [
    "cols_to_drop += ['Fence']"
   ]
  },
  {
   "cell_type": "markdown",
   "metadata": {
    "id": "NHjQX905YguS"
   },
   "source": [
    "FireplaceQu: Fireplace quality\n",
    "\n",
    "       Ex\tExcellent - Exceptional Masonry Fireplace\n",
    "       Gd\tGood - Masonry Fireplace in main level\n",
    "       TA\tAverage - Prefabricated Fireplace in main living area or Masonry Fireplace in basement\n",
    "       Fa\tFair - Prefabricated Fireplace in basement\n",
    "       Po\tPoor - Ben Franklin Stove\n",
    "       NA\tNo Fireplace"
   ]
  },
  {
   "cell_type": "code",
   "execution_count": null,
   "metadata": {
    "id": "Yw3tj59NSDOL"
   },
   "outputs": [],
   "source": [
    "data['FireplaceQu'] = data['FireplaceQu'].fillna('NA')"
   ]
  },
  {
   "cell_type": "code",
   "execution_count": null,
   "metadata": {
    "colab": {
     "base_uri": "https://localhost:8080/"
    },
    "executionInfo": {
     "elapsed": 12334,
     "status": "ok",
     "timestamp": 1619975022561,
     "user": {
      "displayName": "Ignacio Soteras",
      "photoUrl": "",
      "userId": "02050793736257155229"
     },
     "user_tz": -120
    },
    "id": "6l-SOo5fXKkr",
    "outputId": "7f773f0c-c495-42e0-e153-45c0ba3e3d24"
   },
   "outputs": [],
   "source": [
    "plot_count_box(data, \"FireplaceQu\", \"SalePrice\")"
   ]
  },
  {
   "cell_type": "code",
   "execution_count": null,
   "metadata": {
    "colab": {
     "base_uri": "https://localhost:8080/"
    },
    "executionInfo": {
     "elapsed": 12328,
     "status": "ok",
     "timestamp": 1619975022562,
     "user": {
      "displayName": "Ignacio Soteras",
      "photoUrl": "",
      "userId": "02050793736257155229"
     },
     "user_tz": -120
    },
    "id": "mOOrt629TN1z",
    "outputId": "e90981fc-4a5c-4e07-bd78-ca6472a06dc4"
   },
   "outputs": [],
   "source": [
    "data['FireplaceQu'].value_counts()"
   ]
  },
  {
   "cell_type": "markdown",
   "metadata": {
    "id": "TeCgeMNqkyt5"
   },
   "source": [
    "Clearly, the fireplace condition ( when it's present ) can have an impact. Let's test this. "
   ]
  },
  {
   "cell_type": "code",
   "execution_count": null,
   "metadata": {
    "colab": {
     "base_uri": "https://localhost:8080/"
    },
    "executionInfo": {
     "elapsed": 12321,
     "status": "ok",
     "timestamp": 1619975022563,
     "user": {
      "displayName": "Ignacio Soteras",
      "photoUrl": "",
      "userId": "02050793736257155229"
     },
     "user_tz": -120
    },
    "id": "FMTGL7AGT7Wd",
    "outputId": "0847ab7c-398f-48b3-fb3b-d08eb5dcf903"
   },
   "outputs": [],
   "source": [
    "print(\"Mean price of houses with fireplace: \",round(data[data['FireplaceQu'] != 'NA']['SalePrice'].mean()))\n",
    "print(\"Mean price od houses without fireplace: \",round(data[data['FireplaceQu'] == 'NA']['SalePrice'].mean()))\n",
    "y = data[data['FireplaceQu'] != 'NA']['SalePrice'].mean()\n",
    "n = data[data['FireplaceQu'] == 'NA']['SalePrice'].mean()\n",
    "print(\"Average price increase by having a fireplace: {} %\".format(round(((y/n)-1)*100)))"
   ]
  },
  {
   "cell_type": "markdown",
   "metadata": {
    "id": "nqcChMKzYOae"
   },
   "source": [
    "Therefore, let's make this feature binnary."
   ]
  },
  {
   "cell_type": "code",
   "execution_count": null,
   "metadata": {
    "id": "0gcot8g2YNYP"
   },
   "outputs": [],
   "source": [
    "data.rename(columns={'FireplaceQu': 'Fireplace'}, inplace = True)\n",
    "data['Fireplace'] = np.where(data['Fireplace'].isin(['Gd','TA','Fa','Ex','Po']),1,0)"
   ]
  },
  {
   "cell_type": "markdown",
   "metadata": {
    "id": "VYrsTelPlEkb"
   },
   "source": [
    "LotFrontage: Linear feet of street connected to property"
   ]
  },
  {
   "cell_type": "code",
   "execution_count": null,
   "metadata": {
    "colab": {
     "base_uri": "https://localhost:8080/"
    },
    "executionInfo": {
     "elapsed": 12758,
     "status": "ok",
     "timestamp": 1619975023012,
     "user": {
      "displayName": "Ignacio Soteras",
      "photoUrl": "",
      "userId": "02050793736257155229"
     },
     "user_tz": -120
    },
    "id": "0ruN07d2lGiM",
    "outputId": "8b593c32-54f5-447f-c8fe-7966a7b909b7"
   },
   "outputs": [],
   "source": [
    "sns.scatterplot(x = 'LotFrontage',y = 'SalePrice', data = data)\n",
    "data[['LotFrontage','SalePrice']].corr()"
   ]
  },
  {
   "cell_type": "markdown",
   "metadata": {
    "id": "PUcYn37MloBB"
   },
   "source": [
    "There is no clear linear relationship between both features. Therefore, we will drop the feature."
   ]
  },
  {
   "cell_type": "code",
   "execution_count": null,
   "metadata": {
    "id": "B6idwxpdZq6s"
   },
   "outputs": [],
   "source": [
    "cols_to_drop += [\"LotFrontage\"]"
   ]
  },
  {
   "cell_type": "markdown",
   "metadata": {
    "id": "EAvU-mNMl76M"
   },
   "source": [
    "6. GarageCond\n",
    "7. GarageType\n",
    "8. GarageYrBlt\n",
    "9. GarageFinish\n",
    "10. GarageQual\n",
    "\n",
    "All those variables seem redundant on a first look. Let's inspect them and pick the best."
   ]
  },
  {
   "cell_type": "code",
   "execution_count": null,
   "metadata": {
    "colab": {
     "base_uri": "https://localhost:8080/"
    },
    "executionInfo": {
     "elapsed": 15053,
     "status": "ok",
     "timestamp": 1619975025317,
     "user": {
      "displayName": "Ignacio Soteras",
      "photoUrl": "",
      "userId": "02050793736257155229"
     },
     "user_tz": -120
    },
    "id": "jbWMB1W9sqql",
    "outputId": "2d85e025-a48b-431c-c50f-82b205accc60"
   },
   "outputs": [],
   "source": [
    "my_list = ['GarageCond','GarageType','GarageFinish','GarageQual']\n",
    "\n",
    "for elem in my_list:\n",
    "    data[elem] = data[elem].fillna('NA')\n",
    "    plot_count_box(data, elem, \"SalePrice\")"
   ]
  },
  {
   "cell_type": "markdown",
   "metadata": {
    "id": "FZCQNhNGt8gK"
   },
   "source": [
    "`GarageCond` is heavily unbalanced and thre is high overlap between the boxplots for all the values. We can drop this feature.\n",
    "\n",
    "`GarageType` is heavyly unbalanced which makes the statistics poor and there is too much overlap between the types to extract conclussions. We can drop this feature.\n",
    "\n",
    "`GarageFinish` has enough samples of each type but there is significant overlap between the boxplots, even though it seems to increase slightly the selling price.\n",
    "\n",
    "`GarageQual` is also heavily unbalanced and seems to be quite similar to be redundant. We can think of dropping it.\n",
    "\n",
    "It looks like having a garage impact but those characteristics seem unclear."
   ]
  },
  {
   "cell_type": "code",
   "execution_count": null,
   "metadata": {
    "id": "NAVef0HAohoz"
   },
   "outputs": [],
   "source": [
    "cols_to_drop += ['GarageCond','GarageType','GarageQual']"
   ]
  },
  {
   "cell_type": "markdown",
   "metadata": {
    "id": "N4pluXrRwifg"
   },
   "source": [
    "Let's inspect `GarageYrBlt`\n"
   ]
  },
  {
   "cell_type": "code",
   "execution_count": null,
   "metadata": {
    "colab": {
     "base_uri": "https://localhost:8080/"
    },
    "executionInfo": {
     "elapsed": 15687,
     "status": "ok",
     "timestamp": 1619975025961,
     "user": {
      "displayName": "Ignacio Soteras",
      "photoUrl": "",
      "userId": "02050793736257155229"
     },
     "user_tz": -120
    },
    "id": "I5Vhvh40wmIV",
    "outputId": "10dc8a68-c57b-4f74-a3e1-94b2da02fff6"
   },
   "outputs": [],
   "source": [
    "sns.scatterplot(x = 'GarageYrBlt', y = 'SalePrice', data = data)"
   ]
  },
  {
   "cell_type": "markdown",
   "metadata": {
    "id": "xvkhH60Vwz_d"
   },
   "source": [
    "It looks like that the Sale Price increases over time, although not linearly. It would be more interesting to know in which year the dataset was collected in order to know how much lasted since the last renewal. It looks more reasonable to compute the difference in terms of mean price between those house which have a garage and don't. Hoewever, a house can have a garage but a missing value in this field. This will bias conclussions."
   ]
  },
  {
   "cell_type": "code",
   "execution_count": null,
   "metadata": {
    "colab": {
     "base_uri": "https://localhost:8080/"
    },
    "executionInfo": {
     "elapsed": 15681,
     "status": "ok",
     "timestamp": 1619975025962,
     "user": {
      "displayName": "Ignacio Soteras",
      "photoUrl": "",
      "userId": "02050793736257155229"
     },
     "user_tz": -120
    },
    "id": "TBs_1mDgqxB4",
    "outputId": "debb1759-ea57-4d9d-9bb7-35492e01c3cd"
   },
   "outputs": [],
   "source": [
    "y = data[data['GarageYrBlt'].isna() == True]['SalePrice'].mean()\n",
    "n = data[data['GarageYrBlt'].isna() == False]['SalePrice'].mean()\n",
    "print(\"Mean price of houses with garage: \",round(y))\n",
    "print(\"Mean price od houses without garave: \",round(n))\n",
    "\n",
    "print(\"Average price increase by having a garage: {} %\".format(round(((y/n)-1)*100)))"
   ]
  },
  {
   "cell_type": "code",
   "execution_count": null,
   "metadata": {
    "id": "kbd8GP4aqnms"
   },
   "outputs": [],
   "source": [
    "cols_to_drop += ['GarageYrBlt']"
   ]
  },
  {
   "cell_type": "markdown",
   "metadata": {
    "id": "IzFfrNbmwVpm"
   },
   "source": [
    "11. BsmtExposure\n",
    "12. BsmtFinType2\n",
    "13. BsmtFinType1\n",
    "14. BsmtCond\n",
    "15. BsmtQual"
   ]
  },
  {
   "cell_type": "markdown",
   "metadata": {
    "id": "q_djClpey1PD"
   },
   "source": [
    "BsmtQual: Evaluates the height of the basement\n",
    "\n",
    "* Ex\tExcellent (100+ inches)\t\n",
    "* Gd\tGood (90-99 inches)\n",
    "* TA\tTypical (80-89 inches)\n",
    "* Fa\tFair (70-79 inches)\n",
    "* Po\tPoor (<70 inches)\n",
    "* NA\tNo Basemen\n",
    "\n",
    "BsmtCond: Evaluates the general condition of the basement\n",
    "\n",
    "* Ex\tExcellent\n",
    "* Gd\tGood\n",
    "* TA\tTypical - slight dampness allowed\n",
    "* Fa\tFair - dampness or some cracking or settling\n",
    "* Po\tPoor - Severe cracking, settling, or wetness\n",
    "* NA\tNo Basement\n",
    "\n",
    "BsmtExposure: Refers to walkout or garden level walls\n",
    "\n",
    "* Gd\tGood Exposure\n",
    "* Av\tAverage Exposure (split levels or foyers typically score average or above)\t\n",
    "* Mn\tMimimum Exposure\n",
    "* No\tNo Exposure\n",
    "* NA\tNo Basement\n",
    "\n",
    "BsmtFinType1: Rating of basement finished area\n",
    "\n",
    "* GLQ\tGood Living Quarters\n",
    "* ALQ\tAverage Living Quarters\n",
    "* BLQ\tBelow Average Living Quarters\t\n",
    "* Rec\tAverage Rec Room\n",
    "* LwQ\tLow Quality\n",
    "* Unf\tUnfinshed\n",
    "* NA\tNo Basement\n",
    "\n",
    "BsmtFinSF1: Type 1 finished square feet\n",
    "\n",
    "BsmtFinType2: Rating of basement finished area (if multiple types)\n",
    "\n",
    "* GLQ\tGood Living Quarters\n",
    "* ALQ\tAverage Living Quarters\n",
    "* BLQ\tBelow Average Living Quarters\t\n",
    "* Rec\tAverage Rec Room\n",
    "* LwQ\tLow Quality\n",
    "* Unf\tUnfinshed\n",
    "* NA\tNo Basement\n",
    "\n",
    "BsmtFinSF2: Type 2 finished square feet\n",
    "\n",
    "BsmtUnfSF: Unfinished square feet of basement area\n",
    "\n",
    "TotalBsmtSF: Total square feet of basement area"
   ]
  },
  {
   "cell_type": "code",
   "execution_count": null,
   "metadata": {
    "colab": {
     "base_uri": "https://localhost:8080/"
    },
    "executionInfo": {
     "elapsed": 17831,
     "status": "ok",
     "timestamp": 1619975028124,
     "user": {
      "displayName": "Ignacio Soteras",
      "photoUrl": "",
      "userId": "02050793736257155229"
     },
     "user_tz": -120
    },
    "id": "5tbDoDXKtvXO",
    "outputId": "3f4a56c1-41e8-4f9f-8bd5-36f70e54896b"
   },
   "outputs": [],
   "source": [
    "my_list = ['BsmtQual','BsmtCond','BsmtExposure','BsmtFinType1','BsmtFinType2']\n",
    "\n",
    "for elem in my_list:\n",
    "    data[elem] = data[elem].fillna('NA')\n",
    "    plot_count_box(data, elem, \"SalePrice\")"
   ]
  },
  {
   "cell_type": "markdown",
   "metadata": {
    "id": "Qv16VpTC6yez"
   },
   "source": [
    "`BsmtQual` is heavily imbalanced. The biggest groups have a big overlap, therefore those groups can be groupped together in a single group."
   ]
  },
  {
   "cell_type": "markdown",
   "metadata": {
    "id": "Smv7626a77sx"
   },
   "source": [
    "`BsmCons`is also heavily unbalanced to extract conclussions."
   ]
  },
  {
   "cell_type": "markdown",
   "metadata": {
    "id": "D2xeP9qW8Ilj"
   },
   "source": [
    "`BsmtExposure` values have a big overlap."
   ]
  },
  {
   "cell_type": "markdown",
   "metadata": {
    "id": "nJaFfuuN8qV3"
   },
   "source": [
    "`BsmtFinType1` and `BsmtFinType2` have too much overlap between the possible values. In particular, for the last value there is a high class imbalance."
   ]
  },
  {
   "cell_type": "markdown",
   "metadata": {
    "id": "ufOxMBtWtbtT"
   },
   "source": [
    "All those features have high overlap, therefore they are not informative. Let's drop them."
   ]
  },
  {
   "cell_type": "code",
   "execution_count": null,
   "metadata": {
    "id": "T5HBcKVUtlpt"
   },
   "outputs": [],
   "source": [
    "cols_to_drop += ['BsmtQual','BsmtCond','BsmtExposure','BsmtFinType1','BsmtFinType2']"
   ]
  },
  {
   "cell_type": "markdown",
   "metadata": {
    "id": "U8kVHhuCt5NT"
   },
   "source": [
    "BsmtFinSF2: Type 2 finished square feet\n",
    "\n",
    "BsmtUnfSF: Unfinished square feet of basement area\n",
    "\n",
    "TotalBsmtSF: Total square feet of basement area"
   ]
  },
  {
   "cell_type": "code",
   "execution_count": null,
   "metadata": {
    "colab": {
     "base_uri": "https://localhost:8080/"
    },
    "executionInfo": {
     "elapsed": 18843,
     "status": "ok",
     "timestamp": 1619975029147,
     "user": {
      "displayName": "Ignacio Soteras",
      "photoUrl": "",
      "userId": "02050793736257155229"
     },
     "user_tz": -120
    },
    "id": "n4t9WSExt6fu",
    "outputId": "51bbf6a2-88c3-4d90-e033-f8188cbbce24"
   },
   "outputs": [],
   "source": [
    "fig, ax = plt.subplots(1,3,figsize=(20,8))\n",
    "sns.scatterplot(x= 'BsmtFinSF2' , y= 'SalePrice', data = data,  ax = ax[0])\n",
    "sns.scatterplot(x= 'BsmtUnfSF' , y= 'SalePrice', data = data,  ax = ax[1])\n",
    "sns.scatterplot(x= 'TotalBsmtSF', y= 'SalePrice', data = data,  ax = ax[2])\n",
    "ax[0].yaxis.set_major_formatter(FuncFormatter(lambda x, p: f'{int(x/1000)}K'))\n",
    "ax[1].yaxis.set_major_formatter(FuncFormatter(lambda x, p: f'{int(x/1000)}K'))\n",
    "ax[2].yaxis.set_major_formatter(FuncFormatter(lambda x, p: f'{int(x/1000)}K'))"
   ]
  },
  {
   "cell_type": "markdown",
   "metadata": {
    "id": "_DVlSu9SvMa8"
   },
   "source": [
    "According to the previous figure, it only seems to be a relationship between `TotalBsmtSF` and `SalePrice`."
   ]
  },
  {
   "cell_type": "code",
   "execution_count": null,
   "metadata": {
    "id": "sUBYhXpfvnhs"
   },
   "outputs": [],
   "source": [
    "cols_to_drop += ['BsmtFinSF2','BsmtUnfSF']"
   ]
  },
  {
   "cell_type": "code",
   "execution_count": null,
   "metadata": {
    "colab": {
     "base_uri": "https://localhost:8080/"
    },
    "executionInfo": {
     "elapsed": 18835,
     "status": "ok",
     "timestamp": 1619975029149,
     "user": {
      "displayName": "Ignacio Soteras",
      "photoUrl": "",
      "userId": "02050793736257155229"
     },
     "user_tz": -120
    },
    "id": "g2CVZwyQwfdu",
    "outputId": "c95daa4e-028d-4836-f512-72ce1a27585d"
   },
   "outputs": [],
   "source": [
    "data['TotalBsmtSF'] = data['TotalBsmtSF'].fillna(0) \n",
    "data[['TotalBsmtSF','SalePrice']].corr()"
   ]
  },
  {
   "cell_type": "markdown",
   "metadata": {
    "id": "D3I38I1P9HhJ"
   },
   "source": [
    "MasVnrType: Masonry veneer type\n",
    "\n",
    "       BrkCmn\tBrick Common\n",
    "       BrkFace\tBrick Face\n",
    "       CBlock\tCinder Block\n",
    "       None\tNone\n",
    "       Stone\tStone\n",
    "\t\n",
    "MasVnrArea: Masonry veneer area in square feet"
   ]
  },
  {
   "cell_type": "code",
   "execution_count": null,
   "metadata": {
    "id": "otPdhuvjx4Cv"
   },
   "outputs": [],
   "source": [
    "data['MasVnrType'].value_counts(dropna=False)\n",
    "data['MasVnrType'] = data['MasVnrType'].fillna('None')"
   ]
  },
  {
   "cell_type": "code",
   "execution_count": null,
   "metadata": {
    "colab": {
     "base_uri": "https://localhost:8080/"
    },
    "executionInfo": {
     "elapsed": 19376,
     "status": "ok",
     "timestamp": 1619975029702,
     "user": {
      "displayName": "Ignacio Soteras",
      "photoUrl": "",
      "userId": "02050793736257155229"
     },
     "user_tz": -120
    },
    "id": "mNrLRhso9pjl",
    "outputId": "01e4a4cb-d3fd-466e-f6f6-4ea498a81de8"
   },
   "outputs": [],
   "source": [
    "# MasVnrType\n",
    "\n",
    "plot_count_box(data, 'MasVnrType', \"SalePrice\")"
   ]
  },
  {
   "cell_type": "markdown",
   "metadata": {
    "id": "8g53wrGY98OL"
   },
   "source": [
    "Too much overlap and imbalance and overlap. Let's drop this feature."
   ]
  },
  {
   "cell_type": "code",
   "execution_count": null,
   "metadata": {
    "id": "eYZBbLm8xxBG"
   },
   "outputs": [],
   "source": [
    "cols_to_drop += ['MasVnrType']"
   ]
  },
  {
   "cell_type": "code",
   "execution_count": null,
   "metadata": {
    "colab": {
     "base_uri": "https://localhost:8080/"
    },
    "executionInfo": {
     "elapsed": 19785,
     "status": "ok",
     "timestamp": 1619975030123,
     "user": {
      "displayName": "Ignacio Soteras",
      "photoUrl": "",
      "userId": "02050793736257155229"
     },
     "user_tz": -120
    },
    "id": "uVeWpb1M-CpW",
    "outputId": "028de978-f082-48c1-8ade-97ddf8b270c4"
   },
   "outputs": [],
   "source": [
    "# MasVnrArea\n",
    "\n",
    "sns.scatterplot( x = 'MasVnrArea', y = 'SalePrice', data = data)"
   ]
  },
  {
   "cell_type": "markdown",
   "metadata": {
    "id": "2XG-ny5s-MJ9"
   },
   "source": [
    "Not relation at all. Another feature to drop."
   ]
  },
  {
   "cell_type": "code",
   "execution_count": null,
   "metadata": {
    "id": "8Fquigryyfep"
   },
   "outputs": [],
   "source": [
    "cols_to_drop += ['MasVnrArea']"
   ]
  },
  {
   "cell_type": "markdown",
   "metadata": {
    "id": "kh9OPyv_y3PM"
   },
   "source": [
    "Electrical: Electrical system\n",
    "\n",
    "       SBrkr\tStandard Circuit Breakers & Romex\n",
    "       FuseA\tFuse Box over 60 AMP and all Romex wiring (Average)\t\n",
    "       FuseF\t60 AMP Fuse Box and mostly Romex wiring (Fair)\n",
    "       FuseP\t60 AMP Fuse Box and mostly knob & tube wiring (poor)\n",
    "       Mix\tMixed"
   ]
  },
  {
   "cell_type": "code",
   "execution_count": null,
   "metadata": {
    "colab": {
     "base_uri": "https://localhost:8080/"
    },
    "executionInfo": {
     "elapsed": 20343,
     "status": "ok",
     "timestamp": 1619975030693,
     "user": {
      "displayName": "Ignacio Soteras",
      "photoUrl": "",
      "userId": "02050793736257155229"
     },
     "user_tz": -120
    },
    "id": "VeKwHRVTy6ue",
    "outputId": "f798f511-17a8-4212-adfc-48c9fe1306dd"
   },
   "outputs": [],
   "source": [
    "data['Electrical'] = data['Electrical'].fillna('NA') \n",
    "\n",
    "plot_count_box(data, 'Electrical', \"SalePrice\")"
   ]
  },
  {
   "cell_type": "markdown",
   "metadata": {
    "id": "Qzxky_zKzNZ6"
   },
   "source": [
    "Another example of a feature with high class imbalance and high overlap between the boxplots."
   ]
  },
  {
   "cell_type": "code",
   "execution_count": null,
   "metadata": {
    "id": "AQzF4HBlzWPK"
   },
   "outputs": [],
   "source": [
    "cols_to_drop += ['Electrical']"
   ]
  },
  {
   "cell_type": "code",
   "execution_count": null,
   "metadata": {
    "colab": {
     "base_uri": "https://localhost:8080/"
    },
    "executionInfo": {
     "elapsed": 20334,
     "status": "ok",
     "timestamp": 1619975030694,
     "user": {
      "displayName": "Ignacio Soteras",
      "photoUrl": "",
      "userId": "02050793736257155229"
     },
     "user_tz": -120
    },
    "id": "VyyX2kfh01D0",
    "outputId": "fbfdf236-9a54-4728-b276-b3a5848ca62a"
   },
   "outputs": [],
   "source": [
    "cols_to_drop"
   ]
  },
  {
   "cell_type": "markdown",
   "metadata": {
    "id": "_Yv8sXQp0XWt"
   },
   "source": [
    "# Dropping unwanted columns"
   ]
  },
  {
   "cell_type": "code",
   "execution_count": null,
   "metadata": {
    "colab": {
     "base_uri": "https://localhost:8080/"
    },
    "executionInfo": {
     "elapsed": 20329,
     "status": "ok",
     "timestamp": 1619975030695,
     "user": {
      "displayName": "Ignacio Soteras",
      "photoUrl": "",
      "userId": "02050793736257155229"
     },
     "user_tz": -120
    },
    "id": "SY_vFrG90aHp",
    "outputId": "a749b2b2-bbba-493a-f4bb-4e6aed5e8312"
   },
   "outputs": [],
   "source": [
    "data.drop(columns = cols_to_drop, axis = 1, inplace = True)\n",
    "data.info()"
   ]
  },
  {
   "cell_type": "code",
   "execution_count": null,
   "metadata": {
    "colab": {
     "base_uri": "https://localhost:8080/"
    },
    "executionInfo": {
     "elapsed": 20325,
     "status": "ok",
     "timestamp": 1619975030696,
     "user": {
      "displayName": "Ignacio Soteras",
      "photoUrl": "",
      "userId": "02050793736257155229"
     },
     "user_tz": -120
    },
    "id": "DmNg-bKn2bdm",
    "outputId": "8ba25b3b-5d4f-4f08-b9d8-35d013699699"
   },
   "outputs": [],
   "source": [
    "data.shape"
   ]
  },
  {
   "cell_type": "markdown",
   "metadata": {
    "id": "cpdqNKLx-hzQ"
   },
   "source": [
    "# Inspecting categorical features"
   ]
  },
  {
   "cell_type": "markdown",
   "metadata": {
    "id": "7RBR7iA1-4XR"
   },
   "source": [
    "'Street'"
   ]
  },
  {
   "cell_type": "code",
   "execution_count": null,
   "metadata": {
    "colab": {
     "base_uri": "https://localhost:8080/"
    },
    "executionInfo": {
     "elapsed": 20318,
     "status": "ok",
     "timestamp": 1619975030696,
     "user": {
      "displayName": "Ignacio Soteras",
      "photoUrl": "",
      "userId": "02050793736257155229"
     },
     "user_tz": -120
    },
    "id": "Ol_10r95-TaK",
    "outputId": "58d89ad8-1ea8-4dbb-d6cf-2842be4f6958"
   },
   "outputs": [],
   "source": [
    "data['Street'].value_counts()"
   ]
  },
  {
   "cell_type": "markdown",
   "metadata": {
    "id": "Lsw4Nfw4-svH"
   },
   "source": [
    "High class imbalance, let's drop it."
   ]
  },
  {
   "cell_type": "code",
   "execution_count": null,
   "metadata": {
    "id": "nFzeXA6T-wMv"
   },
   "outputs": [],
   "source": [
    "cols_to_drop = ['Street']"
   ]
  },
  {
   "cell_type": "markdown",
   "metadata": {
    "id": "6dnszRIZ-8xj"
   },
   "source": [
    "LotShape: General shape of property\n",
    "\n",
    "       Reg\tRegular\t\n",
    "       IR1\tSlightly irregular\n",
    "       IR2\tModerately Irregular\n",
    "       IR3\tIrregular"
   ]
  },
  {
   "cell_type": "code",
   "execution_count": null,
   "metadata": {
    "colab": {
     "base_uri": "https://localhost:8080/"
    },
    "executionInfo": {
     "elapsed": 20613,
     "status": "ok",
     "timestamp": 1619975031000,
     "user": {
      "displayName": "Ignacio Soteras",
      "photoUrl": "",
      "userId": "02050793736257155229"
     },
     "user_tz": -120
    },
    "id": "_v4vhFJ9_F0j",
    "outputId": "65b01f37-d396-4339-ce66-e6253ec24b55"
   },
   "outputs": [],
   "source": [
    "plot_count_box(data, 'LotShape', 'SalePrice')"
   ]
  },
  {
   "cell_type": "markdown",
   "metadata": {
    "id": "qw2BF_ax_P1B"
   },
   "source": [
    "It doesn't seem to have a impact on the sale price. Let's drop it."
   ]
  },
  {
   "cell_type": "code",
   "execution_count": null,
   "metadata": {
    "id": "df2m-wdK_W9p"
   },
   "outputs": [],
   "source": [
    "cols_to_drop += ['LotShape']"
   ]
  },
  {
   "cell_type": "markdown",
   "metadata": {
    "id": "7j8KFe_w_lYg"
   },
   "source": [
    "LandContour: Flatness of the property\n",
    "\n",
    "       Lvl\tNear Flat/Level\t\n",
    "       Bnk\tBanked - Quick and significant rise from street grade to building\n",
    "       HLS\tHillside - Significant slope from side to side\n",
    "       Low\tDepression"
   ]
  },
  {
   "cell_type": "code",
   "execution_count": null,
   "metadata": {
    "colab": {
     "base_uri": "https://localhost:8080/"
    },
    "executionInfo": {
     "elapsed": 21105,
     "status": "ok",
     "timestamp": 1619975031499,
     "user": {
      "displayName": "Ignacio Soteras",
      "photoUrl": "",
      "userId": "02050793736257155229"
     },
     "user_tz": -120
    },
    "id": "LdV06ONn_mnE",
    "outputId": "53e44d6f-8163-4fb6-a050-ef4745c23a44"
   },
   "outputs": [],
   "source": [
    "plot_count_box(data, 'LandContour', 'SalePrice')"
   ]
  },
  {
   "cell_type": "markdown",
   "metadata": {
    "id": "2znG-x1N_xLm"
   },
   "source": [
    "No clear differences and high class imbalance within the possible values. Another feature to drop."
   ]
  },
  {
   "cell_type": "code",
   "execution_count": null,
   "metadata": {
    "id": "Ty5jlHLW_3-r"
   },
   "outputs": [],
   "source": [
    "cols_to_drop += ['LandContour']"
   ]
  },
  {
   "cell_type": "markdown",
   "metadata": {
    "id": "5SuaCUFYABP5"
   },
   "source": [
    "Utilities: Type of utilities available\n",
    "\t\t\n",
    "       AllPub\tAll public Utilities (E,G,W,& S)\t\n",
    "       NoSewr\tElectricity, Gas, and Water (Septic Tank)\n",
    "       NoSeWa\tElectricity and Gas Only\n",
    "       ELO\tElectricity only"
   ]
  },
  {
   "cell_type": "code",
   "execution_count": null,
   "metadata": {
    "colab": {
     "base_uri": "https://localhost:8080/"
    },
    "executionInfo": {
     "elapsed": 21579,
     "status": "ok",
     "timestamp": 1619975031982,
     "user": {
      "displayName": "Ignacio Soteras",
      "photoUrl": "",
      "userId": "02050793736257155229"
     },
     "user_tz": -120
    },
    "id": "8TyMj2eNAFvW",
    "outputId": "b6ce9cca-c163-4f5f-a81b-fd344669416b"
   },
   "outputs": [],
   "source": [
    "plot_count_box(data, 'Utilities', 'SalePrice')"
   ]
  },
  {
   "cell_type": "markdown",
   "metadata": {
    "id": "b7xgKg6lAL5W"
   },
   "source": [
    "Huge class imbalance, therefore this feature is not informative."
   ]
  },
  {
   "cell_type": "code",
   "execution_count": null,
   "metadata": {
    "id": "XzYvfNHIAOHp"
   },
   "outputs": [],
   "source": [
    "cols_to_drop += ['Utilities']"
   ]
  },
  {
   "cell_type": "markdown",
   "metadata": {
    "id": "qu_ZcFh9AsQ9"
   },
   "source": [
    "LotConfig: Lot configuration\n",
    "\n",
    "       Inside\tInside lot\n",
    "       Corner\tCorner lot\n",
    "       CulDSac\tCul-de-sac\n",
    "       FR2\tFrontage on 2 sides of property\n",
    "       FR3\tFrontage on 3 sides of property"
   ]
  },
  {
   "cell_type": "code",
   "execution_count": null,
   "metadata": {
    "colab": {
     "base_uri": "https://localhost:8080/"
    },
    "executionInfo": {
     "elapsed": 22117,
     "status": "ok",
     "timestamp": 1619975032528,
     "user": {
      "displayName": "Ignacio Soteras",
      "photoUrl": "",
      "userId": "02050793736257155229"
     },
     "user_tz": -120
    },
    "id": "sUdSPG6-Ata4",
    "outputId": "4f5609f9-7e3f-411c-dd5c-710cccaa9080"
   },
   "outputs": [],
   "source": [
    "plot_count_box(data, 'LotConfig', 'SalePrice')"
   ]
  },
  {
   "cell_type": "markdown",
   "metadata": {
    "id": "wdSZGPu6A0I2"
   },
   "source": [
    "High class imbalance and not informative."
   ]
  },
  {
   "cell_type": "code",
   "execution_count": null,
   "metadata": {
    "id": "TCn6XoGPA3EM"
   },
   "outputs": [],
   "source": [
    "cols_to_drop += ['LotConfig']"
   ]
  },
  {
   "cell_type": "markdown",
   "metadata": {
    "id": "lidMaDDgBB63"
   },
   "source": [
    "LandSlope: Slope of property\n",
    "\t\t\n",
    "       Gtl\tGentle slope\n",
    "       Mod\tModerate Slope\t\n",
    "       Sev\tSevere Slope"
   ]
  },
  {
   "cell_type": "code",
   "execution_count": null,
   "metadata": {
    "colab": {
     "base_uri": "https://localhost:8080/"
    },
    "executionInfo": {
     "elapsed": 22660,
     "status": "ok",
     "timestamp": 1619975033078,
     "user": {
      "displayName": "Ignacio Soteras",
      "photoUrl": "",
      "userId": "02050793736257155229"
     },
     "user_tz": -120
    },
    "id": "1xGgXlgXBDcu",
    "outputId": "c28a9f39-80c9-4fa4-fa1e-bf9d63d2af46"
   },
   "outputs": [],
   "source": [
    "plot_count_box(data, 'LandSlope', 'SalePrice')"
   ]
  },
  {
   "cell_type": "markdown",
   "metadata": {
    "id": "Yip4eKR8BNtR"
   },
   "source": [
    "Same as well"
   ]
  },
  {
   "cell_type": "code",
   "execution_count": null,
   "metadata": {
    "id": "33p3fOn8BPnp"
   },
   "outputs": [],
   "source": [
    "cols_to_drop += ['LandSlope']"
   ]
  },
  {
   "cell_type": "markdown",
   "metadata": {
    "id": "bPrsyTV0Bctf"
   },
   "source": [
    "Condition1: Proximity to various conditions\n",
    "\t\n",
    "       Artery\tAdjacent to arterial street\n",
    "       Feedr\tAdjacent to feeder street\t\n",
    "       Norm\tNormal\t\n",
    "       RRNn\tWithin 200' of North-South Railroad\n",
    "       RRAn\tAdjacent to North-South Railroad\n",
    "       PosN\tNear positive off-site feature--park, greenbelt, etc.\n",
    "       PosA\tAdjacent to postive off-site feature\n",
    "       RRNe\tWithin 200' of East-West Railroad\n",
    "       RRAe\tAdjacent to East-West Railroad"
   ]
  },
  {
   "cell_type": "code",
   "execution_count": null,
   "metadata": {
    "colab": {
     "base_uri": "https://localhost:8080/"
    },
    "executionInfo": {
     "elapsed": 23212,
     "status": "ok",
     "timestamp": 1619975033638,
     "user": {
      "displayName": "Ignacio Soteras",
      "photoUrl": "",
      "userId": "02050793736257155229"
     },
     "user_tz": -120
    },
    "id": "po1FWbfSBd60",
    "outputId": "37839352-bcd6-468d-9a5e-4918c4dd6db7"
   },
   "outputs": [],
   "source": [
    "plot_count_box(data, 'Condition1', 'SalePrice')"
   ]
  },
  {
   "cell_type": "markdown",
   "metadata": {
    "id": "jjvTzI1VBqai"
   },
   "source": [
    "Small statistics to extract conclussions. Let's drop it."
   ]
  },
  {
   "cell_type": "code",
   "execution_count": null,
   "metadata": {
    "id": "_jf1EJC8Bxqo"
   },
   "outputs": [],
   "source": [
    "cols_to_drop += ['Condition1']"
   ]
  },
  {
   "cell_type": "markdown",
   "metadata": {
    "id": "GXpu76VHB6Va"
   },
   "source": [
    "Condition2: Proximity to various conditions (if more than one is present)\n",
    "\t\t\n",
    "       Artery\tAdjacent to arterial street\n",
    "       Feedr\tAdjacent to feeder street\t\n",
    "       Norm\tNormal\t\n",
    "       RRNn\tWithin 200' of North-South Railroad\n",
    "       RRAn\tAdjacent to North-South Railroad\n",
    "       PosN\tNear positive off-site feature--park, greenbelt, etc.\n",
    "       PosA\tAdjacent to postive off-site feature\n",
    "       RRNe\tWithin 200' of East-West Railroad\n",
    "       RRAe\tAdjacent to East-West Railroad"
   ]
  },
  {
   "cell_type": "code",
   "execution_count": null,
   "metadata": {
    "colab": {
     "base_uri": "https://localhost:8080/"
    },
    "executionInfo": {
     "elapsed": 23735,
     "status": "ok",
     "timestamp": 1619975034169,
     "user": {
      "displayName": "Ignacio Soteras",
      "photoUrl": "",
      "userId": "02050793736257155229"
     },
     "user_tz": -120
    },
    "id": "qU7WjdfOB7qk",
    "outputId": "e017dbab-b5d6-4bbe-c205-3cd565ceae06"
   },
   "outputs": [],
   "source": [
    "plot_count_box(data, 'Condition2', 'SalePrice')"
   ]
  },
  {
   "cell_type": "markdown",
   "metadata": {
    "id": "_iiEN9OQCBjT"
   },
   "source": [
    "Even worse."
   ]
  },
  {
   "cell_type": "code",
   "execution_count": null,
   "metadata": {
    "id": "NPDC_CoPCDHx"
   },
   "outputs": [],
   "source": [
    "cols_to_drop += ['Condition2']"
   ]
  },
  {
   "cell_type": "markdown",
   "metadata": {
    "id": "u8hb6iqcFjAK"
   },
   "source": [
    "BldgType: Type of dwelling\n",
    "\t\t\n",
    "       1Fam\tSingle-family Detached\t\n",
    "       2FmCon\tTwo-family Conversion; originally built as one-family dwelling\n",
    "       Duplx\tDuplex\n",
    "       TwnhsE\tTownhouse End Unit\n",
    "       TwnhsI\tTownhouse Inside Unit"
   ]
  },
  {
   "cell_type": "code",
   "execution_count": null,
   "metadata": {
    "colab": {
     "base_uri": "https://localhost:8080/"
    },
    "executionInfo": {
     "elapsed": 24444,
     "status": "ok",
     "timestamp": 1619975034886,
     "user": {
      "displayName": "Ignacio Soteras",
      "photoUrl": "",
      "userId": "02050793736257155229"
     },
     "user_tz": -120
    },
    "id": "xR0jCnbwFobt",
    "outputId": "75595ecb-a186-4a94-f92e-848fc0020423"
   },
   "outputs": [],
   "source": [
    "plot_count_box(data, 'BldgType', 'SalePrice')"
   ]
  },
  {
   "cell_type": "markdown",
   "metadata": {
    "id": "4p-EDFmoIA_2"
   },
   "source": [
    "Again, high imbalanace and high overlap. A pity as this could be a good feature."
   ]
  },
  {
   "cell_type": "code",
   "execution_count": null,
   "metadata": {
    "id": "DZOIghFBIJQD"
   },
   "outputs": [],
   "source": [
    "cols_to_drop += ['BldgType']"
   ]
  },
  {
   "cell_type": "markdown",
   "metadata": {
    "id": "Sf-s4iG8IUYA"
   },
   "source": [
    "HouseStyle: Style of dwelling\n",
    "\t\n",
    "       1Story\tOne story\n",
    "       1.5Fin\tOne and one-half story: 2nd level finished\n",
    "       1.5Unf\tOne and one-half story: 2nd level unfinished\n",
    "       2Story\tTwo story\n",
    "       2.5Fin\tTwo and one-half story: 2nd level finished\n",
    "       2.5Unf\tTwo and one-half story: 2nd level unfinished\n",
    "       SFoyer\tSplit Foyer\n",
    "       SLvl\tSplit Level"
   ]
  },
  {
   "cell_type": "code",
   "execution_count": null,
   "metadata": {
    "colab": {
     "base_uri": "https://localhost:8080/"
    },
    "executionInfo": {
     "elapsed": 25212,
     "status": "ok",
     "timestamp": 1619975035663,
     "user": {
      "displayName": "Ignacio Soteras",
      "photoUrl": "",
      "userId": "02050793736257155229"
     },
     "user_tz": -120
    },
    "id": "Lj0hzQj7IZjI",
    "outputId": "afc10cae-0b0f-4f3e-e674-70ad94709700"
   },
   "outputs": [],
   "source": [
    "plot_count_box(data, 'HouseStyle', 'SalePrice')"
   ]
  },
  {
   "cell_type": "markdown",
   "metadata": {
    "id": "wsqL0XagIhLK"
   },
   "source": [
    "Same problem"
   ]
  },
  {
   "cell_type": "code",
   "execution_count": null,
   "metadata": {
    "id": "xwl8_we7IiQ5"
   },
   "outputs": [],
   "source": [
    "cols_to_drop += ['HouseStyle']"
   ]
  },
  {
   "cell_type": "markdown",
   "metadata": {
    "id": "bJDrYhOIIvj9"
   },
   "source": [
    "RoofStyle: Type of roof\n",
    "\n",
    "       Flat\tFlat\n",
    "       Gable\tGable\n",
    "       Gambrel\tGabrel (Barn)\n",
    "       Hip\tHip\n",
    "       Mansard\tMansard\n",
    "       Shed\tShed"
   ]
  },
  {
   "cell_type": "code",
   "execution_count": null,
   "metadata": {
    "colab": {
     "base_uri": "https://localhost:8080/"
    },
    "executionInfo": {
     "elapsed": 25751,
     "status": "ok",
     "timestamp": 1619975036210,
     "user": {
      "displayName": "Ignacio Soteras",
      "photoUrl": "",
      "userId": "02050793736257155229"
     },
     "user_tz": -120
    },
    "id": "UVsj8UxyI9NX",
    "outputId": "9e086b90-aa89-4523-d05f-7e913d94de89"
   },
   "outputs": [],
   "source": [
    "plot_count_box(data, 'RoofStyle', 'SalePrice')"
   ]
  },
  {
   "cell_type": "markdown",
   "metadata": {
    "id": "oXN0cjcjJJK8"
   },
   "source": [
    "Same"
   ]
  },
  {
   "cell_type": "code",
   "execution_count": null,
   "metadata": {
    "id": "GIDSNG_xJMAi"
   },
   "outputs": [],
   "source": [
    "cols_to_drop += ['RoofStyle']"
   ]
  },
  {
   "cell_type": "markdown",
   "metadata": {
    "id": "C09ZVSJnJWN5"
   },
   "source": [
    "RoofMatl: Roof material\n",
    "\n",
    "       ClyTile\tClay or Tile\n",
    "       CompShg\tStandard (Composite) Shingle\n",
    "       Membran\tMembrane\n",
    "       Metal\tMetal\n",
    "       Roll\tRoll\n",
    "       Tar&Grv\tGravel & Tar\n",
    "       WdShake\tWood Shakes\n",
    "       WdShngl\tWood Shingles"
   ]
  },
  {
   "cell_type": "code",
   "execution_count": null,
   "metadata": {
    "colab": {
     "base_uri": "https://localhost:8080/"
    },
    "executionInfo": {
     "elapsed": 26275,
     "status": "ok",
     "timestamp": 1619975036744,
     "user": {
      "displayName": "Ignacio Soteras",
      "photoUrl": "",
      "userId": "02050793736257155229"
     },
     "user_tz": -120
    },
    "id": "NG_d1-jUJaPR",
    "outputId": "1c77c455-fcb3-4ff2-c619-0d93ca7153a8"
   },
   "outputs": [],
   "source": [
    "plot_count_box(data, 'RoofMatl', 'SalePrice')"
   ]
  },
  {
   "cell_type": "markdown",
   "metadata": {
    "id": "NbXyLwiRJ1Kp"
   },
   "source": [
    "Apperently WdShngl houses have a higher sale price but the number of samples is nog big enough"
   ]
  },
  {
   "cell_type": "code",
   "execution_count": null,
   "metadata": {
    "colab": {
     "base_uri": "https://localhost:8080/"
    },
    "executionInfo": {
     "elapsed": 26270,
     "status": "ok",
     "timestamp": 1619975036745,
     "user": {
      "displayName": "Ignacio Soteras",
      "photoUrl": "",
      "userId": "02050793736257155229"
     },
     "user_tz": -120
    },
    "id": "7IrYMsFnJnsh",
    "outputId": "91f91e0b-6ba8-4aa2-a52b-1785412c76d2"
   },
   "outputs": [],
   "source": [
    "data['RoofMatl'].value_counts()"
   ]
  },
  {
   "cell_type": "markdown",
   "metadata": {
    "id": "QPnvVBspJvX-"
   },
   "source": [
    "Useless feature because of lack of data"
   ]
  },
  {
   "cell_type": "code",
   "execution_count": null,
   "metadata": {
    "id": "vt8yaRefJzCJ"
   },
   "outputs": [],
   "source": [
    "cols_to_drop += ['RoofMatl']"
   ]
  },
  {
   "cell_type": "markdown",
   "metadata": {
    "id": "IT1TBJi0KKPm"
   },
   "source": [
    "Exterior1st: Exterior covering on house\n",
    "\n",
    "       AsbShng\tAsbestos Shingles\n",
    "       AsphShn\tAsphalt Shingles\n",
    "       BrkComm\tBrick Common\n",
    "       BrkFace\tBrick Face\n",
    "       CBlock\tCinder Block\n",
    "       CemntBd\tCement Board\n",
    "       HdBoard\tHard Board\n",
    "       ImStucc\tImitation Stucco\n",
    "       MetalSd\tMetal Siding\n",
    "       Other\tOther\n",
    "       Plywood\tPlywood\n",
    "       PreCast\tPreCast\t\n",
    "       Stone\tStone\n",
    "       Stucco\tStucco\n",
    "       VinylSd\tVinyl Siding\n",
    "       Wd Sdng\tWood Siding\n",
    "       WdShing\tWood Shingles"
   ]
  },
  {
   "cell_type": "code",
   "execution_count": null,
   "metadata": {
    "colab": {
     "base_uri": "https://localhost:8080/"
    },
    "executionInfo": {
     "elapsed": 27021,
     "status": "ok",
     "timestamp": 1619975037505,
     "user": {
      "displayName": "Ignacio Soteras",
      "photoUrl": "",
      "userId": "02050793736257155229"
     },
     "user_tz": -120
    },
    "id": "GLr5ODs7KLYC",
    "outputId": "3b04f4c7-75b7-4aab-dc84-f99be45d4843"
   },
   "outputs": [],
   "source": [
    "plot_count_box(data, 'Exterior1st', 'SalePrice', orient = 'h')"
   ]
  },
  {
   "cell_type": "markdown",
   "metadata": {
    "id": "5R6qrGmUKyrf"
   },
   "source": [
    "We have some values with a lot of samples and others undersampled. We can can think groupping the low sampled groups together.\n",
    "\n"
   ]
  },
  {
   "cell_type": "code",
   "execution_count": null,
   "metadata": {
    "colab": {
     "base_uri": "https://localhost:8080/"
    },
    "executionInfo": {
     "elapsed": 27016,
     "status": "ok",
     "timestamp": 1619975037506,
     "user": {
      "displayName": "Ignacio Soteras",
      "photoUrl": "",
      "userId": "02050793736257155229"
     },
     "user_tz": -120
    },
    "id": "a1yHfSHOLCWm",
    "outputId": "5dac02f2-5552-464b-cd0e-f6e5894cd872"
   },
   "outputs": [],
   "source": [
    "data['Exterior1st'].value_counts()"
   ]
  },
  {
   "cell_type": "code",
   "execution_count": null,
   "metadata": {
    "id": "YFk_EqsjLcAF"
   },
   "outputs": [],
   "source": [
    "data['Exterior1st'] = np.where(data['Exterior1st'].isin(['VinylSd','MetalSd','HdBoard','Wd Sdng','Plywood']),data['Exterior1st'],'Other')"
   ]
  },
  {
   "cell_type": "code",
   "execution_count": null,
   "metadata": {
    "colab": {
     "base_uri": "https://localhost:8080/"
    },
    "executionInfo": {
     "elapsed": 27009,
     "status": "ok",
     "timestamp": 1619975037508,
     "user": {
      "displayName": "Ignacio Soteras",
      "photoUrl": "",
      "userId": "02050793736257155229"
     },
     "user_tz": -120
    },
    "id": "FcTgJMIo-Lww",
    "outputId": "4e43d5bf-0f35-4ffe-f2dc-ab94d1975bae"
   },
   "outputs": [],
   "source": [
    "data['Exterior1st'].value_counts()"
   ]
  },
  {
   "cell_type": "code",
   "execution_count": null,
   "metadata": {
    "colab": {
     "base_uri": "https://localhost:8080/"
    },
    "executionInfo": {
     "elapsed": 27534,
     "status": "ok",
     "timestamp": 1619975038039,
     "user": {
      "displayName": "Ignacio Soteras",
      "photoUrl": "",
      "userId": "02050793736257155229"
     },
     "user_tz": -120
    },
    "id": "ckJywVeJ-S4J",
    "outputId": "6e86de12-ccaf-44ea-ba3f-d46ed513eeb3"
   },
   "outputs": [],
   "source": [
    "plot_count_box(data, 'Exterior1st', 'SalePrice', orient = 'h')"
   ]
  },
  {
   "cell_type": "markdown",
   "metadata": {
    "id": "l0D-Kkc9-dWz"
   },
   "source": [
    "Even grouping, this variable doesn't seem to help in determining the final selling prices given the overlap."
   ]
  },
  {
   "cell_type": "code",
   "execution_count": null,
   "metadata": {
    "id": "jKWRhoSQ_B0D"
   },
   "outputs": [],
   "source": [
    "cols_to_drop += ['Exterior1st']"
   ]
  },
  {
   "cell_type": "markdown",
   "metadata": {
    "id": "S5eN8thMMJS6"
   },
   "source": [
    "Exterior2nd: Exterior covering on house (if more than one material)\n",
    "\n",
    "       AsbShng\tAsbestos Shingles\n",
    "       AsphShn\tAsphalt Shingles\n",
    "       BrkComm\tBrick Common\n",
    "       BrkFace\tBrick Face\n",
    "       CBlock\tCinder Block\n",
    "       CemntBd\tCement Board\n",
    "       HdBoard\tHard Board\n",
    "       ImStucc\tImitation Stucco\n",
    "       MetalSd\tMetal Siding\n",
    "       Other\tOther\n",
    "       Plywood\tPlywood\n",
    "       PreCast\tPreCast\n",
    "       Stone\tStone\n",
    "       Stucco\tStucco\n",
    "       VinylSd\tVinyl Siding\n",
    "       Wd Sdng\tWood Siding\n",
    "       WdShing\tWood Shingles"
   ]
  },
  {
   "cell_type": "code",
   "execution_count": null,
   "metadata": {
    "colab": {
     "base_uri": "https://localhost:8080/"
    },
    "executionInfo": {
     "elapsed": 28230,
     "status": "ok",
     "timestamp": 1619975038745,
     "user": {
      "displayName": "Ignacio Soteras",
      "photoUrl": "",
      "userId": "02050793736257155229"
     },
     "user_tz": -120
    },
    "id": "w5hdKscYMOcB",
    "outputId": "013f2e8d-3c39-480b-ccf1-28fa04cfbc0a"
   },
   "outputs": [],
   "source": [
    "plot_count_box(data, 'Exterior2nd', 'SalePrice', orient = 'h')"
   ]
  },
  {
   "cell_type": "code",
   "execution_count": null,
   "metadata": {
    "colab": {
     "base_uri": "https://localhost:8080/"
    },
    "executionInfo": {
     "elapsed": 28225,
     "status": "ok",
     "timestamp": 1619975038746,
     "user": {
      "displayName": "Ignacio Soteras",
      "photoUrl": "",
      "userId": "02050793736257155229"
     },
     "user_tz": -120
    },
    "id": "koUd8QmNXVWv",
    "outputId": "9badda5d-c95a-4454-f018-50bd39afe850"
   },
   "outputs": [],
   "source": [
    "data['Exterior2nd'].value_counts()"
   ]
  },
  {
   "cell_type": "markdown",
   "metadata": {
    "id": "uHamZUiUXfnH"
   },
   "source": [
    "It seems to be redundant. Let's drop it."
   ]
  },
  {
   "cell_type": "code",
   "execution_count": null,
   "metadata": {
    "id": "Tlm0yglDXilL"
   },
   "outputs": [],
   "source": [
    "cols_to_drop += ['Exterior2nd']"
   ]
  },
  {
   "cell_type": "markdown",
   "metadata": {
    "id": "sYd5JOO8MeYu"
   },
   "source": [
    "ExterQual: Evaluates the quality of the material on the exterior \n",
    "\t\t\n",
    "       Ex\tExcellent\n",
    "       Gd\tGood\n",
    "       TA\tAverage/Typical\n",
    "       Fa\tFair\n",
    "       Po\tPoor"
   ]
  },
  {
   "cell_type": "code",
   "execution_count": null,
   "metadata": {
    "colab": {
     "base_uri": "https://localhost:8080/"
    },
    "executionInfo": {
     "elapsed": 28778,
     "status": "ok",
     "timestamp": 1619975039308,
     "user": {
      "displayName": "Ignacio Soteras",
      "photoUrl": "",
      "userId": "02050793736257155229"
     },
     "user_tz": -120
    },
    "id": "inqTqPN2Mkuh",
    "outputId": "4dbb03c3-9588-412a-a0be-cc36f830a2c7"
   },
   "outputs": [],
   "source": [
    "plot_count_box(data, 'ExterQual', 'SalePrice')"
   ]
  },
  {
   "cell_type": "code",
   "execution_count": null,
   "metadata": {
    "colab": {
     "base_uri": "https://localhost:8080/"
    },
    "executionInfo": {
     "elapsed": 28767,
     "status": "ok",
     "timestamp": 1619975039309,
     "user": {
      "displayName": "Ignacio Soteras",
      "photoUrl": "",
      "userId": "02050793736257155229"
     },
     "user_tz": -120
    },
    "id": "NKS6aLgZMxvs",
    "outputId": "72b92aaf-348b-412e-f5fb-af8fe98af0fe"
   },
   "outputs": [],
   "source": [
    "data['ExterQual'].value_counts()"
   ]
  },
  {
   "cell_type": "code",
   "execution_count": null,
   "metadata": {
    "colab": {
     "base_uri": "https://localhost:8080/"
    },
    "executionInfo": {
     "elapsed": 28762,
     "status": "ok",
     "timestamp": 1619975039310,
     "user": {
      "displayName": "Ignacio Soteras",
      "photoUrl": "",
      "userId": "02050793736257155229"
     },
     "user_tz": -120
    },
    "id": "q1rdcSe-6kgW",
    "outputId": "415d8a96-15d6-4baa-930b-e9c281f68605"
   },
   "outputs": [],
   "source": [
    "m1 = data[data['ExterQual'] == 'Fa']['SalePrice'].mean()\n",
    "m2 = data[data['ExterQual'].isin(['TA','Gd']) == True]['SalePrice'].mean()\n",
    "m3 = data[data['ExterQual'] == 'Ex']['SalePrice'].mean()\n",
    "\n",
    "print(\"Mean prices of houses with ExterQual = 'Fa': {:.2f}\".format(m1))\n",
    "print(\"Mean prices of houses with ExterQual = ['TA','Gd']: {:.2f}\".format(m2))\n",
    "print(\"Mean prices of houses with ExterQual = 'Ex': {:.2f}\".format(m3))\n",
    "\n",
    "print(\"Ratio m2/m1: {:.2f}\".format(m2/m1))\n",
    "print(\"Ratio m2/m1: {:.2f}\".format(m3/m1))"
   ]
  },
  {
   "cell_type": "code",
   "execution_count": null,
   "metadata": {
    "id": "52zBU-DaNF_4"
   },
   "outputs": [],
   "source": [
    "#data['ExterQual'] = np.where(data['ExterQual'].isin(['TA','Gd']),'TA-Gd',data['ExterQual'])\n",
    "data['ExterQual'] = data['ExterQual'].replace({'Fa':1, 'TA': 1.97,'Gd': 1.97, 'Ex': 4.23})"
   ]
  },
  {
   "cell_type": "markdown",
   "metadata": {
    "id": "LKqUbhphNiDm"
   },
   "source": [
    "ExterCond: Evaluates the present condition of the material on the exterior\n",
    "\t\t\n",
    "       Ex\tExcellent\n",
    "       Gd\tGood\n",
    "       TA\tAverage/Typical\n",
    "       Fa\tFair\n",
    "       Po\tPoor"
   ]
  },
  {
   "cell_type": "code",
   "execution_count": null,
   "metadata": {
    "colab": {
     "base_uri": "https://localhost:8080/"
    },
    "executionInfo": {
     "elapsed": 29420,
     "status": "ok",
     "timestamp": 1619975039975,
     "user": {
      "displayName": "Ignacio Soteras",
      "photoUrl": "",
      "userId": "02050793736257155229"
     },
     "user_tz": -120
    },
    "id": "PfJinlg_NnNM",
    "outputId": "94cdad6a-ee19-4073-e598-01ca2f5153df"
   },
   "outputs": [],
   "source": [
    "plot_count_box(data, 'ExterCond', 'SalePrice')"
   ]
  },
  {
   "cell_type": "markdown",
   "metadata": {
    "id": "0Jv27h8INzJa"
   },
   "source": [
    "The most sampled value for 'ExterCond' is 'TA' which has a huge range of selling prices. Let's drop it"
   ]
  },
  {
   "cell_type": "code",
   "execution_count": null,
   "metadata": {
    "id": "W2LzLKcbOPlO"
   },
   "outputs": [],
   "source": [
    "cols_to_drop += ['ExterCond']"
   ]
  },
  {
   "cell_type": "markdown",
   "metadata": {
    "id": "WY7VXxn7OZ9-"
   },
   "source": [
    "Foundation: Type of foundation\n",
    "\t\t\n",
    "       BrkTil\tBrick & Tile\n",
    "       CBlock\tCinder Block\n",
    "       PConc\tPoured Contrete\t\n",
    "       Slab\tSlab\n",
    "       Stone\tStone\n",
    "       Wood\tWood"
   ]
  },
  {
   "cell_type": "code",
   "execution_count": null,
   "metadata": {
    "colab": {
     "base_uri": "https://localhost:8080/"
    },
    "executionInfo": {
     "elapsed": 29753,
     "status": "ok",
     "timestamp": 1619975040318,
     "user": {
      "displayName": "Ignacio Soteras",
      "photoUrl": "",
      "userId": "02050793736257155229"
     },
     "user_tz": -120
    },
    "id": "oV9IMpRZOfUH",
    "outputId": "597d0c38-26ac-40a0-d7f0-d8ce6d7beb00"
   },
   "outputs": [],
   "source": [
    "plot_count_box(data, 'Foundation', 'SalePrice')"
   ]
  },
  {
   "cell_type": "markdown",
   "metadata": {
    "id": "rMYYJDaoOylD"
   },
   "source": [
    "No clear conclussions can be extracted"
   ]
  },
  {
   "cell_type": "code",
   "execution_count": null,
   "metadata": {
    "id": "l37_qaXpO1Fi"
   },
   "outputs": [],
   "source": [
    "cols_to_drop += ['Foundation']"
   ]
  },
  {
   "cell_type": "markdown",
   "metadata": {
    "id": "Ijg1mjpTO8ok"
   },
   "source": [
    "Heating: Type of heating\n",
    "\t\t\n",
    "       Floor\tFloor Furnace\n",
    "       GasA\tGas forced warm air furnace\n",
    "       GasW\tGas hot water or steam heat\n",
    "       Grav\tGravity furnace\t\n",
    "       OthW\tHot water or steam heat other than gas\n",
    "       Wall\tWall furnace"
   ]
  },
  {
   "cell_type": "code",
   "execution_count": null,
   "metadata": {
    "colab": {
     "base_uri": "https://localhost:8080/"
    },
    "executionInfo": {
     "elapsed": 30527,
     "status": "ok",
     "timestamp": 1619975041100,
     "user": {
      "displayName": "Ignacio Soteras",
      "photoUrl": "",
      "userId": "02050793736257155229"
     },
     "user_tz": -120
    },
    "id": "qqYrLLKDPEAC",
    "outputId": "396c5dcd-c900-4cda-c0e4-be33dff745fe"
   },
   "outputs": [],
   "source": [
    "plot_count_box(data, 'Heating', 'SalePrice')"
   ]
  },
  {
   "cell_type": "markdown",
   "metadata": {
    "id": "K3xKUf20POz2"
   },
   "source": [
    "Not conclussive "
   ]
  },
  {
   "cell_type": "code",
   "execution_count": null,
   "metadata": {
    "colab": {
     "base_uri": "https://localhost:8080/"
    },
    "executionInfo": {
     "elapsed": 30523,
     "status": "ok",
     "timestamp": 1619975041101,
     "user": {
      "displayName": "Ignacio Soteras",
      "photoUrl": "",
      "userId": "02050793736257155229"
     },
     "user_tz": -120
    },
    "id": "q-edFOxbPS5y",
    "outputId": "22ac328f-1a9f-43e1-f9a2-1ace74cc3abe"
   },
   "outputs": [],
   "source": [
    "data['Heating'].value_counts()"
   ]
  },
  {
   "cell_type": "code",
   "execution_count": null,
   "metadata": {
    "id": "qvUCxSNYPlUQ"
   },
   "outputs": [],
   "source": [
    "cols_to_drop += ['Heating']"
   ]
  },
  {
   "cell_type": "markdown",
   "metadata": {
    "id": "bwzChbcvPwWb"
   },
   "source": [
    "HeatingQC: Heating quality and condition\n",
    "\n",
    "       Ex\tExcellent\n",
    "       Gd\tGood\n",
    "       TA\tAverage/Typical\n",
    "       Fa\tFair\n",
    "       Po\tPoor"
   ]
  },
  {
   "cell_type": "code",
   "execution_count": null,
   "metadata": {
    "colab": {
     "base_uri": "https://localhost:8080/"
    },
    "executionInfo": {
     "elapsed": 31046,
     "status": "ok",
     "timestamp": 1619975041631,
     "user": {
      "displayName": "Ignacio Soteras",
      "photoUrl": "",
      "userId": "02050793736257155229"
     },
     "user_tz": -120
    },
    "id": "lJ5SzDo8P0Zf",
    "outputId": "113a41d0-8bfb-489c-c36f-ad8e4a63f434"
   },
   "outputs": [],
   "source": [
    "plot_count_box(data, 'HeatingQC', 'SalePrice')"
   ]
  },
  {
   "cell_type": "markdown",
   "metadata": {
    "id": "CVEW0gVOP-Ln"
   },
   "source": [
    "Good sampling ( except 'poor' ) but high overlap to be conclussive. Let's drop it. "
   ]
  },
  {
   "cell_type": "code",
   "execution_count": null,
   "metadata": {
    "id": "4pi3BMc1QMH3"
   },
   "outputs": [],
   "source": [
    "cols_to_drop += ['HeatingQC']"
   ]
  },
  {
   "cell_type": "markdown",
   "metadata": {
    "id": "E-IMxN4CQWTA"
   },
   "source": [
    "CentralAir: Central air conditioning\n",
    "\n",
    "       N\tNo\n",
    "       Y\tYes"
   ]
  },
  {
   "cell_type": "code",
   "execution_count": null,
   "metadata": {
    "colab": {
     "base_uri": "https://localhost:8080/"
    },
    "executionInfo": {
     "elapsed": 31566,
     "status": "ok",
     "timestamp": 1619975042162,
     "user": {
      "displayName": "Ignacio Soteras",
      "photoUrl": "",
      "userId": "02050793736257155229"
     },
     "user_tz": -120
    },
    "id": "IkJSTg0rQaJl",
    "outputId": "04e3b040-c462-4698-83db-aa5184bb732d"
   },
   "outputs": [],
   "source": [
    "plot_count_box(data, 'CentralAir', 'SalePrice')"
   ]
  },
  {
   "cell_type": "code",
   "execution_count": null,
   "metadata": {
    "colab": {
     "base_uri": "https://localhost:8080/"
    },
    "executionInfo": {
     "elapsed": 31560,
     "status": "ok",
     "timestamp": 1619975042163,
     "user": {
      "displayName": "Ignacio Soteras",
      "photoUrl": "",
      "userId": "02050793736257155229"
     },
     "user_tz": -120
    },
    "id": "02MoM3GvQjnb",
    "outputId": "c09dc342-ec61-49e7-bcf7-cd2da62cc3ca"
   },
   "outputs": [],
   "source": [
    "data['CentralAir'].value_counts()"
   ]
  },
  {
   "cell_type": "markdown",
   "metadata": {
    "id": "WDTVCYJ1QtTH"
   },
   "source": [
    "I will keep this feature as even though there is some overlap, in general the selling prices are bigger for houses where CentralAir is present. However, I will recode this feature."
   ]
  },
  {
   "cell_type": "code",
   "execution_count": null,
   "metadata": {
    "id": "DpBEd8oXREba"
   },
   "outputs": [],
   "source": [
    "data['CentralAir'] = np.where(data['CentralAir'] == \"Y\",1,0)"
   ]
  },
  {
   "cell_type": "markdown",
   "metadata": {
    "id": "t2t422QqRTDZ"
   },
   "source": [
    "KitchenQual: Kitchen quality\n",
    "\n",
    "       Ex\tExcellent\n",
    "       Gd\tGood\n",
    "       TA\tTypical/Average\n",
    "       Fa\tFair\n",
    "       Po\tPoor"
   ]
  },
  {
   "cell_type": "code",
   "execution_count": null,
   "metadata": {
    "colab": {
     "base_uri": "https://localhost:8080/"
    },
    "executionInfo": {
     "elapsed": 32085,
     "status": "ok",
     "timestamp": 1619975042696,
     "user": {
      "displayName": "Ignacio Soteras",
      "photoUrl": "",
      "userId": "02050793736257155229"
     },
     "user_tz": -120
    },
    "id": "5k35zFWmRYBS",
    "outputId": "69c3d907-3403-4fe3-8925-016bcca26187"
   },
   "outputs": [],
   "source": [
    "plot_count_box(data,'KitchenQual', 'SalePrice')"
   ]
  },
  {
   "cell_type": "code",
   "execution_count": null,
   "metadata": {
    "colab": {
     "base_uri": "https://localhost:8080/"
    },
    "executionInfo": {
     "elapsed": 32080,
     "status": "ok",
     "timestamp": 1619975042697,
     "user": {
      "displayName": "Ignacio Soteras",
      "photoUrl": "",
      "userId": "02050793736257155229"
     },
     "user_tz": -120
    },
    "id": "XtoDhGtFRovh",
    "outputId": "ba3880ae-0e42-4111-93d2-b968531b6463"
   },
   "outputs": [],
   "source": [
    "data['KitchenQual'].value_counts()"
   ]
  },
  {
   "cell_type": "code",
   "execution_count": null,
   "metadata": {
    "colab": {
     "base_uri": "https://localhost:8080/"
    },
    "executionInfo": {
     "elapsed": 32075,
     "status": "ok",
     "timestamp": 1619975042698,
     "user": {
      "displayName": "Ignacio Soteras",
      "photoUrl": "",
      "userId": "02050793736257155229"
     },
     "user_tz": -120
    },
    "id": "1CCQf4Bo2C6C",
    "outputId": "d19cf9ce-e186-48df-ac75-4e0a5fd8c94b"
   },
   "outputs": [],
   "source": [
    "m1 = data[data['KitchenQual'] == 'Fa']['SalePrice'].mean()\n",
    "m2 = data[data['KitchenQual'].isin(['TA','Gd']) == True]['SalePrice'].mean()\n",
    "m3 = data[data['KitchenQual'] == 'Ex']['SalePrice'].mean()\n",
    "\n",
    "print(\"Mean price of houses where KitchenQual = 'Fa', {}\".format(round(m1,2)))\n",
    "print(\"Mean price of houses where KitchenQual = ['TA','Gd'], {}\".format(round(m2,2)))\n",
    "print(\"Mean price of houses where KitchenQual = 'Ex', {}\".format(round(m3,2)))\n",
    "\n",
    "print(\"Ratio m2/m1: \",round(m2/m1,2))\n",
    "print(\"Ratio m3/m1: \",round(m3/m1,2))"
   ]
  },
  {
   "cell_type": "markdown",
   "metadata": {
    "id": "4YdgiQVcSViI"
   },
   "source": [
    "Sampling is good but the groups can be grouped in two groups:\n",
    "\n",
    "* Group 1: Ex/Gd\n",
    "* Group 2: Else"
   ]
  },
  {
   "cell_type": "code",
   "execution_count": null,
   "metadata": {
    "id": "ek2yhyvuSakF"
   },
   "outputs": [],
   "source": [
    "#data['KitchenQual'] = np.where(data['KitchenQual'].isin(['Fa','Po','TA']),0,1)\n",
    "data['KitchenQual'] = data['KitchenQual'].replace({'Fa': 1, 'TA': 1.61, 'Gd': 1.61, 'Ex': 3.14})"
   ]
  },
  {
   "cell_type": "markdown",
   "metadata": {
    "id": "sqmt4y5aS9Ys"
   },
   "source": [
    "Functional: Home functionality (Assume typical unless deductions are warranted)\n",
    "\n",
    "       Typ\tTypical Functionality\n",
    "       Min1\tMinor Deductions 1\n",
    "       Min2\tMinor Deductions 2\n",
    "       Mod\tModerate Deductions\n",
    "       Maj1\tMajor Deductions 1\n",
    "       Maj2\tMajor Deductions 2\n",
    "       Sev\tSeverely Damaged\n",
    "       Sal\tSalvage only"
   ]
  },
  {
   "cell_type": "code",
   "execution_count": null,
   "metadata": {
    "colab": {
     "base_uri": "https://localhost:8080/"
    },
    "executionInfo": {
     "elapsed": 32399,
     "status": "ok",
     "timestamp": 1619975043030,
     "user": {
      "displayName": "Ignacio Soteras",
      "photoUrl": "",
      "userId": "02050793736257155229"
     },
     "user_tz": -120
    },
    "id": "uhWDMcfyTE-O",
    "outputId": "2c8b8307-8a9d-491a-be53-d951e382f481"
   },
   "outputs": [],
   "source": [
    "plot_count_box(data,'Functional', 'SalePrice')"
   ]
  },
  {
   "cell_type": "markdown",
   "metadata": {
    "id": "EI3AYTO7TTRb"
   },
   "source": [
    "Terrible sampling and high overlap. Feature to drop"
   ]
  },
  {
   "cell_type": "code",
   "execution_count": null,
   "metadata": {
    "id": "vTHFrEo4TXiz"
   },
   "outputs": [],
   "source": [
    "cols_to_drop += ['Functional']"
   ]
  },
  {
   "cell_type": "markdown",
   "metadata": {
    "id": "RyXbCITHTfyz"
   },
   "source": [
    "GarageFinish: Interior finish of the garage\n",
    "\n",
    "       Fin\tFinished\n",
    "       RFn\tRough Finished\t\n",
    "       Unf\tUnfinished\n",
    "       NA\tNo Garage"
   ]
  },
  {
   "cell_type": "code",
   "execution_count": null,
   "metadata": {
    "colab": {
     "base_uri": "https://localhost:8080/"
    },
    "executionInfo": {
     "elapsed": 32969,
     "status": "ok",
     "timestamp": 1619975043608,
     "user": {
      "displayName": "Ignacio Soteras",
      "photoUrl": "",
      "userId": "02050793736257155229"
     },
     "user_tz": -120
    },
    "id": "ItvQSumkTkiE",
    "outputId": "57547839-25ca-4b9b-f788-47741572fc25"
   },
   "outputs": [],
   "source": [
    "plot_count_box(data,'GarageFinish', 'SalePrice')"
   ]
  },
  {
   "cell_type": "markdown",
   "metadata": {
    "id": "2waPLKOpT-J4"
   },
   "source": [
    "Good sampling but mnot conclussive bercause of overlap. Probably is best to have a feature between having a garage or not. Moreover, there are other numerical features which takes into account the number of cars and the surface. We will drop this feature."
   ]
  },
  {
   "cell_type": "code",
   "execution_count": null,
   "metadata": {
    "id": "bISYg2mgUcpv"
   },
   "outputs": [],
   "source": [
    "cols_to_drop += ['GarageFinish']"
   ]
  },
  {
   "cell_type": "markdown",
   "metadata": {
    "id": "-qQV7lflUqIz"
   },
   "source": [
    "PavedDrive: Paved driveway\n",
    "\n",
    "       Y\tPaved \n",
    "       P\tPartial Pavement\n",
    "       N\tDirt/Gravel"
   ]
  },
  {
   "cell_type": "code",
   "execution_count": null,
   "metadata": {
    "colab": {
     "base_uri": "https://localhost:8080/"
    },
    "executionInfo": {
     "elapsed": 33288,
     "status": "ok",
     "timestamp": 1619975043936,
     "user": {
      "displayName": "Ignacio Soteras",
      "photoUrl": "",
      "userId": "02050793736257155229"
     },
     "user_tz": -120
    },
    "id": "Ts-L78m_UsSm",
    "outputId": "a6acb783-39ec-4d8e-c4bd-49a71b95e809"
   },
   "outputs": [],
   "source": [
    "plot_count_box(data,'PavedDrive', 'SalePrice')"
   ]
  },
  {
   "cell_type": "markdown",
   "metadata": {
    "id": "XP--aPLiU7C2"
   },
   "source": [
    "High overlap. Feature to drop."
   ]
  },
  {
   "cell_type": "code",
   "execution_count": null,
   "metadata": {
    "id": "S2PwaMMHU_Uc"
   },
   "outputs": [],
   "source": [
    "cols_to_drop += ['PavedDrive']"
   ]
  },
  {
   "cell_type": "markdown",
   "metadata": {
    "id": "VROYsAshVLLH"
   },
   "source": [
    "SaleType: Type of sale\n",
    "\t\t\n",
    "       WD \tWarranty Deed - Conventional\n",
    "       CWD\tWarranty Deed - Cash\n",
    "       VWD\tWarranty Deed - VA Loan\n",
    "       New\tHome just constructed and sold\n",
    "       COD\tCourt Officer Deed/Estate\n",
    "       Con\tContract 15% Down payment regular terms\n",
    "       ConLw\tContract Low Down payment and low interest\n",
    "       ConLI\tContract Low Interest\n",
    "       ConLD\tContract Low Down\n",
    "       Oth\tOther"
   ]
  },
  {
   "cell_type": "code",
   "execution_count": null,
   "metadata": {
    "colab": {
     "base_uri": "https://localhost:8080/"
    },
    "executionInfo": {
     "elapsed": 34184,
     "status": "ok",
     "timestamp": 1619975044842,
     "user": {
      "displayName": "Ignacio Soteras",
      "photoUrl": "",
      "userId": "02050793736257155229"
     },
     "user_tz": -120
    },
    "id": "YsFEQgZBVMYd",
    "outputId": "199338d9-6045-45ac-8ecf-caaaaae24c32"
   },
   "outputs": [],
   "source": [
    "plot_count_box(data,'SaleType', 'SalePrice', orient = 'h')"
   ]
  },
  {
   "cell_type": "code",
   "execution_count": null,
   "metadata": {
    "colab": {
     "base_uri": "https://localhost:8080/"
    },
    "executionInfo": {
     "elapsed": 34179,
     "status": "ok",
     "timestamp": 1619975044843,
     "user": {
      "displayName": "Ignacio Soteras",
      "photoUrl": "",
      "userId": "02050793736257155229"
     },
     "user_tz": -120
    },
    "id": "xmrf_HxBVcDj",
    "outputId": "7df1b2f3-bc65-4953-cb9d-2e1742772cab"
   },
   "outputs": [],
   "source": [
    "data['SaleType'].value_counts()"
   ]
  },
  {
   "cell_type": "markdown",
   "metadata": {
    "id": "UPRI6PVLVlZx"
   },
   "source": [
    "Too noisy. Let's drop it."
   ]
  },
  {
   "cell_type": "code",
   "execution_count": null,
   "metadata": {
    "id": "j3v06sWtVoEw"
   },
   "outputs": [],
   "source": [
    "cols_to_drop += ['SaleType']"
   ]
  },
  {
   "cell_type": "markdown",
   "metadata": {
    "id": "IgDQJmZ3Vy1K"
   },
   "source": [
    "SaleCondition: Condition of sale\n",
    "\n",
    "       Normal\tNormal Sale\n",
    "       Abnorml\tAbnormal Sale -  trade, foreclosure, short sale\n",
    "       AdjLand\tAdjoining Land Purchase\n",
    "       Alloca\tAllocation - two linked properties with separate deeds, typically condo with a garage unit\t\n",
    "       Family\tSale between family members\n",
    "       Partial\tHome was not completed when last assessed (associated with New Homes)"
   ]
  },
  {
   "cell_type": "code",
   "execution_count": null,
   "metadata": {
    "colab": {
     "base_uri": "https://localhost:8080/"
    },
    "executionInfo": {
     "elapsed": 34700,
     "status": "ok",
     "timestamp": 1619975045371,
     "user": {
      "displayName": "Ignacio Soteras",
      "photoUrl": "",
      "userId": "02050793736257155229"
     },
     "user_tz": -120
    },
    "id": "ZRuo-S-dVz4L",
    "outputId": "9dbfd39e-1455-439c-dbbf-43709a2ade6f"
   },
   "outputs": [],
   "source": [
    "plot_count_box(data,'SaleCondition', 'SalePrice')"
   ]
  },
  {
   "cell_type": "markdown",
   "metadata": {
    "id": "Sreu-yYlWLxd"
   },
   "source": [
    "High overlap."
   ]
  },
  {
   "cell_type": "code",
   "execution_count": null,
   "metadata": {
    "id": "BdMYcyz1V-2F"
   },
   "outputs": [],
   "source": [
    "cols_to_drop += ['SaleCondition']"
   ]
  },
  {
   "cell_type": "code",
   "execution_count": null,
   "metadata": {
    "colab": {
     "base_uri": "https://localhost:8080/"
    },
    "executionInfo": {
     "elapsed": 34894,
     "status": "ok",
     "timestamp": 1619975045573,
     "user": {
      "displayName": "Ignacio Soteras",
      "photoUrl": "",
      "userId": "02050793736257155229"
     },
     "user_tz": -120
    },
    "id": "82SzH_UGWSnk",
    "outputId": "c68d3337-832d-4a7e-f7ae-9a3f7b0df2e8"
   },
   "outputs": [],
   "source": [
    "cols_to_drop"
   ]
  },
  {
   "cell_type": "code",
   "execution_count": null,
   "metadata": {
    "id": "VaR5EIrHWVHc"
   },
   "outputs": [],
   "source": [
    "data.drop(columns=cols_to_drop, axis = 1, inplace = True)"
   ]
  },
  {
   "cell_type": "code",
   "execution_count": null,
   "metadata": {
    "colab": {
     "base_uri": "https://localhost:8080/"
    },
    "executionInfo": {
     "elapsed": 34888,
     "status": "ok",
     "timestamp": 1619975045574,
     "user": {
      "displayName": "Ignacio Soteras",
      "photoUrl": "",
      "userId": "02050793736257155229"
     },
     "user_tz": -120
    },
    "id": "kbwvnl-9WcCg",
    "outputId": "98fd6485-eb28-41e5-c607-c823f7ef1a8a"
   },
   "outputs": [],
   "source": [
    "data.info()"
   ]
  },
  {
   "cell_type": "markdown",
   "metadata": {
    "id": "cFJLiFujcOYM"
   },
   "source": [
    "# Inspecting numerical columns"
   ]
  },
  {
   "cell_type": "code",
   "execution_count": null,
   "metadata": {
    "colab": {
     "base_uri": "https://localhost:8080/"
    },
    "executionInfo": {
     "elapsed": 34884,
     "status": "ok",
     "timestamp": 1619975045576,
     "user": {
      "displayName": "Ignacio Soteras",
      "photoUrl": "",
      "userId": "02050793736257155229"
     },
     "user_tz": -120
    },
    "id": "L_z5CQ97cSB7",
    "outputId": "5c394bc4-eb48-468b-81a7-2ef7924bbee9"
   },
   "outputs": [],
   "source": [
    "num_cols = data.select_dtypes(np.number)\n",
    "num_cols.drop(columns='Id', axis = 1, inplace = True)\n",
    "num_cols.head()"
   ]
  },
  {
   "cell_type": "markdown",
   "metadata": {
    "id": "NHEbxkYrUKxP"
   },
   "source": [
    "## Dealing with years"
   ]
  },
  {
   "cell_type": "code",
   "execution_count": null,
   "metadata": {
    "colab": {
     "base_uri": "https://localhost:8080/"
    },
    "executionInfo": {
     "elapsed": 34877,
     "status": "ok",
     "timestamp": 1619975045577,
     "user": {
      "displayName": "Ignacio Soteras",
      "photoUrl": "",
      "userId": "02050793736257155229"
     },
     "user_tz": -120
    },
    "id": "htDM7X6jUNpH",
    "outputId": "f240529d-cbfd-4b6d-ad9d-6b2b84feb3d2"
   },
   "outputs": [],
   "source": [
    "year_cols = [ col for col in num_cols if (col.startswith('Year') or col.startswith('Yr'))]\n",
    "year_cols"
   ]
  },
  {
   "cell_type": "code",
   "execution_count": null,
   "metadata": {
    "colab": {
     "base_uri": "https://localhost:8080/"
    },
    "executionInfo": {
     "elapsed": 34872,
     "status": "ok",
     "timestamp": 1619975045577,
     "user": {
      "displayName": "Ignacio Soteras",
      "photoUrl": "",
      "userId": "02050793736257155229"
     },
     "user_tz": -120
    },
    "id": "k0A-PeukVKmw",
    "outputId": "063f1a61-818a-4a5c-eafe-75ac7c299f6c"
   },
   "outputs": [],
   "source": [
    "data[year_cols].head()"
   ]
  },
  {
   "cell_type": "code",
   "execution_count": null,
   "metadata": {
    "colab": {
     "base_uri": "https://localhost:8080/"
    },
    "executionInfo": {
     "elapsed": 34867,
     "status": "ok",
     "timestamp": 1619975045578,
     "user": {
      "displayName": "Ignacio Soteras",
      "photoUrl": "",
      "userId": "02050793736257155229"
     },
     "user_tz": -120
    },
    "id": "vd-NUOl-WFWD",
    "outputId": "98a5526e-becb-400b-a552-41c04ffe1442"
   },
   "outputs": [],
   "source": [
    "data[year_cols].isna().sum()"
   ]
  },
  {
   "cell_type": "code",
   "execution_count": null,
   "metadata": {
    "colab": {
     "base_uri": "https://localhost:8080/"
    },
    "executionInfo": {
     "elapsed": 34862,
     "status": "ok",
     "timestamp": 1619975045579,
     "user": {
      "displayName": "Ignacio Soteras",
      "photoUrl": "",
      "userId": "02050793736257155229"
     },
     "user_tz": -120
    },
    "id": "Lpl51qxLW_jN",
    "outputId": "b589574b-1505-4ed5-a151-faec904dca33"
   },
   "outputs": [],
   "source": [
    "data['YrSold'] - data['YearRemodAdd']"
   ]
  },
  {
   "cell_type": "markdown",
   "metadata": {
    "id": "gKYPCc2RUt4p"
   },
   "source": [
    "Let's change this columns to datetime"
   ]
  },
  {
   "cell_type": "code",
   "execution_count": null,
   "metadata": {
    "id": "tbadQI-wUwvO"
   },
   "outputs": [],
   "source": [
    "data['Antiquity'] = data['YrSold'] - data['YearRemodAdd']\n",
    "data.drop(columns = year_cols, axis = 1, inplace = True)"
   ]
  },
  {
   "cell_type": "code",
   "execution_count": null,
   "metadata": {
    "colab": {
     "base_uri": "https://localhost:8080/"
    },
    "executionInfo": {
     "elapsed": 34856,
     "status": "ok",
     "timestamp": 1619975045580,
     "user": {
      "displayName": "Ignacio Soteras",
      "photoUrl": "",
      "userId": "02050793736257155229"
     },
     "user_tz": -120
    },
    "id": "Xwi9p6xJXE_P",
    "outputId": "81f5cb6e-ac03-40ea-ce84-3817757fc440"
   },
   "outputs": [],
   "source": [
    "num_cols = data.select_dtypes(np.number)\n",
    "num_cols.drop(columns='Id', axis = 1, inplace = True)\n",
    "num_cols.head()"
   ]
  },
  {
   "cell_type": "code",
   "execution_count": null,
   "metadata": {
    "colab": {
     "base_uri": "https://localhost:8080/"
    },
    "executionInfo": {
     "elapsed": 35208,
     "status": "ok",
     "timestamp": 1619975045940,
     "user": {
      "displayName": "Ignacio Soteras",
      "photoUrl": "",
      "userId": "02050793736257155229"
     },
     "user_tz": -120
    },
    "id": "gdnr7vMsf5sO",
    "outputId": "820e2b0b-dee2-4983-af3d-aee8478e3d22"
   },
   "outputs": [],
   "source": [
    "abs(num_cols.corr())"
   ]
  },
  {
   "cell_type": "code",
   "execution_count": null,
   "metadata": {
    "colab": {
     "base_uri": "https://localhost:8080/"
    },
    "executionInfo": {
     "elapsed": 39048,
     "status": "ok",
     "timestamp": 1619975049786,
     "user": {
      "displayName": "Ignacio Soteras",
      "photoUrl": "",
      "userId": "02050793736257155229"
     },
     "user_tz": -120
    },
    "id": "mxFxNPcOSukn",
    "outputId": "2b0405eb-5b0b-4952-eb4d-797e9f32364d"
   },
   "outputs": [],
   "source": [
    "c = num_cols.corr()\n",
    "fig_dims = (20, 20)\n",
    "mask = np.triu(np.ones_like(c, dtype=bool))\n",
    "fig, ax = plt.subplots(figsize=fig_dims)\n",
    "sns.heatmap(c, annot=True,ax = ax, mask=mask)"
   ]
  },
  {
   "cell_type": "markdown",
   "metadata": {
    "id": "-kjW30_HXVAF"
   },
   "source": [
    "## Filtering features based on the correlation matrix"
   ]
  },
  {
   "cell_type": "markdown",
   "metadata": {
    "id": "uI2-pUBTXY3x"
   },
   "source": [
    "As we are going to use a **linear model** to predict the sale price, we can use the correlation matrix which quantifies the **linear realtionship** ( it can be other types of relationships not covered by a linear model ) to discard features. \n",
    "\n",
    "We will do this in two steps: \n",
    "\n",
    "First, we wil discard all those features for which the absolute value between the feature and the **SalePrice** is smaller than 0.5 ( usually I chose 0.75, however not too much features have such a high correlation, therefore we are in the risk of ending with a very reduced set of features). \n",
    "\n",
    "Second, we will dicard those fetature which are highly correlated among themselves as they are providing the same amount of information."
   ]
  },
  {
   "cell_type": "code",
   "execution_count": null,
   "metadata": {
    "colab": {
     "base_uri": "https://localhost:8080/"
    },
    "executionInfo": {
     "elapsed": 39042,
     "status": "ok",
     "timestamp": 1619975049787,
     "user": {
      "displayName": "Ignacio Soteras",
      "photoUrl": "",
      "userId": "02050793736257155229"
     },
     "user_tz": -120
    },
    "id": "EmjBpV0wYjL8",
    "outputId": "c26b3433-d65c-461a-814f-e5c1160b9121"
   },
   "outputs": [],
   "source": [
    "d = pd.DataFrame(np.abs(c.loc[:,'SalePrice']).sort_values(ascending=False)).reset_index()\n",
    "d.columns = ['Column','SalePrice']\n",
    "d"
   ]
  },
  {
   "cell_type": "markdown",
   "metadata": {
    "id": "HJ6bIWzfY_xv"
   },
   "source": [
    "Let's create a new list of columns to drop."
   ]
  },
  {
   "cell_type": "code",
   "execution_count": null,
   "metadata": {
    "colab": {
     "base_uri": "https://localhost:8080/"
    },
    "executionInfo": {
     "elapsed": 39036,
     "status": "ok",
     "timestamp": 1619975049787,
     "user": {
      "displayName": "Ignacio Soteras",
      "photoUrl": "",
      "userId": "02050793736257155229"
     },
     "user_tz": -120
    },
    "id": "aQR7qghKZWWh",
    "outputId": "b8ca4515-fe04-497e-8f1a-a4a57fc46526"
   },
   "outputs": [],
   "source": [
    "cols_to_drop = []\n",
    "d[d['SalePrice'] < 0.5]['Column'].tolist()"
   ]
  },
  {
   "cell_type": "code",
   "execution_count": null,
   "metadata": {
    "colab": {
     "base_uri": "https://localhost:8080/"
    },
    "executionInfo": {
     "elapsed": 39032,
     "status": "ok",
     "timestamp": 1619975049788,
     "user": {
      "displayName": "Ignacio Soteras",
      "photoUrl": "",
      "userId": "02050793736257155229"
     },
     "user_tz": -120
    },
    "id": "PdBl3aIFaAPl",
    "outputId": "e00728a0-1892-4490-ef06-8e72e337f8e1"
   },
   "outputs": [],
   "source": [
    "cols_to_drop += d[d['SalePrice'] < 0.5]['Column'].tolist()\n",
    "cols_to_drop"
   ]
  },
  {
   "cell_type": "code",
   "execution_count": null,
   "metadata": {
    "id": "TjD7ClHuaLAW"
   },
   "outputs": [],
   "source": [
    "data.drop(columns=cols_to_drop, axis = 1, inplace = True)"
   ]
  },
  {
   "cell_type": "code",
   "execution_count": null,
   "metadata": {
    "colab": {
     "base_uri": "https://localhost:8080/"
    },
    "executionInfo": {
     "elapsed": 39027,
     "status": "ok",
     "timestamp": 1619975049790,
     "user": {
      "displayName": "Ignacio Soteras",
      "photoUrl": "",
      "userId": "02050793736257155229"
     },
     "user_tz": -120
    },
    "id": "pyWOLA1zaaix",
    "outputId": "a544303f-4466-4b18-f4e6-08657740c29f"
   },
   "outputs": [],
   "source": [
    "num_cols = data.select_dtypes(np.number)\n",
    "num_cols.drop(columns='Id', axis = 1, inplace = True)\n",
    "num_cols.head()"
   ]
  },
  {
   "cell_type": "markdown",
   "metadata": {
    "id": "iQOdPjwlbsVK"
   },
   "source": [
    "Place column SalePrice to the end"
   ]
  },
  {
   "cell_type": "code",
   "execution_count": null,
   "metadata": {
    "colab": {
     "base_uri": "https://localhost:8080/"
    },
    "executionInfo": {
     "elapsed": 39280,
     "status": "ok",
     "timestamp": 1619975050050,
     "user": {
      "displayName": "Ignacio Soteras",
      "photoUrl": "",
      "userId": "02050793736257155229"
     },
     "user_tz": -120
    },
    "id": "KzWtpsjEbJ5Y",
    "outputId": "5f7c9907-d4ab-4e11-a01a-9e02766320ad"
   },
   "outputs": [],
   "source": [
    "num_cols = num_cols[[ col for col in num_cols.columns if col != 'SalePrice'] + ['SalePrice']]\n",
    "num_cols"
   ]
  },
  {
   "cell_type": "code",
   "execution_count": null,
   "metadata": {
    "colab": {
     "base_uri": "https://localhost:8080/"
    },
    "executionInfo": {
     "elapsed": 39809,
     "status": "ok",
     "timestamp": 1619975050586,
     "user": {
      "displayName": "Ignacio Soteras",
      "photoUrl": "",
      "userId": "02050793736257155229"
     },
     "user_tz": -120
    },
    "id": "OIbteq1AdCFV",
    "outputId": "3ea9e7b6-0916-45c5-fba7-183d356fc7e1"
   },
   "outputs": [],
   "source": [
    "c = num_cols.corr()\n",
    "fig_dims = (20, 20)\n",
    "mask = np.triu(np.ones_like(c, dtype=bool))\n",
    "fig, ax = plt.subplots(figsize=fig_dims)\n",
    "sns.heatmap(c, annot=True,ax = ax, mask=mask)"
   ]
  },
  {
   "cell_type": "markdown",
   "metadata": {
    "id": "rmISKYXioj6s"
   },
   "source": [
    "Droping redundant columns: ie. columns highly correlated among themselves ( coor > 0.75). From those pairs, we will drop the ones which are **less correlated** with the dependent variable.\n",
    "\n",
    "corr(`1stFlrSF`,`TotalBsmtSF`) > 0.75 and \n",
    "corr(`1stFlrSF`,`SalePrice`) = 0.63 <  corr(`TotalBsmtSF``,`SalePrice`)\n",
    "\n",
    "we will drop `1stFlrSF`\n",
    "\n",
    "corr(`TotRmsAbvGrd`,`GrLivArea`) > 0.75 and \n",
    "corr(`TotRmsAbvGrd`,`SalePrice`) = 0.54 <  corr(`GrLivArea`,`SalePrice`)\n",
    "\n",
    "therefore, we will drop `TotRmsAbvGrd`\n",
    "\n",
    "corr(`GarageArea`,`GarageCars`) > 0.75 and \n",
    "corr(`GarageArea`,`SalePrice`) = 0.64 <  corr(`GarageCars`,`SalePrice`)\n",
    "\n",
    "therefore, we will drop `GarageArea`"
   ]
  },
  {
   "cell_type": "code",
   "execution_count": null,
   "metadata": {
    "colab": {
     "base_uri": "https://localhost:8080/"
    },
    "executionInfo": {
     "elapsed": 39802,
     "status": "ok",
     "timestamp": 1619975050587,
     "user": {
      "displayName": "Ignacio Soteras",
      "photoUrl": "",
      "userId": "02050793736257155229"
     },
     "user_tz": -120
    },
    "id": "pDEMn2SKqvnW",
    "outputId": "47d4a175-7891-48d5-ffd8-dbc384be3ebf"
   },
   "outputs": [],
   "source": [
    "#cols_to_drop = ['1stFlrSF','TotRmsAbvGrd','GarageArea']\n",
    "#data.drop(columns=cols_to_drop,axis=1,inplace = True)\n",
    "data = data[[ col for col in data.columns if col != 'SalePrice'] + ['SalePrice']]\n",
    "data.head()"
   ]
  },
  {
   "cell_type": "code",
   "execution_count": null,
   "metadata": {
    "colab": {
     "base_uri": "https://localhost:8080/"
    },
    "executionInfo": {
     "elapsed": 39796,
     "status": "ok",
     "timestamp": 1619975050588,
     "user": {
      "displayName": "Ignacio Soteras",
      "photoUrl": "",
      "userId": "02050793736257155229"
     },
     "user_tz": -120
    },
    "id": "TZIK5_g6wqQl",
    "outputId": "4c496063-d060-466a-82dc-0ceb924d3982"
   },
   "outputs": [],
   "source": [
    "data.columns.tolist()"
   ]
  },
  {
   "cell_type": "markdown",
   "metadata": {
    "id": "5GSENSp0HY8L"
   },
   "source": [
    "# Saving changes"
   ]
  },
  {
   "cell_type": "code",
   "execution_count": null,
   "metadata": {
    "id": "EQCfm65IG4Yp"
   },
   "outputs": [],
   "source": [
    "data.to_csv('/content/drive/MyDrive/OLD_CURR/UNIT7/DAY1/transformed_data.csv',index=False)"
   ]
  },
  {
   "cell_type": "markdown",
   "metadata": {
    "id": "DAzxdxPVjKCz"
   },
   "source": [
    "# Modelling"
   ]
  },
  {
   "cell_type": "code",
   "execution_count": null,
   "metadata": {
    "id": "-eAc9W6OjKC0"
   },
   "outputs": [],
   "source": [
    "from sklearn.preprocessing import PowerTransformer\n",
    "from sklearn.model_selection import train_test_split\n",
    "from sklearn.linear_model import LinearRegression\n",
    "from sklearn.metrics import mean_absolute_error, mean_squared_error, r2_score\n",
    "import pickle\n",
    "\n",
    "trans = PowerTransformer()\n",
    "model = LinearRegression()\n",
    "\n",
    "# define X and y (features and target)\n",
    "X = data.drop(columns = ['Id','SalePrice'])\n",
    "y = np.log(data['SalePrice']) # The model will try to predict the log(SalePrice) instead of the real price\n",
    "\n",
    "# data splitting\n",
    "X_train, X_test, y_train, y_test = train_test_split(X, y, test_size=0.30, random_state=42)\n",
    "\n",
    "# transforming data\n",
    "trans.fit(X_train)\n",
    "\n",
    "# Saving the transformer\n",
    "with open('/content/drive/MyDrive/OLD_CURR/UNIT7/DAY1/transformer.pkl', 'wb')  as f:\n",
    "    pickle.dump(trans,f)\n",
    "\n",
    "X_train = trans.transform(X_train)\n",
    "X_test  = trans.transform(X_test)\n",
    "\n",
    "X_train = pd.DataFrame(X_train, columns = X.columns)\n",
    "X_test  = pd.DataFrame(X_test,  columns = X.columns)\n",
    "\n",
    "X_train.to_csv('/content/drive/MyDrive/OLD_CURR/UNIT7/DAY1/X_train.csv')\n",
    "X_test.to_csv('/content/drive/MyDrive/OLD_CURR/UNIT7/DAY1/X_test.csv')\n",
    "\n",
    "# model\n",
    "model.fit(X_train, y_train)\n",
    "\n",
    "with open('/content/drive/MyDrive/OLD_CURR/UNIT7/DAY1/model.pkl', 'wb')  as f:\n",
    "    pickle.dump(model,f)\n",
    "\n",
    "y_pred_train = model.predict(X_train)\n",
    "y_pred_test  = model.predict(X_test)\n"
   ]
  },
  {
   "cell_type": "code",
   "execution_count": null,
   "metadata": {
    "id": "bU0Zk9l_TD_5"
   },
   "outputs": [],
   "source": [
    "# Model validation\n",
    "def model_performance(y_train, y_pred_train, y_test, y_pred_test):\n",
    "\n",
    "    ME_train = np.mean(np.exp(y_train)-np.exp(y_pred_train))\n",
    "    ME_test  = np.mean(np.exp(y_test)-np.exp(y_pred_test))\n",
    "\n",
    "    MAE_train = mean_absolute_error(np.exp(y_train),np.exp(y_pred_train))\n",
    "    MAE_test  = mean_absolute_error(np.exp(y_test),np.exp(y_pred_test))\n",
    "\n",
    "    MSE_train = mean_squared_error(np.exp(y_train),np.exp(y_pred_train))\n",
    "    MSE_test  = mean_squared_error(np.exp(y_test),np.exp(y_pred_test))\n",
    "\n",
    "    RMSE_train = np.sqrt(MSE_train)\n",
    "    RMSE_test  = np.sqrt(MSE_test)\n",
    "\n",
    "    MAPE_train = np.mean((np.abs(np.exp(y_train)-np.exp(y_pred_train)) / np.exp(y_train))* 100.)\n",
    "    MAPE_test  = np.mean((np.abs(np.exp(y_test)-np.exp(y_pred_test)) / np.exp(y_test))* 100.)\n",
    "\n",
    "    R2_train = r2_score(np.exp(y_train),np.exp(y_pred_train))\n",
    "    R2_test  = r2_score(np.exp(y_test),np.exp(y_pred_test))\n",
    "\n",
    "    performance = pd.DataFrame({'Error_metric': ['Mean error','Mean absolute error','Mean squared error',\n",
    "                                             'Root mean squared error','Mean absolute percentual error',\n",
    "                                             'R2'],\n",
    "                            'Train': [ME_train, MAE_train, MSE_train, RMSE_train, MAPE_train, R2_train],\n",
    "                            'Test' : [ME_test, MAE_test , MSE_test, RMSE_test, MAPE_test, R2_test]})\n",
    "\n",
    "    pd.options.display.float_format = '{:.2f}'.format\n",
    "\n",
    "    df_train = pd.DataFrame({'x': np.exp(y_train), 'y': np.exp(y_pred_train)})\n",
    "    df_test  = pd.DataFrame({'x': np.exp(y_test),  'y': np.exp(y_pred_test)})\n",
    "\n",
    "    return performance, df_train, df_test"
   ]
  },
  {
   "cell_type": "code",
   "execution_count": null,
   "metadata": {
    "colab": {
     "base_uri": "https://localhost:8080/",
     "height": 235
    },
    "executionInfo": {
     "elapsed": 356,
     "status": "ok",
     "timestamp": 1619975902733,
     "user": {
      "displayName": "Ignacio Soteras",
      "photoUrl": "",
      "userId": "02050793736257155229"
     },
     "user_tz": -120
    },
    "id": "SfmfG3b2FoMx",
    "outputId": "6e81e9a7-7f48-4b0f-e92b-7224dadd352b"
   },
   "outputs": [],
   "source": [
    "performance,_,_ = model_performance(y_train, y_pred_train, y_test, y_pred_test)\n",
    "performance"
   ]
  },
  {
   "cell_type": "code",
   "execution_count": null,
   "metadata": {
    "id": "sk4tmzlGhbdw"
   },
   "outputs": [],
   "source": [
    "def show_errors(y_real_train, y_pred_train, y_real_test, y_pred_test):\n",
    "\n",
    "    plt.style.use('seaborn') \n",
    "\n",
    "    fig, ax = plt.subplots(2,2,figsize=(10,10))\n",
    "    \n",
    "    ax[0,0].scatter(x = np.exp(y_real_train), y = np.exp(y_pred_train), c = 'green')\n",
    "    ax[0,0].plot([0,700000], [0,700000], linestyle = '--',c = 'black')\n",
    "    ax[0,0].set_xlim(0,700000)\n",
    "    ax[0,0].set_ylim(0,700000)\n",
    "\n",
    "    ax[0,0].xaxis.set_major_formatter(FuncFormatter(lambda x, p: f'{int(x/1000)}K'))\n",
    "    ax[0,0].yaxis.set_major_formatter(FuncFormatter(lambda x, p: f'{int(x/1000)}K'))\n",
    "    ax[0,0].set_title('Train set')\n",
    "\n",
    "    ax[0,1].hist(x = np.exp(y_real_train)-np.exp(y_pred_train), bins = 50,color = 'green')\n",
    "    ax[0,1].set_xlim(-200000,200000)\n",
    "    ax[0,1].xaxis.set_major_formatter(FuncFormatter(lambda x, p: f'{int(x/1000)}K'))\n",
    "    ax[0,1].set_title('Train set')\n",
    "\n",
    "    ax[1,0].scatter(x = np.exp(y_real_test), y = np.exp(y_pred_test), c = 'blue')\n",
    "    ax[1,0].plot([0,700000], [0,700000], linestyle = '--',c = 'black')\n",
    "    ax[1,0].set_xlim(0,700000)\n",
    "    ax[1,0].set_ylim(0,700000)\n",
    "    ax[1,0].xaxis.set_major_formatter(FuncFormatter(lambda x, p: f'{int(x/1000)}K'))\n",
    "    ax[1,0].yaxis.set_major_formatter(FuncFormatter(lambda x, p: f'{int(x/1000)}K'))\n",
    "    ax[1,0].set_title('Test set')   \n",
    "\n",
    "    ax[1,1].hist(x = np.exp(y_real_test)-np.exp(y_pred_test), bins = 50,color = 'blue')\n",
    "    ax[1,1].set_xlim(-200000,200000)\n",
    "    ax[1,1].xaxis.set_major_formatter(FuncFormatter(lambda x, p: f'{int(x/1000)}K'))\n",
    "    ax[1,1].set_title('Test set')\n",
    "\n",
    "    fig.tight_layout()\n",
    "    pass"
   ]
  },
  {
   "cell_type": "code",
   "execution_count": null,
   "metadata": {
    "colab": {
     "base_uri": "https://localhost:8080/",
     "height": 729
    },
    "executionInfo": {
     "elapsed": 41569,
     "status": "ok",
     "timestamp": 1619975052375,
     "user": {
      "displayName": "Ignacio Soteras",
      "photoUrl": "",
      "userId": "02050793736257155229"
     },
     "user_tz": -120
    },
    "id": "NRIjCdm1j4vN",
    "outputId": "01b732f4-6711-4561-82d7-ae0e0f3d9b1e"
   },
   "outputs": [],
   "source": [
    "show_errors(y_train, y_pred_train, y_test, y_pred_test)"
   ]
  },
  {
   "cell_type": "markdown",
   "metadata": {
    "id": "4d85HoR7ixki"
   },
   "source": [
    "# Recaping all the transformations"
   ]
  },
  {
   "cell_type": "code",
   "execution_count": null,
   "metadata": {
    "colab": {
     "base_uri": "https://localhost:8080/",
     "height": 86
    },
    "executionInfo": {
     "elapsed": 41563,
     "status": "ok",
     "timestamp": 1619975052376,
     "user": {
      "displayName": "Ignacio Soteras",
      "photoUrl": "",
      "userId": "02050793736257155229"
     },
     "user_tz": -120
    },
    "id": "RcCnizVUtJAT",
    "outputId": "3a10aa74-a5d0-4c1e-8772-85c204b8b5e2"
   },
   "outputs": [],
   "source": [
    "'''\n",
    "data['Antiquity'] = data['YrSold'] - data['YearRemodAdd']\n",
    "data[data['LotArea'] < 25000 ]\n",
    "cols_to_keep = ['Id',\n",
    " 'OverallQual',\n",
    " 'TotalBsmtSF',\n",
    " 'GrLivArea',\n",
    " 'FullBath',\n",
    " 'KitchenQual',\n",
    " 'GarageCars',\n",
    " 'Antiquity',\n",
    " 'SalePrice',]\n",
    "data['KitchenQual'] = data['KitchenQual'].replace({'Fa': 1, 'TA': 1.61, 'Gd': 1.61 'Ex': 3.14}, inplace = True)\n",
    "data = data[[ col for col in data.columns if col != 'SalePrice'] + ['SalePrice']]\n",
    "'''"
   ]
  },
  {
   "cell_type": "markdown",
   "metadata": {
    "id": "4UUhTb_pjKC6"
   },
   "source": [
    "## Create a preprocess function"
   ]
  },
  {
   "cell_type": "code",
   "execution_count": null,
   "metadata": {
    "id": "ZvKs13h0jKC6"
   },
   "outputs": [],
   "source": [
    "def preprocessing(df):\n",
    "    '''\n",
    "    Function to trasnform an input dataframe.\n",
    "    It will add another column named \"Antiquity\"\n",
    "    Drop all the Year related columns\n",
    "    Drop any column not in\n",
    "    cols_to_keep = ['Id',\n",
    "   'OverallQual',\n",
    "   'TotalBsmtSF',\n",
    "   'GrLivArea',\n",
    "   'FullBath',\n",
    "   'KitchenQual',\n",
    "   'GarageCars',\n",
    "   'Antiquity',\n",
    "   'SalePrice']\n",
    "    Replace values of variable KitchenQual to\n",
    "    {'Fa': 1, 'TA': 1.61, 'Gd': 1.61, 'Ex': 3.14}\n",
    "    Drop any row with 'LotArea' < 25000   \n",
    "    Input: \n",
    "    df = Pandas DataFrame object\n",
    "    Output:\n",
    "    Transformed DataFrame\n",
    "    '''\n",
    "    df2 = df.copy()\n",
    "\n",
    "    # Computing Antiquity\n",
    "    df2['Antiquity'] = df2['YrSold'] - df2['YearRemodAdd']\n",
    "    year_cols = ['YearBuilt', 'YearRemodAdd', 'YrSold']\n",
    "    df2.drop(columns = year_cols, axis = 1, inplace = True)\n",
    "\n",
    "    # Filtering by LotArea\n",
    "    df2 = df2[df2['LotArea'] < 25000 ]\n",
    "\n",
    "    # Droping unwanted columns\n",
    "    cols_to_keep = ['Id',\n",
    "   'OverallQual',\n",
    "   'TotalBsmtSF',\n",
    "   'GrLivArea',\n",
    "   'FullBath',\n",
    "   'KitchenQual',\n",
    "   'GarageCars',\n",
    "   'Antiquity',\n",
    "   'SalePrice']\n",
    "    df2 = df2[cols_to_keep]\n",
    "\n",
    "    # Replacing KitchenQual values by numerical ones.\n",
    "    df2['KitchenQual'] = df2['KitchenQual'].replace({'Fa': 1, 'TA': 1.61, 'Gd': 1.61, 'Ex': 3.14})\n",
    "\n",
    "    return df2"
   ]
  },
  {
   "cell_type": "markdown",
   "metadata": {
    "id": "oZHPSZ0EWvIP"
   },
   "source": [
    "## Apply the preprocess function"
   ]
  },
  {
   "cell_type": "code",
   "execution_count": null,
   "metadata": {
    "colab": {
     "base_uri": "https://localhost:8080/",
     "height": 224
    },
    "executionInfo": {
     "elapsed": 41555,
     "status": "ok",
     "timestamp": 1619975052377,
     "user": {
      "displayName": "Ignacio Soteras",
      "photoUrl": "",
      "userId": "02050793736257155229"
     },
     "user_tz": -120
    },
    "id": "Ll6xsn1cjKC6",
    "outputId": "23304cae-f366-4a61-9f9b-18d05aba85b2"
   },
   "outputs": [],
   "source": [
    "from sklearn.pipeline import Pipeline, FeatureUnion\n",
    "from sklearn.base import BaseEstimator, TransformerMixin\n",
    "from sklearn.compose import ColumnTransformer, make_column_transformer\n",
    "\n",
    "data2 = pd.read_csv(\"/content/drive/MyDrive/OLD_CURR/UNIT7/DAY1/housing_prices.csv\") \n",
    "\n",
    "data2 = preprocessing(data2)\n",
    "\n",
    "data2.head()\n"
   ]
  },
  {
   "cell_type": "code",
   "execution_count": null,
   "metadata": {
    "colab": {
     "base_uri": "https://localhost:8080/",
     "height": 439
    },
    "executionInfo": {
     "elapsed": 41962,
     "status": "ok",
     "timestamp": 1619975052791,
     "user": {
      "displayName": "Ignacio Soteras",
      "photoUrl": "",
      "userId": "02050793736257155229"
     },
     "user_tz": -120
    },
    "id": "TWeS2qtdU7Rb",
    "outputId": "ecc4c25e-b965-4e1e-d71f-76b289305402"
   },
   "outputs": [],
   "source": [
    "data2 == data"
   ]
  },
  {
   "cell_type": "markdown",
   "metadata": {
    "id": "x2AR38ZKs-I2"
   },
   "source": [
    "# Inspecting the model"
   ]
  },
  {
   "cell_type": "markdown",
   "metadata": {
    "id": "_H5VZliIuZHG"
   },
   "source": [
    "## Getting the coeficients"
   ]
  },
  {
   "cell_type": "code",
   "execution_count": null,
   "metadata": {
    "colab": {
     "base_uri": "https://localhost:8080/"
    },
    "executionInfo": {
     "elapsed": 41957,
     "status": "ok",
     "timestamp": 1619975052792,
     "user": {
      "displayName": "Ignacio Soteras",
      "photoUrl": "",
      "userId": "02050793736257155229"
     },
     "user_tz": -120
    },
    "id": "o2KfCBq8s6x2",
    "outputId": "db20e2a3-04f4-4926-919a-7eb6b9728da3"
   },
   "outputs": [],
   "source": [
    "model.coef_"
   ]
  },
  {
   "cell_type": "code",
   "execution_count": null,
   "metadata": {
    "colab": {
     "base_uri": "https://localhost:8080/"
    },
    "executionInfo": {
     "elapsed": 41950,
     "status": "ok",
     "timestamp": 1619975052792,
     "user": {
      "displayName": "Ignacio Soteras",
      "photoUrl": "",
      "userId": "02050793736257155229"
     },
     "user_tz": -120
    },
    "id": "DyEnVr0otpfJ",
    "outputId": "c1baa948-7556-466a-9bce-93741d2cc2b7"
   },
   "outputs": [],
   "source": [
    "coeficients = pd.DataFrame({'Column': list(X_train.columns), 'Coef': list(model.coef_)}).sort_values(by ='Coef', ascending= False)\n",
    "coeficients"
   ]
  },
  {
   "cell_type": "markdown",
   "metadata": {
    "id": "ZLApQE56uccS"
   },
   "source": [
    "## Getting the slope"
   ]
  },
  {
   "cell_type": "code",
   "execution_count": null,
   "metadata": {
    "colab": {
     "base_uri": "https://localhost:8080/"
    },
    "executionInfo": {
     "elapsed": 41944,
     "status": "ok",
     "timestamp": 1619975052793,
     "user": {
      "displayName": "Ignacio Soteras",
      "photoUrl": "",
      "userId": "02050793736257155229"
     },
     "user_tz": -120
    },
    "id": "DrzAW8N-uYo8",
    "outputId": "2dd204d6-b5f1-46f8-ff51-54c047c5b4fb"
   },
   "outputs": [],
   "source": [
    "model.intercept_"
   ]
  },
  {
   "cell_type": "markdown",
   "metadata": {
    "id": "QSxaCJ-SumvM"
   },
   "source": [
    "In fact, we can't interpret this as starting price as this is the model predicts the logarithm. Therefore, this is the logarithm of the starting price. "
   ]
  },
  {
   "cell_type": "code",
   "execution_count": null,
   "metadata": {
    "colab": {
     "base_uri": "https://localhost:8080/"
    },
    "executionInfo": {
     "elapsed": 41939,
     "status": "ok",
     "timestamp": 1619975052793,
     "user": {
      "displayName": "Ignacio Soteras",
      "photoUrl": "",
      "userId": "02050793736257155229"
     },
     "user_tz": -120
    },
    "id": "6T7OAZ_wu16M",
    "outputId": "ec77403d-889c-4a0f-fadd-467853a286a0"
   },
   "outputs": [],
   "source": [
    "round(np.exp(model.intercept_),2)"
   ]
  },
  {
   "cell_type": "markdown",
   "metadata": {
    "id": "SlcRuJsuCa9X"
   },
   "source": [
    "# Creating your own transformer"
   ]
  },
  {
   "cell_type": "markdown",
   "metadata": {
    "id": "gtMHUolVDZnC"
   },
   "source": [
    "You can create a transformer of your choice using your own function. Then you will have access to the methods:\n",
    "\n",
    "* fit\n",
    "* transform\n",
    "* fit_transform\n",
    "* inv_transform"
   ]
  },
  {
   "cell_type": "code",
   "execution_count": null,
   "metadata": {
    "id": "Z1XZ4zJKDHQw"
   },
   "outputs": [],
   "source": [
    "data3 = pd.read_csv(\"/content/drive/MyDrive/OLD_CURR/UNIT7/DAY1/housing_prices.csv\") "
   ]
  },
  {
   "cell_type": "code",
   "execution_count": null,
   "metadata": {
    "colab": {
     "base_uri": "https://localhost:8080/",
     "height": 439
    },
    "executionInfo": {
     "elapsed": 343,
     "status": "ok",
     "timestamp": 1619975257260,
     "user": {
      "displayName": "Ignacio Soteras",
      "photoUrl": "",
      "userId": "02050793736257155229"
     },
     "user_tz": -120
    },
    "id": "jw3aCEZrCeon",
    "outputId": "7ce54258-1877-497a-dea6-944ff185ff7d"
   },
   "outputs": [],
   "source": [
    "from sklearn.preprocessing import FunctionTransformer\n",
    "\n",
    "procTransformer = FunctionTransformer(preprocessing)\n",
    "\n",
    "X_new = procTransformer.transform(data3)\n",
    "X_new"
   ]
  },
  {
   "cell_type": "code",
   "execution_count": null,
   "metadata": {
    "colab": {
     "base_uri": "https://localhost:8080/"
    },
    "executionInfo": {
     "elapsed": 380,
     "status": "ok",
     "timestamp": 1619975287861,
     "user": {
      "displayName": "Ignacio Soteras",
      "photoUrl": "",
      "userId": "02050793736257155229"
     },
     "user_tz": -120
    },
    "id": "GqAwQoN8DRp9",
    "outputId": "54a6c203-8a5c-416b-c0e2-4b80882bb7d3"
   },
   "outputs": [],
   "source": [
    "type(X_new)"
   ]
  }
 ],
 "metadata": {
  "colab": {
   "name": "Code_along.ipynb",
   "provenance": [],
   "toc_visible": true
  },
  "kernelspec": {
   "display_name": "Python 3 (ipykernel)",
   "language": "python",
   "name": "python3"
  },
  "language_info": {
   "codemirror_mode": {
    "name": "ipython",
    "version": 3
   },
   "file_extension": ".py",
   "mimetype": "text/x-python",
   "name": "python",
   "nbconvert_exporter": "python",
   "pygments_lexer": "ipython3",
   "version": "3.9.16"
  },
  "toc": {
   "base_numbering": 1,
   "nav_menu": {},
   "number_sections": true,
   "sideBar": true,
   "skip_h1_title": false,
   "title_cell": "Table of Contents",
   "title_sidebar": "Contents",
   "toc_cell": false,
   "toc_position": {},
   "toc_section_display": true,
   "toc_window_display": false
  },
  "varInspector": {
   "cols": {
    "lenName": 16,
    "lenType": 16,
    "lenVar": 40
   },
   "kernels_config": {
    "python": {
     "delete_cmd_postfix": "",
     "delete_cmd_prefix": "del ",
     "library": "var_list.py",
     "varRefreshCmd": "print(var_dic_list())"
    },
    "r": {
     "delete_cmd_postfix": ") ",
     "delete_cmd_prefix": "rm(",
     "library": "var_list.r",
     "varRefreshCmd": "cat(var_dic_list()) "
    }
   },
   "types_to_exclude": [
    "module",
    "function",
    "builtin_function_or_method",
    "instance",
    "_Feature"
   ],
   "window_display": false
  }
 },
 "nbformat": 4,
 "nbformat_minor": 1
}
