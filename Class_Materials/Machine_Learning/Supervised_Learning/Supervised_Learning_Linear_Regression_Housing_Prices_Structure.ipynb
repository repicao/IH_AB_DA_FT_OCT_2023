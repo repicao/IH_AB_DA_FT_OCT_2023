{
 "cells": [
  {
   "cell_type": "markdown",
   "metadata": {
    "id": "zo3lyw_MjKCp"
   },
   "source": [
    "## Intro to Supervised Machine Learning\n",
    "\n",
    "You work for a consultancy that specialized in real state: your clients involve developers, agencies and investors. A central aspect to the business is pricing. It's a domain of home appraisers, who aim to determine the value of a house in an unbiased way, and follow an official criteria to ensure they don't play in favour of neither the buyer or the seller.\n",
    "\n",
    "However, the market often deviates from appraisal prices. Your consultancy wants to detect these deviations. It has acquired a dataset containing a historical register of housing prices - the actual prices at which the properties were sold. For each house, it also contains around 80 different features, such as the area, the state of the property, whether it has a backyard or not, etc.\n",
    "\n",
    "You were tasked with creating a model that predicts the prices. Your manager told you that the model should have an average relative error of 15%. With such a model, you would be able to advise your clients on housing on a massively scalable way: once the features of a house have been collected, the model will output the price.\n"
   ]
  },
  {
   "cell_type": "markdown",
   "metadata": {
    "id": "73jx8AW7jKCw"
   },
   "source": [
    "# Reading & Exploring"
   ]
  },
  {
   "cell_type": "code",
   "execution_count": null,
   "metadata": {
    "executionInfo": {
     "elapsed": 240,
     "status": "ok",
     "timestamp": 1626076971876,
     "user": {
      "displayName": "Ignacio Soteras",
      "photoUrl": "",
      "userId": "02050793736257155229"
     },
     "user_tz": -120
    },
    "id": "DGTMQYjDjKCx"
   },
   "outputs": [],
   "source": [
    "import pandas as pd\n",
    "import numpy as np\n",
    "import warnings\n",
    "warnings.filterwarnings(\"ignore\")"
   ]
  },
  {
   "cell_type": "code",
   "execution_count": null,
   "metadata": {
    "colab": {
     "base_uri": "https://localhost:8080/"
    },
    "executionInfo": {
     "elapsed": 23883,
     "status": "ok",
     "timestamp": 1626077000146,
     "user": {
      "displayName": "Ignacio Soteras",
      "photoUrl": "",
      "userId": "02050793736257155229"
     },
     "user_tz": -120
    },
    "id": "hHTK1fpIjbAV",
    "outputId": "e8fb7623-2c9b-4dd6-de94-2a7180c2f6a0"
   },
   "outputs": [],
   "source": [
    "from google.colab import drive\n",
    "drive.mount('/content/drive')"
   ]
  },
  {
   "cell_type": "code",
   "execution_count": null,
   "metadata": {
    "executionInfo": {
     "elapsed": 1028,
     "status": "ok",
     "timestamp": 1626077015060,
     "user": {
      "displayName": "Ignacio Soteras",
      "photoUrl": "",
      "userId": "02050793736257155229"
     },
     "user_tz": -120
    },
    "id": "YrgXdirsjKCx"
   },
   "outputs": [],
   "source": [
    "data = pd.read_csv(\"/content/drive/MyDrive/OLD_CURR/UNIT7/DAY1/housing_prices.csv\")"
   ]
  },
  {
   "cell_type": "code",
   "execution_count": null,
   "metadata": {
    "colab": {
     "base_uri": "https://localhost:8080/",
     "height": 255
    },
    "executionInfo": {
     "elapsed": 644,
     "status": "ok",
     "timestamp": 1626077017556,
     "user": {
      "displayName": "Ignacio Soteras",
      "photoUrl": "",
      "userId": "02050793736257155229"
     },
     "user_tz": -120
    },
    "id": "ZWOBoG56jKCy",
    "outputId": "297b4fbb-20dc-4f40-8ec3-38cca5cbe998"
   },
   "outputs": [],
   "source": [
    "# Get a glimpse of the dataframe with .head()\n",
    "data.head()"
   ]
  },
  {
   "cell_type": "code",
   "execution_count": null,
   "metadata": {
    "colab": {
     "base_uri": "https://localhost:8080/"
    },
    "executionInfo": {
     "elapsed": 214,
     "status": "ok",
     "timestamp": 1626077123637,
     "user": {
      "displayName": "Ignacio Soteras",
      "photoUrl": "",
      "userId": "02050793736257155229"
     },
     "user_tz": -120
    },
    "id": "x7lLDPwkk7zt",
    "outputId": "2aa32fb1-60bd-41d6-c32a-6c616660ae59"
   },
   "outputs": [],
   "source": [
    "# Get the shape of the dataframe\n",
    "data.shape"
   ]
  },
  {
   "cell_type": "code",
   "execution_count": null,
   "metadata": {
    "colab": {
     "base_uri": "https://localhost:8080/"
    },
    "executionInfo": {
     "elapsed": 7,
     "status": "ok",
     "timestamp": 1626077142076,
     "user": {
      "displayName": "Ignacio Soteras",
      "photoUrl": "",
      "userId": "02050793736257155229"
     },
     "user_tz": -120
    },
    "id": "FV-lNPp5lARD",
    "outputId": "4ad1e9c5-09a7-46e9-a675-31df2216d2a4"
   },
   "outputs": [],
   "source": [
    "# Get the colum types.\n",
    "data.info()"
   ]
  },
  {
   "cell_type": "code",
   "execution_count": null,
   "metadata": {
    "colab": {
     "base_uri": "https://localhost:8080/",
     "height": 605
    },
    "executionInfo": {
     "elapsed": 695,
     "status": "ok",
     "timestamp": 1626077412805,
     "user": {
      "displayName": "Ignacio Soteras",
      "photoUrl": "",
      "userId": "02050793736257155229"
     },
     "user_tz": -120
    },
    "id": "fPgooJuZmL1y",
    "outputId": "bb3d7e88-6be6-402f-a991-b831793f52bf"
   },
   "outputs": [],
   "source": [
    "# Get a histogram of selling prices which is what we want to predict\n",
    "import matplotlib.pyplot as plt\n",
    "from matplotlib.ticker import FuncFormatter\n",
    "import matplotlib.ticker as ticker\n",
    "import seaborn as sns\n",
    "%matplotlib inline\n",
    "\n",
    "g = sns.displot(data['SalePrice'],height=8.27, aspect=1)\n",
    "for ax in g.axes.flat:\n",
    "    ax.xaxis.set_major_locator(ticker.MultipleLocator(50000))\n",
    "    ax.xaxis.set_major_formatter(FuncFormatter(lambda x, p: f'{int(x/1000)}K'))\n"
   ]
  },
  {
   "cell_type": "markdown",
   "metadata": {
    "id": "11vgQmo1DYiI"
   },
   "source": [
    "Clearly, tihs distribution is highly skewed, threrefore it's needs to be transformed. Dependent variables which are highly skewed can be easilly transformed taking the logarithm."
   ]
  },
  {
   "cell_type": "code",
   "execution_count": null,
   "metadata": {
    "colab": {
     "base_uri": "https://localhost:8080/",
     "height": 622
    },
    "executionInfo": {
     "elapsed": 851,
     "status": "ok",
     "timestamp": 1626077616172,
     "user": {
      "displayName": "Ignacio Soteras",
      "photoUrl": "",
      "userId": "02050793736257155229"
     },
     "user_tz": -120
    },
    "id": "CoR2vVmaDg_w",
    "outputId": "fe6d5d8f-a4ad-4330-fb03-4b5167cecf83"
   },
   "outputs": [],
   "source": [
    "# Get the histogram of the logarithm of the price\n",
    "sns.displot(np.log(data['SalePrice']),height=8.27, aspect=1)"
   ]
  },
  {
   "cell_type": "code",
   "execution_count": null,
   "metadata": {
    "executionInfo": {
     "elapsed": 279,
     "status": "ok",
     "timestamp": 1626078351098,
     "user": {
      "displayName": "Ignacio Soteras",
      "photoUrl": "",
      "userId": "02050793736257155229"
     },
     "user_tz": -120
    },
    "id": "1H1x6wE6uGEH"
   },
   "outputs": [],
   "source": [
    "def plot_count_box(df, grouping_var, dependent_var, orient = 'v'):\n",
    "    '''\n",
    "    Function to plot two plots side by side.\n",
    "    The left plot will be a count plot of 'grouping_var'\n",
    "    The right plot will be a boxplot of 'dependent_var' grouped by 'grouping var'\n",
    "    Inputs: \n",
    "    df = dataframe\n",
    "    grouping_var = variable to perform the agregation\n",
    "    dependent_var = variable to plot the boxplot\n",
    "    Output:\n",
    "    A canvas with a counplot on the left and boxplot on the right\n",
    "    The boxplots are ordered based on the median value of the dependent feature.\n",
    "    '''\n",
    "\n",
    "    # Getting a list of unique values for the grouping variable\n",
    "    levels = list(df[grouping_var].unique())    \n",
    "    diver = sns.color_palette(\"Paired\", len(levels)) # RdBu, Set3, Paired\n",
    "    # Setting a dictionary of {'value': color} to use in each plot\n",
    "    cmap = dict(zip(levels,diver))\n",
    "\n",
    "    mean_price = pd.DataFrame(df.groupby([grouping_var])[dependent_var].median().sort_values()).reset_index()\n",
    "\n",
    "    fig, ax = plt.subplots(1,2,figsize=(16,8))\n",
    "    if ( orient == 'v' ):\n",
    "        sns.countplot(x = grouping_var, data = df, order = df[grouping_var].value_counts().index, ax = ax[0], palette = cmap) \n",
    "        sns.boxplot(y= dependent_var , x= grouping_var, data = df, order = mean_price[grouping_var], ax = ax[1], palette=  cmap)\n",
    "        ax[1].yaxis.set_major_formatter(FuncFormatter(lambda x, p: f'{int(x/1000)}K'))\n",
    "    else:\n",
    "        sns.countplot(y = grouping_var, data = df, order = df[grouping_var].value_counts().index, ax = ax[0], palette = cmap)\n",
    "        sns.boxplot(x= dependent_var , y= grouping_var, data = df, order = mean_price[grouping_var], ax = ax[1], palette = cmap)\n",
    "        ax[1].xaxis.set_major_formatter(FuncFormatter(lambda x, p: f'{int(x/1000)}K'))        \n",
    "    fig.show()\n",
    "    pass"
   ]
  },
  {
   "cell_type": "markdown",
   "metadata": {
    "id": "LtS_W-wgthuO"
   },
   "source": [
    "MSZoning: Identifies the general zoning classification of the sale.\n",
    "\t\t\n",
    "       A\tAgriculture\n",
    "       C\tCommercial\n",
    "       FV\tFloating Village Residential\n",
    "       I\tIndustrial\n",
    "       RH\tResidential High Density\n",
    "       RL\tResidential Low Density\n",
    "       RP\tResidential Low Density Park \n",
    "       RM\tResidential Medium Density"
   ]
  },
  {
   "cell_type": "code",
   "execution_count": null,
   "metadata": {
    "colab": {
     "base_uri": "https://localhost:8080/",
     "height": 498
    },
    "executionInfo": {
     "elapsed": 799,
     "status": "ok",
     "timestamp": 1626078466980,
     "user": {
      "displayName": "Ignacio Soteras",
      "photoUrl": "",
      "userId": "02050793736257155229"
     },
     "user_tz": -120
    },
    "id": "xnMHpUu2m3aS",
    "outputId": "c036d74e-c23a-488b-d933-0c3ebef12e6e"
   },
   "outputs": [],
   "source": [
    "# Check out the variable \"MSZoning\" using the function: plot_count_box() \n",
    "plot_count_box(data, 'MSZoning', 'SalePrice') "
   ]
  },
  {
   "cell_type": "markdown",
   "metadata": {
    "id": "NjYRazLVEXZR"
   },
   "source": [
    "This is a higly imbalanced variable: we have much more samples of type RL than the othres. That prevents to make a fair comparison of the boxplots of selling prices split by this variable. In addition, even with the small size of the dataset there is clear overlap between the median SalesPrices for each value of MSZooning. Even more, the houses in the most sample MSZooning has has huge range of values which doesn't allow to discriminate between the other values. Therefore, this variable doesn't look quite usefull to predit the SalesPrice."
   ]
  },
  {
   "cell_type": "code",
   "execution_count": null,
   "metadata": {
    "executionInfo": {
     "elapsed": 232,
     "status": "ok",
     "timestamp": 1626078795504,
     "user": {
      "displayName": "Ignacio Soteras",
      "photoUrl": "",
      "userId": "02050793736257155229"
     },
     "user_tz": -120
    },
    "id": "MKROR0QMFKWb"
   },
   "outputs": [],
   "source": [
    "# Let's create a list of features to drop.\n",
    "cols_to_drop = []\n",
    "cols_to_drop += ['MSZoning']"
   ]
  },
  {
   "cell_type": "markdown",
   "metadata": {
    "id": "3C8I6eyPu67T"
   },
   "source": [
    "Neighborhood: Physical locations within Ames city limits\n",
    "\n",
    "       Blmngtn\tBloomington Heights\n",
    "       Blueste\tBluestem\n",
    "       BrDale\tBriardale\n",
    "       BrkSide\tBrookside\n",
    "       ClearCr\tClear Creek\n",
    "       CollgCr\tCollege Creek\n",
    "       Crawfor\tCrawford\n",
    "       Edwards\tEdwards\n",
    "       Gilbert\tGilbert\n",
    "       IDOTRR\tIowa DOT and Rail Road\n",
    "       MeadowV\tMeadow Village\n",
    "       Mitchel\tMitchell\n",
    "       Names\tNorth Ames\n",
    "       NoRidge\tNorthridge\n",
    "       NPkVill\tNorthpark Villa\n",
    "       NridgHt\tNorthridge Heights\n",
    "       NWAmes\tNorthwest Ames\n",
    "       OldTown\tOld Town\n",
    "       SWISU\tSouth & West of Iowa State University\n",
    "       Sawyer\tSawyer\n",
    "       SawyerW\tSawyer West\n",
    "       Somerst\tSomerset\n",
    "       StoneBr\tStone Brook\n",
    "       Timber\tTimberland\n",
    "       Veenker\tVeenker"
   ]
  },
  {
   "cell_type": "code",
   "execution_count": null,
   "metadata": {
    "colab": {
     "base_uri": "https://localhost:8080/",
     "height": 497
    },
    "executionInfo": {
     "elapsed": 1558,
     "status": "ok",
     "timestamp": 1626078863774,
     "user": {
      "displayName": "Ignacio Soteras",
      "photoUrl": "",
      "userId": "02050793736257155229"
     },
     "user_tz": -120
    },
    "id": "n61bfwuRrifQ",
    "outputId": "0accf659-6db8-4d58-cd49-d3ec366a62b1"
   },
   "outputs": [],
   "source": [
    "# Check out the variable \"Neighbourhood\". plot_count_box(,orient= 'h')\n",
    "plot_count_box(data,'Neighborhood','SalePrice', orient= 'h')"
   ]
  },
  {
   "cell_type": "code",
   "execution_count": null,
   "metadata": {
    "colab": {
     "base_uri": "https://localhost:8080/"
    },
    "executionInfo": {
     "elapsed": 219,
     "status": "ok",
     "timestamp": 1626078895761,
     "user": {
      "displayName": "Ignacio Soteras",
      "photoUrl": "",
      "userId": "02050793736257155229"
     },
     "user_tz": -120
    },
    "id": "HyQe-MDfG63u",
    "outputId": "36050014-f90f-45c8-9d25-bfa16e0c799b"
   },
   "outputs": [],
   "source": [
    "len(list(data['Neighborhood'].unique()))"
   ]
  },
  {
   "cell_type": "markdown",
   "metadata": {
    "id": "ZqHMLC9KGr9E"
   },
   "source": [
    "We have a similar problem as before. To make it worse, the `cardinality` (number of possible values) of this variable is huge (25) which makes a good candidate to group them in bigger groups. Therefore we can think in drop this variable."
   ]
  },
  {
   "cell_type": "code",
   "execution_count": null,
   "metadata": {
    "executionInfo": {
     "elapsed": 239,
     "status": "ok",
     "timestamp": 1626079292547,
     "user": {
      "displayName": "Ignacio Soteras",
      "photoUrl": "",
      "userId": "02050793736257155229"
     },
     "user_tz": -120
    },
    "id": "vvuNv8naHRJC"
   },
   "outputs": [],
   "source": [
    "cols_to_drop += ['Neighborhood']"
   ]
  },
  {
   "cell_type": "code",
   "execution_count": null,
   "metadata": {
    "colab": {
     "base_uri": "https://localhost:8080/"
    },
    "executionInfo": {
     "elapsed": 231,
     "status": "ok",
     "timestamp": 1626079302807,
     "user": {
      "displayName": "Ignacio Soteras",
      "photoUrl": "",
      "userId": "02050793736257155229"
     },
     "user_tz": -120
    },
    "id": "Edd0ThNn4P1f",
    "outputId": "e98ff6d7-bf1f-44d5-fa27-7650fb37df69"
   },
   "outputs": [],
   "source": [
    "cols_to_drop"
   ]
  },
  {
   "cell_type": "markdown",
   "metadata": {
    "id": "6jqxyvk0tu1B"
   },
   "source": [
    "OverallQual: Rates the overall material and finish of the house\n",
    "\n",
    "       10\tVery Excellent\n",
    "       9\tExcellent\n",
    "       8\tVery Good\n",
    "       7\tGood\n",
    "       6\tAbove Average\n",
    "       5\tAverage\n",
    "       4\tBelow Average\n",
    "       3\tFair\n",
    "       2\tPoor\n",
    "       1\tVery Poor"
   ]
  },
  {
   "cell_type": "code",
   "execution_count": null,
   "metadata": {
    "colab": {
     "base_uri": "https://localhost:8080/",
     "height": 497
    },
    "executionInfo": {
     "elapsed": 968,
     "status": "ok",
     "timestamp": 1626079358433,
     "user": {
      "displayName": "Ignacio Soteras",
      "photoUrl": "",
      "userId": "02050793736257155229"
     },
     "user_tz": -120
    },
    "id": "meLlb8VAsUMU",
    "outputId": "31f17339-80d3-46dc-f252-9b4e2bb167c5"
   },
   "outputs": [],
   "source": [
    "# Check out the variable \"OverallQual\": plot_count_box()\n",
    "plot_count_box(data, 'OverallQual','SalePrice')"
   ]
  },
  {
   "cell_type": "markdown",
   "metadata": {
    "id": "uNfGlQNCHikO"
   },
   "source": [
    "Again, we have a class imbalance. However, as it can be seen in the above picture the overal quality has a big impact on the SalePrice as it could be expected. This variable looks promising and the relationships between the OveralQual and the SalesPrice seems to be quadratic. Let's test this assumption"
   ]
  },
  {
   "cell_type": "code",
   "execution_count": null,
   "metadata": {
    "colab": {
     "base_uri": "https://localhost:8080/",
     "height": 296
    },
    "executionInfo": {
     "elapsed": 695,
     "status": "ok",
     "timestamp": 1626079608841,
     "user": {
      "displayName": "Ignacio Soteras",
      "photoUrl": "",
      "userId": "02050793736257155229"
     },
     "user_tz": -120
    },
    "id": "LqVHK1LQIUle",
    "outputId": "411813d2-b474-44d1-c960-ebbf31dac52d"
   },
   "outputs": [],
   "source": [
    "sns.regplot(x = data['OverallQual']**2, y = data['SalePrice'])"
   ]
  },
  {
   "cell_type": "markdown",
   "metadata": {
    "id": "DMs6VtE4Iul3"
   },
   "source": [
    "We see vertical bars because this variable is a perfect example of an ordinal categorical variable."
   ]
  },
  {
   "cell_type": "markdown",
   "metadata": {
    "id": "Oz8DmonDt8uG"
   },
   "source": [
    "OverallCond: Rates the overall condition of the house\n",
    "\n",
    "       10   Very Excellent\n",
    "       9\tExcellent\n",
    "       8\tVery Good\n",
    "       7\tGood\n",
    "       6\tAbove Average\t\n",
    "       5\tAverage\n",
    "       4\tBelow Average\t\n",
    "       3\tFair\n",
    "       2\tPoor\n",
    "       1\tVery Poor"
   ]
  },
  {
   "cell_type": "code",
   "execution_count": null,
   "metadata": {
    "colab": {
     "base_uri": "https://localhost:8080/",
     "height": 497
    },
    "executionInfo": {
     "elapsed": 996,
     "status": "ok",
     "timestamp": 1626079678754,
     "user": {
      "displayName": "Ignacio Soteras",
      "photoUrl": "",
      "userId": "02050793736257155229"
     },
     "user_tz": -120
    },
    "id": "B4UbRVddtBWK",
    "outputId": "e523e77d-8909-464d-b3fc-fc0faebc940c"
   },
   "outputs": [],
   "source": [
    "# Check out the variable \"OverallCond\": plot_count_box()\n",
    "plot_count_box(data,\"OverallCond\",\"SalePrice\")"
   ]
  },
  {
   "cell_type": "markdown",
   "metadata": {
    "id": "ztymP93BJWX5"
   },
   "source": [
    "Again we also have a class imbalance and there is a high range of selling prices for every possible value of `OverallCond`. In addition, this variable can be redundant as we already have the previous one. Therefore, we will drop this one."
   ]
  },
  {
   "cell_type": "code",
   "execution_count": null,
   "metadata": {
    "executionInfo": {
     "elapsed": 225,
     "status": "ok",
     "timestamp": 1626079831043,
     "user": {
      "displayName": "Ignacio Soteras",
      "photoUrl": "",
      "userId": "02050793736257155229"
     },
     "user_tz": -120
    },
    "id": "r-jcRqNRJvDR"
   },
   "outputs": [],
   "source": [
    "cols_to_drop += ['OverallCond']"
   ]
  },
  {
   "cell_type": "code",
   "execution_count": null,
   "metadata": {
    "colab": {
     "base_uri": "https://localhost:8080/"
    },
    "executionInfo": {
     "elapsed": 221,
     "status": "ok",
     "timestamp": 1626079848659,
     "user": {
      "displayName": "Ignacio Soteras",
      "photoUrl": "",
      "userId": "02050793736257155229"
     },
     "user_tz": -120
    },
    "id": "yTYCbbCE6TVk",
    "outputId": "1f56fc46-64c8-4b48-cf30-ed5edc42dcba"
   },
   "outputs": [],
   "source": [
    "cols_to_drop"
   ]
  },
  {
   "cell_type": "markdown",
   "metadata": {
    "id": "MLP48LsquKbj"
   },
   "source": [
    "MoSold: Month Sold (MM)\n"
   ]
  },
  {
   "cell_type": "code",
   "execution_count": null,
   "metadata": {
    "colab": {
     "base_uri": "https://localhost:8080/",
     "height": 497
    },
    "executionInfo": {
     "elapsed": 971,
     "status": "ok",
     "timestamp": 1626079983247,
     "user": {
      "displayName": "Ignacio Soteras",
      "photoUrl": "",
      "userId": "02050793736257155229"
     },
     "user_tz": -120
    },
    "id": "6zQvE_GstjKw",
    "outputId": "e7d1e4e2-8b0d-4e37-c8e3-4664fa9dc710"
   },
   "outputs": [],
   "source": [
    "# Check out the variable \"MoSold\" plot_count_box()\n",
    "plot_count_box(data,\"MoSold\",'SalePrice')"
   ]
  },
  {
   "cell_type": "markdown",
   "metadata": {
    "id": "sJHoxJ0RuTKd"
   },
   "source": [
    "Selling month doesn't have any relationship with the selling price, even is worth of knowing that the month with the highest amount of sales is june. Therefore, let's drop the variable `MoSold`"
   ]
  },
  {
   "cell_type": "code",
   "execution_count": null,
   "metadata": {
    "executionInfo": {
     "elapsed": 219,
     "status": "ok",
     "timestamp": 1626080027648,
     "user": {
      "displayName": "Ignacio Soteras",
      "photoUrl": "",
      "userId": "02050793736257155229"
     },
     "user_tz": -120
    },
    "id": "fwJIFs4i1poM"
   },
   "outputs": [],
   "source": [
    "cols_to_drop += ['MoSold']"
   ]
  },
  {
   "cell_type": "markdown",
   "metadata": {
    "id": "QWw3Rrb6N_CX"
   },
   "source": [
    "Let's check the previous assumption"
   ]
  },
  {
   "cell_type": "code",
   "execution_count": null,
   "metadata": {},
   "outputs": [],
   "source": [
    "# Check out the variable \"LotArea\"which is continuous\n",
    "\n",
    "levels = list(data['OverallQual'].unique())  # OverallCond\n",
    "diver = sns.color_palette(\"RdBu\", len(levels)) # RdBu, Set3, Paired\n",
    "# Setting a dictionary of {'value': color} to use in each plot\n",
    "cmap = dict(zip(levels,diver))\n",
    "\n",
    "fig, ax = plt.subplots(1,2,figsize=(16,8))\n",
    "sns.distplot(data['LotArea'], ax = ax[0], kde=False)\n",
    "sns.scatterplot(x = 'LotArea', y = 'SalePrice', data = data, ax = ax[1], hue ='OverallQual', palette=cmap) # hue ='OverallCond'\n",
    "ax[0].xaxis.set_major_formatter(FuncFormatter(lambda x, p: f'{int(x/1000)}K'))\n",
    "ax[1].yaxis.set_major_formatter(FuncFormatter(lambda x, p: f'{int(x/1000)}K'))\n",
    "ax[1].xaxis.set_major_formatter(FuncFormatter(lambda x, p: f'{int(x/1000)}'))\n",
    "ax[1].set_xlabel('LotArea (Squared feet x 1000)')\n",
    "ax[1].axvline(x=25000)\n",
    "\n"
   ]
  },
  {
   "cell_type": "markdown",
   "metadata": {},
   "source": [
    "Clearly, the distribution of squared feet is strongly skewed. On the other hamd it seems that below 25K the relationship between the selling price and the squared feet seems to be linnear. In contrast, for higher surface values, the is no clear relationship between the selling price and the surface.\n",
    "\n",
    "Another conclussion that can be extracted from the previous plots is that above 25K squared feets, the overall quality is usually above 5."
   ]
  },
  {
   "cell_type": "code",
   "execution_count": null,
   "metadata": {
    "colab": {
     "base_uri": "https://localhost:8080/",
     "height": 296
    },
    "executionInfo": {
     "elapsed": 874,
     "status": "ok",
     "timestamp": 1626080422789,
     "user": {
      "displayName": "Ignacio Soteras",
      "photoUrl": "",
      "userId": "02050793736257155229"
     },
     "user_tz": -120
    },
    "id": "vLt0ttnjLn2d",
    "outputId": "9b4147b9-58d4-4e6e-d803-48091c5b86ce"
   },
   "outputs": [],
   "source": [
    "sns.scatterplot(x ='LotArea', y = 'SalePrice', data = data[data['LotArea'] < 25000], hue ='OverallQual', palette=cmap)"
   ]
  },
  {
   "cell_type": "code",
   "execution_count": null,
   "metadata": {
    "colab": {
     "base_uri": "https://localhost:8080/",
     "height": 386
    },
    "executionInfo": {
     "elapsed": 647,
     "status": "ok",
     "timestamp": 1626080441666,
     "user": {
      "displayName": "Ignacio Soteras",
      "photoUrl": "",
      "userId": "02050793736257155229"
     },
     "user_tz": -120
    },
    "id": "3lsuQbSgODqY",
    "outputId": "9ac095b5-cd75-4090-cee1-0094aff9a0d2"
   },
   "outputs": [],
   "source": [
    "sns.displot(data[data['LotArea'] < 25000 ]['LotArea'], kde=False)"
   ]
  },
  {
   "cell_type": "markdown",
   "metadata": {
    "id": "PAc2ChN_OjrZ"
   },
   "source": [
    "We can apply this filter to our dataframe"
   ]
  },
  {
   "cell_type": "code",
   "execution_count": null,
   "metadata": {
    "executionInfo": {
     "elapsed": 215,
     "status": "ok",
     "timestamp": 1626080534185,
     "user": {
      "displayName": "Ignacio Soteras",
      "photoUrl": "",
      "userId": "02050793736257155229"
     },
     "user_tz": -120
    },
    "id": "X0oRj2K6Onan"
   },
   "outputs": [],
   "source": [
    "data = data[data['LotArea'] < 25000 ]"
   ]
  },
  {
   "cell_type": "markdown",
   "metadata": {
    "id": "xcYLX5VOwcUo"
   },
   "source": [
    "# Finding missing values"
   ]
  },
  {
   "cell_type": "code",
   "execution_count": null,
   "metadata": {
    "colab": {
     "base_uri": "https://localhost:8080/",
     "height": 205
    },
    "executionInfo": {
     "elapsed": 234,
     "status": "ok",
     "timestamp": 1626081026892,
     "user": {
      "displayName": "Ignacio Soteras",
      "photoUrl": "",
      "userId": "02050793736257155229"
     },
     "user_tz": -120
    },
    "id": "Wh7Zdq5mwmbS",
    "outputId": "9a17cafc-04a3-4428-dea3-4c701b840a74"
   },
   "outputs": [],
   "source": [
    "# Get a dataframe of missing values by column. Use sort_values(ascending=False) to sort the results\n",
    "nulls = pd.DataFrame(data.isnull().sum().sort_values(ascending=False))\n",
    "\n",
    "\n",
    "# Use reset_index() to make the index to become column and rename the column names\n",
    "nulls.reset_index(inplace=True)\n",
    "nulls.columns = ['Variable','Count']\n",
    "nulls.head()"
   ]
  },
  {
   "cell_type": "code",
   "execution_count": null,
   "metadata": {
    "colab": {
     "base_uri": "https://localhost:8080/"
    },
    "executionInfo": {
     "elapsed": 225,
     "status": "ok",
     "timestamp": 1626081158914,
     "user": {
      "displayName": "Ignacio Soteras",
      "photoUrl": "",
      "userId": "02050793736257155229"
     },
     "user_tz": -120
    },
    "id": "R3thE9hOyB6D",
    "outputId": "e39a208c-288a-427f-a73a-051a46809814"
   },
   "outputs": [],
   "source": [
    "# Get the columns which have NA's\n",
    "\n",
    "nulls[nulls['Count'] > 0]['Variable']"
   ]
  },
  {
   "cell_type": "markdown",
   "metadata": {
    "id": "LIPt_f1s2kMV"
   },
   "source": [
    "Let's start dealing with those NA's column by column"
   ]
  },
  {
   "cell_type": "markdown",
   "metadata": {
    "id": "koaVHmcK2sWp"
   },
   "source": [
    "PoolQC: Pool quality\n",
    "\t\t\n",
    "       Ex\tExcellent\n",
    "       Gd\tGood\n",
    "       TA\tAverage/Typical\n",
    "       Fa\tFair\n",
    "       NA\tNo Pool\n",
    "\n",
    "If the is no pool, we can assing a value flag to it like 'NA'"
   ]
  },
  {
   "cell_type": "code",
   "execution_count": null,
   "metadata": {
    "colab": {
     "base_uri": "https://localhost:8080/"
    },
    "executionInfo": {
     "elapsed": 236,
     "status": "ok",
     "timestamp": 1626081215147,
     "user": {
      "displayName": "Ignacio Soteras",
      "photoUrl": "",
      "userId": "02050793736257155229"
     },
     "user_tz": -120
    },
    "id": "47HPyMtp25qY",
    "outputId": "f6360653-47d8-4ab6-d489-d91e2b1dadd6"
   },
   "outputs": [],
   "source": [
    "data['PoolQC'] = data['PoolQC'].fillna('NA')\n",
    "data['PoolQC'].unique()"
   ]
  },
  {
   "cell_type": "markdown",
   "metadata": {
    "id": "wSnhV0fe3QZE"
   },
   "source": [
    "Now let's inspect the relatioship between `PoolQC`and `SellPrice`\n",
    "\n"
   ]
  },
  {
   "cell_type": "code",
   "execution_count": null,
   "metadata": {
    "colab": {
     "base_uri": "https://localhost:8080/"
    },
    "executionInfo": {
     "elapsed": 312,
     "status": "ok",
     "timestamp": 1626081232712,
     "user": {
      "displayName": "Ignacio Soteras",
      "photoUrl": "",
      "userId": "02050793736257155229"
     },
     "user_tz": -120
    },
    "id": "YiVN-Le1Pgwh",
    "outputId": "211e0237-ff68-43e3-d541-c3b8ede1d221"
   },
   "outputs": [],
   "source": [
    "data['PoolQC'].value_counts()"
   ]
  },
  {
   "cell_type": "code",
   "execution_count": null,
   "metadata": {
    "colab": {
     "base_uri": "https://localhost:8080/",
     "height": 497
    },
    "executionInfo": {
     "elapsed": 631,
     "status": "ok",
     "timestamp": 1626081265873,
     "user": {
      "displayName": "Ignacio Soteras",
      "photoUrl": "",
      "userId": "02050793736257155229"
     },
     "user_tz": -120
    },
    "id": "S_yv2uS_3cGc",
    "outputId": "3b842709-46a7-403b-a6ed-04355eae4281"
   },
   "outputs": [],
   "source": [
    "plot_count_box(data[data['PoolQC'] != 'NA'], \"PoolQC\", \"SalePrice\")"
   ]
  },
  {
   "cell_type": "markdown",
   "metadata": {
    "id": "8SEBiqxG41ZH"
   },
   "source": [
    "Clearly, the sampling of houses with pool is not big enough to extract conclussions. Therefore we can drop this feature"
   ]
  },
  {
   "cell_type": "code",
   "execution_count": null,
   "metadata": {
    "executionInfo": {
     "elapsed": 227,
     "status": "ok",
     "timestamp": 1626081432585,
     "user": {
      "displayName": "Ignacio Soteras",
      "photoUrl": "",
      "userId": "02050793736257155229"
     },
     "user_tz": -120
    },
    "id": "KjJPSDrqP8Vm"
   },
   "outputs": [],
   "source": [
    "cols_to_drop += ['PoolQC']"
   ]
  },
  {
   "cell_type": "code",
   "execution_count": null,
   "metadata": {
    "colab": {
     "base_uri": "https://localhost:8080/"
    },
    "executionInfo": {
     "elapsed": 209,
     "status": "ok",
     "timestamp": 1626081438996,
     "user": {
      "displayName": "Ignacio Soteras",
      "photoUrl": "",
      "userId": "02050793736257155229"
     },
     "user_tz": -120
    },
    "id": "Th0KLoNBAZvu",
    "outputId": "842c22ba-88ca-4a69-cae4-fb5c6bd9e011"
   },
   "outputs": [],
   "source": [
    "cols_to_drop"
   ]
  },
  {
   "cell_type": "markdown",
   "metadata": {
    "id": "aPsAiJSmC1NN"
   },
   "source": [
    "MiscFeature: Miscellaneous feature not covered in other categories\n",
    "\t\t\n",
    "       Elev\tElevator\n",
    "       Gar2\t2nd Garage (if not described in garage section)\n",
    "       Othr\tOther\n",
    "       Shed\tShed (over 100 SF)\n",
    "       TenC\tTennis Court\n",
    "       NA\tNone"
   ]
  },
  {
   "cell_type": "code",
   "execution_count": null,
   "metadata": {
    "colab": {
     "base_uri": "https://localhost:8080/"
    },
    "executionInfo": {
     "elapsed": 278,
     "status": "ok",
     "timestamp": 1626081465854,
     "user": {
      "displayName": "Ignacio Soteras",
      "photoUrl": "",
      "userId": "02050793736257155229"
     },
     "user_tz": -120
    },
    "id": "tiYDYXZdQQ_e",
    "outputId": "a51feb91-8eb7-4cb4-ee1d-0a7ce29410d4"
   },
   "outputs": [],
   "source": [
    "data['MiscFeature'].value_counts()"
   ]
  },
  {
   "cell_type": "code",
   "execution_count": null,
   "metadata": {
    "colab": {
     "base_uri": "https://localhost:8080/",
     "height": 497
    },
    "executionInfo": {
     "elapsed": 795,
     "status": "ok",
     "timestamp": 1626081477977,
     "user": {
      "displayName": "Ignacio Soteras",
      "photoUrl": "",
      "userId": "02050793736257155229"
     },
     "user_tz": -120
    },
    "id": "-UCd_TrGC6WA",
    "outputId": "ac16a26c-49c7-4f53-deb2-9221f1c651c8"
   },
   "outputs": [],
   "source": [
    "# Inpect variable \"MiscFeature\": plot_count_box()\n",
    "plot_count_box(data,'MiscFeature','SalePrice')"
   ]
  },
  {
   "cell_type": "markdown",
   "metadata": {
    "id": "rViiPcTyDg4s"
   },
   "source": [
    "Clearly we don't have enough samples to extract conclussions. Therefore, we will drop this other feature."
   ]
  },
  {
   "cell_type": "code",
   "execution_count": null,
   "metadata": {
    "executionInfo": {
     "elapsed": 224,
     "status": "ok",
     "timestamp": 1626081539762,
     "user": {
      "displayName": "Ignacio Soteras",
      "photoUrl": "",
      "userId": "02050793736257155229"
     },
     "user_tz": -120
    },
    "id": "totcNIdTRPy5"
   },
   "outputs": [],
   "source": [
    "cols_to_drop += ['MiscFeature']"
   ]
  },
  {
   "cell_type": "code",
   "execution_count": null,
   "metadata": {
    "colab": {
     "base_uri": "https://localhost:8080/"
    },
    "executionInfo": {
     "elapsed": 234,
     "status": "ok",
     "timestamp": 1626081549197,
     "user": {
      "displayName": "Ignacio Soteras",
      "photoUrl": "",
      "userId": "02050793736257155229"
     },
     "user_tz": -120
    },
    "id": "2yj6O2rJA0Rr",
    "outputId": "10371d25-5f0b-47dc-90b4-03bb6d313044"
   },
   "outputs": [],
   "source": [
    "cols_to_drop"
   ]
  },
  {
   "cell_type": "markdown",
   "metadata": {
    "id": "YWv8yxXEG-NJ"
   },
   "source": [
    "Alley: Type of alley access to property\n",
    "\n",
    "       Grvl\tGravel\n",
    "       Pave\tPaved\n",
    "       NA \tNo alley access"
   ]
  },
  {
   "cell_type": "code",
   "execution_count": null,
   "metadata": {
    "colab": {
     "base_uri": "https://localhost:8080/",
     "height": 500
    },
    "executionInfo": {
     "elapsed": 705,
     "status": "ok",
     "timestamp": 1626081569280,
     "user": {
      "displayName": "Ignacio Soteras",
      "photoUrl": "",
      "userId": "02050793736257155229"
     },
     "user_tz": -120
    },
    "id": "CF8MwGQgHB2m",
    "outputId": "dd44e2e1-6bb4-463b-a4a9-f61e50aabb39"
   },
   "outputs": [],
   "source": [
    "# Inspect variable \"Alley\": plot_count_box()\n",
    "data['Alley'] = data['Alley'].fillna('NA')\n",
    "plot_count_box(data,'Alley','SalePrice')"
   ]
  },
  {
   "cell_type": "code",
   "execution_count": null,
   "metadata": {
    "colab": {
     "base_uri": "https://localhost:8080/"
    },
    "executionInfo": {
     "elapsed": 206,
     "status": "ok",
     "timestamp": 1626081632836,
     "user": {
      "displayName": "Ignacio Soteras",
      "photoUrl": "",
      "userId": "02050793736257155229"
     },
     "user_tz": -120
    },
    "id": "eR8oJZqPBFgU",
    "outputId": "cd73cf18-5845-4749-d905-d2c5603d67b2"
   },
   "outputs": [],
   "source": [
    "data['Alley'].value_counts()"
   ]
  },
  {
   "cell_type": "markdown",
   "metadata": {
    "id": "cnXlQDPBHcfb"
   },
   "source": [
    "It seems to be some overlap between both possibilities although having a pavement alley usually has a bigger impact and the sampling is poor. Again we will drop this feature."
   ]
  },
  {
   "cell_type": "code",
   "execution_count": null,
   "metadata": {
    "executionInfo": {
     "elapsed": 246,
     "status": "ok",
     "timestamp": 1626081646194,
     "user": {
      "displayName": "Ignacio Soteras",
      "photoUrl": "",
      "userId": "02050793736257155229"
     },
     "user_tz": -120
    },
    "id": "A2gdEYjjRd8o"
   },
   "outputs": [],
   "source": [
    "cols_to_drop += ['Alley']"
   ]
  },
  {
   "cell_type": "code",
   "execution_count": null,
   "metadata": {
    "colab": {
     "base_uri": "https://localhost:8080/"
    },
    "executionInfo": {
     "elapsed": 208,
     "status": "ok",
     "timestamp": 1626081656143,
     "user": {
      "displayName": "Ignacio Soteras",
      "photoUrl": "",
      "userId": "02050793736257155229"
     },
     "user_tz": -120
    },
    "id": "iQLE6bRQBN-7",
    "outputId": "d33e210f-166e-43f8-9ff7-fa8c8a70f126"
   },
   "outputs": [],
   "source": [
    "cols_to_drop"
   ]
  },
  {
   "cell_type": "markdown",
   "metadata": {
    "id": "iEcxY1LoXH6I"
   },
   "source": [
    "Fence: Fence quality\n",
    "\t\t\n",
    "       GdPrv\tGood Privacy\n",
    "       MnPrv\tMinimum Privacy\n",
    "       GdWo\tGood Wood\n",
    "       MnWw\tMinimum Wood/Wire\n",
    "       NA\tNo Fence"
   ]
  },
  {
   "cell_type": "code",
   "execution_count": null,
   "metadata": {
    "colab": {
     "base_uri": "https://localhost:8080/",
     "height": 497
    },
    "executionInfo": {
     "elapsed": 883,
     "status": "ok",
     "timestamp": 1626081671185,
     "user": {
      "displayName": "Ignacio Soteras",
      "photoUrl": "",
      "userId": "02050793736257155229"
     },
     "user_tz": -120
    },
    "id": "Q3hYpKRwXm-M",
    "outputId": "c79c344e-0d13-441a-f43e-7316940f8007"
   },
   "outputs": [],
   "source": [
    "# Inspect variable \"Fence\": plot_count_box()\n",
    "\n",
    "plot_count_box(data,\"Fence\",\"SalePrice\")"
   ]
  },
  {
   "cell_type": "markdown",
   "metadata": {
    "id": "rM0tOcQ0Xx0j"
   },
   "source": [
    "Clearly it looks like that there are no significant differences among the fence condition. Therefore this variable is a good candidate to drop."
   ]
  },
  {
   "cell_type": "code",
   "execution_count": null,
   "metadata": {
    "executionInfo": {
     "elapsed": 203,
     "status": "ok",
     "timestamp": 1626081726108,
     "user": {
      "displayName": "Ignacio Soteras",
      "photoUrl": "",
      "userId": "02050793736257155229"
     },
     "user_tz": -120
    },
    "id": "XtjscuWYRtjG"
   },
   "outputs": [],
   "source": [
    "cols_to_drop += ['Fence']"
   ]
  },
  {
   "cell_type": "code",
   "execution_count": null,
   "metadata": {
    "colab": {
     "base_uri": "https://localhost:8080/"
    },
    "executionInfo": {
     "elapsed": 260,
     "status": "ok",
     "timestamp": 1626081732408,
     "user": {
      "displayName": "Ignacio Soteras",
      "photoUrl": "",
      "userId": "02050793736257155229"
     },
     "user_tz": -120
    },
    "id": "EX75XG0sBhcS",
    "outputId": "800739ae-7ec7-4834-f2d7-d2490d81ea70"
   },
   "outputs": [],
   "source": [
    "cols_to_drop"
   ]
  },
  {
   "cell_type": "markdown",
   "metadata": {
    "id": "NHjQX905YguS"
   },
   "source": [
    "FireplaceQu: Fireplace quality\n",
    "\n",
    "       Ex\tExcellent - Exceptional Masonry Fireplace\n",
    "       Gd\tGood - Masonry Fireplace in main level\n",
    "       TA\tAverage - Prefabricated Fireplace in main living area or Masonry Fireplace in basement\n",
    "       Fa\tFair - Prefabricated Fireplace in basement\n",
    "       Po\tPoor - Ben Franklin Stove\n",
    "       NA\tNo Fireplace"
   ]
  },
  {
   "cell_type": "code",
   "execution_count": null,
   "metadata": {
    "executionInfo": {
     "elapsed": 231,
     "status": "ok",
     "timestamp": 1626081763151,
     "user": {
      "displayName": "Ignacio Soteras",
      "photoUrl": "",
      "userId": "02050793736257155229"
     },
     "user_tz": -120
    },
    "id": "Yw3tj59NSDOL"
   },
   "outputs": [],
   "source": [
    "data['FireplaceQu'] = data['FireplaceQu'].fillna('NA')"
   ]
  },
  {
   "cell_type": "code",
   "execution_count": null,
   "metadata": {
    "colab": {
     "base_uri": "https://localhost:8080/",
     "height": 497
    },
    "executionInfo": {
     "elapsed": 739,
     "status": "ok",
     "timestamp": 1626081766695,
     "user": {
      "displayName": "Ignacio Soteras",
      "photoUrl": "",
      "userId": "02050793736257155229"
     },
     "user_tz": -120
    },
    "id": "6l-SOo5fXKkr",
    "outputId": "782d6ddc-e35e-402d-be18-c33cc036f735"
   },
   "outputs": [],
   "source": [
    "# Inspect variable \"FireplaceQu\"\n",
    "plot_count_box(data,\"FireplaceQu\",\"SalePrice\")"
   ]
  },
  {
   "cell_type": "code",
   "execution_count": null,
   "metadata": {
    "colab": {
     "base_uri": "https://localhost:8080/"
    },
    "executionInfo": {
     "elapsed": 227,
     "status": "ok",
     "timestamp": 1626081802644,
     "user": {
      "displayName": "Ignacio Soteras",
      "photoUrl": "",
      "userId": "02050793736257155229"
     },
     "user_tz": -120
    },
    "id": "mOOrt629TN1z",
    "outputId": "1c35c886-4b73-45b1-9d2e-4828dcd617b4"
   },
   "outputs": [],
   "source": [
    "data['FireplaceQu'].value_counts()"
   ]
  },
  {
   "cell_type": "markdown",
   "metadata": {
    "id": "TeCgeMNqkyt5"
   },
   "source": [
    "Clearly, the fireplace condition ( when it's present ) can have an impact. Let's test this. "
   ]
  },
  {
   "cell_type": "code",
   "execution_count": null,
   "metadata": {
    "colab": {
     "base_uri": "https://localhost:8080/"
    },
    "executionInfo": {
     "elapsed": 200,
     "status": "ok",
     "timestamp": 1626081943183,
     "user": {
      "displayName": "Ignacio Soteras",
      "photoUrl": "",
      "userId": "02050793736257155229"
     },
     "user_tz": -120
    },
    "id": "FMTGL7AGT7Wd",
    "outputId": "0b8d3ea8-9717-4027-e33d-3c807d8a528c"
   },
   "outputs": [],
   "source": [
    "print(\"Mean price of houses with fireplace: \",round(data[data['FireplaceQu'] != 'NA']['SalePrice'].mean()))\n",
    "print(\"Mean price od houses without fireplace: \",round(data[data['FireplaceQu'] == 'NA']['SalePrice'].mean()))\n",
    "y = data[data['FireplaceQu'] != 'NA']['SalePrice'].mean()\n",
    "n = data[data['FireplaceQu'] == 'NA']['SalePrice'].mean()\n",
    "print(\"Average price increase by having a fireplace: {} %\".format(round(((y/n)-1)*100)))"
   ]
  },
  {
   "cell_type": "markdown",
   "metadata": {
    "id": "nqcChMKzYOae"
   },
   "source": [
    "Therefore, let's make this feature binnary."
   ]
  },
  {
   "cell_type": "code",
   "execution_count": null,
   "metadata": {
    "executionInfo": {
     "elapsed": 195,
     "status": "ok",
     "timestamp": 1626082094612,
     "user": {
      "displayName": "Ignacio Soteras",
      "photoUrl": "",
      "userId": "02050793736257155229"
     },
     "user_tz": -120
    },
    "id": "0gcot8g2YNYP"
   },
   "outputs": [],
   "source": [
    "data.rename(columns={'FireplaceQu': 'Fireplace'}, inplace = True)\n",
    "data['Fireplace'] = np.where(data['Fireplace'].isin(['Gd','TA','Fa','Ex','Po']),1,0)"
   ]
  },
  {
   "cell_type": "markdown",
   "metadata": {
    "id": "VYrsTelPlEkb"
   },
   "source": [
    "LotFrontage: Linear feet of street connected to property"
   ]
  },
  {
   "cell_type": "code",
   "execution_count": null,
   "metadata": {
    "colab": {
     "base_uri": "https://localhost:8080/",
     "height": 374
    },
    "executionInfo": {
     "elapsed": 710,
     "status": "ok",
     "timestamp": 1626082130412,
     "user": {
      "displayName": "Ignacio Soteras",
      "photoUrl": "",
      "userId": "02050793736257155229"
     },
     "user_tz": -120
    },
    "id": "0ruN07d2lGiM",
    "outputId": "8c562095-19b6-40a4-cb16-0c5747f7a5da"
   },
   "outputs": [],
   "source": [
    "sns.scatterplot(x = 'LotFrontage',y = 'SalePrice', data = data)\n",
    "data[['LotFrontage','SalePrice']].corr()"
   ]
  },
  {
   "cell_type": "markdown",
   "metadata": {
    "id": "PUcYn37MloBB"
   },
   "source": [
    "There is no clear linear relationship between both features. Therefore, we will drop the feature."
   ]
  },
  {
   "cell_type": "code",
   "execution_count": null,
   "metadata": {
    "executionInfo": {
     "elapsed": 236,
     "status": "ok",
     "timestamp": 1626082158261,
     "user": {
      "displayName": "Ignacio Soteras",
      "photoUrl": "",
      "userId": "02050793736257155229"
     },
     "user_tz": -120
    },
    "id": "B6idwxpdZq6s"
   },
   "outputs": [],
   "source": [
    "cols_to_drop += [\"LotFrontage\"]"
   ]
  },
  {
   "cell_type": "code",
   "execution_count": null,
   "metadata": {
    "colab": {
     "base_uri": "https://localhost:8080/"
    },
    "executionInfo": {
     "elapsed": 196,
     "status": "ok",
     "timestamp": 1626082166530,
     "user": {
      "displayName": "Ignacio Soteras",
      "photoUrl": "",
      "userId": "02050793736257155229"
     },
     "user_tz": -120
    },
    "id": "SJUzWoFdDLec",
    "outputId": "8bf7175c-55f0-4598-8ba5-a0a7c92e9f59"
   },
   "outputs": [],
   "source": [
    "cols_to_drop"
   ]
  },
  {
   "cell_type": "markdown",
   "metadata": {
    "id": "EAvU-mNMl76M"
   },
   "source": [
    "6. GarageCond\n",
    "7. GarageType\n",
    "8. GarageYrBlt\n",
    "9. GarageFinish\n",
    "10. GarageQual\n",
    "\n",
    "All those variables seem redundant on a first look. Let's inspect them and pick the best."
   ]
  },
  {
   "cell_type": "code",
   "execution_count": null,
   "metadata": {
    "colab": {
     "base_uri": "https://localhost:8080/",
     "height": 1000
    },
    "executionInfo": {
     "elapsed": 1984,
     "status": "ok",
     "timestamp": 1626082214166,
     "user": {
      "displayName": "Ignacio Soteras",
      "photoUrl": "",
      "userId": "02050793736257155229"
     },
     "user_tz": -120
    },
    "id": "jbWMB1W9sqql",
    "outputId": "306e7e32-bcd1-4fb1-b216-29601439b710"
   },
   "outputs": [],
   "source": [
    "my_list = ['GarageCond','GarageType','GarageFinish','GarageQual']\n",
    "\n",
    "for elem in my_list:\n",
    "    data[elem] = data[elem].fillna('NA')\n",
    "    plot_count_box(data, elem, \"SalePrice\")"
   ]
  },
  {
   "cell_type": "markdown",
   "metadata": {
    "id": "FZCQNhNGt8gK"
   },
   "source": [
    "`GarageCond` is heavily unbalanced and thre is high overlap between the boxplots for all the values. We can drop this feature.\n",
    "\n",
    "`GarageType` is heavyly unbalanced which makes the statistics poor and there is too much overlap between the types to extract conclussions. We can drop this feature.\n",
    "\n",
    "`GarageFinish` has enough samples of each type but there is significant overlap between the boxplots, even though it seems to increase slightly the selling price.\n",
    "\n",
    "`GarageQual` is also heavily unbalanced and seems to be quite similar to be redundant. We can think of dropping it.\n",
    "\n",
    "It looks like having a garage impact but those characteristics seem unclear."
   ]
  },
  {
   "cell_type": "code",
   "execution_count": null,
   "metadata": {
    "executionInfo": {
     "elapsed": 203,
     "status": "ok",
     "timestamp": 1626082365265,
     "user": {
      "displayName": "Ignacio Soteras",
      "photoUrl": "",
      "userId": "02050793736257155229"
     },
     "user_tz": -120
    },
    "id": "NAVef0HAohoz"
   },
   "outputs": [],
   "source": [
    "cols_to_drop += ['GarageCond','GarageType','GarageQual']"
   ]
  },
  {
   "cell_type": "code",
   "execution_count": null,
   "metadata": {
    "colab": {
     "base_uri": "https://localhost:8080/"
    },
    "executionInfo": {
     "elapsed": 238,
     "status": "ok",
     "timestamp": 1626082371405,
     "user": {
      "displayName": "Ignacio Soteras",
      "photoUrl": "",
      "userId": "02050793736257155229"
     },
     "user_tz": -120
    },
    "id": "1HVD2LT5D9Yn",
    "outputId": "e6d4948c-2ed1-41a6-bd8c-75f7f3562884"
   },
   "outputs": [],
   "source": [
    "cols_to_drop"
   ]
  },
  {
   "cell_type": "markdown",
   "metadata": {
    "id": "N4pluXrRwifg"
   },
   "source": [
    "Let's inspect `GarageYrBlt`\n"
   ]
  },
  {
   "cell_type": "code",
   "execution_count": null,
   "metadata": {
    "colab": {
     "base_uri": "https://localhost:8080/",
     "height": 296
    },
    "executionInfo": {
     "elapsed": 825,
     "status": "ok",
     "timestamp": 1626082465110,
     "user": {
      "displayName": "Ignacio Soteras",
      "photoUrl": "",
      "userId": "02050793736257155229"
     },
     "user_tz": -120
    },
    "id": "I5Vhvh40wmIV",
    "outputId": "0abca41e-9435-40c7-e17e-68aced8b88f1"
   },
   "outputs": [],
   "source": [
    "sns.scatterplot(x = 'GarageYrBlt', y = 'SalePrice', data = data)"
   ]
  },
  {
   "cell_type": "markdown",
   "metadata": {
    "id": "xvkhH60Vwz_d"
   },
   "source": [
    "It looks like that the Sale Price increases over time, although not linearly. It would be more interesting to know in which year the dataset was collected in order to know how much lasted since the last renewal. It looks more reasonable to compute the difference in terms of mean price between those house which have a garage and don't. Hoewever, a house can have a garage but a missing value in this field. This will bias conclussions."
   ]
  },
  {
   "cell_type": "code",
   "execution_count": null,
   "metadata": {
    "colab": {
     "base_uri": "https://localhost:8080/"
    },
    "executionInfo": {
     "elapsed": 217,
     "status": "ok",
     "timestamp": 1626082594121,
     "user": {
      "displayName": "Ignacio Soteras",
      "photoUrl": "",
      "userId": "02050793736257155229"
     },
     "user_tz": -120
    },
    "id": "TBs_1mDgqxB4",
    "outputId": "fffa6e42-b965-47a6-88b8-8325c37efe5a"
   },
   "outputs": [],
   "source": [
    "n = data[data['GarageYrBlt'].isna() == True]['SalePrice'].mean()\n",
    "y = data[data['GarageYrBlt'].isna() == False]['SalePrice'].mean()\n",
    "print(\"Mean price of houses with garage: \",round(y))\n",
    "print(\"Mean price od houses without garave: \",round(n))\n",
    "\n",
    "print(\"Average price increase by having a garage: {} %\".format(round(((y/n)-1)*100)))"
   ]
  },
  {
   "cell_type": "code",
   "execution_count": null,
   "metadata": {
    "executionInfo": {
     "elapsed": 238,
     "status": "ok",
     "timestamp": 1626082566049,
     "user": {
      "displayName": "Ignacio Soteras",
      "photoUrl": "",
      "userId": "02050793736257155229"
     },
     "user_tz": -120
    },
    "id": "kbd8GP4aqnms"
   },
   "outputs": [],
   "source": [
    "cols_to_drop += ['GarageYrBlt']"
   ]
  },
  {
   "cell_type": "code",
   "execution_count": null,
   "metadata": {
    "colab": {
     "base_uri": "https://localhost:8080/"
    },
    "executionInfo": {
     "elapsed": 203,
     "status": "ok",
     "timestamp": 1626082628458,
     "user": {
      "displayName": "Ignacio Soteras",
      "photoUrl": "",
      "userId": "02050793736257155229"
     },
     "user_tz": -120
    },
    "id": "EsNaJCCAEueN",
    "outputId": "98c91094-7248-49fc-f37b-bccb7b4a9564"
   },
   "outputs": [],
   "source": [
    "cols_to_drop"
   ]
  },
  {
   "cell_type": "markdown",
   "metadata": {
    "id": "IzFfrNbmwVpm"
   },
   "source": [
    "11. BsmtExposure\n",
    "12. BsmtFinType2\n",
    "13. BsmtFinType1\n",
    "14. BsmtCond\n",
    "15. BsmtQual"
   ]
  },
  {
   "cell_type": "markdown",
   "metadata": {
    "id": "q_djClpey1PD"
   },
   "source": [
    "BsmtQual: Evaluates the height of the basement\n",
    "\n",
    "* Ex\tExcellent (100+ inches)\t\n",
    "* Gd\tGood (90-99 inches)\n",
    "* TA\tTypical (80-89 inches)\n",
    "* Fa\tFair (70-79 inches)\n",
    "* Po\tPoor (<70 inches)\n",
    "* NA\tNo Basemen\n",
    "\n",
    "BsmtCond: Evaluates the general condition of the basement\n",
    "\n",
    "* Ex\tExcellent\n",
    "* Gd\tGood\n",
    "* TA\tTypical - slight dampness allowed\n",
    "* Fa\tFair - dampness or some cracking or settling\n",
    "* Po\tPoor - Severe cracking, settling, or wetness\n",
    "* NA\tNo Basement\n",
    "\n",
    "BsmtExposure: Refers to walkout or garden level walls\n",
    "\n",
    "* Gd\tGood Exposure\n",
    "* Av\tAverage Exposure (split levels or foyers typically score average or above)\t\n",
    "* Mn\tMimimum Exposure\n",
    "* No\tNo Exposure\n",
    "* NA\tNo Basement\n",
    "\n",
    "BsmtFinType1: Rating of basement finished area\n",
    "\n",
    "* GLQ\tGood Living Quarters\n",
    "* ALQ\tAverage Living Quarters\n",
    "* BLQ\tBelow Average Living Quarters\t\n",
    "* Rec\tAverage Rec Room\n",
    "* LwQ\tLow Quality\n",
    "* Unf\tUnfinshed\n",
    "* NA\tNo Basement\n",
    "\n",
    "BsmtFinSF1: Type 1 finished square feet\n",
    "\n",
    "BsmtFinType2: Rating of basement finished area (if multiple types)\n",
    "\n",
    "* GLQ\tGood Living Quarters\n",
    "* ALQ\tAverage Living Quarters\n",
    "* BLQ\tBelow Average Living Quarters\t\n",
    "* Rec\tAverage Rec Room\n",
    "* LwQ\tLow Quality\n",
    "* Unf\tUnfinshed\n",
    "* NA\tNo Basement\n",
    "\n",
    "BsmtFinSF2: Type 2 finished square feet\n",
    "\n",
    "BsmtUnfSF: Unfinished square feet of basement area\n",
    "\n",
    "TotalBsmtSF: Total square feet of basement area"
   ]
  },
  {
   "cell_type": "code",
   "execution_count": null,
   "metadata": {
    "colab": {
     "base_uri": "https://localhost:8080/",
     "height": 1000
    },
    "executionInfo": {
     "elapsed": 3002,
     "status": "ok",
     "timestamp": 1626082675584,
     "user": {
      "displayName": "Ignacio Soteras",
      "photoUrl": "",
      "userId": "02050793736257155229"
     },
     "user_tz": -120
    },
    "id": "5tbDoDXKtvXO",
    "outputId": "c5900c32-cfdb-4523-9571-ce3159b26a56"
   },
   "outputs": [],
   "source": [
    "my_list = ['BsmtQual','BsmtCond','BsmtExposure','BsmtFinType1','BsmtFinType2']\n",
    "\n",
    "for elem in my_list:\n",
    "    data[elem] = data[elem].fillna('NA')\n",
    "    plot_count_box(data, elem, \"SalePrice\")"
   ]
  },
  {
   "cell_type": "markdown",
   "metadata": {
    "id": "Qv16VpTC6yez"
   },
   "source": [
    "`BsmtQual` is heavily imbalanced. The biggest groups have a big overlap, therefore those groups can be groupped together in a single group."
   ]
  },
  {
   "cell_type": "markdown",
   "metadata": {
    "id": "Smv7626a77sx"
   },
   "source": [
    "`BsmCons`is also heavily unbalanced to extract conclussions."
   ]
  },
  {
   "cell_type": "markdown",
   "metadata": {
    "id": "D2xeP9qW8Ilj"
   },
   "source": [
    "`BsmtExposure` values have a big overlap."
   ]
  },
  {
   "cell_type": "markdown",
   "metadata": {
    "id": "nJaFfuuN8qV3"
   },
   "source": [
    "`BsmtFinType1` and `BsmtFinType2` have too much overlap between the possible values. In particular, for the last value there is a high class imbalance."
   ]
  },
  {
   "cell_type": "markdown",
   "metadata": {
    "id": "ufOxMBtWtbtT"
   },
   "source": [
    "All those features have high overlap, therefore they are not informative. Let's drop them."
   ]
  },
  {
   "cell_type": "code",
   "execution_count": null,
   "metadata": {
    "executionInfo": {
     "elapsed": 208,
     "status": "ok",
     "timestamp": 1626082826413,
     "user": {
      "displayName": "Ignacio Soteras",
      "photoUrl": "",
      "userId": "02050793736257155229"
     },
     "user_tz": -120
    },
    "id": "T5HBcKVUtlpt"
   },
   "outputs": [],
   "source": [
    "cols_to_drop += ['BsmtQual','BsmtCond','BsmtExposure','BsmtFinType1','BsmtFinType2']"
   ]
  },
  {
   "cell_type": "code",
   "execution_count": null,
   "metadata": {
    "colab": {
     "base_uri": "https://localhost:8080/"
    },
    "executionInfo": {
     "elapsed": 226,
     "status": "ok",
     "timestamp": 1626082836053,
     "user": {
      "displayName": "Ignacio Soteras",
      "photoUrl": "",
      "userId": "02050793736257155229"
     },
     "user_tz": -120
    },
    "id": "drNRrbRCFu-n",
    "outputId": "fc37eeb9-0b2c-4237-c182-d1227469e0c6"
   },
   "outputs": [],
   "source": [
    "cols_to_drop"
   ]
  },
  {
   "cell_type": "markdown",
   "metadata": {
    "id": "U8kVHhuCt5NT"
   },
   "source": [
    "BsmtFinSF2: Type 2 finished square feet\n",
    "\n",
    "BsmtUnfSF: Unfinished square feet of basement area\n",
    "\n",
    "TotalBsmtSF: Total square feet of basement area"
   ]
  },
  {
   "cell_type": "code",
   "execution_count": null,
   "metadata": {
    "colab": {
     "base_uri": "https://localhost:8080/",
     "height": 497
    },
    "executionInfo": {
     "elapsed": 1141,
     "status": "ok",
     "timestamp": 1626082847113,
     "user": {
      "displayName": "Ignacio Soteras",
      "photoUrl": "",
      "userId": "02050793736257155229"
     },
     "user_tz": -120
    },
    "id": "n4t9WSExt6fu",
    "outputId": "3d54f34e-903f-470e-8ecc-0197eee621e6"
   },
   "outputs": [],
   "source": [
    "fig, ax = plt.subplots(1,3,figsize=(20,8))\n",
    "sns.scatterplot(x= 'BsmtFinSF2' , y= 'SalePrice', data = data,  ax = ax[0])\n",
    "sns.scatterplot(x= 'BsmtUnfSF' , y= 'SalePrice', data = data,  ax = ax[1])\n",
    "sns.scatterplot(x= 'TotalBsmtSF', y= 'SalePrice', data = data,  ax = ax[2])\n",
    "ax[0].yaxis.set_major_formatter(FuncFormatter(lambda x, p: f'{int(x/1000)}K'))\n",
    "ax[1].yaxis.set_major_formatter(FuncFormatter(lambda x, p: f'{int(x/1000)}K'))\n",
    "ax[2].yaxis.set_major_formatter(FuncFormatter(lambda x, p: f'{int(x/1000)}K'))"
   ]
  },
  {
   "cell_type": "markdown",
   "metadata": {
    "id": "_DVlSu9SvMa8"
   },
   "source": [
    "According to the previous figure, it only seems to be a relationship between `TotalBsmtSF` and `SalePrice`."
   ]
  },
  {
   "cell_type": "code",
   "execution_count": null,
   "metadata": {
    "executionInfo": {
     "elapsed": 197,
     "status": "ok",
     "timestamp": 1626082885843,
     "user": {
      "displayName": "Ignacio Soteras",
      "photoUrl": "",
      "userId": "02050793736257155229"
     },
     "user_tz": -120
    },
    "id": "sUBYhXpfvnhs"
   },
   "outputs": [],
   "source": [
    "cols_to_drop += ['BsmtFinSF2','BsmtUnfSF']"
   ]
  },
  {
   "cell_type": "code",
   "execution_count": null,
   "metadata": {
    "colab": {
     "base_uri": "https://localhost:8080/"
    },
    "executionInfo": {
     "elapsed": 204,
     "status": "ok",
     "timestamp": 1626082893100,
     "user": {
      "displayName": "Ignacio Soteras",
      "photoUrl": "",
      "userId": "02050793736257155229"
     },
     "user_tz": -120
    },
    "id": "G0ukuwqRF8gu",
    "outputId": "c2f4aa4e-eac4-47a6-f079-0db7d53eaea5"
   },
   "outputs": [],
   "source": [
    "cols_to_drop"
   ]
  },
  {
   "cell_type": "code",
   "execution_count": null,
   "metadata": {
    "colab": {
     "base_uri": "https://localhost:8080/",
     "height": 108
    },
    "executionInfo": {
     "elapsed": 384,
     "status": "ok",
     "timestamp": 1620033927598,
     "user": {
      "displayName": "Ignacio Soteras",
      "photoUrl": "",
      "userId": "02050793736257155229"
     },
     "user_tz": -120
    },
    "id": "g2CVZwyQwfdu",
    "outputId": "19dd7964-d487-4cca-d8d1-93759eeffe6d"
   },
   "outputs": [],
   "source": [
    "data['TotalBsmtSF'] = data['TotalBsmtSF'].fillna(0) \n",
    "data[['TotalBsmtSF','SalePrice']].corr()"
   ]
  },
  {
   "cell_type": "markdown",
   "metadata": {
    "id": "D3I38I1P9HhJ"
   },
   "source": [
    "MasVnrType: Masonry veneer type\n",
    "\n",
    "       BrkCmn\tBrick Common\n",
    "       BrkFace\tBrick Face\n",
    "       CBlock\tCinder Block\n",
    "       None\tNone\n",
    "       Stone\tStone\n",
    "\t\n",
    "MasVnrArea: Masonry veneer area in square feet"
   ]
  },
  {
   "cell_type": "code",
   "execution_count": null,
   "metadata": {
    "executionInfo": {
     "elapsed": 206,
     "status": "ok",
     "timestamp": 1626082977937,
     "user": {
      "displayName": "Ignacio Soteras",
      "photoUrl": "",
      "userId": "02050793736257155229"
     },
     "user_tz": -120
    },
    "id": "otPdhuvjx4Cv"
   },
   "outputs": [],
   "source": [
    "data['MasVnrType'].value_counts(dropna=False)\n",
    "data['MasVnrType'] = data['MasVnrType'].fillna('None')"
   ]
  },
  {
   "cell_type": "code",
   "execution_count": null,
   "metadata": {
    "colab": {
     "base_uri": "https://localhost:8080/",
     "height": 497
    },
    "executionInfo": {
     "elapsed": 718,
     "status": "ok",
     "timestamp": 1626082982799,
     "user": {
      "displayName": "Ignacio Soteras",
      "photoUrl": "",
      "userId": "02050793736257155229"
     },
     "user_tz": -120
    },
    "id": "mNrLRhso9pjl",
    "outputId": "9286942d-6329-4430-ab08-eee6835b64c9"
   },
   "outputs": [],
   "source": [
    "# Inspect variable \"MasVnrType\": plot_count_box()\n",
    "plot_count_box(data,\"MasVnrType\",\"SalePrice\")"
   ]
  },
  {
   "cell_type": "markdown",
   "metadata": {
    "id": "8g53wrGY98OL"
   },
   "source": [
    "Too much overlap and imbalance and overlap. Let's drop this feature."
   ]
  },
  {
   "cell_type": "code",
   "execution_count": null,
   "metadata": {
    "executionInfo": {
     "elapsed": 218,
     "status": "ok",
     "timestamp": 1626083005694,
     "user": {
      "displayName": "Ignacio Soteras",
      "photoUrl": "",
      "userId": "02050793736257155229"
     },
     "user_tz": -120
    },
    "id": "eYZBbLm8xxBG"
   },
   "outputs": [],
   "source": [
    "cols_to_drop += ['MasVnrType']"
   ]
  },
  {
   "cell_type": "code",
   "execution_count": null,
   "metadata": {
    "colab": {
     "base_uri": "https://localhost:8080/",
     "height": 296
    },
    "executionInfo": {
     "elapsed": 648,
     "status": "ok",
     "timestamp": 1626083020599,
     "user": {
      "displayName": "Ignacio Soteras",
      "photoUrl": "",
      "userId": "02050793736257155229"
     },
     "user_tz": -120
    },
    "id": "uVeWpb1M-CpW",
    "outputId": "0c2021a4-5009-49c6-db8e-e01438017e2c"
   },
   "outputs": [],
   "source": [
    "# Inspect the relationship between variable \"MasVnrArea\" and \"SalePrice\" with an sns.scatterplot\n",
    "sns.scatterplot(y = \"SalePrice\",x = \"MasVnrArea\", data = data)"
   ]
  },
  {
   "cell_type": "markdown",
   "metadata": {
    "id": "2XG-ny5s-MJ9"
   },
   "source": [
    "Not relation at all. Another feature to drop."
   ]
  },
  {
   "cell_type": "code",
   "execution_count": null,
   "metadata": {
    "executionInfo": {
     "elapsed": 249,
     "status": "ok",
     "timestamp": 1626083036176,
     "user": {
      "displayName": "Ignacio Soteras",
      "photoUrl": "",
      "userId": "02050793736257155229"
     },
     "user_tz": -120
    },
    "id": "8Fquigryyfep"
   },
   "outputs": [],
   "source": [
    "cols_to_drop += ['MasVnrArea']"
   ]
  },
  {
   "cell_type": "markdown",
   "metadata": {
    "id": "kh9OPyv_y3PM"
   },
   "source": [
    "Electrical: Electrical system\n",
    "\n",
    "       SBrkr\tStandard Circuit Breakers & Romex\n",
    "       FuseA\tFuse Box over 60 AMP and all Romex wiring (Average)\t\n",
    "       FuseF\t60 AMP Fuse Box and mostly Romex wiring (Fair)\n",
    "       FuseP\t60 AMP Fuse Box and mostly knob & tube wiring (poor)\n",
    "       Mix\tMixed"
   ]
  },
  {
   "cell_type": "code",
   "execution_count": null,
   "metadata": {
    "colab": {
     "base_uri": "https://localhost:8080/",
     "height": 497
    },
    "executionInfo": {
     "elapsed": 963,
     "status": "ok",
     "timestamp": 1626083053186,
     "user": {
      "displayName": "Ignacio Soteras",
      "photoUrl": "",
      "userId": "02050793736257155229"
     },
     "user_tz": -120
    },
    "id": "VeKwHRVTy6ue",
    "outputId": "1d7a3a97-2db6-4d2c-cc76-4aecb5eca386"
   },
   "outputs": [],
   "source": [
    "data['Electrical'] = data['Electrical'].fillna('NA') \n",
    "\n",
    "plot_count_box(data, 'Electrical', \"SalePrice\")"
   ]
  },
  {
   "cell_type": "markdown",
   "metadata": {
    "id": "Qzxky_zKzNZ6"
   },
   "source": [
    "Another example of a feature with high class imbalance and high overlap between the boxplots."
   ]
  },
  {
   "cell_type": "code",
   "execution_count": null,
   "metadata": {
    "executionInfo": {
     "elapsed": 226,
     "status": "ok",
     "timestamp": 1626083082416,
     "user": {
      "displayName": "Ignacio Soteras",
      "photoUrl": "",
      "userId": "02050793736257155229"
     },
     "user_tz": -120
    },
    "id": "AQzF4HBlzWPK"
   },
   "outputs": [],
   "source": [
    "cols_to_drop += ['Electrical']"
   ]
  },
  {
   "cell_type": "code",
   "execution_count": null,
   "metadata": {
    "colab": {
     "base_uri": "https://localhost:8080/"
    },
    "executionInfo": {
     "elapsed": 204,
     "status": "ok",
     "timestamp": 1626083086025,
     "user": {
      "displayName": "Ignacio Soteras",
      "photoUrl": "",
      "userId": "02050793736257155229"
     },
     "user_tz": -120
    },
    "id": "VyyX2kfh01D0",
    "outputId": "5551a3e9-a333-46b7-83e0-819ab6262900"
   },
   "outputs": [],
   "source": [
    "cols_to_drop"
   ]
  },
  {
   "cell_type": "markdown",
   "metadata": {
    "id": "_Yv8sXQp0XWt"
   },
   "source": [
    "# Dropping unwanted columns"
   ]
  },
  {
   "cell_type": "code",
   "execution_count": null,
   "metadata": {
    "colab": {
     "base_uri": "https://localhost:8080/"
    },
    "executionInfo": {
     "elapsed": 231,
     "status": "ok",
     "timestamp": 1626083109720,
     "user": {
      "displayName": "Ignacio Soteras",
      "photoUrl": "",
      "userId": "02050793736257155229"
     },
     "user_tz": -120
    },
    "id": "SY_vFrG90aHp",
    "outputId": "2c930c8b-f0fe-478d-a8a6-56d41afbd3e3"
   },
   "outputs": [],
   "source": [
    "data.drop(columns = cols_to_drop, axis = 1, inplace = True)\n",
    "data.info()"
   ]
  },
  {
   "cell_type": "code",
   "execution_count": null,
   "metadata": {
    "colab": {
     "base_uri": "https://localhost:8080/"
    },
    "executionInfo": {
     "elapsed": 213,
     "status": "ok",
     "timestamp": 1626083131130,
     "user": {
      "displayName": "Ignacio Soteras",
      "photoUrl": "",
      "userId": "02050793736257155229"
     },
     "user_tz": -120
    },
    "id": "DmNg-bKn2bdm",
    "outputId": "5a4d3bb6-5734-4f13-97be-0df4da4f3b3c"
   },
   "outputs": [],
   "source": [
    "data.shape"
   ]
  },
  {
   "cell_type": "markdown",
   "metadata": {
    "id": "cpdqNKLx-hzQ"
   },
   "source": [
    "# Inspecting categorical features"
   ]
  },
  {
   "cell_type": "markdown",
   "metadata": {
    "id": "7RBR7iA1-4XR"
   },
   "source": [
    "'Street'"
   ]
  },
  {
   "cell_type": "code",
   "execution_count": null,
   "metadata": {
    "colab": {
     "base_uri": "https://localhost:8080/"
    },
    "executionInfo": {
     "elapsed": 309,
     "status": "ok",
     "timestamp": 1626083148671,
     "user": {
      "displayName": "Ignacio Soteras",
      "photoUrl": "",
      "userId": "02050793736257155229"
     },
     "user_tz": -120
    },
    "id": "Ol_10r95-TaK",
    "outputId": "8b67ebb9-0d27-4031-b2df-6dd5a286ae1b"
   },
   "outputs": [],
   "source": [
    "data['Street'].value_counts()"
   ]
  },
  {
   "cell_type": "markdown",
   "metadata": {
    "id": "Lsw4Nfw4-svH"
   },
   "source": [
    "High class imbalance, let's drop it."
   ]
  },
  {
   "cell_type": "code",
   "execution_count": null,
   "metadata": {
    "executionInfo": {
     "elapsed": 220,
     "status": "ok",
     "timestamp": 1626083165586,
     "user": {
      "displayName": "Ignacio Soteras",
      "photoUrl": "",
      "userId": "02050793736257155229"
     },
     "user_tz": -120
    },
    "id": "nFzeXA6T-wMv"
   },
   "outputs": [],
   "source": [
    "cols_to_drop = []\n",
    "cols_to_drop += ['Street']"
   ]
  },
  {
   "cell_type": "markdown",
   "metadata": {
    "id": "6dnszRIZ-8xj"
   },
   "source": [
    "LotShape: General shape of property\n",
    "\n",
    "       Reg\tRegular\t\n",
    "       IR1\tSlightly irregular\n",
    "       IR2\tModerately Irregular\n",
    "       IR3\tIrregular"
   ]
  },
  {
   "cell_type": "code",
   "execution_count": null,
   "metadata": {
    "colab": {
     "base_uri": "https://localhost:8080/",
     "height": 497
    },
    "executionInfo": {
     "elapsed": 747,
     "status": "ok",
     "timestamp": 1626083178059,
     "user": {
      "displayName": "Ignacio Soteras",
      "photoUrl": "",
      "userId": "02050793736257155229"
     },
     "user_tz": -120
    },
    "id": "_v4vhFJ9_F0j",
    "outputId": "67817da4-2898-4b68-981c-7cafc8b02e06"
   },
   "outputs": [],
   "source": [
    "# Inspect variable \"LotShape\": plot_count_box()\n",
    "plot_count_box(data, \"LotShape\", \"SalePrice\")"
   ]
  },
  {
   "cell_type": "markdown",
   "metadata": {
    "id": "qw2BF_ax_P1B"
   },
   "source": [
    "It doesn't seem to have a impact on the sale price. Let's drop it."
   ]
  },
  {
   "cell_type": "code",
   "execution_count": null,
   "metadata": {
    "executionInfo": {
     "elapsed": 315,
     "status": "ok",
     "timestamp": 1626083201684,
     "user": {
      "displayName": "Ignacio Soteras",
      "photoUrl": "",
      "userId": "02050793736257155229"
     },
     "user_tz": -120
    },
    "id": "df2m-wdK_W9p"
   },
   "outputs": [],
   "source": [
    "cols_to_drop += ['LotShape']"
   ]
  },
  {
   "cell_type": "markdown",
   "metadata": {
    "id": "7j8KFe_w_lYg"
   },
   "source": [
    "LandContour: Flatness of the property\n",
    "\n",
    "       Lvl\tNear Flat/Level\t\n",
    "       Bnk\tBanked - Quick and significant rise from street grade to building\n",
    "       HLS\tHillside - Significant slope from side to side\n",
    "       Low\tDepression"
   ]
  },
  {
   "cell_type": "code",
   "execution_count": null,
   "metadata": {
    "colab": {
     "base_uri": "https://localhost:8080/",
     "height": 497
    },
    "executionInfo": {
     "elapsed": 722,
     "status": "ok",
     "timestamp": 1626083219700,
     "user": {
      "displayName": "Ignacio Soteras",
      "photoUrl": "",
      "userId": "02050793736257155229"
     },
     "user_tz": -120
    },
    "id": "LdV06ONn_mnE",
    "outputId": "11f6bcea-8e4b-4800-91a2-861b63cebb8e"
   },
   "outputs": [],
   "source": [
    "# Inspect variable \"LandContour\": plot_count_box()\n",
    "plot_count_box(data, \"LandContour\", \"SalePrice\")"
   ]
  },
  {
   "cell_type": "markdown",
   "metadata": {
    "id": "2znG-x1N_xLm"
   },
   "source": [
    "No clear differences and high class imbalance within the possible values. Another feature to drop."
   ]
  },
  {
   "cell_type": "code",
   "execution_count": null,
   "metadata": {
    "executionInfo": {
     "elapsed": 282,
     "status": "ok",
     "timestamp": 1626083240845,
     "user": {
      "displayName": "Ignacio Soteras",
      "photoUrl": "",
      "userId": "02050793736257155229"
     },
     "user_tz": -120
    },
    "id": "Ty5jlHLW_3-r"
   },
   "outputs": [],
   "source": [
    "cols_to_drop += ['LandContour']"
   ]
  },
  {
   "cell_type": "markdown",
   "metadata": {
    "id": "5SuaCUFYABP5"
   },
   "source": [
    "Utilities: Type of utilities available\n",
    "\t\t\n",
    "       AllPub\tAll public Utilities (E,G,W,& S)\t\n",
    "       NoSewr\tElectricity, Gas, and Water (Septic Tank)\n",
    "       NoSeWa\tElectricity and Gas Only\n",
    "       ELO\tElectricity only"
   ]
  },
  {
   "cell_type": "code",
   "execution_count": null,
   "metadata": {
    "colab": {
     "base_uri": "https://localhost:8080/",
     "height": 497
    },
    "executionInfo": {
     "elapsed": 742,
     "status": "ok",
     "timestamp": 1626083255449,
     "user": {
      "displayName": "Ignacio Soteras",
      "photoUrl": "",
      "userId": "02050793736257155229"
     },
     "user_tz": -120
    },
    "id": "8TyMj2eNAFvW",
    "outputId": "d440b0d3-e4f1-4895-eb2f-df840838f3f0"
   },
   "outputs": [],
   "source": [
    "# Inspect variable \"Utilities\": plot_count_box()\n",
    "plot_count_box(data, \"Utilities\", \"SalePrice\")"
   ]
  },
  {
   "cell_type": "markdown",
   "metadata": {
    "id": "b7xgKg6lAL5W"
   },
   "source": [
    "Huge class imbalance, therefore this feature is not informative."
   ]
  },
  {
   "cell_type": "code",
   "execution_count": null,
   "metadata": {
    "executionInfo": {
     "elapsed": 276,
     "status": "ok",
     "timestamp": 1626083282194,
     "user": {
      "displayName": "Ignacio Soteras",
      "photoUrl": "",
      "userId": "02050793736257155229"
     },
     "user_tz": -120
    },
    "id": "XzYvfNHIAOHp"
   },
   "outputs": [],
   "source": [
    "cols_to_drop += ['Utilities']"
   ]
  },
  {
   "cell_type": "markdown",
   "metadata": {
    "id": "qu_ZcFh9AsQ9"
   },
   "source": [
    "LotConfig: Lot configuration\n",
    "\n",
    "       Inside\tInside lot\n",
    "       Corner\tCorner lot\n",
    "       CulDSac\tCul-de-sac\n",
    "       FR2\tFrontage on 2 sides of property\n",
    "       FR3\tFrontage on 3 sides of property"
   ]
  },
  {
   "cell_type": "code",
   "execution_count": null,
   "metadata": {
    "colab": {
     "base_uri": "https://localhost:8080/",
     "height": 497
    },
    "executionInfo": {
     "elapsed": 715,
     "status": "ok",
     "timestamp": 1626083295000,
     "user": {
      "displayName": "Ignacio Soteras",
      "photoUrl": "",
      "userId": "02050793736257155229"
     },
     "user_tz": -120
    },
    "id": "sUdSPG6-Ata4",
    "outputId": "1a6ea5bd-f8f7-4549-bb8b-5e2bb8e89b7f"
   },
   "outputs": [],
   "source": [
    "# Inspect variable \"LotConfig\": plot_count_box()\n",
    "plot_count_box(data, \"LotConfig\",\"SalePrice\")"
   ]
  },
  {
   "cell_type": "markdown",
   "metadata": {
    "id": "wdSZGPu6A0I2"
   },
   "source": [
    "High class imbalance and not informative."
   ]
  },
  {
   "cell_type": "code",
   "execution_count": null,
   "metadata": {
    "executionInfo": {
     "elapsed": 270,
     "status": "ok",
     "timestamp": 1626083313363,
     "user": {
      "displayName": "Ignacio Soteras",
      "photoUrl": "",
      "userId": "02050793736257155229"
     },
     "user_tz": -120
    },
    "id": "TCn6XoGPA3EM"
   },
   "outputs": [],
   "source": [
    "cols_to_drop += ['LotConfig']"
   ]
  },
  {
   "cell_type": "markdown",
   "metadata": {
    "id": "lidMaDDgBB63"
   },
   "source": [
    "LandSlope: Slope of property\n",
    "\t\t\n",
    "       Gtl\tGentle slope\n",
    "       Mod\tModerate Slope\t\n",
    "       Sev\tSevere Slope"
   ]
  },
  {
   "cell_type": "code",
   "execution_count": null,
   "metadata": {
    "colab": {
     "base_uri": "https://localhost:8080/",
     "height": 497
    },
    "executionInfo": {
     "elapsed": 680,
     "status": "ok",
     "timestamp": 1626083321363,
     "user": {
      "displayName": "Ignacio Soteras",
      "photoUrl": "",
      "userId": "02050793736257155229"
     },
     "user_tz": -120
    },
    "id": "1xGgXlgXBDcu",
    "outputId": "63b78806-b0e3-445e-c027-77deb2432e23"
   },
   "outputs": [],
   "source": [
    "# Inspect variable \"LandSlope\": plot_count_box()\n",
    "plot_count_box(data, \"LandSlope\", \"SalePrice\")"
   ]
  },
  {
   "cell_type": "markdown",
   "metadata": {
    "id": "Yip4eKR8BNtR"
   },
   "source": [
    "Same as well"
   ]
  },
  {
   "cell_type": "code",
   "execution_count": null,
   "metadata": {
    "executionInfo": {
     "elapsed": 251,
     "status": "ok",
     "timestamp": 1626083338866,
     "user": {
      "displayName": "Ignacio Soteras",
      "photoUrl": "",
      "userId": "02050793736257155229"
     },
     "user_tz": -120
    },
    "id": "33p3fOn8BPnp"
   },
   "outputs": [],
   "source": [
    "cols_to_drop += ['LandSlope']"
   ]
  },
  {
   "cell_type": "markdown",
   "metadata": {
    "id": "bPrsyTV0Bctf"
   },
   "source": [
    "Condition1: Proximity to various conditions\n",
    "\t\n",
    "       Artery\tAdjacent to arterial street\n",
    "       Feedr\tAdjacent to feeder street\t\n",
    "       Norm\tNormal\t\n",
    "       RRNn\tWithin 200' of North-South Railroad\n",
    "       RRAn\tAdjacent to North-South Railroad\n",
    "       PosN\tNear positive off-site feature--park, greenbelt, etc.\n",
    "       PosA\tAdjacent to postive off-site feature\n",
    "       RRNe\tWithin 200' of East-West Railroad\n",
    "       RRAe\tAdjacent to East-West Railroad"
   ]
  },
  {
   "cell_type": "code",
   "execution_count": null,
   "metadata": {
    "colab": {
     "base_uri": "https://localhost:8080/",
     "height": 497
    },
    "executionInfo": {
     "elapsed": 722,
     "status": "ok",
     "timestamp": 1626083367358,
     "user": {
      "displayName": "Ignacio Soteras",
      "photoUrl": "",
      "userId": "02050793736257155229"
     },
     "user_tz": -120
    },
    "id": "po1FWbfSBd60",
    "outputId": "4d08da47-9937-4eaa-b93a-3856d36c7738"
   },
   "outputs": [],
   "source": [
    "# Inspect variable \"Condition1\": plot_count_box()\n",
    "plot_count_box(data, \"Condition1\", \"SalePrice\")"
   ]
  },
  {
   "cell_type": "markdown",
   "metadata": {
    "id": "jjvTzI1VBqai"
   },
   "source": [
    "Small statistics to extract conclussions. Let's drop it."
   ]
  },
  {
   "cell_type": "code",
   "execution_count": null,
   "metadata": {
    "executionInfo": {
     "elapsed": 244,
     "status": "ok",
     "timestamp": 1626083404141,
     "user": {
      "displayName": "Ignacio Soteras",
      "photoUrl": "",
      "userId": "02050793736257155229"
     },
     "user_tz": -120
    },
    "id": "_jf1EJC8Bxqo"
   },
   "outputs": [],
   "source": [
    "cols_to_drop += ['Condition1']"
   ]
  },
  {
   "cell_type": "markdown",
   "metadata": {
    "id": "GXpu76VHB6Va"
   },
   "source": [
    "Condition2: Proximity to various conditions (if more than one is present)\n",
    "\t\t\n",
    "       Artery\tAdjacent to arterial street\n",
    "       Feedr\tAdjacent to feeder street\t\n",
    "       Norm\tNormal\t\n",
    "       RRNn\tWithin 200' of North-South Railroad\n",
    "       RRAn\tAdjacent to North-South Railroad\n",
    "       PosN\tNear positive off-site feature--park, greenbelt, etc.\n",
    "       PosA\tAdjacent to postive off-site feature\n",
    "       RRNe\tWithin 200' of East-West Railroad\n",
    "       RRAe\tAdjacent to East-West Railroad"
   ]
  },
  {
   "cell_type": "code",
   "execution_count": null,
   "metadata": {
    "colab": {
     "base_uri": "https://localhost:8080/",
     "height": 497
    },
    "executionInfo": {
     "elapsed": 1004,
     "status": "ok",
     "timestamp": 1626083413917,
     "user": {
      "displayName": "Ignacio Soteras",
      "photoUrl": "",
      "userId": "02050793736257155229"
     },
     "user_tz": -120
    },
    "id": "qU7WjdfOB7qk",
    "outputId": "1b874f64-7699-4433-fad2-c8a8297b8ce0"
   },
   "outputs": [],
   "source": [
    "# Inspect variable \"Condition2\": plot_count_box()\n",
    "plot_count_box(data, \"Condition2\", \"SalePrice\")"
   ]
  },
  {
   "cell_type": "markdown",
   "metadata": {
    "id": "_iiEN9OQCBjT"
   },
   "source": [
    "Even worse."
   ]
  },
  {
   "cell_type": "code",
   "execution_count": null,
   "metadata": {
    "executionInfo": {
     "elapsed": 270,
     "status": "ok",
     "timestamp": 1626083428006,
     "user": {
      "displayName": "Ignacio Soteras",
      "photoUrl": "",
      "userId": "02050793736257155229"
     },
     "user_tz": -120
    },
    "id": "NPDC_CoPCDHx"
   },
   "outputs": [],
   "source": [
    "cols_to_drop += ['Condition2']"
   ]
  },
  {
   "cell_type": "markdown",
   "metadata": {
    "id": "u8hb6iqcFjAK"
   },
   "source": [
    "BldgType: Type of dwelling\n",
    "\t\t\n",
    "       1Fam\tSingle-family Detached\t\n",
    "       2FmCon\tTwo-family Conversion; originally built as one-family dwelling\n",
    "       Duplx\tDuplex\n",
    "       TwnhsE\tTownhouse End Unit\n",
    "       TwnhsI\tTownhouse Inside Unit"
   ]
  },
  {
   "cell_type": "code",
   "execution_count": null,
   "metadata": {
    "colab": {
     "base_uri": "https://localhost:8080/",
     "height": 497
    },
    "executionInfo": {
     "elapsed": 751,
     "status": "ok",
     "timestamp": 1626083447062,
     "user": {
      "displayName": "Ignacio Soteras",
      "photoUrl": "",
      "userId": "02050793736257155229"
     },
     "user_tz": -120
    },
    "id": "xR0jCnbwFobt",
    "outputId": "4b79f6e8-52bb-459c-a104-248e5d6de89f"
   },
   "outputs": [],
   "source": [
    "# Inspect variable \"BldgType\": plot_count_box()\n",
    "plot_count_box(data, \"BldgType\",\"SalePrice\")"
   ]
  },
  {
   "cell_type": "markdown",
   "metadata": {
    "id": "4p-EDFmoIA_2"
   },
   "source": [
    "Again, high imbalanace and high overlap. A pity as this could be a good feature."
   ]
  },
  {
   "cell_type": "code",
   "execution_count": null,
   "metadata": {
    "executionInfo": {
     "elapsed": 268,
     "status": "ok",
     "timestamp": 1626083459436,
     "user": {
      "displayName": "Ignacio Soteras",
      "photoUrl": "",
      "userId": "02050793736257155229"
     },
     "user_tz": -120
    },
    "id": "DZOIghFBIJQD"
   },
   "outputs": [],
   "source": [
    "cols_to_drop += ['BldgType']"
   ]
  },
  {
   "cell_type": "markdown",
   "metadata": {
    "id": "Sf-s4iG8IUYA"
   },
   "source": [
    "HouseStyle: Style of dwelling\n",
    "\t\n",
    "       1Story\tOne story\n",
    "       1.5Fin\tOne and one-half story: 2nd level finished\n",
    "       1.5Unf\tOne and one-half story: 2nd level unfinished\n",
    "       2Story\tTwo story\n",
    "       2.5Fin\tTwo and one-half story: 2nd level finished\n",
    "       2.5Unf\tTwo and one-half story: 2nd level unfinished\n",
    "       SFoyer\tSplit Foyer\n",
    "       SLvl\tSplit Level"
   ]
  },
  {
   "cell_type": "code",
   "execution_count": null,
   "metadata": {
    "colab": {
     "base_uri": "https://localhost:8080/",
     "height": 497
    },
    "executionInfo": {
     "elapsed": 632,
     "status": "ok",
     "timestamp": 1626083472504,
     "user": {
      "displayName": "Ignacio Soteras",
      "photoUrl": "",
      "userId": "02050793736257155229"
     },
     "user_tz": -120
    },
    "id": "Lj0hzQj7IZjI",
    "outputId": "06785b7f-8de0-4d4f-cffc-745132a4ca67"
   },
   "outputs": [],
   "source": [
    "# Inspect variable \"HouseStyle\": plot_count_box()\n",
    "plot_count_box(data, \"HouseStyle\", \"SalePrice\")"
   ]
  },
  {
   "cell_type": "markdown",
   "metadata": {
    "id": "wsqL0XagIhLK"
   },
   "source": [
    "Same problem"
   ]
  },
  {
   "cell_type": "code",
   "execution_count": null,
   "metadata": {
    "executionInfo": {
     "elapsed": 198,
     "status": "ok",
     "timestamp": 1626083493290,
     "user": {
      "displayName": "Ignacio Soteras",
      "photoUrl": "",
      "userId": "02050793736257155229"
     },
     "user_tz": -120
    },
    "id": "xwl8_we7IiQ5"
   },
   "outputs": [],
   "source": [
    "cols_to_drop += ['HouseStyle']"
   ]
  },
  {
   "cell_type": "markdown",
   "metadata": {
    "id": "bJDrYhOIIvj9"
   },
   "source": [
    "RoofStyle: Type of roof\n",
    "\n",
    "       Flat\tFlat\n",
    "       Gable\tGable\n",
    "       Gambrel\tGabrel (Barn)\n",
    "       Hip\tHip\n",
    "       Mansard\tMansard\n",
    "       Shed\tShed"
   ]
  },
  {
   "cell_type": "code",
   "execution_count": null,
   "metadata": {
    "colab": {
     "base_uri": "https://localhost:8080/",
     "height": 497
    },
    "executionInfo": {
     "elapsed": 748,
     "status": "ok",
     "timestamp": 1626083509505,
     "user": {
      "displayName": "Ignacio Soteras",
      "photoUrl": "",
      "userId": "02050793736257155229"
     },
     "user_tz": -120
    },
    "id": "UVsj8UxyI9NX",
    "outputId": "a67dd08d-2740-4546-e2e0-4e4ac92185e5"
   },
   "outputs": [],
   "source": [
    "# Inspect variable \"RoofStyle\": plot_count_box()\n",
    "plot_count_box(data, \"RoofStyle\", \"SalePrice\")"
   ]
  },
  {
   "cell_type": "markdown",
   "metadata": {
    "id": "oXN0cjcjJJK8"
   },
   "source": [
    "Same"
   ]
  },
  {
   "cell_type": "code",
   "execution_count": null,
   "metadata": {
    "executionInfo": {
     "elapsed": 211,
     "status": "ok",
     "timestamp": 1626083519048,
     "user": {
      "displayName": "Ignacio Soteras",
      "photoUrl": "",
      "userId": "02050793736257155229"
     },
     "user_tz": -120
    },
    "id": "GIDSNG_xJMAi"
   },
   "outputs": [],
   "source": [
    "cols_to_drop += ['RoofStyle']"
   ]
  },
  {
   "cell_type": "markdown",
   "metadata": {
    "id": "C09ZVSJnJWN5"
   },
   "source": [
    "RoofMatl: Roof material\n",
    "\n",
    "       ClyTile\tClay or Tile\n",
    "       CompShg\tStandard (Composite) Shingle\n",
    "       Membran\tMembrane\n",
    "       Metal\tMetal\n",
    "       Roll\tRoll\n",
    "       Tar&Grv\tGravel & Tar\n",
    "       WdShake\tWood Shakes\n",
    "       WdShngl\tWood Shingles"
   ]
  },
  {
   "cell_type": "code",
   "execution_count": null,
   "metadata": {
    "colab": {
     "base_uri": "https://localhost:8080/",
     "height": 497
    },
    "executionInfo": {
     "elapsed": 701,
     "status": "ok",
     "timestamp": 1626083528936,
     "user": {
      "displayName": "Ignacio Soteras",
      "photoUrl": "",
      "userId": "02050793736257155229"
     },
     "user_tz": -120
    },
    "id": "NG_d1-jUJaPR",
    "outputId": "00d43711-1149-49ba-aac0-31b9330b21e1"
   },
   "outputs": [],
   "source": [
    "# Inspect variable \"RoofMatl\": plot_count_box()\n",
    "plot_count_box(data, \"RoofMatl\", \"SalePrice\")"
   ]
  },
  {
   "cell_type": "markdown",
   "metadata": {
    "id": "NbXyLwiRJ1Kp"
   },
   "source": [
    "Apperently WdShngl houses have a higher sale price but the number of samples is nog big enough"
   ]
  },
  {
   "cell_type": "code",
   "execution_count": null,
   "metadata": {
    "colab": {
     "base_uri": "https://localhost:8080/"
    },
    "executionInfo": {
     "elapsed": 260,
     "status": "ok",
     "timestamp": 1626083540569,
     "user": {
      "displayName": "Ignacio Soteras",
      "photoUrl": "",
      "userId": "02050793736257155229"
     },
     "user_tz": -120
    },
    "id": "7IrYMsFnJnsh",
    "outputId": "481f908f-01e0-4009-f869-3f94c2cb935b"
   },
   "outputs": [],
   "source": [
    "data['RoofMatl'].value_counts()"
   ]
  },
  {
   "cell_type": "markdown",
   "metadata": {
    "id": "QPnvVBspJvX-"
   },
   "source": [
    "Useless feature because of lack of data"
   ]
  },
  {
   "cell_type": "code",
   "execution_count": null,
   "metadata": {
    "executionInfo": {
     "elapsed": 257,
     "status": "ok",
     "timestamp": 1626083550304,
     "user": {
      "displayName": "Ignacio Soteras",
      "photoUrl": "",
      "userId": "02050793736257155229"
     },
     "user_tz": -120
    },
    "id": "vt8yaRefJzCJ"
   },
   "outputs": [],
   "source": [
    "cols_to_drop += ['RoofMatl']"
   ]
  },
  {
   "cell_type": "markdown",
   "metadata": {
    "id": "IT1TBJi0KKPm"
   },
   "source": [
    "Exterior1st: Exterior covering on house\n",
    "\n",
    "       AsbShng\tAsbestos Shingles\n",
    "       AsphShn\tAsphalt Shingles\n",
    "       BrkComm\tBrick Common\n",
    "       BrkFace\tBrick Face\n",
    "       CBlock\tCinder Block\n",
    "       CemntBd\tCement Board\n",
    "       HdBoard\tHard Board\n",
    "       ImStucc\tImitation Stucco\n",
    "       MetalSd\tMetal Siding\n",
    "       Other\tOther\n",
    "       Plywood\tPlywood\n",
    "       PreCast\tPreCast\t\n",
    "       Stone\tStone\n",
    "       Stucco\tStucco\n",
    "       VinylSd\tVinyl Siding\n",
    "       Wd Sdng\tWood Siding\n",
    "       WdShing\tWood Shingles"
   ]
  },
  {
   "cell_type": "code",
   "execution_count": null,
   "metadata": {
    "colab": {
     "base_uri": "https://localhost:8080/",
     "height": 497
    },
    "executionInfo": {
     "elapsed": 1193,
     "status": "ok",
     "timestamp": 1626083565390,
     "user": {
      "displayName": "Ignacio Soteras",
      "photoUrl": "",
      "userId": "02050793736257155229"
     },
     "user_tz": -120
    },
    "id": "GLr5ODs7KLYC",
    "outputId": "bad1b70e-a40b-4508-9408-e766618e1966"
   },
   "outputs": [],
   "source": [
    "# Inspect variable \"Exterior1st\": plot_count_box(,orient='h')\n",
    "plot_count_box(data, \"Exterior1st\", \"SalePrice\",orient='h')"
   ]
  },
  {
   "cell_type": "markdown",
   "metadata": {
    "id": "5R6qrGmUKyrf"
   },
   "source": [
    "We have some values with a lot of samples and others undersampled. We can can think groupping the low sampled groups together.\n",
    "\n"
   ]
  },
  {
   "cell_type": "code",
   "execution_count": null,
   "metadata": {
    "colab": {
     "base_uri": "https://localhost:8080/"
    },
    "executionInfo": {
     "elapsed": 247,
     "status": "ok",
     "timestamp": 1626083583085,
     "user": {
      "displayName": "Ignacio Soteras",
      "photoUrl": "",
      "userId": "02050793736257155229"
     },
     "user_tz": -120
    },
    "id": "a1yHfSHOLCWm",
    "outputId": "62b349f8-d3a0-4a0d-dc1a-1d61ebfa022e"
   },
   "outputs": [],
   "source": [
    "data['Exterior1st'].value_counts()"
   ]
  },
  {
   "cell_type": "code",
   "execution_count": null,
   "metadata": {
    "executionInfo": {
     "elapsed": 206,
     "status": "ok",
     "timestamp": 1626083676985,
     "user": {
      "displayName": "Ignacio Soteras",
      "photoUrl": "",
      "userId": "02050793736257155229"
     },
     "user_tz": -120
    },
    "id": "YFk_EqsjLcAF"
   },
   "outputs": [],
   "source": [
    "data['Exterior1st'] = np.where(data['Exterior1st'].isin(['VinylSd','MetalSd','HdBoard','Wd Sdng','Plywood']),data['Exterior1st'],'Other')"
   ]
  },
  {
   "cell_type": "code",
   "execution_count": null,
   "metadata": {
    "colab": {
     "base_uri": "https://localhost:8080/"
    },
    "executionInfo": {
     "elapsed": 228,
     "status": "ok",
     "timestamp": 1626083679153,
     "user": {
      "displayName": "Ignacio Soteras",
      "photoUrl": "",
      "userId": "02050793736257155229"
     },
     "user_tz": -120
    },
    "id": "FcTgJMIo-Lww",
    "outputId": "f5bf2f5b-db84-4716-cdd0-7dcd3d012136"
   },
   "outputs": [],
   "source": [
    "data['Exterior1st'].value_counts()"
   ]
  },
  {
   "cell_type": "code",
   "execution_count": null,
   "metadata": {
    "colab": {
     "base_uri": "https://localhost:8080/",
     "height": 497
    },
    "executionInfo": {
     "elapsed": 587,
     "status": "ok",
     "timestamp": 1626083700917,
     "user": {
      "displayName": "Ignacio Soteras",
      "photoUrl": "",
      "userId": "02050793736257155229"
     },
     "user_tz": -120
    },
    "id": "ckJywVeJ-S4J",
    "outputId": "9deca5a1-7376-4c47-ade4-dca31bf37829"
   },
   "outputs": [],
   "source": [
    "# Inspect again the variable \"Exterior1st\": plot_count_box()\n",
    "plot_count_box(data, \"Exterior1st\", \"SalePrice\")"
   ]
  },
  {
   "cell_type": "markdown",
   "metadata": {
    "id": "l0D-Kkc9-dWz"
   },
   "source": [
    "Even grouping, this variable doesn't seem to help in determining the final selling prices given the overlap."
   ]
  },
  {
   "cell_type": "code",
   "execution_count": null,
   "metadata": {
    "executionInfo": {
     "elapsed": 243,
     "status": "ok",
     "timestamp": 1626083742292,
     "user": {
      "displayName": "Ignacio Soteras",
      "photoUrl": "",
      "userId": "02050793736257155229"
     },
     "user_tz": -120
    },
    "id": "jKWRhoSQ_B0D"
   },
   "outputs": [],
   "source": [
    "cols_to_drop += ['Exterior1st']"
   ]
  },
  {
   "cell_type": "markdown",
   "metadata": {
    "id": "S5eN8thMMJS6"
   },
   "source": [
    "Exterior2nd: Exterior covering on house (if more than one material)\n",
    "\n",
    "       AsbShng\tAsbestos Shingles\n",
    "       AsphShn\tAsphalt Shingles\n",
    "       BrkComm\tBrick Common\n",
    "       BrkFace\tBrick Face\n",
    "       CBlock\tCinder Block\n",
    "       CemntBd\tCement Board\n",
    "       HdBoard\tHard Board\n",
    "       ImStucc\tImitation Stucco\n",
    "       MetalSd\tMetal Siding\n",
    "       Other\tOther\n",
    "       Plywood\tPlywood\n",
    "       PreCast\tPreCast\n",
    "       Stone\tStone\n",
    "       Stucco\tStucco\n",
    "       VinylSd\tVinyl Siding\n",
    "       Wd Sdng\tWood Siding\n",
    "       WdShing\tWood Shingles"
   ]
  },
  {
   "cell_type": "code",
   "execution_count": null,
   "metadata": {
    "colab": {
     "base_uri": "https://localhost:8080/",
     "height": 497
    },
    "executionInfo": {
     "elapsed": 1116,
     "status": "ok",
     "timestamp": 1626083760939,
     "user": {
      "displayName": "Ignacio Soteras",
      "photoUrl": "",
      "userId": "02050793736257155229"
     },
     "user_tz": -120
    },
    "id": "w5hdKscYMOcB",
    "outputId": "2cd90b32-16ac-42b2-b2ee-5faaee07dfd5"
   },
   "outputs": [],
   "source": [
    "# Inspect variable \"Exterior2nd\": plot_count_box(,orient = \"h\")\n",
    "plot_count_box(data,\"Exterior2nd\",\"SalePrice\",orient = \"h\")"
   ]
  },
  {
   "cell_type": "code",
   "execution_count": null,
   "metadata": {
    "colab": {
     "base_uri": "https://localhost:8080/"
    },
    "executionInfo": {
     "elapsed": 247,
     "status": "ok",
     "timestamp": 1626083772399,
     "user": {
      "displayName": "Ignacio Soteras",
      "photoUrl": "",
      "userId": "02050793736257155229"
     },
     "user_tz": -120
    },
    "id": "koUd8QmNXVWv",
    "outputId": "e91cfa11-afba-4a70-b110-d1bb880e6fda"
   },
   "outputs": [],
   "source": [
    "data['Exterior2nd'].value_counts()"
   ]
  },
  {
   "cell_type": "markdown",
   "metadata": {
    "id": "uHamZUiUXfnH"
   },
   "source": [
    "It seems to be redundant. Let's drop it."
   ]
  },
  {
   "cell_type": "code",
   "execution_count": null,
   "metadata": {
    "executionInfo": {
     "elapsed": 235,
     "status": "ok",
     "timestamp": 1626083793884,
     "user": {
      "displayName": "Ignacio Soteras",
      "photoUrl": "",
      "userId": "02050793736257155229"
     },
     "user_tz": -120
    },
    "id": "Tlm0yglDXilL"
   },
   "outputs": [],
   "source": [
    "cols_to_drop += ['Exterior2nd']"
   ]
  },
  {
   "cell_type": "markdown",
   "metadata": {
    "id": "sYd5JOO8MeYu"
   },
   "source": [
    "ExterQual: Evaluates the quality of the material on the exterior \n",
    "\t\t\n",
    "       Ex\tExcellent\n",
    "       Gd\tGood\n",
    "       TA\tAverage/Typical\n",
    "       Fa\tFair\n",
    "       Po\tPoor"
   ]
  },
  {
   "cell_type": "code",
   "execution_count": null,
   "metadata": {
    "colab": {
     "base_uri": "https://localhost:8080/",
     "height": 497
    },
    "executionInfo": {
     "elapsed": 725,
     "status": "ok",
     "timestamp": 1626083809486,
     "user": {
      "displayName": "Ignacio Soteras",
      "photoUrl": "",
      "userId": "02050793736257155229"
     },
     "user_tz": -120
    },
    "id": "inqTqPN2Mkuh",
    "outputId": "0d99806c-9027-41a9-c446-87d41d1b457a"
   },
   "outputs": [],
   "source": [
    "# Inspect variable \"ExterQual\": plot_count_box()\n",
    "plot_count_box(data,\"ExterQual\",\"SalePrice\" )"
   ]
  },
  {
   "cell_type": "code",
   "execution_count": null,
   "metadata": {
    "colab": {
     "base_uri": "https://localhost:8080/"
    },
    "executionInfo": {
     "elapsed": 236,
     "status": "ok",
     "timestamp": 1626083829401,
     "user": {
      "displayName": "Ignacio Soteras",
      "photoUrl": "",
      "userId": "02050793736257155229"
     },
     "user_tz": -120
    },
    "id": "NKS6aLgZMxvs",
    "outputId": "1c7b2ce2-b9b8-47a2-851e-62b7cf71ed2b"
   },
   "outputs": [],
   "source": [
    "data['ExterQual'].value_counts()"
   ]
  },
  {
   "cell_type": "code",
   "execution_count": null,
   "metadata": {
    "colab": {
     "base_uri": "https://localhost:8080/"
    },
    "executionInfo": {
     "elapsed": 234,
     "status": "ok",
     "timestamp": 1626083925693,
     "user": {
      "displayName": "Ignacio Soteras",
      "photoUrl": "",
      "userId": "02050793736257155229"
     },
     "user_tz": -120
    },
    "id": "q1rdcSe-6kgW",
    "outputId": "70f32ada-02fd-4f9b-fe32-9b5797a8e00e"
   },
   "outputs": [],
   "source": [
    "m1 = data[data['ExterQual'] == 'Fa']['SalePrice'].mean()\n",
    "m2 = data[data['ExterQual'].isin(['TA','Gd']) == True]['SalePrice'].mean()\n",
    "m3 = data[data['ExterQual'] == 'Ex']['SalePrice'].mean()\n",
    "\n",
    "print(\"Mean prices of houses with ExterQual = 'Fa': {:.2f}\".format(m1))\n",
    "print(\"Mean prices of houses with ExterQual = ['TA','Gd']: {:.2f}\".format(m2))\n",
    "print(\"Mean prices of houses with ExterQual = 'Ex': {:.2f}\".format(m3))\n",
    "\n",
    "print(\"Ratio m2/m1: {:.2f}\".format(m2/m1))\n",
    "print(\"Ratio m2/m1: {:.2f}\".format(m3/m1))"
   ]
  },
  {
   "cell_type": "code",
   "execution_count": null,
   "metadata": {
    "executionInfo": {
     "elapsed": 241,
     "status": "ok",
     "timestamp": 1626084052502,
     "user": {
      "displayName": "Ignacio Soteras",
      "photoUrl": "",
      "userId": "02050793736257155229"
     },
     "user_tz": -120
    },
    "id": "52zBU-DaNF_4"
   },
   "outputs": [],
   "source": [
    "# Let's cast this into a numerical variable\n",
    "data['ExterQual'] = data['ExterQual'].replace({'Fa':1, 'TA': 1.97,'Gd': 1.97, 'Ex': 4.23})"
   ]
  },
  {
   "cell_type": "markdown",
   "metadata": {
    "id": "LKqUbhphNiDm"
   },
   "source": [
    "ExterCond: Evaluates the present condition of the material on the exterior\n",
    "\t\t\n",
    "       Ex\tExcellent\n",
    "       Gd\tGood\n",
    "       TA\tAverage/Typical\n",
    "       Fa\tFair\n",
    "       Po\tPoor"
   ]
  },
  {
   "cell_type": "code",
   "execution_count": null,
   "metadata": {
    "colab": {
     "base_uri": "https://localhost:8080/",
     "height": 497
    },
    "executionInfo": {
     "elapsed": 788,
     "status": "ok",
     "timestamp": 1626084061979,
     "user": {
      "displayName": "Ignacio Soteras",
      "photoUrl": "",
      "userId": "02050793736257155229"
     },
     "user_tz": -120
    },
    "id": "PfJinlg_NnNM",
    "outputId": "6a983a54-37f1-440c-ad44-0867c071c279"
   },
   "outputs": [],
   "source": [
    "# Inspect variable \"ExterCond\": plot_count_box()\n",
    "plot_count_box(data, \"ExterCond\",\"SalePrice\")"
   ]
  },
  {
   "cell_type": "markdown",
   "metadata": {
    "id": "0Jv27h8INzJa"
   },
   "source": [
    "The most sampled value for 'ExterCond' is 'TA' which has a huge range of selling prices. Let's drop it"
   ]
  },
  {
   "cell_type": "code",
   "execution_count": null,
   "metadata": {
    "executionInfo": {
     "elapsed": 247,
     "status": "ok",
     "timestamp": 1626084085191,
     "user": {
      "displayName": "Ignacio Soteras",
      "photoUrl": "",
      "userId": "02050793736257155229"
     },
     "user_tz": -120
    },
    "id": "W2LzLKcbOPlO"
   },
   "outputs": [],
   "source": [
    "cols_to_drop += ['ExterCond']"
   ]
  },
  {
   "cell_type": "markdown",
   "metadata": {
    "id": "WY7VXxn7OZ9-"
   },
   "source": [
    "Foundation: Type of foundation\n",
    "\t\t\n",
    "       BrkTil\tBrick & Tile\n",
    "       CBlock\tCinder Block\n",
    "       PConc\tPoured Contrete\t\n",
    "       Slab\tSlab\n",
    "       Stone\tStone\n",
    "       Wood\tWood"
   ]
  },
  {
   "cell_type": "code",
   "execution_count": null,
   "metadata": {
    "colab": {
     "base_uri": "https://localhost:8080/",
     "height": 497
    },
    "executionInfo": {
     "elapsed": 726,
     "status": "ok",
     "timestamp": 1626084098274,
     "user": {
      "displayName": "Ignacio Soteras",
      "photoUrl": "",
      "userId": "02050793736257155229"
     },
     "user_tz": -120
    },
    "id": "oV9IMpRZOfUH",
    "outputId": "62e08879-13a6-4d65-da30-3485c0b04056"
   },
   "outputs": [],
   "source": [
    "# Inspect variable \"Foundation\": plot_count_box()\n",
    "plot_count_box(data, \"Foundation\", \"SalePrice\")"
   ]
  },
  {
   "cell_type": "markdown",
   "metadata": {
    "id": "rMYYJDaoOylD"
   },
   "source": [
    "No clear conclussions can be extracted"
   ]
  },
  {
   "cell_type": "code",
   "execution_count": null,
   "metadata": {
    "executionInfo": {
     "elapsed": 219,
     "status": "ok",
     "timestamp": 1626084120465,
     "user": {
      "displayName": "Ignacio Soteras",
      "photoUrl": "",
      "userId": "02050793736257155229"
     },
     "user_tz": -120
    },
    "id": "l37_qaXpO1Fi"
   },
   "outputs": [],
   "source": [
    "cols_to_drop += ['Foundation']"
   ]
  },
  {
   "cell_type": "markdown",
   "metadata": {
    "id": "Ijg1mjpTO8ok"
   },
   "source": [
    "Heating: Type of heating\n",
    "\t\t\n",
    "       Floor\tFloor Furnace\n",
    "       GasA\tGas forced warm air furnace\n",
    "       GasW\tGas hot water or steam heat\n",
    "       Grav\tGravity furnace\t\n",
    "       OthW\tHot water or steam heat other than gas\n",
    "       Wall\tWall furnace"
   ]
  },
  {
   "cell_type": "code",
   "execution_count": null,
   "metadata": {
    "colab": {
     "base_uri": "https://localhost:8080/",
     "height": 497
    },
    "executionInfo": {
     "elapsed": 780,
     "status": "ok",
     "timestamp": 1626084129947,
     "user": {
      "displayName": "Ignacio Soteras",
      "photoUrl": "",
      "userId": "02050793736257155229"
     },
     "user_tz": -120
    },
    "id": "qqYrLLKDPEAC",
    "outputId": "67edb883-36fa-4bd7-b37e-a2f677d85d27"
   },
   "outputs": [],
   "source": [
    "# Inspect variable \"Heating\": plot_count_box()\n",
    "plot_count_box(data, \"Heating\", \"SalePrice\")"
   ]
  },
  {
   "cell_type": "markdown",
   "metadata": {
    "id": "K3xKUf20POz2"
   },
   "source": [
    "Not conclussive "
   ]
  },
  {
   "cell_type": "code",
   "execution_count": null,
   "metadata": {
    "colab": {
     "base_uri": "https://localhost:8080/"
    },
    "executionInfo": {
     "elapsed": 239,
     "status": "ok",
     "timestamp": 1626084159978,
     "user": {
      "displayName": "Ignacio Soteras",
      "photoUrl": "",
      "userId": "02050793736257155229"
     },
     "user_tz": -120
    },
    "id": "q-edFOxbPS5y",
    "outputId": "d9969c6f-a23c-4d11-d6b1-110ffd5101ee"
   },
   "outputs": [],
   "source": [
    "data['Heating'].value_counts()"
   ]
  },
  {
   "cell_type": "code",
   "execution_count": null,
   "metadata": {
    "executionInfo": {
     "elapsed": 605,
     "status": "ok",
     "timestamp": 1626084174249,
     "user": {
      "displayName": "Ignacio Soteras",
      "photoUrl": "",
      "userId": "02050793736257155229"
     },
     "user_tz": -120
    },
    "id": "qvUCxSNYPlUQ"
   },
   "outputs": [],
   "source": [
    "cols_to_drop += ['Heating']"
   ]
  },
  {
   "cell_type": "markdown",
   "metadata": {
    "id": "bwzChbcvPwWb"
   },
   "source": [
    "HeatingQC: Heating quality and condition\n",
    "\n",
    "       Ex\tExcellent\n",
    "       Gd\tGood\n",
    "       TA\tAverage/Typical\n",
    "       Fa\tFair\n",
    "       Po\tPoor"
   ]
  },
  {
   "cell_type": "code",
   "execution_count": null,
   "metadata": {
    "colab": {
     "base_uri": "https://localhost:8080/",
     "height": 497
    },
    "executionInfo": {
     "elapsed": 550,
     "status": "ok",
     "timestamp": 1626084180655,
     "user": {
      "displayName": "Ignacio Soteras",
      "photoUrl": "",
      "userId": "02050793736257155229"
     },
     "user_tz": -120
    },
    "id": "lJ5SzDo8P0Zf",
    "outputId": "53c87c18-d7fe-4ba8-a27a-8b2b8173aad9"
   },
   "outputs": [],
   "source": [
    "# Inspect variable \"HeatingQC\": plot_count_box()\n",
    "plot_count_box(data, \"HeatingQC\", \"SalePrice\")"
   ]
  },
  {
   "cell_type": "markdown",
   "metadata": {
    "id": "CVEW0gVOP-Ln"
   },
   "source": [
    "Good sampling ( except 'poor' ) but high overlap to be conclussive. Let's drop it. "
   ]
  },
  {
   "cell_type": "code",
   "execution_count": null,
   "metadata": {
    "executionInfo": {
     "elapsed": 621,
     "status": "ok",
     "timestamp": 1626084202695,
     "user": {
      "displayName": "Ignacio Soteras",
      "photoUrl": "",
      "userId": "02050793736257155229"
     },
     "user_tz": -120
    },
    "id": "4pi3BMc1QMH3"
   },
   "outputs": [],
   "source": [
    "cols_to_drop += ['HeatingQC']"
   ]
  },
  {
   "cell_type": "markdown",
   "metadata": {
    "id": "E-IMxN4CQWTA"
   },
   "source": [
    "CentralAir: Central air conditioning\n",
    "\n",
    "       N\tNo\n",
    "       Y\tYes"
   ]
  },
  {
   "cell_type": "code",
   "execution_count": null,
   "metadata": {
    "colab": {
     "base_uri": "https://localhost:8080/",
     "height": 501
    },
    "executionInfo": {
     "elapsed": 615,
     "status": "ok",
     "timestamp": 1626084218899,
     "user": {
      "displayName": "Ignacio Soteras",
      "photoUrl": "",
      "userId": "02050793736257155229"
     },
     "user_tz": -120
    },
    "id": "IkJSTg0rQaJl",
    "outputId": "aebd54ec-6bd6-4187-c7c9-d7299b441e92"
   },
   "outputs": [],
   "source": [
    "# Inspect variable \"CentralAir\": plot_count_box()\n",
    "plot_count_box(data,\"CentralAir\",\"SalePrice\" )"
   ]
  },
  {
   "cell_type": "code",
   "execution_count": null,
   "metadata": {
    "colab": {
     "base_uri": "https://localhost:8080/"
    },
    "executionInfo": {
     "elapsed": 658,
     "status": "ok",
     "timestamp": 1626084230983,
     "user": {
      "displayName": "Ignacio Soteras",
      "photoUrl": "",
      "userId": "02050793736257155229"
     },
     "user_tz": -120
    },
    "id": "02MoM3GvQjnb",
    "outputId": "99fa0086-8e38-4df9-d884-d80f2f3f213b"
   },
   "outputs": [],
   "source": [
    "data['CentralAir'].value_counts()"
   ]
  },
  {
   "cell_type": "markdown",
   "metadata": {
    "id": "WDTVCYJ1QtTH"
   },
   "source": [
    "I will keep this feature as even though there is some overlap, in general the selling prices are bigger for houses where CentralAir is present. However, I will recode this feature."
   ]
  },
  {
   "cell_type": "code",
   "execution_count": null,
   "metadata": {
    "executionInfo": {
     "elapsed": 253,
     "status": "ok",
     "timestamp": 1626084447076,
     "user": {
      "displayName": "Ignacio Soteras",
      "photoUrl": "",
      "userId": "02050793736257155229"
     },
     "user_tz": -120
    },
    "id": "DpBEd8oXREba"
   },
   "outputs": [],
   "source": [
    "data['CentralAir'] = np.where(data['CentralAir'] == \"Y\",1,0)"
   ]
  },
  {
   "cell_type": "markdown",
   "metadata": {
    "id": "t2t422QqRTDZ"
   },
   "source": [
    "KitchenQual: Kitchen quality\n",
    "\n",
    "       Ex\tExcellent\n",
    "       Gd\tGood\n",
    "       TA\tTypical/Average\n",
    "       Fa\tFair\n",
    "       Po\tPoor"
   ]
  },
  {
   "cell_type": "code",
   "execution_count": null,
   "metadata": {
    "colab": {
     "base_uri": "https://localhost:8080/",
     "height": 497
    },
    "executionInfo": {
     "elapsed": 761,
     "status": "ok",
     "timestamp": 1626084458945,
     "user": {
      "displayName": "Ignacio Soteras",
      "photoUrl": "",
      "userId": "02050793736257155229"
     },
     "user_tz": -120
    },
    "id": "5k35zFWmRYBS",
    "outputId": "396d5475-2511-4d3a-eec8-86f99205c24a"
   },
   "outputs": [],
   "source": [
    "# Inspect variable \"KitchenQual\": plot_count_box()\n",
    "plot_count_box(data, \"KitchenQual\", \"SalePrice\")"
   ]
  },
  {
   "cell_type": "code",
   "execution_count": null,
   "metadata": {
    "colab": {
     "base_uri": "https://localhost:8080/"
    },
    "executionInfo": {
     "elapsed": 307,
     "status": "ok",
     "timestamp": 1626084477915,
     "user": {
      "displayName": "Ignacio Soteras",
      "photoUrl": "",
      "userId": "02050793736257155229"
     },
     "user_tz": -120
    },
    "id": "XtoDhGtFRovh",
    "outputId": "c5e69792-4770-4dc1-bab4-ea4462596b41"
   },
   "outputs": [],
   "source": [
    "data['KitchenQual'].value_counts()"
   ]
  },
  {
   "cell_type": "code",
   "execution_count": null,
   "metadata": {
    "colab": {
     "base_uri": "https://localhost:8080/"
    },
    "executionInfo": {
     "elapsed": 445,
     "status": "ok",
     "timestamp": 1620035762092,
     "user": {
      "displayName": "Ignacio Soteras",
      "photoUrl": "",
      "userId": "02050793736257155229"
     },
     "user_tz": -120
    },
    "id": "1CCQf4Bo2C6C",
    "outputId": "0a8b81d4-4d95-429e-b843-2cba161bca86"
   },
   "outputs": [],
   "source": [
    "m1 = data[data['KitchenQual'] == 'Fa']['SalePrice'].mean()\n",
    "m2 = data[data['KitchenQual'].isin(['TA','Gd']) == True]['SalePrice'].mean()\n",
    "m3 = data[data['KitchenQual'] == 'Ex']['SalePrice'].mean()\n",
    "\n",
    "print(\"Mean price of houses where KitchenQual = 'Fa', {}\".format(round(m1,2)))\n",
    "print(\"Mean price of houses where KitchenQual = ['TA','Gd'], {}\".format(round(m2,2)))\n",
    "print(\"Mean price of houses where KitchenQual = 'Ex', {}\".format(round(m3,2)))\n",
    "\n",
    "print(\"Ratio m2/m1: \",round(m2/m1,2))\n",
    "print(\"Ratio m3/m1: \",round(m3/m1,2))"
   ]
  },
  {
   "cell_type": "markdown",
   "metadata": {
    "id": "4YdgiQVcSViI"
   },
   "source": [
    "Sampling is good but the groups can be grouped in two groups:\n",
    "\n",
    "* Group 1: Ex/Gd\n",
    "* Group 2: Else"
   ]
  },
  {
   "cell_type": "code",
   "execution_count": null,
   "metadata": {
    "executionInfo": {
     "elapsed": 266,
     "status": "ok",
     "timestamp": 1626084605057,
     "user": {
      "displayName": "Ignacio Soteras",
      "photoUrl": "",
      "userId": "02050793736257155229"
     },
     "user_tz": -120
    },
    "id": "ek2yhyvuSakF"
   },
   "outputs": [],
   "source": [
    "# Let's turn this into a numerical variable\n",
    "data['KitchenQual'] = data['KitchenQual'].replace({'Fa': 1, 'TA': 1.61, 'Gd': 1.61, 'Ex': 3.14})"
   ]
  },
  {
   "cell_type": "markdown",
   "metadata": {
    "id": "sqmt4y5aS9Ys"
   },
   "source": [
    "Functional: Home functionality (Assume typical unless deductions are warranted)\n",
    "\n",
    "       Typ\tTypical Functionality\n",
    "       Min1\tMinor Deductions 1\n",
    "       Min2\tMinor Deductions 2\n",
    "       Mod\tModerate Deductions\n",
    "       Maj1\tMajor Deductions 1\n",
    "       Maj2\tMajor Deductions 2\n",
    "       Sev\tSeverely Damaged\n",
    "       Sal\tSalvage only"
   ]
  },
  {
   "cell_type": "code",
   "execution_count": null,
   "metadata": {
    "colab": {
     "base_uri": "https://localhost:8080/",
     "height": 501
    },
    "executionInfo": {
     "elapsed": 680,
     "status": "ok",
     "timestamp": 1626084614467,
     "user": {
      "displayName": "Ignacio Soteras",
      "photoUrl": "",
      "userId": "02050793736257155229"
     },
     "user_tz": -120
    },
    "id": "uhWDMcfyTE-O",
    "outputId": "80ee702b-e33d-4528-cbac-e82f88c50272"
   },
   "outputs": [],
   "source": [
    "# Inspect variable \"Functional\": plot_count_box()\n",
    "plot_count_box(data, \"Functional\",\"SalePrice\")"
   ]
  },
  {
   "cell_type": "markdown",
   "metadata": {
    "id": "EI3AYTO7TTRb"
   },
   "source": [
    "Terrible sampling and high overlap. Feature to drop"
   ]
  },
  {
   "cell_type": "code",
   "execution_count": null,
   "metadata": {
    "executionInfo": {
     "elapsed": 216,
     "status": "ok",
     "timestamp": 1626084639579,
     "user": {
      "displayName": "Ignacio Soteras",
      "photoUrl": "",
      "userId": "02050793736257155229"
     },
     "user_tz": -120
    },
    "id": "vTHFrEo4TXiz"
   },
   "outputs": [],
   "source": [
    "cols_to_drop += ['Functional']"
   ]
  },
  {
   "cell_type": "markdown",
   "metadata": {
    "id": "RyXbCITHTfyz"
   },
   "source": [
    "GarageFinish: Interior finish of the garage\n",
    "\n",
    "       Fin\tFinished\n",
    "       RFn\tRough Finished\t\n",
    "       Unf\tUnfinished\n",
    "       NA\tNo Garage"
   ]
  },
  {
   "cell_type": "code",
   "execution_count": null,
   "metadata": {
    "colab": {
     "base_uri": "https://localhost:8080/",
     "height": 497
    },
    "executionInfo": {
     "elapsed": 763,
     "status": "ok",
     "timestamp": 1626084647759,
     "user": {
      "displayName": "Ignacio Soteras",
      "photoUrl": "",
      "userId": "02050793736257155229"
     },
     "user_tz": -120
    },
    "id": "ItvQSumkTkiE",
    "outputId": "25b6856c-8c22-4ef9-98d5-1f7331c03408"
   },
   "outputs": [],
   "source": [
    "# Inspect variable \"GarageFinish\": plot_count_box()\n",
    "plot_count_box(data,\"GarageFinish\",\"SalePrice\" )"
   ]
  },
  {
   "cell_type": "markdown",
   "metadata": {
    "id": "2waPLKOpT-J4"
   },
   "source": [
    "Good sampling but mnot conclussive bercause of overlap. Probably is best to have a feature between having a garage or not. Moreover, there are other numerical features which takes into account the number of cars and the surface. We will drop this feature."
   ]
  },
  {
   "cell_type": "code",
   "execution_count": null,
   "metadata": {
    "executionInfo": {
     "elapsed": 258,
     "status": "ok",
     "timestamp": 1626084692170,
     "user": {
      "displayName": "Ignacio Soteras",
      "photoUrl": "",
      "userId": "02050793736257155229"
     },
     "user_tz": -120
    },
    "id": "bISYg2mgUcpv"
   },
   "outputs": [],
   "source": [
    "cols_to_drop += ['GarageFinish']"
   ]
  },
  {
   "cell_type": "markdown",
   "metadata": {
    "id": "-qQV7lflUqIz"
   },
   "source": [
    "PavedDrive: Paved driveway\n",
    "\n",
    "       Y\tPaved \n",
    "       P\tPartial Pavement\n",
    "       N\tDirt/Gravel"
   ]
  },
  {
   "cell_type": "code",
   "execution_count": null,
   "metadata": {
    "colab": {
     "base_uri": "https://localhost:8080/",
     "height": 497
    },
    "executionInfo": {
     "elapsed": 765,
     "status": "ok",
     "timestamp": 1626084700777,
     "user": {
      "displayName": "Ignacio Soteras",
      "photoUrl": "",
      "userId": "02050793736257155229"
     },
     "user_tz": -120
    },
    "id": "Ts-L78m_UsSm",
    "outputId": "1c78c4d7-e639-4896-ed20-3480d61eecea"
   },
   "outputs": [],
   "source": [
    "# Inspect variable \"PavedDrive\": plot_count_box()\n",
    "plot_count_box(data,\"PavedDrive\",\"SalePrice\" )"
   ]
  },
  {
   "cell_type": "markdown",
   "metadata": {
    "id": "XP--aPLiU7C2"
   },
   "source": [
    "High overlap. Feature to drop."
   ]
  },
  {
   "cell_type": "code",
   "execution_count": null,
   "metadata": {
    "executionInfo": {
     "elapsed": 232,
     "status": "ok",
     "timestamp": 1626084714063,
     "user": {
      "displayName": "Ignacio Soteras",
      "photoUrl": "",
      "userId": "02050793736257155229"
     },
     "user_tz": -120
    },
    "id": "S2PwaMMHU_Uc"
   },
   "outputs": [],
   "source": [
    "cols_to_drop += ['PavedDrive']"
   ]
  },
  {
   "cell_type": "markdown",
   "metadata": {
    "id": "VROYsAshVLLH"
   },
   "source": [
    "SaleType: Type of sale\n",
    "\t\t\n",
    "       WD \tWarranty Deed - Conventional\n",
    "       CWD\tWarranty Deed - Cash\n",
    "       VWD\tWarranty Deed - VA Loan\n",
    "       New\tHome just constructed and sold\n",
    "       COD\tCourt Officer Deed/Estate\n",
    "       Con\tContract 15% Down payment regular terms\n",
    "       ConLw\tContract Low Down payment and low interest\n",
    "       ConLI\tContract Low Interest\n",
    "       ConLD\tContract Low Down\n",
    "       Oth\tOther"
   ]
  },
  {
   "cell_type": "code",
   "execution_count": null,
   "metadata": {
    "colab": {
     "base_uri": "https://localhost:8080/",
     "height": 497
    },
    "executionInfo": {
     "elapsed": 690,
     "status": "ok",
     "timestamp": 1626084745779,
     "user": {
      "displayName": "Ignacio Soteras",
      "photoUrl": "",
      "userId": "02050793736257155229"
     },
     "user_tz": -120
    },
    "id": "YsFEQgZBVMYd",
    "outputId": "73a61bb0-43e0-4d3f-c2f6-8effe0a7b509"
   },
   "outputs": [],
   "source": [
    "# Inspect variable \"SaleType\": plot_count_box(,orient = \"h\")\n",
    "plot_count_box(data,\"SaleType\",\"SalePrice\",orient = \"h\")"
   ]
  },
  {
   "cell_type": "code",
   "execution_count": null,
   "metadata": {
    "colab": {
     "base_uri": "https://localhost:8080/"
    },
    "executionInfo": {
     "elapsed": 221,
     "status": "ok",
     "timestamp": 1626084762330,
     "user": {
      "displayName": "Ignacio Soteras",
      "photoUrl": "",
      "userId": "02050793736257155229"
     },
     "user_tz": -120
    },
    "id": "xmrf_HxBVcDj",
    "outputId": "30829bfc-d342-45bd-930f-d0fba9b69471"
   },
   "outputs": [],
   "source": [
    "data['SaleType'].value_counts()"
   ]
  },
  {
   "cell_type": "markdown",
   "metadata": {
    "id": "UPRI6PVLVlZx"
   },
   "source": [
    "Too noisy. Let's drop it."
   ]
  },
  {
   "cell_type": "code",
   "execution_count": null,
   "metadata": {
    "executionInfo": {
     "elapsed": 208,
     "status": "ok",
     "timestamp": 1626084778709,
     "user": {
      "displayName": "Ignacio Soteras",
      "photoUrl": "",
      "userId": "02050793736257155229"
     },
     "user_tz": -120
    },
    "id": "j3v06sWtVoEw"
   },
   "outputs": [],
   "source": [
    "cols_to_drop += ['SaleType']"
   ]
  },
  {
   "cell_type": "markdown",
   "metadata": {
    "id": "IgDQJmZ3Vy1K"
   },
   "source": [
    "SaleCondition: Condition of sale\n",
    "\n",
    "       Normal\tNormal Sale\n",
    "       Abnorml\tAbnormal Sale -  trade, foreclosure, short sale\n",
    "       AdjLand\tAdjoining Land Purchase\n",
    "       Alloca\tAllocation - two linked properties with separate deeds, typically condo with a garage unit\t\n",
    "       Family\tSale between family members\n",
    "       Partial\tHome was not completed when last assessed (associated with New Homes)"
   ]
  },
  {
   "cell_type": "code",
   "execution_count": null,
   "metadata": {
    "colab": {
     "base_uri": "https://localhost:8080/",
     "height": 497
    },
    "executionInfo": {
     "elapsed": 1022,
     "status": "ok",
     "timestamp": 1626084795460,
     "user": {
      "displayName": "Ignacio Soteras",
      "photoUrl": "",
      "userId": "02050793736257155229"
     },
     "user_tz": -120
    },
    "id": "ZRuo-S-dVz4L",
    "outputId": "f47b9533-3f91-4a07-b7e1-ae374de609dd"
   },
   "outputs": [],
   "source": [
    "# Inspect variable \"SaleCondition\": plot_count_box()\n",
    "plot_count_box(data,\"SaleCondition\",\"SalePrice\" )"
   ]
  },
  {
   "cell_type": "markdown",
   "metadata": {
    "id": "Sreu-yYlWLxd"
   },
   "source": [
    "High overlap."
   ]
  },
  {
   "cell_type": "code",
   "execution_count": null,
   "metadata": {
    "executionInfo": {
     "elapsed": 227,
     "status": "ok",
     "timestamp": 1626084808076,
     "user": {
      "displayName": "Ignacio Soteras",
      "photoUrl": "",
      "userId": "02050793736257155229"
     },
     "user_tz": -120
    },
    "id": "BdMYcyz1V-2F"
   },
   "outputs": [],
   "source": [
    "cols_to_drop += ['SaleCondition']"
   ]
  },
  {
   "cell_type": "code",
   "execution_count": null,
   "metadata": {
    "colab": {
     "base_uri": "https://localhost:8080/"
    },
    "executionInfo": {
     "elapsed": 233,
     "status": "ok",
     "timestamp": 1626084810806,
     "user": {
      "displayName": "Ignacio Soteras",
      "photoUrl": "",
      "userId": "02050793736257155229"
     },
     "user_tz": -120
    },
    "id": "82SzH_UGWSnk",
    "outputId": "bf5f89c7-729f-4915-804d-56690073971e"
   },
   "outputs": [],
   "source": [
    "cols_to_drop"
   ]
  },
  {
   "cell_type": "code",
   "execution_count": null,
   "metadata": {
    "executionInfo": {
     "elapsed": 252,
     "status": "ok",
     "timestamp": 1626084820451,
     "user": {
      "displayName": "Ignacio Soteras",
      "photoUrl": "",
      "userId": "02050793736257155229"
     },
     "user_tz": -120
    },
    "id": "VaR5EIrHWVHc"
   },
   "outputs": [],
   "source": [
    "data.drop(columns=cols_to_drop, axis = 1, inplace = True)"
   ]
  },
  {
   "cell_type": "code",
   "execution_count": null,
   "metadata": {
    "colab": {
     "base_uri": "https://localhost:8080/"
    },
    "executionInfo": {
     "elapsed": 7,
     "status": "ok",
     "timestamp": 1626084823079,
     "user": {
      "displayName": "Ignacio Soteras",
      "photoUrl": "",
      "userId": "02050793736257155229"
     },
     "user_tz": -120
    },
    "id": "kbwvnl-9WcCg",
    "outputId": "97067535-7994-4de6-eedb-aaf202fe9931"
   },
   "outputs": [],
   "source": [
    "data.info()"
   ]
  },
  {
   "cell_type": "markdown",
   "metadata": {
    "id": "cFJLiFujcOYM"
   },
   "source": [
    "# Inspecting numerical columns"
   ]
  },
  {
   "cell_type": "code",
   "execution_count": null,
   "metadata": {
    "colab": {
     "base_uri": "https://localhost:8080/",
     "height": 225
    },
    "executionInfo": {
     "elapsed": 244,
     "status": "ok",
     "timestamp": 1626085498263,
     "user": {
      "displayName": "Ignacio Soteras",
      "photoUrl": "",
      "userId": "02050793736257155229"
     },
     "user_tz": -120
    },
    "id": "L_z5CQ97cSB7",
    "outputId": "f80155cc-3fc9-4d81-8634-08e3fae52b3c"
   },
   "outputs": [],
   "source": [
    "num_cols = data.select_dtypes(np.number)\n",
    "num_cols.drop(columns='Id', axis = 1, inplace = True)\n",
    "num_cols.head()"
   ]
  },
  {
   "cell_type": "markdown",
   "metadata": {
    "id": "NHEbxkYrUKxP"
   },
   "source": [
    "## Dealing with years"
   ]
  },
  {
   "cell_type": "code",
   "execution_count": null,
   "metadata": {
    "colab": {
     "base_uri": "https://localhost:8080/"
    },
    "executionInfo": {
     "elapsed": 234,
     "status": "ok",
     "timestamp": 1626085599486,
     "user": {
      "displayName": "Ignacio Soteras",
      "photoUrl": "",
      "userId": "02050793736257155229"
     },
     "user_tz": -120
    },
    "id": "htDM7X6jUNpH",
    "outputId": "289a7e83-6d80-4df5-ac59-2720728a5945"
   },
   "outputs": [],
   "source": [
    "year_cols = [ col for col in num_cols if (col.startswith('Year') or col.startswith('Yr'))]\n",
    "year_cols"
   ]
  },
  {
   "cell_type": "code",
   "execution_count": null,
   "metadata": {
    "colab": {
     "base_uri": "https://localhost:8080/",
     "height": 205
    },
    "executionInfo": {
     "elapsed": 239,
     "status": "ok",
     "timestamp": 1626085624357,
     "user": {
      "displayName": "Ignacio Soteras",
      "photoUrl": "",
      "userId": "02050793736257155229"
     },
     "user_tz": -120
    },
    "id": "k0A-PeukVKmw",
    "outputId": "37359b92-7ca6-45c4-d827-c205d3d5db0c"
   },
   "outputs": [],
   "source": [
    "data[year_cols].head()"
   ]
  },
  {
   "cell_type": "code",
   "execution_count": null,
   "metadata": {
    "colab": {
     "base_uri": "https://localhost:8080/"
    },
    "executionInfo": {
     "elapsed": 243,
     "status": "ok",
     "timestamp": 1626085663827,
     "user": {
      "displayName": "Ignacio Soteras",
      "photoUrl": "",
      "userId": "02050793736257155229"
     },
     "user_tz": -120
    },
    "id": "vd-NUOl-WFWD",
    "outputId": "e17b4bdd-766b-4a9b-8613-127b3b818caa"
   },
   "outputs": [],
   "source": [
    "data[year_cols].isna().sum()"
   ]
  },
  {
   "cell_type": "code",
   "execution_count": null,
   "metadata": {
    "colab": {
     "base_uri": "https://localhost:8080/"
    },
    "executionInfo": {
     "elapsed": 252,
     "status": "ok",
     "timestamp": 1626085705621,
     "user": {
      "displayName": "Ignacio Soteras",
      "photoUrl": "",
      "userId": "02050793736257155229"
     },
     "user_tz": -120
    },
    "id": "Lpl51qxLW_jN",
    "outputId": "22da88e8-2314-4544-e5b1-2aaca80d0dde"
   },
   "outputs": [],
   "source": [
    "data['YrSold'] - data['YearRemodAdd']"
   ]
  },
  {
   "cell_type": "markdown",
   "metadata": {
    "id": "gKYPCc2RUt4p"
   },
   "source": [
    "Let's create a new feature"
   ]
  },
  {
   "cell_type": "code",
   "execution_count": null,
   "metadata": {
    "executionInfo": {
     "elapsed": 249,
     "status": "ok",
     "timestamp": 1626085742528,
     "user": {
      "displayName": "Ignacio Soteras",
      "photoUrl": "",
      "userId": "02050793736257155229"
     },
     "user_tz": -120
    },
    "id": "tbadQI-wUwvO"
   },
   "outputs": [],
   "source": [
    "data['Antiquity'] = data['YrSold'] - data['YearRemodAdd']\n",
    "data.drop(columns = year_cols, axis = 1, inplace = True)"
   ]
  },
  {
   "cell_type": "code",
   "execution_count": null,
   "metadata": {
    "colab": {
     "base_uri": "https://localhost:8080/",
     "height": 225
    },
    "executionInfo": {
     "elapsed": 224,
     "status": "ok",
     "timestamp": 1626085749816,
     "user": {
      "displayName": "Ignacio Soteras",
      "photoUrl": "",
      "userId": "02050793736257155229"
     },
     "user_tz": -120
    },
    "id": "Xwi9p6xJXE_P",
    "outputId": "d10394d1-c382-42aa-ef04-6ca2435f2c6f"
   },
   "outputs": [],
   "source": [
    "num_cols = data.select_dtypes(np.number)\n",
    "num_cols.drop(columns='Id', axis = 1, inplace = True)\n",
    "num_cols.head()"
   ]
  },
  {
   "cell_type": "markdown",
   "metadata": {
    "id": "Aqsp3pGf2i2a"
   },
   "source": [
    "## Correlation matrix"
   ]
  },
  {
   "cell_type": "code",
   "execution_count": null,
   "metadata": {
    "colab": {
     "base_uri": "https://localhost:8080/",
     "height": 1000
    },
    "executionInfo": {
     "elapsed": 362,
     "status": "ok",
     "timestamp": 1626085803090,
     "user": {
      "displayName": "Ignacio Soteras",
      "photoUrl": "",
      "userId": "02050793736257155229"
     },
     "user_tz": -120
    },
    "id": "gdnr7vMsf5sO",
    "outputId": "3dfff731-2e1f-48f8-a86d-853169602736"
   },
   "outputs": [],
   "source": [
    "abs(num_cols.corr())"
   ]
  },
  {
   "cell_type": "code",
   "execution_count": null,
   "metadata": {
    "colab": {
     "base_uri": "https://localhost:8080/",
     "height": 1000
    },
    "executionInfo": {
     "elapsed": 3834,
     "status": "ok",
     "timestamp": 1626085872948,
     "user": {
      "displayName": "Ignacio Soteras",
      "photoUrl": "",
      "userId": "02050793736257155229"
     },
     "user_tz": -120
    },
    "id": "mxFxNPcOSukn",
    "outputId": "49b90e73-7a8a-4712-eba3-28a33bb1eb3a"
   },
   "outputs": [],
   "source": [
    "c = num_cols.corr()\n",
    "fig_dims = (20, 20)\n",
    "mask = np.triu(np.ones_like(c, dtype=bool))\n",
    "fig, ax = plt.subplots(figsize=fig_dims)\n",
    "sns.heatmap(c, annot=True,ax = ax, mask=mask)"
   ]
  },
  {
   "cell_type": "markdown",
   "metadata": {
    "id": "-kjW30_HXVAF"
   },
   "source": [
    "## Filtering features based on the correlation matrix"
   ]
  },
  {
   "cell_type": "markdown",
   "metadata": {
    "id": "uI2-pUBTXY3x"
   },
   "source": [
    "As we are going to use a **linear model** to predict the sale price, we can use the correlation matrix which quantifies the **linear realtionship** ( it can be other types of relationships not covered by a linear model ) to discard features. \n",
    "\n",
    "We will do this in two steps: \n",
    "\n",
    "First, we wil discard all those features for which the absolute value between the feature and the **SalePrice** is smaller than 0.5 ( usually I chose 0.75, however not too much features have such a high correlation, therefore we are in the risk of ending with a very reduced set of features). \n",
    "\n",
    "Second, we will dicard those fetature which are highly correlated among themselves as they are providing the same amount of information."
   ]
  },
  {
   "cell_type": "code",
   "execution_count": null,
   "metadata": {
    "colab": {
     "base_uri": "https://localhost:8080/",
     "height": 1000
    },
    "executionInfo": {
     "elapsed": 250,
     "status": "ok",
     "timestamp": 1626086153405,
     "user": {
      "displayName": "Ignacio Soteras",
      "photoUrl": "",
      "userId": "02050793736257155229"
     },
     "user_tz": -120
    },
    "id": "EmjBpV0wYjL8",
    "outputId": "b358be9b-7b10-41b6-cef6-171216da68c3"
   },
   "outputs": [],
   "source": [
    "d = pd.DataFrame(np.abs(c.loc[:,'SalePrice']).sort_values(ascending=False)).reset_index()\n",
    "d.columns = ['Column','SalePrice']\n",
    "d"
   ]
  },
  {
   "cell_type": "markdown",
   "metadata": {
    "id": "HJ6bIWzfY_xv"
   },
   "source": [
    "Let's create a new list of columns to drop."
   ]
  },
  {
   "cell_type": "code",
   "execution_count": null,
   "metadata": {
    "colab": {
     "base_uri": "https://localhost:8080/"
    },
    "executionInfo": {
     "elapsed": 211,
     "status": "ok",
     "timestamp": 1626086246939,
     "user": {
      "displayName": "Ignacio Soteras",
      "photoUrl": "",
      "userId": "02050793736257155229"
     },
     "user_tz": -120
    },
    "id": "aQR7qghKZWWh",
    "outputId": "b38c9df2-24a6-40f5-f93f-277a58652a10"
   },
   "outputs": [],
   "source": [
    "cols_to_drop = []\n",
    "d[d['SalePrice'] < 0.5]['Column'].tolist()"
   ]
  },
  {
   "cell_type": "code",
   "execution_count": null,
   "metadata": {
    "colab": {
     "base_uri": "https://localhost:8080/"
    },
    "executionInfo": {
     "elapsed": 292,
     "status": "ok",
     "timestamp": 1626086264282,
     "user": {
      "displayName": "Ignacio Soteras",
      "photoUrl": "",
      "userId": "02050793736257155229"
     },
     "user_tz": -120
    },
    "id": "PdBl3aIFaAPl",
    "outputId": "19c75504-ca56-475a-a46b-467572989bdd"
   },
   "outputs": [],
   "source": [
    "cols_to_drop = []\n",
    "cols_to_drop += d[d['SalePrice'] < 0.5]['Column'].tolist()\n",
    "cols_to_drop"
   ]
  },
  {
   "cell_type": "code",
   "execution_count": null,
   "metadata": {
    "executionInfo": {
     "elapsed": 209,
     "status": "ok",
     "timestamp": 1626086271952,
     "user": {
      "displayName": "Ignacio Soteras",
      "photoUrl": "",
      "userId": "02050793736257155229"
     },
     "user_tz": -120
    },
    "id": "TjD7ClHuaLAW"
   },
   "outputs": [],
   "source": [
    "data.drop(columns=cols_to_drop, axis = 1, inplace = True)"
   ]
  },
  {
   "cell_type": "code",
   "execution_count": null,
   "metadata": {
    "colab": {
     "base_uri": "https://localhost:8080/",
     "height": 205
    },
    "executionInfo": {
     "elapsed": 248,
     "status": "ok",
     "timestamp": 1626086278994,
     "user": {
      "displayName": "Ignacio Soteras",
      "photoUrl": "",
      "userId": "02050793736257155229"
     },
     "user_tz": -120
    },
    "id": "pyWOLA1zaaix",
    "outputId": "3723b969-d4b4-4e21-e1b8-4793847c1c32"
   },
   "outputs": [],
   "source": [
    "num_cols = data.select_dtypes(np.number)\n",
    "num_cols.drop(columns='Id', axis = 1, inplace = True)\n",
    "num_cols.head()"
   ]
  },
  {
   "cell_type": "markdown",
   "metadata": {
    "id": "iQOdPjwlbsVK"
   },
   "source": [
    "Place column SalePrice to the end"
   ]
  },
  {
   "cell_type": "code",
   "execution_count": null,
   "metadata": {
    "colab": {
     "base_uri": "https://localhost:8080/",
     "height": 422
    },
    "executionInfo": {
     "elapsed": 229,
     "status": "ok",
     "timestamp": 1626086344288,
     "user": {
      "displayName": "Ignacio Soteras",
      "photoUrl": "",
      "userId": "02050793736257155229"
     },
     "user_tz": -120
    },
    "id": "KzWtpsjEbJ5Y",
    "outputId": "e37c80d9-a7b0-4c99-9f86-28c1f47fcc65"
   },
   "outputs": [],
   "source": [
    "num_cols = num_cols[[ col for col in num_cols.columns if col != 'SalePrice'] + ['SalePrice']]\n",
    "num_cols"
   ]
  },
  {
   "cell_type": "code",
   "execution_count": null,
   "metadata": {
    "colab": {
     "base_uri": "https://localhost:8080/",
     "height": 1000
    },
    "executionInfo": {
     "elapsed": 1249,
     "status": "ok",
     "timestamp": 1626086361033,
     "user": {
      "displayName": "Ignacio Soteras",
      "photoUrl": "",
      "userId": "02050793736257155229"
     },
     "user_tz": -120
    },
    "id": "OIbteq1AdCFV",
    "outputId": "e30b46f5-ee09-4e14-edb4-77bc3ab37e18"
   },
   "outputs": [],
   "source": [
    "c = num_cols.corr()\n",
    "fig_dims = (20, 20)\n",
    "mask = np.triu(np.ones_like(c, dtype=bool))\n",
    "fig, ax = plt.subplots(figsize=fig_dims)\n",
    "sns.heatmap(c, annot=True,ax = ax, mask=mask)"
   ]
  },
  {
   "cell_type": "markdown",
   "metadata": {
    "id": "rmISKYXioj6s"
   },
   "source": [
    "Droping redundant columns: ie. columns highly correlated among themselves ( coor > 0.75). From those pairs, we will drop the ones which are **less correlated** with the dependent variable.\n",
    "\n",
    "corr(`1stFlrSF`,`TotalBsmtSF`) > 0.75 and \n",
    "corr(`1stFlrSF`,`SalePrice`) = 0.63 <  corr(`TotalBsmtSF``,`SalePrice`)\n",
    "\n",
    "we will drop `1stFlrSF`\n",
    "\n",
    "corr(`TotRmsAbvGrd`,`GrLivArea`) > 0.75 and \n",
    "corr(`TotRmsAbvGrd`,`SalePrice`) = 0.54 <  corr(`GrLivArea`,`SalePrice`)\n",
    "\n",
    "therefore, we will drop `TotRmsAbvGrd`\n",
    "\n",
    "corr(`GarageArea`,`GarageCars`) > 0.75 and \n",
    "corr(`GarageArea`,`SalePrice`) = 0.64 <  corr(`GarageCars`,`SalePrice`)\n",
    "\n",
    "therefore, we will drop `GarageArea`"
   ]
  },
  {
   "cell_type": "code",
   "execution_count": null,
   "metadata": {
    "colab": {
     "base_uri": "https://localhost:8080/",
     "height": 205
    },
    "executionInfo": {
     "elapsed": 221,
     "status": "ok",
     "timestamp": 1626086619965,
     "user": {
      "displayName": "Ignacio Soteras",
      "photoUrl": "",
      "userId": "02050793736257155229"
     },
     "user_tz": -120
    },
    "id": "pDEMn2SKqvnW",
    "outputId": "36ae402c-978a-4bfa-8c54-8c487d681b72"
   },
   "outputs": [],
   "source": [
    "cols_to_drop = ['1stFlrSF','TotRmsAbvGrd','GarageArea']\n",
    "data.drop(columns=cols_to_drop,axis=1,inplace = True)\n",
    "data = data[[ col for col in data.columns if col != 'SalePrice'] + ['SalePrice']]\n",
    "data.head()"
   ]
  },
  {
   "cell_type": "code",
   "execution_count": null,
   "metadata": {
    "colab": {
     "base_uri": "https://localhost:8080/"
    },
    "executionInfo": {
     "elapsed": 212,
     "status": "ok",
     "timestamp": 1626086642675,
     "user": {
      "displayName": "Ignacio Soteras",
      "photoUrl": "",
      "userId": "02050793736257155229"
     },
     "user_tz": -120
    },
    "id": "TZIK5_g6wqQl",
    "outputId": "72948a52-d50a-4db5-cb27-87af41fe3fe0"
   },
   "outputs": [],
   "source": [
    "len(data.columns.tolist())"
   ]
  },
  {
   "cell_type": "markdown",
   "metadata": {
    "id": "5GSENSp0HY8L"
   },
   "source": [
    "# Saving changes"
   ]
  },
  {
   "cell_type": "code",
   "execution_count": null,
   "metadata": {
    "executionInfo": {
     "elapsed": 628,
     "status": "ok",
     "timestamp": 1626086719351,
     "user": {
      "displayName": "Ignacio Soteras",
      "photoUrl": "",
      "userId": "02050793736257155229"
     },
     "user_tz": -120
    },
    "id": "EQCfm65IG4Yp"
   },
   "outputs": [],
   "source": [
    "data.to_csv('/content/drive/MyDrive/OLD_CURR/UNIT7/DAY1/transformed_data.csv',index=False)"
   ]
  },
  {
   "cell_type": "code",
   "execution_count": null,
   "metadata": {
    "colab": {
     "base_uri": "https://localhost:8080/",
     "height": 299
    },
    "executionInfo": {
     "elapsed": 228,
     "status": "ok",
     "timestamp": 1626086757974,
     "user": {
      "displayName": "Ignacio Soteras",
      "photoUrl": "",
      "userId": "02050793736257155229"
     },
     "user_tz": -120
    },
    "id": "X_7jN7uiUpnq",
    "outputId": "f281b647-5bfd-4614-a5f6-3c7d9867de12"
   },
   "outputs": [],
   "source": [
    "data.describe()"
   ]
  },
  {
   "cell_type": "markdown",
   "metadata": {
    "id": "DAzxdxPVjKCz"
   },
   "source": [
    "# Modelling"
   ]
  },
  {
   "cell_type": "code",
   "execution_count": null,
   "metadata": {
    "executionInfo": {
     "elapsed": 2144,
     "status": "ok",
     "timestamp": 1626087634237,
     "user": {
      "displayName": "Ignacio Soteras",
      "photoUrl": "",
      "userId": "02050793736257155229"
     },
     "user_tz": -120
    },
    "id": "-eAc9W6OjKC0"
   },
   "outputs": [],
   "source": [
    "from sklearn.preprocessing import PowerTransformer\n",
    "from sklearn.model_selection import train_test_split\n",
    "from sklearn.linear_model import LinearRegression\n",
    "from sklearn.metrics import mean_absolute_error, mean_squared_error, r2_score\n",
    "import pickle\n",
    "\n",
    "trans = PowerTransformer()\n",
    "model = LinearRegression()\n",
    "\n",
    "# define X and y (features and target)\n",
    "X = data.drop(columns = ['Id','SalePrice'])\n",
    "y = np.log(data['SalePrice']) # The model will try to predict the log(SalePrice) instead of the real price\n",
    "\n",
    "# data splitting\n",
    "X_train, X_test, y_train, y_test = train_test_split(X, y, test_size=0.30, random_state=42)\n",
    "\n",
    "# Fitting the transformer\n",
    "trans.fit(X_train)\n",
    "\n",
    "# Saving the transformer\n",
    "with open('/content/drive/MyDrive/OLD_CURR/UNIT7/DAY1/transformer.pkl', 'wb')  as f:\n",
    "    pickle.dump(trans,f)\n",
    "\n",
    "X_train = trans.transform(X_train)\n",
    "X_test  = trans.transform(X_test)\n",
    "\n",
    "X_train = pd.DataFrame(X_train, columns = X.columns)\n",
    "X_test  = pd.DataFrame(X_test,  columns = X.columns)\n",
    "\n",
    "X_train.to_csv('/content/drive/MyDrive/OLD_CURR/UNIT7/DAY1/X_train.csv')\n",
    "X_test.to_csv('/content/drive/MyDrive/OLD_CURR/UNIT7/DAY1/X_test.csv')\n",
    "\n",
    "# model\n",
    "model.fit(X_train, y_train)\n",
    "\n",
    "with open('/content/drive/MyDrive/OLD_CURR/UNIT7/DAY1/model.pkl', 'wb')  as f:\n",
    "    pickle.dump(model,f)\n",
    "\n",
    "y_pred_train = model.predict(X_train)\n",
    "y_pred_test  = model.predict(X_test)\n",
    "\n",
    "# Model validation y_train - y_pred_train\n",
    "ME_train = np.mean(np.exp(y_train)-np.exp(y_pred_train)) # NOOOOOOOOO! y_train - y_pred_train\n",
    "ME_test  = np.mean(np.exp(y_test)-np.exp(y_pred_test)) # NOOOOOOOOO! y_test - y_pred_test\n",
    "\n",
    "MAE_train = mean_absolute_error(np.exp(y_train),np.exp(y_pred_train))\n",
    "MAE_test  = mean_absolute_error(np.exp(y_test),np.exp(y_pred_test))\n",
    "\n",
    "MSE_train = mean_squared_error(np.exp(y_train),np.exp(y_pred_train))\n",
    "MSE_test  = mean_squared_error(np.exp(y_test),np.exp(y_pred_test))\n",
    "\n",
    "RMSE_train = np.sqrt(MSE_train)\n",
    "RMSE_test  = np.sqrt(MSE_test)\n",
    "\n",
    "MAPE_train = np.mean((np.abs(np.exp(y_train)-np.exp(y_pred_train)) / np.exp(y_train))* 100.)\n",
    "MAPE_test  = np.mean((np.abs(np.exp(y_test)-np.exp(y_pred_test)) / np.exp(y_test))* 100.)\n",
    "\n",
    "R2_train = r2_score(np.exp(y_train),np.exp(y_pred_train))\n",
    "R2_test  = r2_score(np.exp(y_test),np.exp(y_pred_test))\n",
    "\n",
    "performance = pd.DataFrame({'Error_metric': ['Mean error','Mean absolute error','Mean squared error',\n",
    "                                             'Root mean squared error','Mean absolute percentual error',\n",
    "                                             'R2'],\n",
    "                            'Train': [ME_train, MAE_train, MSE_train, RMSE_train, MAPE_train, R2_train],\n",
    "                            'Test' : [ME_test, MAE_test , MSE_test, RMSE_test, MAPE_test, R2_test]})\n",
    "\n",
    "pd.options.display.float_format = '{:.2f}'.format\n",
    "performance\n",
    "\n",
    "df_train = pd.DataFrame({'Real_value': np.exp(y_train), 'Predicted_value': np.exp(y_pred_train)})\n",
    "df_test  = pd.DataFrame({'Real_value': np.exp(y_test),  'PRedicted_value': np.exp(y_pred_test)})"
   ]
  },
  {
   "cell_type": "code",
   "execution_count": null,
   "metadata": {
    "colab": {
     "base_uri": "https://localhost:8080/",
     "height": 228
    },
    "executionInfo": {
     "elapsed": 349,
     "status": "ok",
     "timestamp": 1620038962221,
     "user": {
      "displayName": "Ignacio Soteras",
      "photoUrl": "",
      "userId": "02050793736257155229"
     },
     "user_tz": -120
    },
    "id": "Z5S4ZRhr2KuZ",
    "outputId": "f5d810bd-62aa-42f8-9c2c-9716d6e188fb"
   },
   "outputs": [],
   "source": [
    "performance"
   ]
  },
  {
   "cell_type": "code",
   "execution_count": null,
   "metadata": {
    "executionInfo": {
     "elapsed": 245,
     "status": "ok",
     "timestamp": 1626087745193,
     "user": {
      "displayName": "Ignacio Soteras",
      "photoUrl": "",
      "userId": "02050793736257155229"
     },
     "user_tz": -120
    },
    "id": "sk4tmzlGhbdw"
   },
   "outputs": [],
   "source": [
    "def show_errors(y_real_train, y_pred_train, y_real_test, y_pred_test):\n",
    "\n",
    "    plt.style.use('seaborn') \n",
    "\n",
    "    fig, ax = plt.subplots(2,2,figsize=(10,10))\n",
    "    \n",
    "    ax[0,0].scatter(x = np.exp(y_real_train), y = np.exp(y_pred_train), c = 'green')\n",
    "    ax[0,0].plot([0,700000], [0,700000], linestyle = '--',c = 'black')\n",
    "    ax[0,0].set_xlim(0,700000)\n",
    "    ax[0,0].set_ylim(0,700000)\n",
    "    ax[0,0].set_xlabel(\"Real values\")\n",
    "    ax[0,0].set_ylabel(\"Predicted values\")\n",
    "    ax[0,0].xaxis.set_major_formatter(FuncFormatter(lambda x, p: f'{int(x/1000)}K'))\n",
    "    ax[0,0].yaxis.set_major_formatter(FuncFormatter(lambda x, p: f'{int(x/1000)}K'))\n",
    "    ax[0,0].set_title('Train set')\n",
    "\n",
    "    ax[0,1].hist(x = np.exp(y_real_train)-np.exp(y_pred_train), bins = 50,color = 'green')\n",
    "    ax[0,1].set_xlim(-200000,200000)\n",
    "    ax[0,1].xaxis.set_major_formatter(FuncFormatter(lambda x, p: f'{int(x/1000)}K'))\n",
    "    ax[0,1].set_title('Train set')\n",
    "    ax[0,1].set_xlabel(\"Error size = real - predicted\")\n",
    "\n",
    "    ax[1,0].scatter(x = np.exp(y_real_test), y = np.exp(y_pred_test), c = 'blue')\n",
    "    ax[1,0].plot([0,700000], [0,700000], linestyle = '--',c = 'black')\n",
    "    ax[1,0].set_xlim(0,700000)\n",
    "    ax[1,0].set_ylim(0,700000)\n",
    "    ax[1,0].set_xlabel(\"Real values\")\n",
    "    ax[1,0].set_ylabel(\"Predicted values\")\n",
    "    ax[1,0].xaxis.set_major_formatter(FuncFormatter(lambda x, p: f'{int(x/1000)}K'))\n",
    "    ax[1,0].yaxis.set_major_formatter(FuncFormatter(lambda x, p: f'{int(x/1000)}K'))\n",
    "    ax[1,0].set_title('Test set')   \n",
    "\n",
    "    ax[1,1].hist(x = np.exp(y_real_test)-np.exp(y_pred_test), bins = 50,color = 'blue')\n",
    "    ax[1,1].set_xlim(-200000,200000)\n",
    "    ax[1,1].xaxis.set_major_formatter(FuncFormatter(lambda x, p: f'{int(x/1000)}K'))\n",
    "    ax[1,1].set_title('Test set')\n",
    "    ax[1,1].set_xlabel(\"Error size = real - predicted\")\n",
    "\n",
    "    fig.tight_layout()\n",
    "    pass"
   ]
  },
  {
   "cell_type": "code",
   "execution_count": null,
   "metadata": {
    "colab": {
     "base_uri": "https://localhost:8080/",
     "height": 729
    },
    "executionInfo": {
     "elapsed": 1503,
     "status": "ok",
     "timestamp": 1626087751505,
     "user": {
      "displayName": "Ignacio Soteras",
      "photoUrl": "",
      "userId": "02050793736257155229"
     },
     "user_tz": -120
    },
    "id": "NRIjCdm1j4vN",
    "outputId": "048af43b-d88c-42bf-8f58-6e081e3ee74c"
   },
   "outputs": [],
   "source": [
    "show_errors(y_train, y_pred_train, y_test, y_pred_test)"
   ]
  },
  {
   "cell_type": "markdown",
   "metadata": {
    "id": "4d85HoR7ixki"
   },
   "source": [
    "# Recaping all the transformations"
   ]
  },
  {
   "cell_type": "code",
   "execution_count": null,
   "metadata": {
    "colab": {
     "base_uri": "https://localhost:8080/",
     "height": 86
    },
    "executionInfo": {
     "elapsed": 73288,
     "status": "ok",
     "timestamp": 1619969537877,
     "user": {
      "displayName": "Ignacio Soteras",
      "photoUrl": "",
      "userId": "02050793736257155229"
     },
     "user_tz": -120
    },
    "id": "RcCnizVUtJAT",
    "outputId": "19c898a5-b8b4-4d72-9156-51c514e4d714"
   },
   "outputs": [],
   "source": [
    "'''\n",
    "data['Antiquity'] = data['YrSold'] - data['YearRemodAdd']\n",
    "data[data['LotArea'] < 25000 ]\n",
    "cols_to_keep = ['Id',\n",
    " 'OverallQual',\n",
    " 'TotalBsmtSF',\n",
    " 'GrLivArea',\n",
    " 'FullBath',\n",
    " 'KitchenQual',\n",
    " 'GarageCars',\n",
    " 'Antiquity',\n",
    " 'SalePrice',]\n",
    "data['KitchenQual'] = data['KitchenQual'].replace({'Fa': 1, 'TA': 1.61, 'Gd': 1.61 'Ex': 3.14}, inplace = True)\n",
    "data = data[[ col for col in data.columns if col != 'SalePrice'] + ['SalePrice']]\n",
    "'''"
   ]
  },
  {
   "cell_type": "markdown",
   "metadata": {
    "id": "4UUhTb_pjKC6"
   },
   "source": [
    "## Create a preprocess function"
   ]
  },
  {
   "cell_type": "code",
   "execution_count": null,
   "metadata": {
    "executionInfo": {
     "elapsed": 228,
     "status": "ok",
     "timestamp": 1626092702931,
     "user": {
      "displayName": "Ignacio Soteras",
      "photoUrl": "",
      "userId": "02050793736257155229"
     },
     "user_tz": -120
    },
    "id": "ZvKs13h0jKC6"
   },
   "outputs": [],
   "source": [
    "def preprocessing(df):\n",
    "\n",
    "    df2 = df.copy()\n",
    "\n",
    "    # Computing Antiquity\n",
    "    df2['Antiquity'] = df2['YrSold'] - df2['YearRemodAdd']\n",
    "    year_cols = ['YearBuilt', 'YearRemodAdd', 'YrSold']\n",
    "    df2.drop(columns = year_cols, axis = 1, inplace = True)\n",
    "\n",
    "    # Filtering by LotArea\n",
    "    df2 = df2[df2['LotArea'] < 25000 ]\n",
    "\n",
    "    # Droping unwanted columns\n",
    "    cols_to_keep = ['Id',\n",
    "   'OverallQual',\n",
    "   'TotalBsmtSF',\n",
    "   'GrLivArea',\n",
    "   'FullBath',\n",
    "   'KitchenQual',\n",
    "   'GarageCars',\n",
    "   'Antiquity',\n",
    "   'SalePrice']\n",
    "    df2 = df2[cols_to_keep]\n",
    "\n",
    "    # Replacing KitchenQual values by numerical ones.\n",
    "    df2['KitchenQual'] = df2['KitchenQual'].replace({'Fa': 1, 'TA': 1.61, 'Gd': 1.61, 'Ex': 3.14})\n",
    "\n",
    "    return df2"
   ]
  },
  {
   "cell_type": "markdown",
   "metadata": {
    "id": "oZHPSZ0EWvIP"
   },
   "source": [
    "## Apply the preprocess function"
   ]
  },
  {
   "cell_type": "code",
   "execution_count": null,
   "metadata": {
    "colab": {
     "base_uri": "https://localhost:8080/",
     "height": 205
    },
    "executionInfo": {
     "elapsed": 298,
     "status": "ok",
     "timestamp": 1626093065052,
     "user": {
      "displayName": "Ignacio Soteras",
      "photoUrl": "",
      "userId": "02050793736257155229"
     },
     "user_tz": -120
    },
    "id": "Ll6xsn1cjKC6",
    "outputId": "8893f3ed-47e9-4258-bf50-db9594b0d80e"
   },
   "outputs": [],
   "source": [
    "from sklearn.pipeline import Pipeline, FeatureUnion\n",
    "from sklearn.base import BaseEstimator, TransformerMixin\n",
    "from sklearn.compose import ColumnTransformer, make_column_transformer\n",
    "\n",
    "data2 = pd.read_csv(\"/content/drive/MyDrive/OLD_CURR/UNIT7/DAY1/housing_prices.csv\") \n",
    "\n",
    "data2 = preprocessing(data2)\n",
    "\n",
    "data2.head()\n"
   ]
  },
  {
   "cell_type": "code",
   "execution_count": null,
   "metadata": {
    "colab": {
     "base_uri": "https://localhost:8080/",
     "height": 205
    },
    "executionInfo": {
     "elapsed": 268,
     "status": "ok",
     "timestamp": 1626093104344,
     "user": {
      "displayName": "Ignacio Soteras",
      "photoUrl": "",
      "userId": "02050793736257155229"
     },
     "user_tz": -120
    },
    "id": "6h1EVFXoNNrS",
    "outputId": "13d68677-1990-4000-9b97-da6e4ad4e626"
   },
   "outputs": [],
   "source": [
    "data.head()"
   ]
  },
  {
   "cell_type": "code",
   "execution_count": null,
   "metadata": {
    "colab": {
     "base_uri": "https://localhost:8080/",
     "height": 422
    },
    "executionInfo": {
     "elapsed": 221,
     "status": "ok",
     "timestamp": 1626093144327,
     "user": {
      "displayName": "Ignacio Soteras",
      "photoUrl": "",
      "userId": "02050793736257155229"
     },
     "user_tz": -120
    },
    "id": "TWeS2qtdU7Rb",
    "outputId": "bd0fe234-00cf-4269-efa7-f2c8efd3612b"
   },
   "outputs": [],
   "source": [
    "data2 == data"
   ]
  },
  {
   "cell_type": "markdown",
   "metadata": {
    "id": "x2AR38ZKs-I2"
   },
   "source": [
    "# Inspecting the model"
   ]
  },
  {
   "cell_type": "markdown",
   "metadata": {
    "id": "_H5VZliIuZHG"
   },
   "source": [
    "## Getting the coeficients"
   ]
  },
  {
   "cell_type": "code",
   "execution_count": null,
   "metadata": {
    "id": "o2KfCBq8s6x2"
   },
   "outputs": [],
   "source": [
    "model.coef_"
   ]
  },
  {
   "cell_type": "code",
   "execution_count": null,
   "metadata": {
    "colab": {
     "base_uri": "https://localhost:8080/",
     "height": 268
    },
    "executionInfo": {
     "elapsed": 208,
     "status": "ok",
     "timestamp": 1626093244789,
     "user": {
      "displayName": "Ignacio Soteras",
      "photoUrl": "",
      "userId": "02050793736257155229"
     },
     "user_tz": -120
    },
    "id": "DyEnVr0otpfJ",
    "outputId": "4d298739-8205-4193-da17-0c90e17863b4"
   },
   "outputs": [],
   "source": [
    "coeficients = pd.DataFrame({'Column': list(X_train.columns), 'Coef': list(model.coef_)}).sort_values(by ='Coef', ascending= False)\n",
    "coeficients"
   ]
  },
  {
   "cell_type": "markdown",
   "metadata": {
    "id": "ZLApQE56uccS"
   },
   "source": [
    "## Getting the slope"
   ]
  },
  {
   "cell_type": "code",
   "execution_count": null,
   "metadata": {
    "colab": {
     "base_uri": "https://localhost:8080/"
    },
    "executionInfo": {
     "elapsed": 502,
     "status": "ok",
     "timestamp": 1620045399364,
     "user": {
      "displayName": "Ignacio Soteras",
      "photoUrl": "",
      "userId": "02050793736257155229"
     },
     "user_tz": -120
    },
    "id": "DrzAW8N-uYo8",
    "outputId": "1a28c413-67f7-4543-dfc7-ed995e4e45a5"
   },
   "outputs": [],
   "source": [
    "round(model.intercept_,2)"
   ]
  },
  {
   "cell_type": "code",
   "execution_count": null,
   "metadata": {
    "colab": {
     "base_uri": "https://localhost:8080/"
    },
    "executionInfo": {
     "elapsed": 246,
     "status": "ok",
     "timestamp": 1626093497719,
     "user": {
      "displayName": "Ignacio Soteras",
      "photoUrl": "",
      "userId": "02050793736257155229"
     },
     "user_tz": -120
    },
    "id": "41_4wQUPuYV6",
    "outputId": "6cdf2519-5b2f-4d7e-de0b-ceae8ca9eb93"
   },
   "outputs": [],
   "source": [
    "np.exp(12.01)"
   ]
  },
  {
   "cell_type": "markdown",
   "metadata": {
    "id": "QSxaCJ-SumvM"
   },
   "source": [
    "In fact, we can't interpret this as starting price as this is the model predicts the logarithm. Therefore, this is the logarithm of the starting price. "
   ]
  },
  {
   "cell_type": "code",
   "execution_count": null,
   "metadata": {
    "colab": {
     "base_uri": "https://localhost:8080/"
    },
    "executionInfo": {
     "elapsed": 402,
     "status": "ok",
     "timestamp": 1620045553324,
     "user": {
      "displayName": "Ignacio Soteras",
      "photoUrl": "",
      "userId": "02050793736257155229"
     },
     "user_tz": -120
    },
    "id": "6T7OAZ_wu16M",
    "outputId": "9759e3f0-e9b0-4ff4-938d-d9d7eb299fb7"
   },
   "outputs": [],
   "source": [
    "round(np.exp(model.intercept_),2)"
   ]
  }
 ],
 "metadata": {
  "colab": {
   "name": "Code_along-Structure.ipynb",
   "provenance": []
  },
  "kernelspec": {
   "display_name": "Python 3 (ipykernel)",
   "language": "python",
   "name": "python3"
  },
  "language_info": {
   "codemirror_mode": {
    "name": "ipython",
    "version": 3
   },
   "file_extension": ".py",
   "mimetype": "text/x-python",
   "name": "python",
   "nbconvert_exporter": "python",
   "pygments_lexer": "ipython3",
   "version": "3.9.16"
  },
  "toc": {
   "base_numbering": 1,
   "nav_menu": {},
   "number_sections": true,
   "sideBar": true,
   "skip_h1_title": false,
   "title_cell": "Table of Contents",
   "title_sidebar": "Contents",
   "toc_cell": false,
   "toc_position": {},
   "toc_section_display": true,
   "toc_window_display": false
  },
  "varInspector": {
   "cols": {
    "lenName": 16,
    "lenType": 16,
    "lenVar": 40
   },
   "kernels_config": {
    "python": {
     "delete_cmd_postfix": "",
     "delete_cmd_prefix": "del ",
     "library": "var_list.py",
     "varRefreshCmd": "print(var_dic_list())"
    },
    "r": {
     "delete_cmd_postfix": ") ",
     "delete_cmd_prefix": "rm(",
     "library": "var_list.r",
     "varRefreshCmd": "cat(var_dic_list()) "
    }
   },
   "types_to_exclude": [
    "module",
    "function",
    "builtin_function_or_method",
    "instance",
    "_Feature"
   ],
   "window_display": false
  }
 },
 "nbformat": 4,
 "nbformat_minor": 1
}
