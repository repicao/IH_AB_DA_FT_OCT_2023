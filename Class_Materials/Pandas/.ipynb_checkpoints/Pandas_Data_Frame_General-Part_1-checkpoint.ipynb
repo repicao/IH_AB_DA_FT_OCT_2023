{
 "cells": [
  {
   "cell_type": "markdown",
   "id": "370cb6bc",
   "metadata": {},
   "source": [
    "## Pandas Data Frames"
   ]
  },
  {
   "cell_type": "markdown",
   "id": "3bde899d",
   "metadata": {},
   "source": [
    "- What Is Pandas?\n",
    "- Pandas vs Numpy \n",
    "- Pandas Data Frame Intro\n",
    "- Pandas Data Frame fundamental operations\n",
    "    - Creating\n",
    "    - Selecting/indexing\n",
    "    - Inserting rows/columns\n",
    "    - Setting data\n",
    "    - Filtering\n",
    "    - Dropping rows/ columns\n",
    "- Dealing with Missing values"
   ]
  },
  {
   "cell_type": "code",
   "execution_count": null,
   "id": "ca097e2f",
   "metadata": {
    "slideshow": {
     "slide_type": "slide"
    }
   },
   "outputs": [],
   "source": [
    "%matplotlib inline\n",
    "import numpy as np\n",
    "import pandas as pd\n",
    "from IPython.display import Image\n",
    "from IPython.display import HTML\n",
    "from IPython.display import Markdown, display\n",
    "def printmd(string):\n",
    "    display(Markdown(string))\n"
   ]
  },
  {
   "cell_type": "code",
   "execution_count": null,
   "id": "13f53749",
   "metadata": {},
   "outputs": [],
   "source": [
    "from IPython.display import display,Image, HTML\n",
    "\n",
    "CSS = \"\"\"\n",
    ".output {\n",
    "    align-items: center;\n",
    "}\n",
    "div.output_area {\n",
    "    width: 80%;\n",
    "}\n",
    "\"\"\"\n",
    "HTML('<style>{}</style>'.format(CSS))"
   ]
  },
  {
   "cell_type": "markdown",
   "id": "e34e63be",
   "metadata": {},
   "source": [
    "# What is Pandas?\n",
    "\n",
    "\n",
    "### - Pandas is an open-source library built on top of Numpy\n",
    "- https://github.com/pandas-dev/pandas\n",
    "- https://github.com/pandas-dev/pandas/blob/059c8bac51e47d6eaaa3e36d6a293a22312925e6/pandas/core/frame.py\n",
    "\n",
    "### - Enables working with tabular and labeled data easily and intuitively\n",
    "\n",
    "### - Pandas data structures:\n",
    "    - Series\n",
    "    - Index\n",
    "    - Data Frame\n",
    "    "
   ]
  },
  {
   "cell_type": "markdown",
   "id": "c0128413",
   "metadata": {},
   "source": [
    "## Quick intro to Numpy Arrays\n",
    "- contains Numerical ***Homogeneous*** Data\n",
    "- may contain multi dimensional array elements.\n",
    "- used for performing various numerical computations and processing of the multidimensional and single-dimensional array elements."
   ]
  },
  {
   "cell_type": "code",
   "execution_count": null,
   "id": "37b55f99",
   "metadata": {},
   "outputs": [],
   "source": [
    "import numpy as np\n",
    "np.random.seed(0)  # seed for reproducibility\n",
    "\n",
    "two_dim_arr = np.random.randint(10, size=(3, 4))  # Two-dimensional array\n",
    "three_dim_arr = np.random.randint(10, size=(3, 4, 5))  # Three-dimensional array\n"
   ]
  },
  {
   "cell_type": "markdown",
   "id": "287b2eea",
   "metadata": {},
   "source": [
    "### A two dimensional Array example..."
   ]
  },
  {
   "cell_type": "code",
   "execution_count": null,
   "id": "a2d4c48a",
   "metadata": {},
   "outputs": [],
   "source": [
    "print(\"Two Dimentional Array\")\n",
    "two_dim_arr"
   ]
  },
  {
   "cell_type": "markdown",
   "id": "2f96c14b",
   "metadata": {},
   "source": [
    "### What I mean by Homogeneous..."
   ]
  },
  {
   "cell_type": "code",
   "execution_count": null,
   "id": "cfc3a5c8",
   "metadata": {},
   "outputs": [],
   "source": [
    "print(two_dim_arr)"
   ]
  },
  {
   "cell_type": "markdown",
   "id": "f6d7794b",
   "metadata": {},
   "source": [
    "**two_dim_arr[0,0] = \"Hello\"**"
   ]
  },
  {
   "cell_type": "code",
   "execution_count": null,
   "id": "39a674af",
   "metadata": {},
   "outputs": [],
   "source": [
    "two_dim_arr[0,0] = \"Hello\" "
   ]
  },
  {
   "cell_type": "code",
   "execution_count": null,
   "id": "62d67a30",
   "metadata": {},
   "outputs": [],
   "source": [
    "type(two_dim_arr)"
   ]
  },
  {
   "cell_type": "markdown",
   "id": "8b4c900b",
   "metadata": {},
   "source": [
    "### You can directly form the DataFrame from the 2D array"
   ]
  },
  {
   "cell_type": "code",
   "execution_count": null,
   "id": "29f1be11",
   "metadata": {},
   "outputs": [],
   "source": [
    "import pandas as pd"
   ]
  },
  {
   "cell_type": "code",
   "execution_count": null,
   "id": "52517c30",
   "metadata": {},
   "outputs": [],
   "source": [
    "\n",
    "print(\"Data Frame formed by 2D Array\")\n",
    "\n",
    "df=pd.DataFrame(two_dim_arr)\n",
    "df"
   ]
  },
  {
   "cell_type": "markdown",
   "id": "5c18022e",
   "metadata": {},
   "source": [
    "### Pandas Data Frame is Heterogeneous!\n",
    "**df.iloc[0,0]=\"Hello\"**"
   ]
  },
  {
   "cell_type": "code",
   "execution_count": null,
   "id": "08cbd70b",
   "metadata": {},
   "outputs": [],
   "source": [
    "df.iloc[0,0]=\"Hello\""
   ]
  },
  {
   "cell_type": "code",
   "execution_count": null,
   "id": "d6fb5639",
   "metadata": {},
   "outputs": [],
   "source": [
    "df"
   ]
  },
  {
   "cell_type": "markdown",
   "id": "34d1c0b4",
   "metadata": {},
   "source": [
    "### Pandas Data Frame labels the data with Indices and Columns labels\n",
    "pd.DataFrame(np.random.randint(10,size=(3,2)),\n",
    "             columns=['foo', 'bar'],\n",
    "             index=['a', 'b', 'c'])"
   ]
  },
  {
   "cell_type": "code",
   "execution_count": null,
   "id": "cc4a86eb",
   "metadata": {},
   "outputs": [],
   "source": [
    "np.random.randint(10,size=(3,2))"
   ]
  },
  {
   "cell_type": "code",
   "execution_count": null,
   "id": "d3e2706e",
   "metadata": {},
   "outputs": [],
   "source": [
    "##np.random.seed(0)\n",
    "foo_df = pd.DataFrame(np.random.randint(10,size=(3,2)),\n",
    "             columns=['foo', 'bar'],\n",
    "             index=['a', 'b', 'c']\n",
    "                 )"
   ]
  },
  {
   "cell_type": "code",
   "execution_count": null,
   "id": "2fda97a9",
   "metadata": {},
   "outputs": [],
   "source": [
    "foo_df"
   ]
  },
  {
   "cell_type": "markdown",
   "id": "5b93b668",
   "metadata": {},
   "source": [
    "### Pandas DataFrame is relevant for statistical observations/data points with various types of variables (categorical, etc) "
   ]
  },
  {
   "cell_type": "code",
   "execution_count": null,
   "id": "99409634",
   "metadata": {
    "scrolled": true
   },
   "outputs": [],
   "source": [
    "Image(\"res/Tidy_census.png\")"
   ]
  },
  {
   "cell_type": "markdown",
   "id": "f4812725",
   "metadata": {},
   "source": [
    "### It's intuitive...  Look how convenient it is"
   ]
  },
  {
   "cell_type": "code",
   "execution_count": null,
   "id": "eb678f08",
   "metadata": {},
   "outputs": [],
   "source": [
    "people_df= pd.read_csv(\"data/people.csv\")\n",
    "people_df"
   ]
  },
  {
   "cell_type": "code",
   "execution_count": null,
   "id": "0980f249",
   "metadata": {},
   "outputs": [],
   "source": [
    "Image('res/excel-to-pandas.png')"
   ]
  },
  {
   "cell_type": "code",
   "execution_count": null,
   "id": "ab13faf8",
   "metadata": {},
   "outputs": [],
   "source": [
    "name = ['Maria', 'Dylan', 'Philipp', 'Konsti']\n",
    "gender = ['female', 'male', 'male', 'male']\n",
    "fav_food = ['sushi', 'tacos', 'fried_chicken', 'lasagna']"
   ]
  },
  {
   "cell_type": "code",
   "execution_count": null,
   "id": "cbd0a7d0",
   "metadata": {},
   "outputs": [],
   "source": [
    "students_dict = {'name':name, 'gender':gender, 'fav_food':fav_food}"
   ]
  },
  {
   "cell_type": "code",
   "execution_count": null,
   "id": "2a9d6fd0",
   "metadata": {},
   "outputs": [],
   "source": [
    "students_df = pd.DataFrame(students_dict)"
   ]
  },
  {
   "cell_type": "code",
   "execution_count": null,
   "id": "b1aef9cc",
   "metadata": {},
   "outputs": [],
   "source": [
    "students_df.iloc[0,0] = 1"
   ]
  },
  {
   "cell_type": "code",
   "execution_count": null,
   "id": "7bd12860",
   "metadata": {},
   "outputs": [],
   "source": [
    "students_df"
   ]
  },
  {
   "cell_type": "markdown",
   "id": "8792a0aa",
   "metadata": {},
   "source": [
    "source: https://jalammar.github.io/"
   ]
  },
  {
   "cell_type": "markdown",
   "id": "1f7e1a34",
   "metadata": {},
   "source": [
    "### Describing the Data Frame...\n",
    "- df.info()\n",
    "- df.count())\n",
    "- df.describe())\n",
    "- df.mean())"
   ]
  },
  {
   "cell_type": "code",
   "execution_count": null,
   "id": "022d6bf8",
   "metadata": {},
   "outputs": [],
   "source": [
    "students_df.info()"
   ]
  },
  {
   "cell_type": "code",
   "execution_count": null,
   "id": "ffd0c76f",
   "metadata": {},
   "outputs": [],
   "source": [
    "people_df"
   ]
  },
  {
   "cell_type": "code",
   "execution_count": null,
   "id": "87931d39",
   "metadata": {},
   "outputs": [],
   "source": [
    "people_df['age'].describe()"
   ]
  },
  {
   "cell_type": "code",
   "execution_count": null,
   "id": "bafa664c",
   "metadata": {},
   "outputs": [],
   "source": [
    "people_df.count()"
   ]
  },
  {
   "cell_type": "markdown",
   "id": "6eec01c8",
   "metadata": {},
   "source": [
    "### Pandas Data Frame operations"
   ]
  },
  {
   "cell_type": "code",
   "execution_count": null,
   "id": "0d6e25ec",
   "metadata": {},
   "outputs": [],
   "source": [
    "Image(\"res/CRUD.png\")"
   ]
  },
  {
   "cell_type": "markdown",
   "id": "36d59797",
   "metadata": {},
   "source": [
    "### Data Frame creation\n",
    "You can create/form a Data Frame from:\n",
    "- Dict of 1D ndarrays, lists, dicts, or Series\n",
    "\n",
    "- 2-D numpy.ndarray\n",
    "\n",
    "- Structured or record ndarray\n",
    "\n",
    "- A Series\n",
    "\n",
    "- Another DataFrame"
   ]
  },
  {
   "cell_type": "markdown",
   "id": "9d278902",
   "metadata": {},
   "source": [
    "#### Here is an example..."
   ]
  },
  {
   "cell_type": "code",
   "execution_count": null,
   "id": "6f8fa45f",
   "metadata": {},
   "outputs": [],
   "source": [
    "print('example_df = {\"col1\": [1.0, 2.0, 3.0, 4.0], \"col2\": [4.0, 3.0, 2.0, 1.0]}\\n')\n",
    "\n",
    "example_dict = {\"col1\": [1.0, 2.0, 3.0, 4.0], \"col2\": [4.0, 3.0, 2.0, 1.0]}\n",
    "\n",
    "example_dict"
   ]
  },
  {
   "cell_type": "code",
   "execution_count": null,
   "id": "49ea36d0",
   "metadata": {},
   "outputs": [],
   "source": [
    "df=pd.DataFrame(example_dict,index =['a','b','c','d'])"
   ]
  },
  {
   "cell_type": "code",
   "execution_count": null,
   "id": "3dfbd3bf",
   "metadata": {},
   "outputs": [],
   "source": [
    "df"
   ]
  },
  {
   "cell_type": "markdown",
   "id": "91e2c266",
   "metadata": {},
   "source": [
    "#### creating Index for the Data frame..."
   ]
  },
  {
   "cell_type": "code",
   "execution_count": null,
   "id": "47a9f33e",
   "metadata": {},
   "outputs": [],
   "source": [
    "print('dic = {\"col1\": [1.0, 2.0, 3.0, 4.0], \"col2\": [4.0, 3.0, 2.0, 1.0]}\\n')\n",
    "\n",
    "dic= {\"col1\": [1.0, 2.0, 3.0, 4.0], \"col2\": [4.0, 3.0, 2.0, 1.0]}\n",
    "\n",
    "dic"
   ]
  },
  {
   "cell_type": "code",
   "execution_count": null,
   "id": "3377884e",
   "metadata": {},
   "outputs": [],
   "source": [
    "df=pd.DataFrame(dic)\n",
    "df"
   ]
  },
  {
   "cell_type": "markdown",
   "id": "eced2e1d",
   "metadata": {},
   "source": [
    "### Creating a Dataframe from Pandas Series objects.. "
   ]
  },
  {
   "cell_type": "code",
   "execution_count": null,
   "id": "7d017049",
   "metadata": {},
   "outputs": [],
   "source": [
    "d = {\n",
    "       \"apples\": [3, 2, 0,1],\n",
    "        \"oranges\": [0, 3, 7, 2],\n",
    "    }\n",
    "\n",
    "pd.DataFrame(d)"
   ]
  },
  {
   "cell_type": "code",
   "execution_count": null,
   "id": "24e5a5e3",
   "metadata": {
    "scrolled": true
   },
   "outputs": [],
   "source": [
    "Image(\"res/series-and-dataframe.width-1200.png\")"
   ]
  },
  {
   "cell_type": "markdown",
   "id": "dc144cad",
   "metadata": {},
   "source": [
    "source: https://storage.googleapis.com/lds-media/images/series-and-dataframe.width-1200.png"
   ]
  },
  {
   "cell_type": "markdown",
   "id": "391e2c46",
   "metadata": {},
   "source": [
    "### Data Frame Selection / Indexing"
   ]
  },
  {
   "cell_type": "code",
   "execution_count": null,
   "id": "eb5c2370",
   "metadata": {},
   "outputs": [],
   "source": [
    "data = {\n",
    "    'name': ['Xavier', 'Ann', 'Jana', 'Yi', 'Robin', 'Amal', 'Nori'],\n",
    "    'city': ['Mexico City', 'Toronto', 'Prague', 'Shanghai',\n",
    "             'Manchester', 'Cairo', 'Osaka'],\n",
    "    'age': [41, 28, 33, 34, 38, 31, 37],\n",
    "    'py-score': [88.0, 79.0, 81.0, 80.0, 68.0, 61.0, 84.0]\n",
    "}\n",
    "\n",
    "row_labels = [101, 102, 103, 104, 105, 106, 107]\n",
    "students_df = pd.DataFrame(data=data, index=row_labels)\n",
    "students_df"
   ]
  },
  {
   "cell_type": "code",
   "execution_count": null,
   "id": "9d595a39",
   "metadata": {},
   "outputs": [],
   "source": [
    "students_df.index"
   ]
  },
  {
   "cell_type": "code",
   "execution_count": null,
   "id": "8fa0e841",
   "metadata": {},
   "outputs": [],
   "source": [
    "students_df = students_df.drop(105)"
   ]
  },
  {
   "cell_type": "code",
   "execution_count": null,
   "id": "0562da7c",
   "metadata": {},
   "outputs": [],
   "source": [
    "students_df.reset_index(drop=True)"
   ]
  },
  {
   "cell_type": "markdown",
   "id": "85a5d912",
   "metadata": {},
   "source": [
    "## Source: https://realpython.com/"
   ]
  },
  {
   "cell_type": "markdown",
   "id": "1184fbfb",
   "metadata": {},
   "source": [
    "### Data Selection"
   ]
  },
  {
   "cell_type": "code",
   "execution_count": null,
   "id": "3b44386f",
   "metadata": {},
   "outputs": [],
   "source": [
    "students_df"
   ]
  },
  {
   "cell_type": "code",
   "execution_count": null,
   "id": "e84f3187",
   "metadata": {},
   "outputs": [],
   "source": [
    "students_df.iloc[4,1]"
   ]
  },
  {
   "cell_type": "code",
   "execution_count": null,
   "id": "02b2930a",
   "metadata": {},
   "outputs": [],
   "source": [
    "students_df.loc[[101],[\"age\"]]"
   ]
  },
  {
   "cell_type": "code",
   "execution_count": null,
   "id": "63e03c51",
   "metadata": {},
   "outputs": [],
   "source": [
    "students_df.loc[106, 'city']"
   ]
  },
  {
   "cell_type": "code",
   "execution_count": null,
   "id": "91da238d",
   "metadata": {},
   "outputs": [],
   "source": [
    "students_df"
   ]
  },
  {
   "cell_type": "markdown",
   "id": "d66b3d79",
   "metadata": {},
   "source": [
    "### Selecting by Label\n",
    "- .loc[] attribute"
   ]
  },
  {
   "cell_type": "code",
   "execution_count": null,
   "id": "6b37a939",
   "metadata": {},
   "outputs": [],
   "source": [
    "students_df"
   ]
  },
  {
   "cell_type": "code",
   "execution_count": null,
   "id": "5ae2b9dc",
   "metadata": {},
   "outputs": [],
   "source": [
    "#print(\"students_df.loc[:, 'city']\")\n",
    "#students_df.loc[:, 'city']"
   ]
  },
  {
   "cell_type": "code",
   "execution_count": null,
   "id": "4370cf9c",
   "metadata": {},
   "outputs": [],
   "source": [
    "print(\"students_df.loc[102:106, ['name', 'city']]\")\n",
    "students_df.loc[102:106, ['name', 'city']]"
   ]
  },
  {
   "cell_type": "code",
   "execution_count": null,
   "id": "e68ed452",
   "metadata": {},
   "outputs": [],
   "source": [
    "#print('df[\"city\"]')\n",
    "cities = students_df[[\"name\",\"city\"]]\n",
    "cities"
   ]
  },
  {
   "cell_type": "code",
   "execution_count": null,
   "id": "c0783da6",
   "metadata": {},
   "outputs": [],
   "source": [
    "students_df.loc[106]"
   ]
  },
  {
   "cell_type": "code",
   "execution_count": null,
   "id": "b5e0fc30",
   "metadata": {},
   "outputs": [],
   "source": [
    "print(\"df.city\")\n",
    "students_df.city"
   ]
  },
  {
   "cell_type": "markdown",
   "id": "c00b849d",
   "metadata": {},
   "source": [
    "### Selecting by Position\n",
    "- .iloc[]"
   ]
  },
  {
   "cell_type": "code",
   "execution_count": null,
   "id": "b86b7317",
   "metadata": {},
   "outputs": [],
   "source": [
    "students_df"
   ]
  },
  {
   "cell_type": "code",
   "execution_count": null,
   "id": "1abf6658",
   "metadata": {},
   "outputs": [],
   "source": [
    "students_df.iloc[0,1]"
   ]
  },
  {
   "cell_type": "code",
   "execution_count": null,
   "id": "765ece99",
   "metadata": {
    "scrolled": true
   },
   "outputs": [],
   "source": [
    "print(\"students_df.iloc[1:6, [0, 1]]\")\n",
    "students_df.iloc[1:6, [0, 1]]"
   ]
  },
  {
   "cell_type": "code",
   "execution_count": null,
   "id": "3dfdbef2",
   "metadata": {},
   "outputs": [],
   "source": [
    "students_df"
   ]
  },
  {
   "cell_type": "code",
   "execution_count": null,
   "id": "475eae22",
   "metadata": {},
   "outputs": [],
   "source": [
    "list_ = list(range(10))"
   ]
  },
  {
   "cell_type": "code",
   "execution_count": null,
   "id": "ad2fcb1a",
   "metadata": {},
   "outputs": [],
   "source": [
    "list_[6:9]"
   ]
  },
  {
   "cell_type": "code",
   "execution_count": null,
   "id": "562b2370",
   "metadata": {},
   "outputs": [],
   "source": [
    "students_df.iloc[4:6,2:4]"
   ]
  },
  {
   "cell_type": "markdown",
   "id": "0a2b23c3",
   "metadata": {},
   "source": [
    "### Can you tell what the difference is between loc and iloc?"
   ]
  },
  {
   "cell_type": "markdown",
   "id": "45c39845",
   "metadata": {},
   "source": [
    "### Setting/Updating data"
   ]
  },
  {
   "cell_type": "markdown",
   "id": "3a1e1eb5",
   "metadata": {},
   "source": [
    "#### Let us first update the Data frame index.."
   ]
  },
  {
   "cell_type": "code",
   "execution_count": null,
   "id": "a81c5ba0",
   "metadata": {},
   "outputs": [],
   "source": [
    "students_df.index = list(np.arange(0, 7))\n",
    "students_df"
   ]
  },
  {
   "cell_type": "markdown",
   "id": "c889d2ac",
   "metadata": {},
   "source": [
    "### Inserting/deleting rows"
   ]
  },
  {
   "cell_type": "code",
   "execution_count": null,
   "id": "63edcdfb",
   "metadata": {},
   "outputs": [],
   "source": [
    "students_df"
   ]
  },
  {
   "cell_type": "code",
   "execution_count": null,
   "id": "c44a49d0",
   "metadata": {},
   "outputs": [],
   "source": [
    "name = ['Juan', 'Monika', 'Juliette']\n",
    "city = ['Berlin','Paris', 'Paris']\n",
    "age = [30,20,25]\n",
    "py_score = [70,85,90]\n",
    "\n",
    "new_students = { 'name' : name, 'city':city, 'age':age, 'py-score':py_score}"
   ]
  },
  {
   "cell_type": "code",
   "execution_count": null,
   "id": "3a3ee027",
   "metadata": {},
   "outputs": [],
   "source": [
    "new_students"
   ]
  },
  {
   "cell_type": "code",
   "execution_count": null,
   "id": "1ac3b54b",
   "metadata": {},
   "outputs": [],
   "source": [
    "new_df = pd.DataFrame(new_students)\n",
    "new_df"
   ]
  },
  {
   "cell_type": "code",
   "execution_count": null,
   "id": "1d309e52",
   "metadata": {},
   "outputs": [],
   "source": [
    "df = pd.concat([students_df,new_df])"
   ]
  },
  {
   "cell_type": "code",
   "execution_count": null,
   "id": "582ef866",
   "metadata": {},
   "outputs": [],
   "source": [
    "df"
   ]
  },
  {
   "cell_type": "code",
   "execution_count": null,
   "id": "176e531c",
   "metadata": {},
   "outputs": [],
   "source": [
    "df = df.reset_index(drop=True)"
   ]
  },
  {
   "cell_type": "code",
   "execution_count": null,
   "id": "78e40574",
   "metadata": {},
   "outputs": [],
   "source": [
    "df"
   ]
  },
  {
   "cell_type": "code",
   "execution_count": null,
   "id": "b114816c",
   "metadata": {},
   "outputs": [],
   "source": [
    "df.reset_index(drop=True, inplace=True)"
   ]
  },
  {
   "cell_type": "markdown",
   "id": "c3e25a7e",
   "metadata": {},
   "source": [
    "### Inserting/Deleting columns"
   ]
  },
  {
   "cell_type": "code",
   "execution_count": null,
   "id": "48104c53",
   "metadata": {},
   "outputs": [],
   "source": [
    "students_df"
   ]
  },
  {
   "cell_type": "code",
   "execution_count": null,
   "id": "3a8e7ef2",
   "metadata": {},
   "outputs": [],
   "source": [
    "#print('df[js-score] = np.array([71.0, 95.0, 88.0, 79.0, 91.0, 91.0, 80.0])')\n",
    "students_df['js-score'] =[71.0, 95.0, 88.0, 79.0, 91.0, 91.0, 80]\n",
    "students_df"
   ]
  },
  {
   "cell_type": "code",
   "execution_count": null,
   "id": "d7c48882",
   "metadata": {},
   "outputs": [],
   "source": [
    "students_df['py-score-updated'] = students_df['py-score'] * 10 "
   ]
  },
  {
   "cell_type": "code",
   "execution_count": null,
   "id": "06ecdfd4",
   "metadata": {},
   "outputs": [],
   "source": [
    "students_df"
   ]
  },
  {
   "cell_type": "code",
   "execution_count": null,
   "id": "75f62847",
   "metadata": {},
   "outputs": [],
   "source": [
    "students_df.drop('js-score', axis=1)"
   ]
  },
  {
   "cell_type": "markdown",
   "id": "635b717f",
   "metadata": {},
   "source": [
    "### Inserting in a specific location"
   ]
  },
  {
   "cell_type": "code",
   "execution_count": null,
   "id": "24dcfcc2",
   "metadata": {},
   "outputs": [],
   "source": [
    "students_df.insert(loc=4, column='django-score',\n",
    "          value=np.array([70, 74, 78, 56, 66, 78, 81.0]))\n",
    "students_df"
   ]
  },
  {
   "cell_type": "markdown",
   "id": "0f3bc1ae",
   "metadata": {},
   "source": [
    "### Dropping specific column"
   ]
  },
  {
   "cell_type": "code",
   "execution_count": null,
   "id": "9b607123",
   "metadata": {},
   "outputs": [],
   "source": [
    "## axis= 0 dropping by row,  axis=1 dropping by column\n",
    "students_df.drop(columns='django-score')"
   ]
  },
  {
   "cell_type": "markdown",
   "id": "7a6bd907",
   "metadata": {},
   "source": [
    "### Filtering/Boolean Indexing"
   ]
  },
  {
   "cell_type": "code",
   "execution_count": null,
   "id": "5756982d",
   "metadata": {},
   "outputs": [],
   "source": [
    "students_df[\"py-score\"] >= 75"
   ]
  },
  {
   "cell_type": "code",
   "execution_count": null,
   "id": "dbb07262",
   "metadata": {},
   "outputs": [],
   "source": [
    "very_good_students_filter=students_df[students_df[\"py-score\"]>=75]"
   ]
  },
  {
   "cell_type": "code",
   "execution_count": null,
   "id": "dd611ec0",
   "metadata": {},
   "outputs": [],
   "source": [
    "very_good_students_filter"
   ]
  },
  {
   "cell_type": "markdown",
   "id": "d558b5e9",
   "metadata": {},
   "source": [
    "### Creating powerful filters with Logical operators AND, OR, NOT, XOR"
   ]
  },
  {
   "cell_type": "code",
   "execution_count": null,
   "id": "a7550f9f",
   "metadata": {},
   "outputs": [],
   "source": [
    "#print('df[(df[py-score] >= 80) & (df[js-score] >= 80)]')\n",
    "students_df[(students_df['py-score'] >= 70) & (students_df['django-score'] >= 80)] #or "
   ]
  },
  {
   "cell_type": "markdown",
   "id": "c8fd739e",
   "metadata": {},
   "source": [
    "## Using value counts function"
   ]
  },
  {
   "cell_type": "code",
   "execution_count": null,
   "id": "b75c51b0",
   "metadata": {},
   "outputs": [],
   "source": [
    "people_df=pd.read_csv(\"data/people.csv\")\n",
    "people_df"
   ]
  },
  {
   "cell_type": "code",
   "execution_count": null,
   "id": "ea882d57",
   "metadata": {},
   "outputs": [],
   "source": [
    "people_df['country'].unique()"
   ]
  },
  {
   "cell_type": "code",
   "execution_count": null,
   "id": "6ea4b4c9",
   "metadata": {},
   "outputs": [],
   "source": [
    "people_df['country'].value_counts()"
   ]
  },
  {
   "cell_type": "code",
   "execution_count": null,
   "id": "39e1da5c",
   "metadata": {},
   "outputs": [],
   "source": [
    "people_df['country'].nunique()"
   ]
  },
  {
   "cell_type": "markdown",
   "id": "abad6b62",
   "metadata": {},
   "source": [
    "### Saving our df to csv"
   ]
  },
  {
   "cell_type": "code",
   "execution_count": null,
   "id": "790e9563",
   "metadata": {},
   "outputs": [],
   "source": [
    "people_df.to_csv('people.csv')"
   ]
  }
 ],
 "metadata": {
  "kernelspec": {
   "display_name": "Python 3 (ipykernel)",
   "language": "python",
   "name": "python3"
  },
  "language_info": {
   "codemirror_mode": {
    "name": "ipython",
    "version": 3
   },
   "file_extension": ".py",
   "mimetype": "text/x-python",
   "name": "python",
   "nbconvert_exporter": "python",
   "pygments_lexer": "ipython3",
   "version": "3.11.5"
  },
  "toc": {
   "base_numbering": 1,
   "nav_menu": {},
   "number_sections": false,
   "sideBar": true,
   "skip_h1_title": false,
   "title_cell": "Table of Contents",
   "title_sidebar": "Contents",
   "toc_cell": false,
   "toc_position": {},
   "toc_section_display": true,
   "toc_window_display": false
  }
 },
 "nbformat": 4,
 "nbformat_minor": 5
}
