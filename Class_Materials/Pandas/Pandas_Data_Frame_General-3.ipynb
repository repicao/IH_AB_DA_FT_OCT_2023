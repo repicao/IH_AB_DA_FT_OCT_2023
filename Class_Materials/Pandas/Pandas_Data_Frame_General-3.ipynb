{
 "cells": [
  {
   "cell_type": "markdown",
   "id": "c2bace40",
   "metadata": {},
   "source": [
    "## Pandas Group By"
   ]
  },
  {
   "cell_type": "markdown",
   "id": "6125f8b2",
   "metadata": {},
   "source": [
    "## Grouping"
   ]
  },
  {
   "cell_type": "code",
   "execution_count": null,
   "id": "833fb7e1",
   "metadata": {},
   "outputs": [],
   "source": [
    "import pandas as pd\n",
    "import numpy as np\n",
    "people_df=pd.read_csv(\"data/people.csv\")\n"
   ]
  },
  {
   "cell_type": "code",
   "execution_count": null,
   "id": "5ce92ee6",
   "metadata": {
    "scrolled": true
   },
   "outputs": [],
   "source": [
    "people_df"
   ]
  },
  {
   "cell_type": "code",
   "execution_count": null,
   "id": "852fcd8f",
   "metadata": {},
   "outputs": [],
   "source": [
    "people_df.groupby('country').groups"
   ]
  },
  {
   "cell_type": "code",
   "execution_count": null,
   "id": "e3cbeeec",
   "metadata": {},
   "outputs": [],
   "source": [
    "people_df.groupby([\"country\"]).min()"
   ]
  },
  {
   "cell_type": "code",
   "execution_count": null,
   "id": "67fd0beb",
   "metadata": {},
   "outputs": [],
   "source": [
    "people_df.groupby(\"name\")"
   ]
  },
  {
   "cell_type": "code",
   "execution_count": null,
   "id": "6d63e96e",
   "metadata": {},
   "outputs": [],
   "source": [
    "people_df.groupby([\"country\",\"name\"]).mean()"
   ]
  },
  {
   "cell_type": "code",
   "execution_count": null,
   "id": "d4787b0d",
   "metadata": {},
   "outputs": [],
   "source": [
    "def groups_avg(grps):\n",
    "    return grps.mean() + 15"
   ]
  },
  {
   "cell_type": "code",
   "execution_count": null,
   "id": "d5d17643",
   "metadata": {},
   "outputs": [],
   "source": [
    "people_df.groupby(\"name\")[[\"age\"]].mean()"
   ]
  },
  {
   "cell_type": "code",
   "execution_count": null,
   "id": "fada0624",
   "metadata": {},
   "outputs": [],
   "source": [
    "people_df.groupby(\"name\")[[\"age\"]].apply(lambda x : x.mean() +15)"
   ]
  },
  {
   "cell_type": "code",
   "execution_count": null,
   "id": "28bfbe59",
   "metadata": {},
   "outputs": [],
   "source": [
    "people_df.groupby(\"name\").apply(np.sum)"
   ]
  },
  {
   "cell_type": "code",
   "execution_count": null,
   "id": "4ddde247",
   "metadata": {},
   "outputs": [],
   "source": [
    "people_df.groupby(\"name\")[[\"country\"]].max()"
   ]
  },
  {
   "cell_type": "code",
   "execution_count": null,
   "id": "336336c4",
   "metadata": {},
   "outputs": [],
   "source": [
    "people_df.groupby('name').agg(['max','sum'])"
   ]
  },
  {
   "cell_type": "code",
   "execution_count": null,
   "id": "e5afd24f",
   "metadata": {},
   "outputs": [],
   "source": [
    "min(['hi','bye'])"
   ]
  },
  {
   "cell_type": "code",
   "execution_count": null,
   "id": "d0d6bf91",
   "metadata": {},
   "outputs": [],
   "source": [
    "people_df"
   ]
  },
  {
   "cell_type": "code",
   "execution_count": null,
   "id": "32b54eac",
   "metadata": {},
   "outputs": [],
   "source": [
    "people_df.groupby(\"country\").agg({\"age\":[\"count\",\"mean\",\"min\"],\"name\":\"max\"})"
   ]
  },
  {
   "cell_type": "markdown",
   "id": "42c48432",
   "metadata": {},
   "source": [
    "### - Splitting\n",
    "- splitting Data Frame into sub groups by key value or values\n",
    "- equal to \"group By\" in SQL. \n",
    "\n",
    "### - Applying\n",
    "   - Aggregation\n",
    "       - applying one or multiple functions in to the items within each subgroup.\n",
    "   - Transformation\n",
    "        - broadcasting the results into the original data frame\n",
    "   - Filtering\n",
    "        - equivalent to HAVING in SQL\n",
    "        \n",
    "### - Combining\n",
    "    - combining the results to fit into the data pipeline and/or deliver the insights"
   ]
  },
  {
   "cell_type": "code",
   "execution_count": null,
   "id": "82bb410b",
   "metadata": {
    "scrolled": true
   },
   "outputs": [],
   "source": [
    "from IPython import display\n",
    "display.Image(\"res/grouping.png\")"
   ]
  },
  {
   "cell_type": "markdown",
   "id": "f7c8719a",
   "metadata": {},
   "source": [
    "source:https://towardsdatascience.com/aggregation-transform-filter-how-and-when-to-use-them-31ed7eb88d2e"
   ]
  },
  {
   "cell_type": "code",
   "execution_count": null,
   "id": "3cd58bf2",
   "metadata": {},
   "outputs": [],
   "source": [
    "df.loc[~(df['Life Expectancy']>75)]"
   ]
  },
  {
   "cell_type": "code",
   "execution_count": null,
   "id": "d6338e96",
   "metadata": {},
   "outputs": [],
   "source": [
    "df=pd.read_csv(\"data/life_expectancy_countries.csv\")\n",
    "df"
   ]
  },
  {
   "cell_type": "code",
   "execution_count": null,
   "id": "fc9b531d",
   "metadata": {
    "scrolled": true
   },
   "outputs": [],
   "source": [
    "df.groupby(\"Region\")[\"Life Expectancy\"].mean()>75"
   ]
  },
  {
   "cell_type": "code",
   "execution_count": null,
   "id": "e2db7772",
   "metadata": {
    "scrolled": true
   },
   "outputs": [],
   "source": [
    "df.groupby('Region').filter(lambda x: x['Life Expectancy'].mean()>75).sort_values(by=\"Region\")"
   ]
  },
  {
   "cell_type": "code",
   "execution_count": null,
   "id": "e91fe811",
   "metadata": {},
   "outputs": [],
   "source": []
  }
 ],
 "metadata": {
  "kernelspec": {
   "display_name": "Python 3 (ipykernel)",
   "language": "python",
   "name": "python3"
  },
  "language_info": {
   "codemirror_mode": {
    "name": "ipython",
    "version": 3
   },
   "file_extension": ".py",
   "mimetype": "text/x-python",
   "name": "python",
   "nbconvert_exporter": "python",
   "pygments_lexer": "ipython3",
   "version": "3.9.16"
  },
  "toc": {
   "base_numbering": 1,
   "nav_menu": {},
   "number_sections": true,
   "sideBar": true,
   "skip_h1_title": false,
   "title_cell": "Table of Contents",
   "title_sidebar": "Contents",
   "toc_cell": false,
   "toc_position": {},
   "toc_section_display": true,
   "toc_window_display": false
  }
 },
 "nbformat": 4,
 "nbformat_minor": 5
}
