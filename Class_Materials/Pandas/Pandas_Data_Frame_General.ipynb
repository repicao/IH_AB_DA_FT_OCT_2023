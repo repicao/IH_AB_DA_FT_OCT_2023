{
 "cells": [
  {
   "cell_type": "markdown",
   "id": "370cb6bc",
   "metadata": {},
   "source": [
    "## Pandas Data Frames"
   ]
  },
  {
   "cell_type": "markdown",
   "id": "3bde899d",
   "metadata": {},
   "source": [
    "- What Is Pandas?\n",
    "- Pandas vs Numpy \n",
    "- Pandas Data Frame Intro\n",
    "- Pandas Data Frame fundamental operations\n",
    "    - Creating\n",
    "    - Selecting/indexing\n",
    "    - Inserting rows/columns\n",
    "    - Setting data\n",
    "    - Filtering\n",
    "    - dropping rwos/ columns\n",
    "- Dealing with Missing values\n",
    "- Applying functions, working with Numpy functions\n",
    "- Concatinatng & Merging\n",
    "- Grouping\n",
    "- Preprocessing\n",
    "    - Categorical & dummy variables\n",
    "    - Sparse Data Frame\n",
    "- Data Frame Best Practies\n",
    "- I/O operations"
   ]
  },
  {
   "cell_type": "code",
   "execution_count": null,
   "id": "5a990cc2",
   "metadata": {
    "slideshow": {
     "slide_type": "slide"
    }
   },
   "outputs": [],
   "source": [
    "%matplotlib inline\n",
    "import numpy as np\n",
    "import pandas as pd\n",
    "from IPython.display import Image\n",
    "from IPython.display import HTML\n",
    "from IPython.display import Markdown, display\n",
    "def printmd(string):\n",
    "    display(Markdown(string))\n"
   ]
  },
  {
   "cell_type": "markdown",
   "id": "fda7b3f9",
   "metadata": {},
   "source": [
    "CSS = \"\"\"\n",
    ".output {\n",
    "    align-items: center;\n",
    "}\n",
    "\"\"\"\n",
    "HTML('''<script>\n",
    "code_show=true; \n",
    "function code_toggle() {\n",
    " if (code_show){\n",
    " $('div.input').hide();\n",
    " } else {\n",
    " $('div.input').show();\n",
    " }\n",
    " code_show = !code_show\n",
    "} \n",
    "$( document ).ready(code_toggle);\n",
    "</script>\n",
    "<form action=\"javascript:code_toggle()\"><input type=\"submit\" value=\"Code mode\"></form>''')"
   ]
  },
  {
   "cell_type": "code",
   "execution_count": null,
   "id": "13f53749",
   "metadata": {},
   "outputs": [],
   "source": [
    "from IPython.display import display, HTML\n",
    "\n",
    "CSS = \"\"\"\n",
    ".output {\n",
    "    align-items: center;\n",
    "}\n",
    "div.output_area {\n",
    "    width: 80%;\n",
    "}\n",
    "\"\"\"\n",
    "HTML('<style>{}</style>'.format(CSS))"
   ]
  },
  {
   "cell_type": "markdown",
   "id": "e34e63be",
   "metadata": {},
   "source": [
    "# What is Pandas?\n",
    "\n",
    "### - Enables working with tabular and labeled data easily and intuitively\n",
    "### - Pandas is an open-source library built on top of Numpy Package.\n",
    "- https://github.com/pandas-dev/pandas\n",
    "- https://github.com/pandas-dev/pandas/blob/059c8bac51e47d6eaaa3e36d6a293a22312925e6/pandas/core/frame.py\n",
    "\n",
    "### - Pandas data structures are:\n",
    "    - Series\n",
    "    - Index\n",
    "    - Data Frame\n",
    "    "
   ]
  },
  {
   "cell_type": "markdown",
   "id": "c0128413",
   "metadata": {},
   "source": [
    "## Quick refresh to Numpy Arrays..\n",
    "- contains Numerical ***Homogonius*** Data\n",
    "- may contain multi dimensional array elements.\n",
    "- used for performing various numerical computations and processing of the multidimensional and single-dimensional array elements."
   ]
  },
  {
   "cell_type": "code",
   "execution_count": null,
   "id": "37b55f99",
   "metadata": {},
   "outputs": [],
   "source": [
    "import numpy as np\n",
    "np.random.seed(0)  # seed for reproducibility\n",
    "\n",
    "two_dim_arr = np.random.randint(10, size=(3, 4))  # Two-dimensional array\n",
    "three_dim_arr = np.random.randint(10, size=(3, 4, 5))  # Three-dimensional array\n"
   ]
  },
  {
   "cell_type": "markdown",
   "id": "fcb8c2c3",
   "metadata": {},
   "source": [
    "### Here is a three-dimensional Array example..."
   ]
  },
  {
   "cell_type": "code",
   "execution_count": null,
   "id": "16c6d4e6",
   "metadata": {},
   "outputs": [],
   "source": [
    "print(\"Three Dimentional Array\")\n",
    "\n",
    "three_dim_arr"
   ]
  },
  {
   "cell_type": "markdown",
   "id": "287b2eea",
   "metadata": {},
   "source": [
    "### A two dimensional Array example..."
   ]
  },
  {
   "cell_type": "code",
   "execution_count": null,
   "id": "a2d4c48a",
   "metadata": {},
   "outputs": [],
   "source": [
    "print(\"Two Dimentional Array\")\n",
    "two_dim_arr"
   ]
  },
  {
   "cell_type": "markdown",
   "id": "2f96c14b",
   "metadata": {},
   "source": [
    "### What I mean by Homogeneous..."
   ]
  },
  {
   "cell_type": "code",
   "execution_count": null,
   "id": "cfc3a5c8",
   "metadata": {},
   "outputs": [],
   "source": [
    "print(two_dim_arr)"
   ]
  },
  {
   "cell_type": "markdown",
   "id": "f6d7794b",
   "metadata": {},
   "source": [
    "**two_dim_arr[0,0] = \"Hello\"**"
   ]
  },
  {
   "cell_type": "code",
   "execution_count": null,
   "id": "39a674af",
   "metadata": {},
   "outputs": [],
   "source": [
    "printmd(\"***Oops....***\")\n",
    "##two_dim_arr[0,0] = \"Hello\" "
   ]
  },
  {
   "cell_type": "markdown",
   "id": "8b4c900b",
   "metadata": {},
   "source": [
    "### You can directly and simply form the DataFrame from the 2D array"
   ]
  },
  {
   "cell_type": "code",
   "execution_count": null,
   "id": "52517c30",
   "metadata": {},
   "outputs": [],
   "source": [
    "print(\"Data Frame formed by 2D Array\")\n",
    "printmd(\"***df=pd.DataFrame(two_dim_arr)***\")\n",
    "df=pd.DataFrame(two_dim_arr)\n",
    "df"
   ]
  },
  {
   "cell_type": "markdown",
   "id": "5c18022e",
   "metadata": {},
   "source": [
    "### Pandas Data Frame is Heterogeneous!\n",
    "**df.iloc[0,0]=\"Hello\"**"
   ]
  },
  {
   "cell_type": "code",
   "execution_count": null,
   "id": "89d5e5ae",
   "metadata": {},
   "outputs": [],
   "source": [
    "df.iloc[0,0]=\"Hello\"\n",
    "df"
   ]
  },
  {
   "cell_type": "markdown",
   "id": "34d1c0b4",
   "metadata": {},
   "source": [
    "### Pandas Data Frame labels the data with Indices and Columns labels\n",
    "pd.DataFrame(np.random.randint(10,size=(3,2)),\n",
    "             columns=['foo', 'bar'],\n",
    "             index=['a', 'b', 'c'])"
   ]
  },
  {
   "cell_type": "code",
   "execution_count": null,
   "id": "d3e2706e",
   "metadata": {},
   "outputs": [],
   "source": [
    "##np.random.seed(0)\n",
    "foo_df=pd.DataFrame(np.random.randint(10,size=(3,2)),\n",
    "             columns=['foo', 'bar'],\n",
    "             index=['a', 'b', 'c'])"
   ]
  },
  {
   "cell_type": "code",
   "execution_count": null,
   "id": "9ccbd4fe",
   "metadata": {},
   "outputs": [],
   "source": [
    "foo_df\n",
    "\n",
    "foo_df.loc[:,\"bar\"]"
   ]
  },
  {
   "cell_type": "markdown",
   "id": "5b93b668",
   "metadata": {},
   "source": [
    "### Pandas DataFrame is relevant for statistical observations/data points with various variables (categorical, etc) "
   ]
  },
  {
   "cell_type": "code",
   "execution_count": null,
   "id": "99409634",
   "metadata": {
    "scrolled": true
   },
   "outputs": [],
   "source": [
    "Image(\"res/Tidy_census.png\")"
   ]
  },
  {
   "cell_type": "markdown",
   "id": "f4812725",
   "metadata": {},
   "source": [
    "### It is intuitive...  Look how convenient it is!!"
   ]
  },
  {
   "cell_type": "code",
   "execution_count": null,
   "id": "0980f249",
   "metadata": {},
   "outputs": [],
   "source": [
    "Image('res/excel-to-pandas.png')"
   ]
  },
  {
   "cell_type": "markdown",
   "id": "8792a0aa",
   "metadata": {},
   "source": [
    "source: https://jalammar.github.io/"
   ]
  },
  {
   "cell_type": "markdown",
   "id": "1f7e1a34",
   "metadata": {},
   "source": [
    "### Describing the Data Frame...\n",
    "- df.count())\n",
    "- df.describe())\n",
    "- df.mean())"
   ]
  },
  {
   "cell_type": "code",
   "execution_count": null,
   "id": "25b28bae",
   "metadata": {},
   "outputs": [],
   "source": [
    "print(df,\"\\n\")\n",
    "df.info()\n",
    "#print(\"df.count()  \\n\",df.count())\n",
    "#print(\"\\n df.describe() \\n\",df.describe())\n",
    "#print(\"\\n df.mean() \\n\",df.mean())"
   ]
  },
  {
   "cell_type": "code",
   "execution_count": null,
   "id": "e2b6ed83",
   "metadata": {},
   "outputs": [],
   "source": [
    "type(df.iloc[:,1])"
   ]
  },
  {
   "cell_type": "code",
   "execution_count": null,
   "id": "a4a7d303",
   "metadata": {},
   "outputs": [],
   "source": [
    "pd.Series([3,4,5])   ##. Pandas Series is a one dimentional data frame\n"
   ]
  },
  {
   "cell_type": "markdown",
   "id": "6eec01c8",
   "metadata": {},
   "source": [
    "### Pandas Data Frame operations"
   ]
  },
  {
   "cell_type": "code",
   "execution_count": null,
   "id": "0d6e25ec",
   "metadata": {},
   "outputs": [],
   "source": [
    "Image(\"res/CRUD.png\")"
   ]
  },
  {
   "cell_type": "markdown",
   "id": "36d59797",
   "metadata": {},
   "source": [
    "### Data Frame creation\n",
    "You can create/form a Data Frame from:\n",
    "- Dict of 1D ndarrays, lists, dicts, or Series\n",
    "\n",
    "- 2-D numpy.ndarray\n",
    "\n",
    "- Structured or record ndarray\n",
    "\n",
    "- A Series\n",
    "\n",
    "- Another DataFrame"
   ]
  },
  {
   "cell_type": "markdown",
   "id": "9d278902",
   "metadata": {},
   "source": [
    "#### Here is an example..."
   ]
  },
  {
   "cell_type": "code",
   "execution_count": null,
   "id": "6f8fa45f",
   "metadata": {},
   "outputs": [],
   "source": [
    "print('dic = {\"col1\": [1.0, 2.0, 3.0, 4.0], \"col2\": [4.0, 3.0, 2.0, 1.0]}\\n')\n",
    "\n",
    "dic = {\"col1\": [1.0, 2.0, 3.0, 4.0], \"col2\": [4.0, 3.0, 2.0, 1.0]}\n",
    "\n",
    "print(\"pd.DataFrame(dic)\\n\\n\",pd.DataFrame(dic))"
   ]
  },
  {
   "cell_type": "markdown",
   "id": "91e2c266",
   "metadata": {},
   "source": [
    "#### creating Index for the Data frame..."
   ]
  },
  {
   "cell_type": "code",
   "execution_count": null,
   "id": "8331acf0",
   "metadata": {},
   "outputs": [],
   "source": [
    "print('pd.DataFrame(dic, index=[\"a\", \"b\", \"c\", \"d\"]\\n\\n',\n",
    "      pd.DataFrame(dic, index=[\"a\", \"b\", \"c\", \"d\"]))"
   ]
  },
  {
   "cell_type": "markdown",
   "id": "eced2e1d",
   "metadata": {},
   "source": [
    "### Creating Data frame from Pandas Series objects.. "
   ]
  },
  {
   "cell_type": "markdown",
   "id": "6d5b5cf3",
   "metadata": {},
   "source": [
    "d = {\n",
    "       \"apples\": pd.Series([3, 2, 0,1]),\n",
    "        \"oranges\": pd.Series([0, 3, 7, 2]),\n",
    "    }\n",
    "\n",
    "pd.DataFrame(d)"
   ]
  },
  {
   "cell_type": "code",
   "execution_count": null,
   "id": "24e5a5e3",
   "metadata": {
    "scrolled": false
   },
   "outputs": [],
   "source": [
    "Image(\"res/series-and-dataframe.width-1200.png\")"
   ]
  },
  {
   "cell_type": "markdown",
   "id": "dc144cad",
   "metadata": {},
   "source": [
    "source: https://storage.googleapis.com/lds-media/images/series-and-dataframe.width-1200.png"
   ]
  },
  {
   "cell_type": "markdown",
   "id": "391e2c46",
   "metadata": {},
   "source": [
    "### Data Frame Selection / Indexing"
   ]
  },
  {
   "cell_type": "code",
   "execution_count": null,
   "id": "eb5c2370",
   "metadata": {},
   "outputs": [],
   "source": [
    "data = {\n",
    "    'name': ['Xavier', 'Ann', 'Jana', 'Yi', 'Robin', 'Amal', 'Nori'],\n",
    "    'city': ['Mexico City', 'Toronto', 'Prague', 'Shanghai',\n",
    "             'Manchester', 'Cairo', 'Osaka'],\n",
    "    'age': [41, 28, 33, 34, 38, 31, 37],\n",
    "    'py-score': [88.0, 79.0, 81.0, 80.0, 68.0, 61.0, 84.0]\n",
    "}\n",
    "\n",
    "row_labels = [101, 102, 103, 104, 105, 106, 107]\n",
    "students_df = pd.DataFrame(data=data, index=row_labels)\n",
    "students_df"
   ]
  },
  {
   "cell_type": "markdown",
   "id": "85a5d912",
   "metadata": {},
   "source": [
    "Source: https://realpython.com/"
   ]
  },
  {
   "cell_type": "markdown",
   "id": "1184fbfb",
   "metadata": {},
   "source": [
    "### data Selection"
   ]
  },
  {
   "cell_type": "code",
   "execution_count": null,
   "id": "e68ed452",
   "metadata": {},
   "outputs": [],
   "source": [
    "print('df[\"city\"]')\n",
    "cities = students_df['city']\n",
    "cities"
   ]
  },
  {
   "cell_type": "code",
   "execution_count": null,
   "id": "b5e0fc30",
   "metadata": {},
   "outputs": [],
   "source": [
    "print(\"df.city\")\n",
    "students_df.city"
   ]
  },
  {
   "cell_type": "markdown",
   "id": "d66b3d79",
   "metadata": {},
   "source": [
    "### Selecting by Label\n",
    "- .loc[]  function"
   ]
  },
  {
   "cell_type": "code",
   "execution_count": null,
   "id": "5ae2b9dc",
   "metadata": {},
   "outputs": [],
   "source": [
    "#print(\"students_df.loc[:, 'city']\")\n",
    "#students_df.loc[:, 'city']"
   ]
  },
  {
   "cell_type": "code",
   "execution_count": null,
   "id": "4370cf9c",
   "metadata": {},
   "outputs": [],
   "source": [
    "print(\"students_df.loc[102:106, ['name', 'city']]\")\n",
    "students_df.loc[102:106,:]"
   ]
  },
  {
   "cell_type": "markdown",
   "id": "c00b849d",
   "metadata": {},
   "source": [
    "### Selecting by Position\n",
    "- .iloc[]"
   ]
  },
  {
   "cell_type": "code",
   "execution_count": null,
   "id": "b10bb7a6",
   "metadata": {},
   "outputs": [],
   "source": [
    "#print(\"students_df.iloc[:, 1]\")\n",
    "#students_df.iloc[:, 1]"
   ]
  },
  {
   "cell_type": "code",
   "execution_count": null,
   "id": "765ece99",
   "metadata": {},
   "outputs": [],
   "source": [
    "print(\"students_df.iloc[1:6, [0, 1]]\")\n",
    "students_df.iloc[1:6, [0, 1]]"
   ]
  },
  {
   "cell_type": "markdown",
   "id": "0a2b23c3",
   "metadata": {},
   "source": [
    "### Hmm.. Can you tell what the difference is?"
   ]
  },
  {
   "cell_type": "markdown",
   "id": "832ba7a1",
   "metadata": {},
   "source": [
    "#### You can use loc and iloc also to select certain data values but it's better to use at[] and iat[]"
   ]
  },
  {
   "cell_type": "code",
   "execution_count": null,
   "id": "287cf192",
   "metadata": {},
   "outputs": [],
   "source": [
    "print('df.at[103, name]')\n",
    "students_df.at[103, 'name']"
   ]
  },
  {
   "cell_type": "code",
   "execution_count": null,
   "id": "d9091141",
   "metadata": {},
   "outputs": [],
   "source": [
    "print('df.iat[2, 0]')\n",
    "students_df.iat[2, 0]"
   ]
  },
  {
   "cell_type": "markdown",
   "id": "45c39845",
   "metadata": {},
   "source": [
    "### Setting/ Updating data"
   ]
  },
  {
   "cell_type": "markdown",
   "id": "3a1e1eb5",
   "metadata": {},
   "source": [
    "#### let us first update the Data frame index.."
   ]
  },
  {
   "cell_type": "code",
   "execution_count": null,
   "id": "a81c5ba0",
   "metadata": {},
   "outputs": [],
   "source": [
    "print ('df.index = np.arange(10, 17)')\n",
    "students_df.index = list(np.arange(10, 17))\n",
    "students_df"
   ]
  },
  {
   "cell_type": "code",
   "execution_count": null,
   "id": "29c9a9a6",
   "metadata": {},
   "outputs": [],
   "source": [
    "print('df.loc[:13, py-score] = [40, 50, 60, 70]')\n",
    "students_df.loc[:13, 'py-score'] = [40, 50, 60, 70]\n",
    "print('df.loc[14:, py-score] = 0')\n",
    "students_df.loc[14:, 'py-score'] = 0\n",
    "students_df"
   ]
  },
  {
   "cell_type": "code",
   "execution_count": null,
   "id": "3aa310f9",
   "metadata": {},
   "outputs": [],
   "source": [
    "students_df.iloc[:, -1] = np.array([88.0, 79.0, 81.0, 80.0, 68.0, 61.0, 84.0])\n",
    "students_df"
   ]
  },
  {
   "cell_type": "markdown",
   "id": "c889d2ac",
   "metadata": {},
   "source": [
    "### Inserting/deleteing rows"
   ]
  },
  {
   "cell_type": "code",
   "execution_count": null,
   "id": "147de55f",
   "metadata": {},
   "outputs": [],
   "source": [
    "Ronald = pd.Series(data=['Ronald', 'Berlin', 34, 79],\n",
    "                 index=students_df.columns[0:4],name=21)"
   ]
  },
  {
   "cell_type": "code",
   "execution_count": null,
   "id": "e78cdf23",
   "metadata": {},
   "outputs": [],
   "source": [
    "Marcus = pd.Series(data=['Marcus', 'Berlin', 34, 79],\n",
    "                 index=students_df.columns[0:4],name=\"21\")"
   ]
  },
  {
   "cell_type": "code",
   "execution_count": null,
   "id": "d1dc6c93",
   "metadata": {},
   "outputs": [],
   "source": [
    "print('df=df.append(john)')\n",
    "students_df=students_df.append(Ronald)\n",
    "students_df"
   ]
  },
  {
   "cell_type": "code",
   "execution_count": null,
   "id": "f8bf81d4",
   "metadata": {},
   "outputs": [],
   "source": [
    "students_df.index"
   ]
  },
  {
   "cell_type": "code",
   "execution_count": null,
   "id": "1da073e1",
   "metadata": {},
   "outputs": [],
   "source": [
    "#print('df = df.drop(labels=[17])')\n",
    "students_df.drop(labels=[21],inplace=True)\n",
    "students_df"
   ]
  },
  {
   "cell_type": "code",
   "execution_count": null,
   "id": "067be9b9",
   "metadata": {},
   "outputs": [],
   "source": [
    "x=[1,3,4,5,8,9,12,100]"
   ]
  },
  {
   "cell_type": "code",
   "execution_count": null,
   "id": "4ab21fb0",
   "metadata": {},
   "outputs": [],
   "source": [
    "students_df[\"py-score\"]"
   ]
  },
  {
   "cell_type": "code",
   "execution_count": null,
   "id": "214d9416",
   "metadata": {},
   "outputs": [],
   "source": [
    "students_df[students_df[\"py-score\"]<=np.percentile(students_df[\"py-score\"], 25)]"
   ]
  },
  {
   "cell_type": "code",
   "execution_count": null,
   "id": "c66f188a",
   "metadata": {},
   "outputs": [],
   "source": [
    "np.median(np.array(x))"
   ]
  },
  {
   "cell_type": "markdown",
   "id": "c3e25a7e",
   "metadata": {},
   "source": [
    "### Inserting/Deleting columns"
   ]
  },
  {
   "cell_type": "code",
   "execution_count": null,
   "id": "3a8e7ef2",
   "metadata": {},
   "outputs": [],
   "source": [
    "#print('df[js-score] = np.array([71.0, 95.0, 88.0, 79.0, 91.0, 91.0, 80.0])')\n",
    "students_df['js-score'] =np.array([71.0, 95.0, 88.0, 79.0, 91.0, 91.0, 80.0])\n",
    "students_df"
   ]
  },
  {
   "cell_type": "markdown",
   "id": "635b717f",
   "metadata": {},
   "source": [
    "### Inserting in a specific location"
   ]
  },
  {
   "cell_type": "code",
   "execution_count": null,
   "id": "24dcfcc2",
   "metadata": {},
   "outputs": [],
   "source": [
    "#print('df.insert(loc=4, column=js-score,value=np.array([86.0, 81.0, 78.0, 88.0, 74.0, 70.0, 81.0]))')\n",
    "students_df.insert(loc=4, column='ux-score',\n",
    "          value=np.array([70, 74, 78, 56, 66, 78, 81.0]))\n",
    "students_df"
   ]
  },
  {
   "cell_type": "markdown",
   "id": "0f3bc1ae",
   "metadata": {},
   "source": [
    "### dropping specific column"
   ]
  },
  {
   "cell_type": "code",
   "execution_count": null,
   "id": "9b607123",
   "metadata": {},
   "outputs": [],
   "source": [
    "print('df = df.drop(labels=age, axis=1)')\n",
    "students_df = students_df.drop(labels=['ux-score'], axis=1)"
   ]
  },
  {
   "cell_type": "code",
   "execution_count": null,
   "id": "cde0c01c",
   "metadata": {},
   "outputs": [],
   "source": [
    "students_df"
   ]
  },
  {
   "cell_type": "markdown",
   "id": "7a6bd907",
   "metadata": {},
   "source": [
    "### Filtering/Boolean Indexing"
   ]
  },
  {
   "cell_type": "code",
   "execution_count": null,
   "id": "6390c8b3",
   "metadata": {},
   "outputs": [],
   "source": [
    "#print('filter_ = df[django-score] >= 80')\n",
    "very_good_students_filter = students_df['py-score'] >= 50\n",
    "very_good_students_filter"
   ]
  },
  {
   "cell_type": "code",
   "execution_count": null,
   "id": "dbb07262",
   "metadata": {},
   "outputs": [],
   "source": [
    "students_df[very_good_students_filter]"
   ]
  },
  {
   "cell_type": "code",
   "execution_count": null,
   "id": "2d386053",
   "metadata": {},
   "outputs": [],
   "source": [
    "students_df[\"js-score-updated\"]= students_df[\"js-score\"] +5"
   ]
  },
  {
   "cell_type": "code",
   "execution_count": null,
   "id": "1ea184af",
   "metadata": {},
   "outputs": [],
   "source": [
    "students_df.age>40"
   ]
  },
  {
   "cell_type": "code",
   "execution_count": null,
   "id": "000976c0",
   "metadata": {},
   "outputs": [],
   "source": [
    "students_df[students_df.age>40]"
   ]
  },
  {
   "cell_type": "code",
   "execution_count": null,
   "id": "6d9dfe67",
   "metadata": {},
   "outputs": [],
   "source": [
    "print('df[filter_]')\n",
    "students_df[very_good_students_filter]"
   ]
  },
  {
   "cell_type": "markdown",
   "id": "d558b5e9",
   "metadata": {},
   "source": [
    "### Creating powerful filters with Logical operators AND, OR, NOT, XOR"
   ]
  },
  {
   "cell_type": "code",
   "execution_count": null,
   "id": "a7550f9f",
   "metadata": {},
   "outputs": [],
   "source": [
    "#print('df[(df[py-score] >= 80) & (df[js-score] >= 80)]')\n",
    "students_df[(students_df['py-score'] >= 40) & (students_df['js-score'] >= 80)]"
   ]
  },
  {
   "cell_type": "markdown",
   "id": "8e0ee04b",
   "metadata": {},
   "source": [
    "### Working with Missing Data"
   ]
  },
  {
   "cell_type": "markdown",
   "id": "239b4c30",
   "metadata": {},
   "source": [
    "### np.nan is used to represent missing values"
   ]
  },
  {
   "cell_type": "code",
   "execution_count": null,
   "id": "8a8f29d1",
   "metadata": {},
   "outputs": [],
   "source": [
    "print(\"df_ = pd.DataFrame({'x': [1, 2, np.nan, 4]})\")\n",
    "df_ = pd.DataFrame({'x': [1, 2, np.nan, 4]})\n",
    "df_"
   ]
  },
  {
   "cell_type": "code",
   "execution_count": null,
   "id": "f6630a9e",
   "metadata": {},
   "outputs": [],
   "source": [
    "df_[\"y\"]=[2,np.nan,4,5]\n",
    "df_"
   ]
  },
  {
   "cell_type": "markdown",
   "id": "39c7e434",
   "metadata": {},
   "source": [
    "### Dropping rows that contains missing values "
   ]
  },
  {
   "cell_type": "code",
   "execution_count": null,
   "id": "b2012401",
   "metadata": {},
   "outputs": [],
   "source": [
    "#print(\"df_.dropna()\")\n",
    "df_.dropna()\n",
    "df_"
   ]
  },
  {
   "cell_type": "markdown",
   "id": "08c2ae46",
   "metadata": {},
   "source": [
    "### and you can fill the missing values with fillna.."
   ]
  },
  {
   "cell_type": "code",
   "execution_count": null,
   "id": "22dbc112",
   "metadata": {},
   "outputs": [],
   "source": [
    "df_.mean()"
   ]
  },
  {
   "cell_type": "code",
   "execution_count": null,
   "id": "56dd0c4f",
   "metadata": {},
   "outputs": [],
   "source": [
    "df_ = pd.DataFrame({'x': [1, 2, np.nan, 4]})\n",
    "print('df_.fillna(value=0)\\n',df_.fillna(value=0))\n",
    "print(\"\\ndf_.fillna(method=ffill)\\n\",df_.fillna(method='ffill'))\n",
    "print(\"\\ndf_.fillna(method=bfill)\\n\",df_.fillna(method='bfill'))"
   ]
  },
  {
   "cell_type": "markdown",
   "id": "a34f7251",
   "metadata": {},
   "source": [
    "### Applying functions"
   ]
  },
  {
   "cell_type": "markdown",
   "id": "619fe012",
   "metadata": {},
   "source": [
    "### Applying Arithmetic functions"
   ]
  },
  {
   "cell_type": "code",
   "execution_count": null,
   "id": "1e6581f2",
   "metadata": {},
   "outputs": [],
   "source": [
    "students_df['total'] =\\\n",
    "    0.4 * students_df['py-score'] + 0.3 * students_df['js-score']\n",
    "students_df\n"
   ]
  },
  {
   "cell_type": "code",
   "execution_count": null,
   "id": "1c9b41df",
   "metadata": {},
   "outputs": [],
   "source": [
    "students_df.iloc[:, 3:5]"
   ]
  },
  {
   "cell_type": "markdown",
   "id": "8d0d60ec",
   "metadata": {},
   "source": [
    "### using existing NumPy funnction instead of writing your own function"
   ]
  },
  {
   "cell_type": "code",
   "execution_count": null,
   "id": "be3284a7",
   "metadata": {},
   "outputs": [],
   "source": [
    "##del students_df['total']\n",
    "\n",
    "#print(\"students_df['total'] = np.average(students_df.iloc[:, 2:5], axis=1,weights=[0.4, 0.3, 0.3])\")\n",
    "students_df['total'] = np.average(students_df.iloc[:, 3:5], axis=1,\n",
    "                         weights=[0.4, 0.3])\n",
    "students_df"
   ]
  },
  {
   "cell_type": "code",
   "execution_count": null,
   "id": "aacd1a00",
   "metadata": {},
   "outputs": [],
   "source": [
    "students_df"
   ]
  },
  {
   "cell_type": "markdown",
   "id": "9ecdf6cb",
   "metadata": {},
   "source": [
    "## Map function with Lambda"
   ]
  },
  {
   "cell_type": "code",
   "execution_count": null,
   "id": "72e3763e",
   "metadata": {
    "scrolled": true
   },
   "outputs": [],
   "source": [
    "list(map(lambda x:x+10,students_df[\"py-score\"]))"
   ]
  },
  {
   "cell_type": "markdown",
   "id": "0dfd456b",
   "metadata": {},
   "source": [
    "### Categorical Variables"
   ]
  },
  {
   "cell_type": "code",
   "execution_count": null,
   "id": "b7e4751d",
   "metadata": {
    "scrolled": true
   },
   "outputs": [],
   "source": [
    "print(\"let us take this Data Frame...\")\n",
    "df = pd.DataFrame(\n",
    "  {\"id\": [1, 2, 3, 4, 5, 6], \"raw_grade\": [\"a\", \"b\", \"b\", \"a\", \"a\", \"e\"]}\n",
    ")\n",
    "df"
   ]
  },
  {
   "cell_type": "code",
   "execution_count": null,
   "id": "7aa69b6c",
   "metadata": {},
   "outputs": [],
   "source": [
    "#print(\"Let us convert it to a categorical variable...\\n\\ndf[grade] = df[raw_grade].astype(category)\")\n",
    "df[\"grade\"] = df[\"raw_grade\"].astype(\"category\")\n",
    "df[\"grade\"]"
   ]
  },
  {
   "cell_type": "code",
   "execution_count": null,
   "id": "13deccbd",
   "metadata": {},
   "outputs": [],
   "source": [
    "df[\"grade\"].cat.categories"
   ]
  },
  {
   "cell_type": "code",
   "execution_count": null,
   "id": "4e813467",
   "metadata": {},
   "outputs": [],
   "source": [
    "print('df[\"grade\"].cat.categories = [\"very good\", \"good\", \"very bad\"]')\n",
    "df[\"grade\"].cat.categories = [\"very good\", \"good\", \"very bad\"]"
   ]
  },
  {
   "cell_type": "code",
   "execution_count": null,
   "id": "a15bcead",
   "metadata": {},
   "outputs": [],
   "source": [
    "df"
   ]
  },
  {
   "cell_type": "code",
   "execution_count": null,
   "id": "265ec58e",
   "metadata": {},
   "outputs": [],
   "source": [
    "print('Injecting new categories...\\ndf[\"grade\"] = df[\"grade\"].cat.set_categories([\"very bad\", \"bad\", \"medium\", \"good\", \"very good\"])')\n",
    "\n",
    "df[\"grade\"] = df[\"grade\"].cat.set_categories(\n",
    "       [\"very bad\", \"bad\", \"medium\", \"good\", \"very good\"]\n",
    "    )\n",
    "df[\"grade\"]"
   ]
  },
  {
   "cell_type": "code",
   "execution_count": null,
   "id": "4d16cd1e",
   "metadata": {},
   "outputs": [],
   "source": [
    "print('df.sort_values(by=\"grade\")')\n",
    "df.sort_values(by=\"grade\")"
   ]
  },
  {
   "cell_type": "markdown",
   "id": "db9f5faf",
   "metadata": {},
   "source": [
    "### Concatenating\n",
    "- concat mutilpe data frames on the same axis.\n",
    "- pd.concat()"
   ]
  },
  {
   "cell_type": "code",
   "execution_count": null,
   "id": "a9ff1b23",
   "metadata": {},
   "outputs": [],
   "source": [
    "Image(\"res/merging_concat_dict_keys.png\")"
   ]
  },
  {
   "cell_type": "markdown",
   "id": "803e1055",
   "metadata": {},
   "source": [
    "source:pandas.pydata.org"
   ]
  },
  {
   "cell_type": "code",
   "execution_count": null,
   "id": "b460c52e",
   "metadata": {},
   "outputs": [],
   "source": [
    "print('df = pd.DataFrame(np.random.randn(10, 4))')\n",
    "df = pd.DataFrame(np.random.randn(7, 4))\n",
    "print(df)\n",
    "print(\"\\npieces = [df[:2], df[2:4], df[4:]]\")\n",
    "pieces = [df[:2], df[2:4], df[4:]]\n",
    "pieces"
   ]
  },
  {
   "cell_type": "code",
   "execution_count": null,
   "id": "460542f5",
   "metadata": {},
   "outputs": [],
   "source": [
    "print(\"\\npd.concat(pieces)\")\n",
    "pd.concat(pieces)"
   ]
  },
  {
   "cell_type": "markdown",
   "id": "389257ca",
   "metadata": {},
   "source": [
    "### Merging\n",
    "#### - Similar to SQL Join operations"
   ]
  },
  {
   "cell_type": "code",
   "execution_count": null,
   "id": "335b5e32",
   "metadata": {},
   "outputs": [],
   "source": [
    "Image(\"res/joins.jpeg\")"
   ]
  },
  {
   "cell_type": "markdown",
   "id": "979af83d",
   "metadata": {},
   "source": [
    "source:https://www1.udel.edu/ , https://www.expii.com/"
   ]
  },
  {
   "cell_type": "code",
   "execution_count": null,
   "id": "8f1d958d",
   "metadata": {},
   "outputs": [],
   "source": [
    "Image(\"res/four_relations.jpeg\")"
   ]
  },
  {
   "cell_type": "code",
   "execution_count": null,
   "id": "f0858ff0",
   "metadata": {},
   "outputs": [],
   "source": [
    "left = pd.DataFrame(\n",
    "       {\n",
    "            \"key1\": [\"K0\", \"K0\", \"K1\", \"K2\"],\n",
    "            \"key2\": [\"K0\", \"K1\", \"K0\", \"K1\"],\n",
    "            \"A\": [\"A0\", \"A1\", \"A2\", \"A3\"],\n",
    "            \"B\": [\"B0\", \"B1\", \"B2\", \"B3\"],\n",
    "        }\n",
    "    )\n",
    "    \n",
    "\n",
    "right = pd.DataFrame(\n",
    "        {\n",
    "            \"key1\": [\"K0\", \"K1\", \"K1\", \"K2\"],\n",
    "            \"key2\": [\"K0\", \"K0\", \"K0\", \"K0\"],\n",
    "            \"C\": [\"C0\", \"C1\", \"C2\", \"C3\"],\n",
    "            \"D\": [\"D0\", \"D1\", \"D2\", \"D3\"],\n",
    "        }\n",
    "    )\n",
    "\n",
    "print(\"left \\n\",left)\n",
    "print(\"\\nright\\n\",right)\n",
    "print(\"\\npd.merge(left, right,how=right, on=[key1, key2],indicator=True)\")\n",
    "result = pd.merge(left, right,how=\"right\", on=[\"key1\", \"key2\"],indicator=True)\n",
    "result"
   ]
  },
  {
   "cell_type": "markdown",
   "id": "6125f8b2",
   "metadata": {},
   "source": [
    "## Grouping"
   ]
  },
  {
   "cell_type": "markdown",
   "id": "42c48432",
   "metadata": {},
   "source": [
    "### - Splitting\n",
    "- splitting Data Frame into sub groups by key value or values\n",
    "- equal to \"group By\" in SQL. \n",
    "\n",
    "### - Applying\n",
    "   - Aggregation\n",
    "       - applying one or multiple functions in to the items within each subgroup.\n",
    "   - Transformation\n",
    "        - broadcasting the results into the original data frame\n",
    "   - Filteration\n",
    "        - equivelant to HAVING in SQL\n",
    "        \n",
    "### - Combining\n",
    "    - combining the results to fit into the data pipeline and/or delivers the insights"
   ]
  },
  {
   "cell_type": "code",
   "execution_count": null,
   "id": "82bb410b",
   "metadata": {
    "scrolled": false
   },
   "outputs": [],
   "source": [
    "Image(\"res/grouping.png\")"
   ]
  },
  {
   "cell_type": "markdown",
   "id": "f7c8719a",
   "metadata": {},
   "source": [
    "source:https://towardsdatascience.com/aggregation-transform-filter-how-and-when-to-use-them-31ed7eb88d2e"
   ]
  },
  {
   "cell_type": "markdown",
   "id": "7198d670",
   "metadata": {},
   "source": [
    "### dummy variables\n",
    "- dummy variables are binary variables that represents the values that categorical variables hold. \n",
    "- It is effecient representation for programming, preprocessing, analysing and ML tasks purposes."
   ]
  },
  {
   "cell_type": "markdown",
   "id": "1b744ac3",
   "metadata": {},
   "source": [
    "#### Here is an example..."
   ]
  },
  {
   "cell_type": "code",
   "execution_count": null,
   "id": "846ed101",
   "metadata": {},
   "outputs": [],
   "source": [
    "df = pd.DataFrame({'A': ['a', 'b', 'a'], 'B': ['b', 'a', 'c'],\n",
    "                   'C': [1, 2, 3]})\n",
    "df"
   ]
  },
  {
   "cell_type": "code",
   "execution_count": null,
   "id": "e62dd569",
   "metadata": {},
   "outputs": [],
   "source": [
    "print(\"pd.get_dummies(df, prefix=['col1', 'col2'])\")\n",
    "pd.get_dummies(df, prefix=['col1', 'col2'])"
   ]
  },
  {
   "cell_type": "markdown",
   "id": "8eec0bc9",
   "metadata": {},
   "source": [
    "### Sparse Data Frames"
   ]
  },
  {
   "cell_type": "code",
   "execution_count": null,
   "id": "b50cab0f",
   "metadata": {
    "scrolled": false
   },
   "outputs": [],
   "source": [
    "Image(\"res/Sparse_dense.gif\")"
   ]
  },
  {
   "cell_type": "markdown",
   "id": "01fb845c",
   "metadata": {},
   "source": [
    "source: https://matteding.github.io/"
   ]
  },
  {
   "cell_type": "code",
   "execution_count": null,
   "id": "35fa20f7",
   "metadata": {},
   "outputs": [],
   "source": [
    "print(\"df = pd.DataFrame(np.random.randn(10000,4))\")\n",
    "df = pd.DataFrame(np.random.randn(10000,4))\n",
    "print(\"\\nlet us try to fill NAN values..\\n\\ndf.iloc[:9998] = np.nan\")\n",
    "\n",
    "df.iloc[:9998] = np.nan\n",
    "print(df.memory_usage())\n",
    "\n",
    "print(\"\\nConverting to Sparse Data type\\nsdf = df.astype(pd.SparseDtype(float, np.nan))\\n\")\n",
    "sdf = df.astype(pd.SparseDtype(\"float\", np.nan))\n",
    "\n",
    "sdf.memory_usage()"
   ]
  },
  {
   "cell_type": "markdown",
   "id": "6d1ae527",
   "metadata": {},
   "source": [
    "### Pandas best practices"
   ]
  },
  {
   "cell_type": "markdown",
   "id": "a0e143cf",
   "metadata": {},
   "source": [
    "- Keep in mind that Pandas provides only in-memory analytics.\n",
    "- perform ETL operations, pre-processing of larget data sets first then load the preprocessed data into Pandas.\n",
    "- use efficient Data types.\n",
    "- Use Pandas for development/testing, proof-of-concept use cases rather than production environment for your Data product.\n",
    "- it is not recommended for building automated data pipelines. where other tools are more effecient(e.g. pySpark) or parallel computing library such as Dask."
   ]
  },
  {
   "cell_type": "code",
   "execution_count": null,
   "id": "05a59686",
   "metadata": {},
   "outputs": [],
   "source": [
    "Image(\"res/pandas_memory_bypassing.png\")"
   ]
  },
  {
   "cell_type": "markdown",
   "id": "f446d954",
   "metadata": {},
   "source": [
    "source:https://towardsdatascience.com/"
   ]
  },
  {
   "cell_type": "markdown",
   "id": "4b82d2b0",
   "metadata": {},
   "source": [
    "### I/O operations\n",
    "- reading data directly from csv, text, Excel files, DFS\n",
    "- Pandas Data Frames are not peristent storage!\n",
    "- writing data directly to file storage."
   ]
  },
  {
   "cell_type": "code",
   "execution_count": null,
   "id": "602685a6",
   "metadata": {},
   "outputs": [],
   "source": [
    "print(\"students_df.to_csv(students_df.csv)\\n\\nData frame is saved persistentally to the file storage...\")\n",
    "students_df.to_csv(\"students_df.csv\")"
   ]
  },
  {
   "cell_type": "code",
   "execution_count": null,
   "id": "fda86727",
   "metadata": {
    "scrolled": false
   },
   "outputs": [],
   "source": [
    "Image(\"res/Q&A.png\")"
   ]
  },
  {
   "cell_type": "code",
   "execution_count": null,
   "id": "eb9a90e9",
   "metadata": {},
   "outputs": [],
   "source": []
  }
 ],
 "metadata": {
  "kernelspec": {
   "display_name": "Python 3 (ipykernel)",
   "language": "python",
   "name": "python3"
  },
  "language_info": {
   "codemirror_mode": {
    "name": "ipython",
    "version": 3
   },
   "file_extension": ".py",
   "mimetype": "text/x-python",
   "name": "python",
   "nbconvert_exporter": "python",
   "pygments_lexer": "ipython3",
   "version": "3.9.7"
  }
 },
 "nbformat": 4,
 "nbformat_minor": 5
}
