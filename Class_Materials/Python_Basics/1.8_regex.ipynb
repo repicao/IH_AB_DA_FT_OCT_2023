{
 "cells": [
  {
   "cell_type": "markdown",
   "id": "f5a1ab6d",
   "metadata": {
    "toc": true
   },
   "source": [
    "<h1>Table of Contents<span class=\"tocSkip\"></span></h1>\n",
    "<div class=\"toc\"><ul class=\"toc-item\"><li><span><a href=\"#Regular-Expressions-(Regex)-in-Python--🐍\" data-toc-modified-id=\"Regular-Expressions-(Regex)-in-Python--🐍-1\"><span class=\"toc-item-num\">1&nbsp;&nbsp;</span>Regular Expressions (Regex) in Python  🐍</a></span><ul class=\"toc-item\"><li><span><a href=\"#Python's-re-Module\" data-toc-modified-id=\"Python's-re-Module-1.1\"><span class=\"toc-item-num\">1.1&nbsp;&nbsp;</span>Python's <code>re</code> Module</a></span><ul class=\"toc-item\"><li><span><a href=\"#Common-Regex-Functions\" data-toc-modified-id=\"Common-Regex-Functions-1.1.1\"><span class=\"toc-item-num\">1.1.1&nbsp;&nbsp;</span>Common Regex Functions</a></span></li><li><span><a href=\"#Regex-Patterns\" data-toc-modified-id=\"Regex-Patterns-1.1.2\"><span class=\"toc-item-num\">1.1.2&nbsp;&nbsp;</span>Regex Patterns</a></span></li><li><span><a href=\"#Examples-of-Regex-Functions-and-Patterns\" data-toc-modified-id=\"Examples-of-Regex-Functions-and-Patterns-1.1.3\"><span class=\"toc-item-num\">1.1.3&nbsp;&nbsp;</span>Examples of Regex Functions and Patterns</a></span><ul class=\"toc-item\"><li><span><a href=\"#1.-re.search(pattern,-string):\" data-toc-modified-id=\"1.-re.search(pattern,-string):-1.1.3.1\"><span class=\"toc-item-num\">1.1.3.1&nbsp;&nbsp;</span>1. <code>re.search(pattern, string)</code>:</a></span></li><li><span><a href=\"#2.-re.match(pattern,-string):\" data-toc-modified-id=\"2.-re.match(pattern,-string):-1.1.3.2\"><span class=\"toc-item-num\">1.1.3.2&nbsp;&nbsp;</span>2. <code>re.match(pattern, string)</code>:</a></span></li><li><span><a href=\"#3.-re.findall(pattern,-string):\" data-toc-modified-id=\"3.-re.findall(pattern,-string):-1.1.3.3\"><span class=\"toc-item-num\">1.1.3.3&nbsp;&nbsp;</span>3. <code>re.findall(pattern, string)</code>:</a></span></li><li><span><a href=\"#4.-re.finditer(pattern,-string):\" data-toc-modified-id=\"4.-re.finditer(pattern,-string):-1.1.3.4\"><span class=\"toc-item-num\">1.1.3.4&nbsp;&nbsp;</span>4. <code>re.finditer(pattern, string)</code>:</a></span></li><li><span><a href=\"#5.-re.sub(pattern,-replacement,-string):\" data-toc-modified-id=\"5.-re.sub(pattern,-replacement,-string):-1.1.3.5\"><span class=\"toc-item-num\">1.1.3.5&nbsp;&nbsp;</span>5. <code>re.sub(pattern, replacement, string)</code>:</a></span></li><li><span><a href=\"#6.-re.split(pattern,-string):\" data-toc-modified-id=\"6.-re.split(pattern,-string):-1.1.3.6\"><span class=\"toc-item-num\">1.1.3.6&nbsp;&nbsp;</span>6. <code>re.split(pattern, string)</code>:</a></span></li></ul></li><li><span><a href=\"#Note\" data-toc-modified-id=\"Note-1.1.4\"><span class=\"toc-item-num\">1.1.4&nbsp;&nbsp;</span>Note</a></span></li></ul></li></ul></li></ul></div>"
   ]
  },
  {
   "cell_type": "markdown",
   "id": "d9f27858-a41f-4949-bf30-b969ed50185d",
   "metadata": {},
   "source": [
    "# Regular Expressions (Regex) in Python  🐍\n"
   ]
  },
  {
   "cell_type": "markdown",
   "id": "201cefaf-3f49-4b80-aabb-1286a94fa379",
   "metadata": {},
   "source": [
    "Regex, short for Regular Expression, is a **sequence of characters** that **defines a search pattern**. "
   ]
  },
  {
   "cell_type": "markdown",
   "id": "d5c4e706-afa0-4b30-97f7-1ef95dd4767f",
   "metadata": {},
   "source": [
    "Regex is commonly used for **pattern** **search**, **matching** and **data manipulation** in various types of strings.\n",
    "\n",
    "This makes it invaluable for tasks such as **data validation**, **text parsing**, and **data extraction**. Some typical applications include:\n",
    "\n",
    "1. Emails\n",
    "2. URLs\n",
    "3. Phone Numbers\n",
    "4. Dates and Times\n",
    "5. Social Security Numbers\n",
    "6. Credit Card Numbers\n",
    "7. File Paths\n",
    "8. HTML Tags\n",
    "9. Log Files\n",
    "10. Natural Language Processing"
   ]
  },
  {
   "cell_type": "markdown",
   "id": "784821a1-4220-45e1-b9e5-7a005ebf4bff",
   "metadata": {},
   "source": [
    "## Python's `re` Module\n",
    "\n",
    "Python provides the `re` module, which allows you to work with regular expressions. Before using `re`, you need to import it:\n",
    "\n",
    "```python\n",
    "import re\n",
    "```"
   ]
  },
  {
   "cell_type": "code",
   "execution_count": 1,
   "id": "1597ae8b-2620-42ad-8eac-f8f5c2852128",
   "metadata": {},
   "outputs": [],
   "source": [
    "import re"
   ]
  },
  {
   "cell_type": "markdown",
   "id": "cd952758-0e0a-46b8-8972-bed295bd7e73",
   "metadata": {},
   "source": [
    "### Common Regex Functions\n",
    "\n",
    "Regex functions in Python allow you to find and work with patterns in strings:\n",
    "\n",
    "1. To find the pattern:\n",
    "   - `re.search(pattern, string)`: Searches the string for a match to the pattern and returns a match object if found.\n",
    "   - `re.match(pattern, string)`: Searches the string for a match only at the beginning and returns a match object if found.\n",
    "   - `re.findall(pattern, string)`: Returns all occurrences of the pattern in the string as a list of strings.\n",
    "   - `re.finditer(pattern, string)`: Returns an iterator yielding match objects for all occurrences of the pattern in the string.\n",
    "\n",
    "2. To work with the pattern:\n",
    "   - `re.sub(pattern, replacement, string)`: Replaces all occurrences of the pattern in the string with the replacement string.\n",
    "   - `re.split(pattern, string)`: Splits the string by occurrences of the pattern and returns a list of substrings.\n",
    "\n"
   ]
  },
  {
   "cell_type": "markdown",
   "id": "d5fdce04-a436-4293-bec2-3378b9562904",
   "metadata": {},
   "source": [
    "### Regex Patterns"
   ]
  },
  {
   "cell_type": "markdown",
   "id": "c0702827-b12a-430d-9163-4677238ff96b",
   "metadata": {},
   "source": [
    "![](https://github.com/data-bootcamp-v4/lessons/blob/main/img/regex.png?raw=true)"
   ]
  },
  {
   "cell_type": "markdown",
   "id": "5332387c-ac0e-46b1-b46b-fab5969fd02c",
   "metadata": {},
   "source": [
    "### Examples of Regex Functions and Patterns"
   ]
  },
  {
   "cell_type": "markdown",
   "id": "e75cc291-1b73-4825-a561-823a2a44ae0f",
   "metadata": {},
   "source": [
    "#### 1. `re.search(pattern, string)`:\n",
    "   - Searches the `string` for a match to the `pattern`.\n",
    "   - Returns a match object if the pattern is found, otherwise returns `None`.\n"
   ]
  },
  {
   "cell_type": "markdown",
   "id": "82d62fd2-eeb7-4269-83df-60850dc14f71",
   "metadata": {},
   "source": [
    " We can use the `re.search()` function to find specific patterns within a string. Let's explore some regex patterns and how they work:"
   ]
  },
  {
   "cell_type": "code",
   "execution_count": 3,
   "id": "613c7d88-28bd-46c8-8171-14072b557aa6",
   "metadata": {},
   "outputs": [
    {
     "name": "stdout",
     "output_type": "stream",
     "text": [
      "Match found: 10\n"
     ]
    }
   ],
   "source": [
    "text = 'I have 10 apples   and  2 bananas.'\n",
    "pattern='\\d+'    # numeric, 1 or more characters\n",
    "\n",
    "result = re.search(pattern, text)\n",
    "\n",
    "if result:\n",
    "    print(f\"Match found: {result.group()}\")\n",
    "else:\n",
    "    print(\"No match found.\")"
   ]
  },
  {
   "cell_type": "code",
   "execution_count": 6,
   "id": "9a313ffe-b9f0-452f-bf0c-5e1e71d2fb86",
   "metadata": {},
   "outputs": [
    {
     "name": "stdout",
     "output_type": "stream",
     "text": [
      "Match found: I\n"
     ]
    }
   ],
   "source": [
    "pattern = '\\w' # matches any word character. A word character includes alphanumeric characters (letters and digits) and underscores (_). It is equivalent to [a-zA-Z0-9_].\n",
    "\n",
    "result = re.search(pattern, text) # Returns first match, 'I'\n",
    "if result:\n",
    "    print(f\"Match found: {result.group()}\")\n",
    "else:\n",
    "    print(\"No match found.\")"
   ]
  },
  {
   "cell_type": "code",
   "execution_count": 7,
   "id": "1ef67fbe-4bc0-4452-8233-88b01010bf4e",
   "metadata": {},
   "outputs": [
    {
     "name": "stdout",
     "output_type": "stream",
     "text": [
      "Fruit found: banana\n"
     ]
    }
   ],
   "source": [
    "pattern = r\"apple|banana\" # Alternation allows matching one of several patterns separated by |.\n",
    "text = \"I have a banana and an apple.\"\n",
    "\n",
    "result = re.search(pattern, text)\n",
    "if result:\n",
    "    print(\"Fruit found:\", result.group())\n",
    "else:\n",
    "    print(\"No fruit found.\")\n"
   ]
  },
  {
   "cell_type": "code",
   "execution_count": 8,
   "id": "40ab3a59-6785-4007-a6fb-885f99533294",
   "metadata": {},
   "outputs": [
    {
     "name": "stdout",
     "output_type": "stream",
     "text": [
      "Match found: cookie\n"
     ]
    }
   ],
   "source": [
    "pattern = r\"co.kie\" # The dot (.) in regex represents any character (except newline).\n",
    "text = \"I love my cookie and coke.\"\n",
    "\n",
    "result = re.search(pattern, text)\n",
    "if result:\n",
    "    print(\"Match found:\", result.group())\n",
    "else:\n",
    "    print(\"No match found.\")\n"
   ]
  },
  {
   "cell_type": "code",
   "execution_count": 9,
   "id": "d11c59c6-6091-4b6d-b6e8-6b416662f750",
   "metadata": {},
   "outputs": [
    {
     "name": "stdout",
     "output_type": "stream",
     "text": [
      "Vowel found: e\n"
     ]
    }
   ],
   "source": [
    "pattern = r\"[aeiou]\" # Character classes allow matching any one of several characters at a specific position.\n",
    "text = \"The quick brown fox jumps over the lazy dog.\"\n",
    "\n",
    "result = re.search(pattern, text)\n",
    "if result:\n",
    "    print(\"Vowel found:\", result.group())\n",
    "else:\n",
    "    print(\"No vowel found.\")\n"
   ]
  },
  {
   "cell_type": "code",
   "execution_count": 10,
   "id": "d0b9f647-cf4c-4b67-9487-cf987f4b342d",
   "metadata": {},
   "outputs": [
    {
     "name": "stdout",
     "output_type": "stream",
     "text": [
      "SSN found: 123-45-6789\n"
     ]
    }
   ],
   "source": [
    "# Quantifiers specify how many times a character or group should repeat.\n",
    "pattern = r\"\\d{3}-\\d{2}-\\d{4}\" #3 digits - 3 digits - 4 digits\n",
    "text = \"My social security number is 123-45-6789.\"\n",
    "\n",
    "result = re.search(pattern, text)\n",
    "if result:\n",
    "    print(\"SSN found:\", result.group())\n",
    "else:\n",
    "    print(\"No SSN found.\")\n"
   ]
  },
  {
   "cell_type": "markdown",
   "id": "0e58b152-5d46-4fa1-824d-e88500f11da6",
   "metadata": {},
   "source": [
    "#### 2. `re.match(pattern, string)`:\n",
    "   - Searches the `string` for a match only at the beginning.\n",
    "   - Returns a match object if the pattern is found at the start, otherwise returns `None`."
   ]
  },
  {
   "cell_type": "code",
   "execution_count": 5,
   "id": "ed6b4bb0-6d4f-4d83-b53c-a2a8ccf34269",
   "metadata": {},
   "outputs": [
    {
     "name": "stdout",
     "output_type": "stream",
     "text": [
      "No match found.\n"
     ]
    }
   ],
   "source": [
    "pattern = '\\w' # matches any word character. A word character includes alphanumeric characters (letters and digits) and underscores (_). It is equivalent to [a-zA-Z0-9_].\n",
    "text = ' I have an apple and a banana.'\n",
    "\n",
    "result = re.match(pattern, text)\n",
    "if result:\n",
    "    print(f\"Match found: {result.group()}\")\n",
    "else:\n",
    "    print(\"No match found.\")"
   ]
  },
  {
   "cell_type": "markdown",
   "id": "972f5806-c530-42dd-b1bb-675b55c5155c",
   "metadata": {},
   "source": [
    "Since there is a space at the beginning of the text, and that is not an alphanumeric character, returns match not found."
   ]
  },
  {
   "cell_type": "markdown",
   "id": "4135450d-5a76-489c-922a-0839707c8e94",
   "metadata": {},
   "source": [
    "#### 3. `re.findall(pattern, string)`:\n",
    "   - Returns all occurrences of the `pattern` in the `string` as a list of strings.\n"
   ]
  },
  {
   "cell_type": "code",
   "execution_count": 11,
   "id": "36c7bdfc-2de2-41ea-83cd-4bd41776b170",
   "metadata": {},
   "outputs": [
    {
     "name": "stdout",
     "output_type": "stream",
     "text": [
      "Occurrences: ['3', '5']\n"
     ]
    }
   ],
   "source": [
    "pattern = '\\d+' # numerico, 1 o mas caracteres\n",
    "text = 'I have 3 apples and 5 bananas.'\n",
    "\n",
    "result = re.findall(pattern, text)\n",
    "print(f\"Occurrences: {result}\")"
   ]
  },
  {
   "cell_type": "markdown",
   "id": "5e2e0787-5e8c-48a0-95c9-d7b8d1ca9d5e",
   "metadata": {},
   "source": [
    "Lets look at the regex pattern `[\\w\\.]+@\\w+\\.\\w+`, designed to match email addresses:\n",
    "\n",
    "1. `[\\w\\.]+`: Matches one or more occurrences of word characters or dots (`.`).\n",
    "   - `\\w` represents word characters (letters, digits, and underscores).\n",
    "   - `\\.` matches a literal dot (period).\n",
    "\n",
    "2. `@`: Matches the `@` symbol.\n",
    "\n",
    "3. `\\w+`: Matches one or more occurrences of word characters after the `@` symbol.\n",
    "   - `\\w` represents word characters (letters, digits, and underscores).\n",
    "\n",
    "4. `\\.`: Matches a literal dot (period).\n",
    "\n",
    "5. `\\w+`: Matches one or more occurrences of word characters after the dot.\n",
    "   - `\\w` represents word characters (letters, digits, and underscores).\n"
   ]
  },
  {
   "cell_type": "code",
   "execution_count": 13,
   "id": "7f838714-f3b1-4bf8-96ce-e49c844d3b7b",
   "metadata": {},
   "outputs": [
    {
     "data": {
      "text/plain": [
       "['john.doe@example.com',\n",
       " 'mary_smith123@gmail.com',\n",
       " 'theodore@example.co',\n",
       " 'contact_us@company.net',\n",
       " 'info123@yahoo.com',\n",
       " 'alice.bob@example.org',\n",
       " 'support@website.io',\n",
       " 'sales.department@example.com',\n",
       " 'test.email@domain.com',\n",
       " 'random.email@subdomain.co']"
      ]
     },
     "execution_count": 13,
     "metadata": {},
     "output_type": "execute_result"
    }
   ],
   "source": [
    "emails_text = \"\"\"\n",
    "Here are some made-up email addresses:\n",
    "john.doe@example.com\n",
    "mary_smith123@gmail.com\n",
    "theodore@example.co.uk\n",
    "contact_us@company.net\n",
    "info123@yahoo.com\n",
    "alice.bob@example.org\n",
    "support@website.io\n",
    "sales.department@example.com\n",
    "test.email@domain.com\n",
    "random.email@subdomain.co\n",
    "\"\"\"\n",
    "\n",
    "pattern = '[\\w\\.]+@\\w+\\.\\w+'\n",
    "\n",
    "re.findall(pattern, emails_text)"
   ]
  },
  {
   "cell_type": "markdown",
   "id": "15d44db5-194b-4d1d-a5cb-e735040e3fed",
   "metadata": {},
   "source": [
    "What do you observe in the result? How would you fix it?"
   ]
  },
  {
   "cell_type": "code",
   "execution_count": null,
   "id": "d55e18b3-1537-492c-ab92-a4a08e947813",
   "metadata": {},
   "outputs": [],
   "source": [
    "# Your answer here"
   ]
  },
  {
   "cell_type": "markdown",
   "id": "6f4bb31b-a4a5-4d99-82fe-71836c80f571",
   "metadata": {},
   "source": [
    "#### 4. `re.finditer(pattern, string)`:\n",
    "   - Returns an iterator yielding match objects for all occurrences of the `pattern` in the `string`."
   ]
  },
  {
   "cell_type": "code",
   "execution_count": 15,
   "id": "143e354c-45e8-4736-a517-dafb063f9195",
   "metadata": {},
   "outputs": [
    {
     "name": "stdout",
     "output_type": "stream",
     "text": [
      "Match found: 3\n",
      "Match found: 5\n"
     ]
    }
   ],
   "source": [
    "pattern = '\\d+'\n",
    "text = 'I have 3 apples and 5 bananas.'\n",
    "\n",
    "matches = re.finditer(pattern, text)\n",
    "for match in matches:\n",
    "    print(f\"Match found: {match.group()}\")"
   ]
  },
  {
   "cell_type": "markdown",
   "id": "371dd270-b1d4-4105-88a4-02d3769608d8",
   "metadata": {},
   "source": [
    "#### 5. `re.sub(pattern, replacement, string)`:\n",
    "   - Replaces all occurrences of the `pattern` in the `string` with the `replacement` string."
   ]
  },
  {
   "cell_type": "code",
   "execution_count": 17,
   "id": "8e3e5e39-9817-43fb-a751-6a7debe3edbe",
   "metadata": {},
   "outputs": [
    {
     "name": "stdout",
     "output_type": "stream",
     "text": [
      "Updated text: I have 3 oranges and oranges.\n"
     ]
    }
   ],
   "source": [
    "pattern = r'apples'\n",
    "text = 'I have 3 apples and apples.'\n",
    "\n",
    "result = re.sub(pattern, 'oranges', text)\n",
    "print(f\"Updated text: {result}\")"
   ]
  },
  {
   "cell_type": "code",
   "execution_count": 18,
   "id": "ed8bb6e8-3067-43c1-b5bd-487de1ae271f",
   "metadata": {},
   "outputs": [
    {
     "data": {
      "text/plain": [
       "'I have  apples and apples.'"
      ]
     },
     "execution_count": 18,
     "metadata": {},
     "output_type": "execute_result"
    }
   ],
   "source": [
    "re.sub('\\d+', '', text)   # replaces numbers for nothing"
   ]
  },
  {
   "cell_type": "markdown",
   "id": "906d8fa0-3972-4ebb-a652-24b44fa439ad",
   "metadata": {},
   "source": [
    "#### 6. `re.split(pattern, string)`:\n",
    "   - Splits the `string` by occurrences of the `pattern` and returns a list of substrings.\n"
   ]
  },
  {
   "cell_type": "code",
   "execution_count": 19,
   "id": "623d3dbf-3d10-419f-b328-2ef56466ca35",
   "metadata": {},
   "outputs": [
    {
     "name": "stdout",
     "output_type": "stream",
     "text": [
      "Splitted text: ['I', 'have', '3', 'apples', 'and', 'apples.']\n"
     ]
    }
   ],
   "source": [
    "pattern = '\\s+' # matches one or more occurrences of whitespace characters\n",
    "\n",
    "\n",
    "result = re.split(pattern, text)\n",
    "print(f\"Splitted text: {result}\")"
   ]
  },
  {
   "cell_type": "markdown",
   "id": "783673c6-c069-44a9-96d9-e6530c23de63",
   "metadata": {},
   "source": [
    "### Note\n",
    "\n",
    "You can use Python functions, for example `re.sub()` instead of `replace()`, or `re.split()` instead of `split()`, if you don't need a regex pattern."
   ]
  }
 ],
 "metadata": {
  "kernelspec": {
   "display_name": "Python 3 (ipykernel)",
   "language": "python",
   "name": "python3"
  },
  "language_info": {
   "codemirror_mode": {
    "name": "ipython",
    "version": 3
   },
   "file_extension": ".py",
   "mimetype": "text/x-python",
   "name": "python",
   "nbconvert_exporter": "python",
   "pygments_lexer": "ipython3",
   "version": "3.9.13"
  },
  "toc": {
   "base_numbering": 1,
   "nav_menu": {},
   "number_sections": true,
   "sideBar": true,
   "skip_h1_title": false,
   "title_cell": "Table of Contents",
   "title_sidebar": "Contents",
   "toc_cell": true,
   "toc_position": {},
   "toc_section_display": true,
   "toc_window_display": false
  }
 },
 "nbformat": 4,
 "nbformat_minor": 5
}
