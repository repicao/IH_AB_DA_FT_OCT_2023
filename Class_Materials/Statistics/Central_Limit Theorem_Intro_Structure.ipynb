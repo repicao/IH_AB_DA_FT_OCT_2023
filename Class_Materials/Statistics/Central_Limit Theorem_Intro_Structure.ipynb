{
 "cells": [
  {
   "cell_type": "markdown",
   "metadata": {
    "id": "YYv-zeY22Cx-"
   },
   "source": [
    "# Intro to Inferential Statistics:  Structure of the Central Limit Theorem"
   ]
  },
  {
   "cell_type": "code",
   "execution_count": null,
   "metadata": {
    "executionInfo": {
     "elapsed": 767,
     "status": "ok",
     "timestamp": 1624951723830,
     "user": {
      "displayName": "Ignacio Soteras",
      "photoUrl": "",
      "userId": "02050793736257155229"
     },
     "user_tz": -120
    },
    "id": "KtBot5tI2CyE"
   },
   "outputs": [],
   "source": [
    "import numpy as np\n",
    "import pandas as pd\n",
    "import scipy.stats as stats\n",
    "import random\n",
    "import matplotlib.pyplot as plt\n",
    "import seaborn as sns\n",
    "\n",
    "%matplotlib inline"
   ]
  },
  {
   "cell_type": "code",
   "execution_count": null,
   "metadata": {
    "colab": {
     "base_uri": "https://localhost:8080/"
    },
    "executionInfo": {
     "elapsed": 4134,
     "status": "ok",
     "timestamp": 1624951750074,
     "user": {
      "displayName": "Ignacio Soteras",
      "photoUrl": "",
      "userId": "02050793736257155229"
     },
     "user_tz": -120
    },
    "id": "gfxNslciYZAF",
    "outputId": "513eb084-e69a-4fb2-918a-526d0a3a2b58"
   },
   "outputs": [],
   "source": [
    "!pip install celluloid"
   ]
  },
  {
   "cell_type": "code",
   "execution_count": null,
   "metadata": {
    "executionInfo": {
     "elapsed": 591,
     "status": "ok",
     "timestamp": 1624951761162,
     "user": {
      "displayName": "Ignacio Soteras",
      "photoUrl": "",
      "userId": "02050793736257155229"
     },
     "user_tz": -120
    },
    "id": "AVtdaqF7YfRQ"
   },
   "outputs": [],
   "source": [
    "from IPython.display import HTML\n",
    "from celluloid import Camera"
   ]
  },
  {
   "cell_type": "markdown",
   "metadata": {
    "id": "mffGDgYJ2CyF"
   },
   "source": [
    "### Generating a population\n",
    "\n",
    "We  artificially generate 10,000 random observations that follow a made up distribution with a weird shape. This is going to be our population.\n",
    "\n",
    "To take samples from a given distribution, we use the scipy stats module: scipy.stats. Then we specify the intended distribution and use the `rvs` function with the appropriate arguments.\n",
    "\n",
    "Note: we generally don't have access to data for the entire population. Here, we construct the population by hand to demonstrate certain concepts for learning purposes."
   ]
  },
  {
   "cell_type": "code",
   "execution_count": null,
   "metadata": {
    "executionInfo": {
     "elapsed": 213,
     "status": "ok",
     "timestamp": 1624952189184,
     "user": {
      "displayName": "Ignacio Soteras",
      "photoUrl": "",
      "userId": "02050793736257155229"
     },
     "user_tz": -120
    },
    "id": "bAh00Hcm2CyF"
   },
   "outputs": [],
   "source": [
    "# some of the observations follow an exponential dist\n",
    "r1 = stats.expon.rvs(size=10000, random_state=1000)\n",
    "\n",
    "# some follow a normal dist. loc = mean, scale = sigma\n",
    "r2 = stats.norm.rvs(loc=2, scale=1.5, size=10000, random_state=847)\n",
    "\n",
    "# some follow a constant dist: loc = min_value, scale = b - a\n",
    "r3 = stats.uniform.rvs(loc=-2, scale=9, size=10000, random_state=128)\n",
    "\n",
    "# there's a weird spike at some point\n",
    "r4 = stats.uniform.rvs(loc=5.5, scale=1, size=10000, random_state=128)\n",
    "\n",
    "pop = pd.Series(np.concatenate([r1, r2, r3, r4]))"
   ]
  },
  {
   "cell_type": "markdown",
   "metadata": {
    "id": "HTYz6AZ82CyF"
   },
   "source": [
    "Here's the distribution of our population:"
   ]
  },
  {
   "cell_type": "code",
   "execution_count": null,
   "metadata": {
    "colab": {
     "base_uri": "https://localhost:8080/",
     "height": 285
    },
    "executionInfo": {
     "elapsed": 567,
     "status": "ok",
     "timestamp": 1624952204140,
     "user": {
      "displayName": "Ignacio Soteras",
      "photoUrl": "",
      "userId": "02050793736257155229"
     },
     "user_tz": -120
    },
    "id": "VzUE3LE32CyH",
    "outputId": "6e1e92d3-7b96-473e-991a-03b9adf019cb",
    "scrolled": true
   },
   "outputs": [],
   "source": [
    "sns.set_theme()\n",
    "pop.hist(bins=20)"
   ]
  },
  {
   "cell_type": "code",
   "execution_count": null,
   "metadata": {
    "colab": {
     "base_uri": "https://localhost:8080/"
    },
    "executionInfo": {
     "elapsed": 240,
     "status": "ok",
     "timestamp": 1624952267859,
     "user": {
      "displayName": "Ignacio Soteras",
      "photoUrl": "",
      "userId": "02050793736257155229"
     },
     "user_tz": -120
    },
    "id": "qFy-bNqW2CyH",
    "outputId": "37246925-b8f6-4c23-cf00-ffc8c55fb2b5"
   },
   "outputs": [],
   "source": [
    "# Population mean:\n",
    "pop_mean = np.mean(pop)# \n",
    "print(\"Population mean: {:.2f}\".format(pop_mean))"
   ]
  },
  {
   "cell_type": "code",
   "execution_count": null,
   "metadata": {
    "colab": {
     "base_uri": "https://localhost:8080/"
    },
    "executionInfo": {
     "elapsed": 205,
     "status": "ok",
     "timestamp": 1624952295646,
     "user": {
      "displayName": "Ignacio Soteras",
      "photoUrl": "",
      "userId": "02050793736257155229"
     },
     "user_tz": -120
    },
    "id": "T8vDBX7r2CyH",
    "outputId": "7723552b-6f5d-4e6a-8dcf-822e332eb12b"
   },
   "outputs": [],
   "source": [
    "# Population standard deviation:\n",
    "pop_std = np.std(pop)# \n",
    "# np.std by default assumes that you are computing the POPULATION standard deviation, therefore divides by n.\n",
    "# if you are computing the SAMPLE standard deviation, you need to divide by n - 1 to get an unbiased estimation.\n",
    "# in order to do this, set the optional parameter ddof = 1.\n",
    "print(\"Population standard deviation: {:.2f}\".format(pop_std))"
   ]
  },
  {
   "cell_type": "markdown",
   "metadata": {
    "id": "iKkhHxK12CyI"
   },
   "source": [
    "Let's take a sample from our population. The mean of the sample is similar but not equal to the mean of the population. By the way, the mean of the sample is called... well, **sample mean**."
   ]
  },
  {
   "cell_type": "code",
   "execution_count": null,
   "metadata": {
    "colab": {
     "base_uri": "https://localhost:8080/"
    },
    "executionInfo": {
     "elapsed": 202,
     "status": "ok",
     "timestamp": 1624952700012,
     "user": {
      "displayName": "Ignacio Soteras",
      "photoUrl": "",
      "userId": "02050793736257155229"
     },
     "user_tz": -120
    },
    "id": "Qu7fNyPV2CyI",
    "outputId": "03f15e07-ad88-4f55-c3d9-81f4cede1c9a"
   },
   "outputs": [],
   "source": [
    "# sample of size 50. Use sample()\n",
    "sample = np.random.choice(pop,size=50)#\n",
    "#sample = pop.sample(50)\n",
    "sample"
   ]
  },
  {
   "cell_type": "markdown",
   "metadata": {
    "id": "dCM3atNGZLf8"
   },
   "source": [
    "Let's compare our sample mean with the population mean and get the sampling error for the mean."
   ]
  },
  {
   "cell_type": "code",
   "execution_count": null,
   "metadata": {
    "colab": {
     "base_uri": "https://localhost:8080/"
    },
    "executionInfo": {
     "elapsed": 235,
     "status": "ok",
     "timestamp": 1624952704095,
     "user": {
      "displayName": "Ignacio Soteras",
      "photoUrl": "",
      "userId": "02050793736257155229"
     },
     "user_tz": -120
    },
    "id": "bg4nnajb2CyI",
    "outputId": "c203df0d-7b3a-4cda-f523-0234ff683149"
   },
   "outputs": [],
   "source": [
    "# Comparing the population mean and the sample mean.\n",
    "# Population mean\n",
    "print(\"Population mean: {:.2f}\".format(pop_mean))\n",
    "\n",
    "# Sample mean\n",
    "print(\"Sample mean: {:.2f}\".format(np.mean(sample)))\n",
    "\n",
    "# Sampling error of the mean\n",
    "print(\"Sampling error: {:.2f}\".format(np.mean(sample) - pop_mean))"
   ]
  },
  {
   "cell_type": "code",
   "execution_count": null,
   "metadata": {
    "colab": {
     "base_uri": "https://localhost:8080/"
    },
    "executionInfo": {
     "elapsed": 396,
     "status": "ok",
     "timestamp": 1624952834814,
     "user": {
      "displayName": "Ignacio Soteras",
      "photoUrl": "",
      "userId": "02050793736257155229"
     },
     "user_tz": -120
    },
    "id": "anhC8lif2CyI",
    "outputId": "5c8167f0-f00a-4b32-d080-b9214a15fb5d"
   },
   "outputs": [],
   "source": [
    "# Comparing standard deviations\n",
    "# Population\n",
    "print(\"Population standard deviation {:.2f}\".format(pop_std))\n",
    "\n",
    "# The same happens with the sample standard deviation. Remember that you are using a SAMPLE!\n",
    "# therefore, you need to divide by n - 1. Here we use the parameter ddof = 1.\n",
    "print(\"Sample standard deviation {:.2f}\".format(np.std(sample, ddof=1)))\n",
    "\n",
    "# Sampling error of the standard deviation\n",
    "print(\"Sampling error: {:.2f}\".format(np.std(sample, ddof=1) - pop_std))"
   ]
  },
  {
   "cell_type": "markdown",
   "metadata": {
    "id": "k5XeguGf2CyJ"
   },
   "source": [
    "If we take a diferent sample, the parameters will vary:"
   ]
  },
  {
   "cell_type": "code",
   "execution_count": null,
   "metadata": {
    "colab": {
     "base_uri": "https://localhost:8080/"
    },
    "executionInfo": {
     "elapsed": 4,
     "status": "ok",
     "timestamp": 1624952861212,
     "user": {
      "displayName": "Ignacio Soteras",
      "photoUrl": "",
      "userId": "02050793736257155229"
     },
     "user_tz": -120
    },
    "id": "2W0dz7T-2CyL",
    "outputId": "e6f8c1cb-3fb5-4004-9b38-d5e91c23591f"
   },
   "outputs": [],
   "source": [
    "# sample of size n\n",
    "n = 50\n",
    "sample = pop.sample(n, random_state=314159)\n",
    "\n",
    "# sample mean\n",
    "print(\"Sample mean: {:.2f}\".format(np.mean(sample)))"
   ]
  },
  {
   "cell_type": "markdown",
   "metadata": {
    "id": "Ju2erJ5lZm3N"
   },
   "source": [
    "# Inspecting the histogram of sample means"
   ]
  },
  {
   "cell_type": "markdown",
   "metadata": {
    "id": "gm2AEr6a2CyM"
   },
   "source": [
    "Now we take 1000 samples, each one of size 50.\n",
    "Some means $\\bar{x}$ will be lower than the population mean, while others will be higher. However, according to the `Central Limit Theorem` the histogram of those means, will resemble a Normal distribution with the same mean as the `population mean` $\\mu$ \n",
    "\n",
    "$$\\bar{x}\\approx N(\\mu,\\frac{\\sigma_{\\bar{x}}}{\\sqrt{n}})$$"
   ]
  },
  {
   "cell_type": "code",
   "execution_count": null,
   "metadata": {
    "colab": {
     "base_uri": "https://localhost:8080/",
     "height": 284
    },
    "executionInfo": {
     "elapsed": 66834,
     "status": "ok",
     "timestamp": 1624953303261,
     "user": {
      "displayName": "Ignacio Soteras",
      "photoUrl": "",
      "userId": "02050793736257155229"
     },
     "user_tz": -120
    },
    "id": "IS7qdCJd2CyM",
    "outputId": "280b3e78-10f2-4c28-fda1-d6c6174817b0"
   },
   "outputs": [],
   "source": [
    "sns.set_theme()\n",
    "\n",
    "sample_means = []\n",
    "# Dataframe to contain the mean of each sample\n",
    "means = pd.DataFrame({'mean_of_means':[]})\n",
    "\n",
    "fig = plt.figure()\n",
    "camera = Camera(fig)\n",
    "\n",
    "for number in range(1000): # We take 1.000 samples\n",
    "\n",
    "    # Getting a sample of size 50 without replacemente with np.random.choice or sample\n",
    "    sample = pop.sample(n)#\n",
    "\n",
    "    # Computing the mean of the current sample\n",
    "    sample_mean = np.mean(sample)#\n",
    "    \n",
    "    # Adding the mean of the current sample to the list of sample means\n",
    "    sample_means.append(sample_mean)\n",
    "    # Updating the dataframe of the means of all the samples\n",
    "    means = means.append({'mean_of_means': sample_mean}, ignore_index=True)\n",
    "    \n",
    "    #plt.clf()\n",
    "    plt.title(\"Histogram of sample means\")\n",
    "    plt.hist(means['mean_of_means'], color = 'c')\n",
    "    plt.axvline(x=pop_mean)\n",
    "    #plt.show()\n",
    "    \n",
    "    camera.snap()\n",
    "    \n",
    "animation = camera.animate() \n"
   ]
  },
  {
   "cell_type": "code",
   "execution_count": null,
   "metadata": {
    "colab": {
     "base_uri": "https://localhost:8080/",
     "height": 309
    },
    "executionInfo": {
     "elapsed": 214785,
     "status": "ok",
     "timestamp": 1624953540823,
     "user": {
      "displayName": "Ignacio Soteras",
      "photoUrl": "",
      "userId": "02050793736257155229"
     },
     "user_tz": -120
    },
    "id": "h2ho20Fccnzl",
    "outputId": "c14214f8-16b8-4bdd-9b26-db7e1b9ec230"
   },
   "outputs": [],
   "source": [
    "from IPython.display import HTML\n",
    "\n",
    "HTML(animation.to_html5_video())"
   ]
  },
  {
   "cell_type": "markdown",
   "metadata": {
    "id": "SY5zxTzz2CyN"
   },
   "source": [
    "If the samples are large enough (rule of thumb: at least of size 30), the **sampling distribution ( the distribution of the mean of the sample means )** will ressemble a normal distribution. This is the essence of the **Central Limit Theorem**.\n",
    "\n",
    "Otherwise, the sampling distribution will be a **t-student distribution**"
   ]
  },
  {
   "cell_type": "markdown",
   "metadata": {
    "id": "gT43JUqz2CyN"
   },
   "source": [
    "This is not super important, but in case you wanna double check this distribution follows a normal distribution, you can use a \"Quantile-quantile plot\".\n",
    "\n",
    "Learn more about qqplots here:\n",
    "https://www.statisticshowto.com/q-q-plots/#:~:text=Q%20Q%20Plots%20 \n"
   ]
  },
  {
   "cell_type": "code",
   "execution_count": null,
   "metadata": {
    "colab": {
     "base_uri": "https://localhost:8080/",
     "height": 1000
    },
    "executionInfo": {
     "elapsed": 795,
     "status": "ok",
     "timestamp": 1624953822871,
     "user": {
      "displayName": "Ignacio Soteras",
      "photoUrl": "",
      "userId": "02050793736257155229"
     },
     "user_tz": -120
    },
    "id": "_-4YOwbC2CyN",
    "outputId": "17dfb22a-952e-464d-f4cd-ea4946857a7b"
   },
   "outputs": [],
   "source": [
    "import scipy.stats as stats\n",
    "\n",
    "stats.probplot(sample_means,dist=\"norm\", plot=plt)"
   ]
  },
  {
   "cell_type": "markdown",
   "metadata": {
    "id": "H1EiuNqG2CyO"
   },
   "source": [
    "The mean of the sampling distribution of the sample means should be pretty close to the true mean of the population:"
   ]
  },
  {
   "cell_type": "code",
   "execution_count": null,
   "metadata": {
    "colab": {
     "base_uri": "https://localhost:8080/"
    },
    "executionInfo": {
     "elapsed": 5,
     "status": "ok",
     "timestamp": 1624953941266,
     "user": {
      "displayName": "Ignacio Soteras",
      "photoUrl": "",
      "userId": "02050793736257155229"
     },
     "user_tz": -120
    },
    "id": "QlWpGamx2CyO",
    "outputId": "a24ea482-791a-4d02-e7f5-c9e6dbaf4881"
   },
   "outputs": [],
   "source": [
    "mean_sdsm = np.mean(sample_means)\n",
    "print(\"Mean of all the sample means: {:.2f}\".format(mean_sdsm))\n",
    "print(\"Population mean: {:.2f}\".format(pop_mean))\n",
    "print(\"Difference: {:.2f}\".format(pop_mean - mean_sdsm))"
   ]
  },
  {
   "cell_type": "markdown",
   "metadata": {
    "id": "MJmr8UYh2CyO"
   },
   "source": [
    "A difference of 0.01 is pretty good, but we can do even better!"
   ]
  },
  {
   "cell_type": "code",
   "execution_count": null,
   "metadata": {
    "colab": {
     "base_uri": "https://localhost:8080/"
    },
    "executionInfo": {
     "elapsed": 205,
     "status": "ok",
     "timestamp": 1624954037912,
     "user": {
      "displayName": "Ignacio Soteras",
      "photoUrl": "",
      "userId": "02050793736257155229"
     },
     "user_tz": -120
    },
    "id": "ZMIVkuKp2CyO",
    "outputId": "ce67e72b-2cba-4e74-dc6c-6b084f8fa248"
   },
   "outputs": [],
   "source": [
    "#We know that for a normal distribution, 95% of the values fall within 2 standard deviations of the mean. Let's check that:\n",
    "\n",
    "std_sdsm = np.std(sample_means) # std dev of the distribution of sample means\n",
    "\n",
    "# The lower and upper bound of the interval that should contain\n",
    "# ~95% of the sample means\n",
    "lower_bound = mean_sdsm - 2*std_sdsm # mu - 2 sigma [for sample]\n",
    "upper_bound = mean_sdsm + 2*std_sdsm # mu + 2 sigma [for sample]\n",
    "\n",
    "print(round(lower_bound, 2), \"-\", round(upper_bound, 2))"
   ]
  },
  {
   "cell_type": "code",
   "execution_count": null,
   "metadata": {
    "colab": {
     "base_uri": "https://localhost:8080/"
    },
    "executionInfo": {
     "elapsed": 215,
     "status": "ok",
     "timestamp": 1624954092644,
     "user": {
      "displayName": "Ignacio Soteras",
      "photoUrl": "",
      "userId": "02050793736257155229"
     },
     "user_tz": -120
    },
    "id": "ZhiZRFNh2CyO",
    "outputId": "d9137a06-6969-4345-e28c-0b71a9e71b94"
   },
   "outputs": [],
   "source": [
    "# How many of the sample means fall within this interval?\n",
    "count = 0\n",
    "for i in sample_means:\n",
    "    if ( i > lower_bound and i < upper_bound ):\n",
    "        count +=1\n",
    "print(\"Percentage of sample means within 2 std dev's of the mean = {:.2f}\".format(count/len(sample_means)*100))"
   ]
  },
  {
   "cell_type": "markdown",
   "metadata": {
    "id": "KVqfpyPe2CyP"
   },
   "source": [
    "Another cool property of the sampling distribution of the sample means is that its *standard deviation* is equal to the standard deviation of the population divided by the square root of n. \n",
    "\n",
    "Let's see how this checks out with our data:"
   ]
  },
  {
   "cell_type": "code",
   "execution_count": null,
   "metadata": {
    "colab": {
     "base_uri": "https://localhost:8080/"
    },
    "executionInfo": {
     "elapsed": 237,
     "status": "ok",
     "timestamp": 1624954113868,
     "user": {
      "displayName": "Ignacio Soteras",
      "photoUrl": "",
      "userId": "02050793736257155229"
     },
     "user_tz": -120
    },
    "id": "MfgxJQUU2CyP",
    "outputId": "686b6900-a3d8-4122-98e9-71866ed97882"
   },
   "outputs": [],
   "source": [
    "print(\"The standard deviation of all those sample means is: {:.2f}\".format(std_sdsm))"
   ]
  },
  {
   "cell_type": "code",
   "execution_count": null,
   "metadata": {
    "colab": {
     "base_uri": "https://localhost:8080/"
    },
    "executionInfo": {
     "elapsed": 210,
     "status": "ok",
     "timestamp": 1624954126103,
     "user": {
      "displayName": "Ignacio Soteras",
      "photoUrl": "",
      "userId": "02050793736257155229"
     },
     "user_tz": -120
    },
    "id": "DhVYDAEJ2CyP",
    "outputId": "3968b416-331f-4536-b5cc-c5ba3cbc5303",
    "scrolled": true
   },
   "outputs": [],
   "source": [
    "print(\"The standard deviation of all the sample means divided by the root square of n is: {:.2f}\".format(pop_std/np.sqrt(n)))"
   ]
  },
  {
   "cell_type": "markdown",
   "metadata": {
    "id": "KJTnOD5g2CyP"
   },
   "source": [
    "The *standard deviation of the sampling distribution of the sample means* is also called the **standard error of the mean** and we'll use it in the next lessons.\n",
    "\n",
    "Before moving on, repeat the experiment with diferent sample sizes (both smaller and greater), and see what happens."
   ]
  },
  {
   "cell_type": "markdown",
   "metadata": {
    "id": "l0XzqbXZ2CyQ"
   },
   "source": [
    "## Squirrels example\n",
    "\n",
    "Let's assume that the population ('pop' values) represents the weights of squirrels. We go to the forest, take a sample of n=50 squirrels and register their weight:"
   ]
  },
  {
   "cell_type": "code",
   "execution_count": null,
   "metadata": {
    "executionInfo": {
     "elapsed": 213,
     "status": "ok",
     "timestamp": 1624954143355,
     "user": {
      "displayName": "Ignacio Soteras",
      "photoUrl": "",
      "userId": "02050793736257155229"
     },
     "user_tz": -120
    },
    "id": "WySOCsRr2CyQ"
   },
   "outputs": [],
   "source": [
    "squirrels = pop.sample(n, random_state=1990) # sample of 50 squirrel weights"
   ]
  },
  {
   "cell_type": "code",
   "execution_count": null,
   "metadata": {
    "colab": {
     "base_uri": "https://localhost:8080/",
     "height": 285
    },
    "executionInfo": {
     "elapsed": 763,
     "status": "ok",
     "timestamp": 1624954148612,
     "user": {
      "displayName": "Ignacio Soteras",
      "photoUrl": "",
      "userId": "02050793736257155229"
     },
     "user_tz": -120
    },
    "id": "AD6fsm8z2CyQ",
    "outputId": "5a609d8e-a8ae-4580-98d0-c1aab6444d4a",
    "scrolled": true
   },
   "outputs": [],
   "source": [
    "# distribution of the samples (we use a funny measuring scale for the weights which leads to negative values)\n",
    "squirrels.hist(bins=30)"
   ]
  },
  {
   "cell_type": "code",
   "execution_count": null,
   "metadata": {
    "colab": {
     "base_uri": "https://localhost:8080/"
    },
    "executionInfo": {
     "elapsed": 208,
     "status": "ok",
     "timestamp": 1624954155426,
     "user": {
      "displayName": "Ignacio Soteras",
      "photoUrl": "",
      "userId": "02050793736257155229"
     },
     "user_tz": -120
    },
    "id": "zJy3W7s22CyQ",
    "outputId": "7204c813-c81b-4e20-b826-30fc99b67848"
   },
   "outputs": [],
   "source": [
    "# We wonder if the mean of the weights of the squirrels is\n",
    "# close to the 'true' mean of the population (which we can't measure)\n",
    "print(\"The mean of the sample is: {:.2f}\".format(np.mean(squirrels)))"
   ]
  },
  {
   "cell_type": "markdown",
   "metadata": {
    "id": "75U-9veM2CyR"
   },
   "source": [
    "The standard error $\\sigma/\\sqrt{N}$ of the mean is an estimate of how far the sample mean is likely to be from the population mean.\n",
    "\n",
    "It is an estimate of the standard deviation of the distribution of the sample means, which, as we've seen, follows a normal distribution."
   ]
  },
  {
   "cell_type": "code",
   "execution_count": null,
   "metadata": {
    "colab": {
     "base_uri": "https://localhost:8080/"
    },
    "executionInfo": {
     "elapsed": 229,
     "status": "ok",
     "timestamp": 1624954160011,
     "user": {
      "displayName": "Ignacio Soteras",
      "photoUrl": "",
      "userId": "02050793736257155229"
     },
     "user_tz": -120
    },
    "id": "VgnJmqpq2CyR",
    "outputId": "df642aa4-c592-421d-cc78-2cab404b4c0a",
    "scrolled": false
   },
   "outputs": [],
   "source": [
    "# standard error of the mean = sigma/sqrt(N)\n",
    "np.std(squirrels)/np.sqrt(len(squirrels))"
   ]
  },
  {
   "cell_type": "code",
   "execution_count": null,
   "metadata": {
    "colab": {
     "base_uri": "https://localhost:8080/"
    },
    "executionInfo": {
     "elapsed": 220,
     "status": "ok",
     "timestamp": 1624954166456,
     "user": {
      "displayName": "Ignacio Soteras",
      "photoUrl": "",
      "userId": "02050793736257155229"
     },
     "user_tz": -120
    },
    "id": "BFxLaqr72CyR",
    "outputId": "b53b8ad6-a36a-4649-ecc8-5cffb612ec53"
   },
   "outputs": [],
   "source": [
    "# using scipy you can also calculate the standard error of the mean\n",
    "stats.sem(squirrels, \n",
    "          ddof=0) # degrees of freedom. the default is 1, which results in a more conservative estimate"
   ]
  },
  {
   "cell_type": "markdown",
   "metadata": {
    "id": "NedUfn-p2CyR"
   },
   "source": [
    "The **Central Limit Theorem** tells us that, no matter the distribution of our sample or the population, the sampling distribution\n",
    "of the sample mean is normal.\n",
    "\n",
    "Knowing that, we can use the properties of the normal distribution to gain information about our sample and how much it differs from the true population.\n",
    "\n",
    "In a normal distribution, 95% of the observations fall within 2 standard deviations of the mean.\n",
    "\n",
    "Given the mean of the sample and the standard error, which is an estimate of the standard deviation of the sample means,\n",
    "we can compute the **confidence interval**  to get a sense of the 'plausible range of values' for a population parameter (in this case, the mean).\n"
   ]
  },
  {
   "cell_type": "code",
   "execution_count": null,
   "metadata": {
    "colab": {
     "base_uri": "https://localhost:8080/"
    },
    "executionInfo": {
     "elapsed": 201,
     "status": "ok",
     "timestamp": 1624954249844,
     "user": {
      "displayName": "Ignacio Soteras",
      "photoUrl": "",
      "userId": "02050793736257155229"
     },
     "user_tz": -120
    },
    "id": "ueI6gVcC2CyR",
    "outputId": "4f231e6c-39e0-4ab3-d38b-ab65bf4b1192"
   },
   "outputs": [],
   "source": [
    "# upper bound of the confidence interval\n",
    "print(\"Upper bound of the population mean based on the sample mean with a 95% confidence interval: {:.2f}\".format(np.mean(squirrels) + stats.sem(squirrels)*2)) # two standard deviations above"
   ]
  },
  {
   "cell_type": "code",
   "execution_count": null,
   "metadata": {
    "colab": {
     "base_uri": "https://localhost:8080/"
    },
    "executionInfo": {
     "elapsed": 234,
     "status": "ok",
     "timestamp": 1624954259508,
     "user": {
      "displayName": "Ignacio Soteras",
      "photoUrl": "",
      "userId": "02050793736257155229"
     },
     "user_tz": -120
    },
    "id": "cR6mzCP42CyS",
    "outputId": "07cf9350-9533-48a1-89bc-0bb230943663"
   },
   "outputs": [],
   "source": [
    "# lower bound of the confidence interval\n",
    "print(\"Lower bound of the population mean based on the sample mean with a 95% confidence interval: {:.2f}\".format(np.mean(squirrels) - stats.sem(squirrels)*2)) # two standard deviations below"
   ]
  },
  {
   "cell_type": "code",
   "execution_count": null,
   "metadata": {
    "colab": {
     "base_uri": "https://localhost:8080/"
    },
    "executionInfo": {
     "elapsed": 208,
     "status": "ok",
     "timestamp": 1624954288025,
     "user": {
      "displayName": "Ignacio Soteras",
      "photoUrl": "",
      "userId": "02050793736257155229"
     },
     "user_tz": -120
    },
    "id": "AeDAQP772CyS",
    "outputId": "19f3fadb-81db-424b-cf6e-4805b3dfe53c"
   },
   "outputs": [],
   "source": [
    "# using scipy to calculate the confidence interval:\n",
    "low, upp = stats.norm.interval(0.95, # the confidence level\n",
    "                 loc=np.mean(squirrels), # mean of our sample\n",
    "                 scale=stats.sem(squirrels)) # standard error of the mean\n",
    "\n",
    "print(\"Upper bound to the population mean based on the sample mean with a 95% confidence interval: {:.2f}\".format(upp)) # two standard deviations above\n",
    "print(\"Lower bound to the population mean based on the sample mean with a 95% confidence interval: {:.2f}\".format(low)) # two standard deviations below"
   ]
  },
  {
   "cell_type": "code",
   "execution_count": null,
   "metadata": {
    "colab": {
     "base_uri": "https://localhost:8080/"
    },
    "executionInfo": {
     "elapsed": 230,
     "status": "ok",
     "timestamp": 1624954324415,
     "user": {
      "displayName": "Ignacio Soteras",
      "photoUrl": "",
      "userId": "02050793736257155229"
     },
     "user_tz": -120
    },
    "id": "kdJOAg4Q2CyS",
    "outputId": "3a624ceb-b209-41d5-f339-70fc8344cb6d"
   },
   "outputs": [],
   "source": [
    "# using a t distribution:\n",
    "t_low, t_upp = stats.t.interval(0.95, # the confidence level\n",
    "                                len(squirrels)-1, # degrees of freedom = sample size - 1\n",
    "                                loc=np.mean(squirrels), # mean of our sample\n",
    "                                scale=stats.sem(squirrels)) # standard error of the mean\n",
    "\n",
    "print(\"Upper bound to the population mean based on the sample mean with a 95% confidence interval: {:.2f}\".format(t_upp)) # two standard deviations above\n",
    "print(\"Lower bound to the population mean based on the sample mean with a 95% confidence interval: {:.2f}\".format(t_low)) # two standard deviations below"
   ]
  },
  {
   "cell_type": "markdown",
   "metadata": {
    "id": "qyAGGVcX2CyS"
   },
   "source": [
    "In the second interval we've used a t distribution, instead of a normal distribution, to get a more conservative estimate of the confidence intermal.\n",
    "\n",
    "A t distribution is 'flatter' and has 'fat tails' for small populations, and is indistinguishable from a normal distribution for bigger populations.\n",
    "\n",
    "The confidence interval is slightly thinner if we use a normal distribution."
   ]
  }
 ],
 "metadata": {
  "colab": {
   "name": "Central Limit Theorem Intro-Structure.ipynb",
   "provenance": []
  },
  "kernelspec": {
   "display_name": "Python 3 (ipykernel)",
   "language": "python",
   "name": "python3"
  },
  "language_info": {
   "codemirror_mode": {
    "name": "ipython",
    "version": 3
   },
   "file_extension": ".py",
   "mimetype": "text/x-python",
   "name": "python",
   "nbconvert_exporter": "python",
   "pygments_lexer": "ipython3",
   "version": "3.9.16"
  },
  "toc": {
   "base_numbering": 1,
   "nav_menu": {},
   "number_sections": true,
   "sideBar": true,
   "skip_h1_title": false,
   "title_cell": "Table of Contents",
   "title_sidebar": "Contents",
   "toc_cell": false,
   "toc_position": {},
   "toc_section_display": true,
   "toc_window_display": false
  },
  "varInspector": {
   "cols": {
    "lenName": 16,
    "lenType": 16,
    "lenVar": 40
   },
   "kernels_config": {
    "python": {
     "delete_cmd_postfix": "",
     "delete_cmd_prefix": "del ",
     "library": "var_list.py",
     "varRefreshCmd": "print(var_dic_list())"
    },
    "r": {
     "delete_cmd_postfix": ") ",
     "delete_cmd_prefix": "rm(",
     "library": "var_list.r",
     "varRefreshCmd": "cat(var_dic_list()) "
    }
   },
   "types_to_exclude": [
    "module",
    "function",
    "builtin_function_or_method",
    "instance",
    "_Feature"
   ],
   "window_display": false
  }
 },
 "nbformat": 4,
 "nbformat_minor": 1
}
