{
 "nbformat": 4,
 "nbformat_minor": 0,
 "metadata": {
  "kernelspec": {
   "display_name": "Python 3",
   "language": "python",
   "name": "python3"
  },
  "language_info": {
   "codemirror_mode": {
    "name": "ipython",
    "version": 3
   },
   "file_extension": ".py",
   "mimetype": "text/x-python",
   "name": "python",
   "nbconvert_exporter": "python",
   "pygments_lexer": "ipython3",
   "version": "3.8.4"
  },
  "toc": {
   "base_numbering": 1,
   "nav_menu": {},
   "number_sections": true,
   "sideBar": true,
   "skip_h1_title": false,
   "title_cell": "Table of Contents",
   "title_sidebar": "Contents",
   "toc_cell": false,
   "toc_position": {},
   "toc_section_display": true,
   "toc_window_display": false
  },
  "varInspector": {
   "cols": {
    "lenName": 16,
    "lenType": 16,
    "lenVar": 40
   },
   "kernels_config": {
    "python": {
     "delete_cmd_postfix": "",
     "delete_cmd_prefix": "del ",
     "library": "var_list.py",
     "varRefreshCmd": "print(var_dic_list())"
    },
    "r": {
     "delete_cmd_postfix": ") ",
     "delete_cmd_prefix": "rm(",
     "library": "var_list.r",
     "varRefreshCmd": "cat(var_dic_list()) "
    }
   },
   "types_to_exclude": [
    "module",
    "function",
    "builtin_function_or_method",
    "instance",
    "_Feature"
   ],
   "window_display": false
  },
  "colab": {
   "name": "Central Limit Theorem Intro.ipynb",
   "provenance": []
  }
 },
 "cells": [
  {
   "cell_type": "markdown",
   "metadata": {
    "id": "YYv-zeY22Cx-"
   },
   "source": [
    "# Intro to Inferential Statistics:  Central Limit Theorem"
   ]
  },
  {
   "cell_type": "code",
   "metadata": {
    "id": "KtBot5tI2CyE",
    "executionInfo": {
     "status": "ok",
     "timestamp": 1618840871661,
     "user_tz": -120,
     "elapsed": 1115,
     "user": {
      "displayName": "Ignacio Soteras",
      "photoUrl": "",
      "userId": "02050793736257155229"
     }
    }
   },
   "source": [
    "import numpy as np\n",
    "import pandas as pd\n",
    "import scipy.stats as stats\n",
    "import random\n",
    "import matplotlib.pyplot as plt\n",
    "import seaborn as sns\n",
    "\n",
    "%matplotlib inline"
   ],
   "execution_count": 3,
   "outputs": []
  },
  {
   "cell_type": "code",
   "metadata": {
    "colab": {
     "base_uri": "https://localhost:8080/"
    },
    "id": "gfxNslciYZAF",
    "executionInfo": {
     "status": "ok",
     "timestamp": 1618839979455,
     "user_tz": -120,
     "elapsed": 4834,
     "user": {
      "displayName": "Ignacio Soteras",
      "photoUrl": "",
      "userId": "02050793736257155229"
     }
    },
    "outputId": "db042076-bf4c-4694-ed61-6876daaa2482"
   },
   "source": [
    "!pip install celluloid"
   ],
   "execution_count": 2,
   "outputs": [
    {
     "output_type": "stream",
     "text": [
      "Collecting celluloid\n",
      "  Downloading https://files.pythonhosted.org/packages/60/a7/7fbe80721c6f1b7370c4e50c77abe31b4d5cfeb58873d4d32f48ae5a0bae/celluloid-0.2.0-py3-none-any.whl\n",
      "Requirement already satisfied: matplotlib in /usr/local/lib/python3.7/dist-packages (from celluloid) (3.2.2)\n",
      "Requirement already satisfied: python-dateutil>=2.1 in /usr/local/lib/python3.7/dist-packages (from matplotlib->celluloid) (2.8.1)\n",
      "Requirement already satisfied: numpy>=1.11 in /usr/local/lib/python3.7/dist-packages (from matplotlib->celluloid) (1.19.5)\n",
      "Requirement already satisfied: kiwisolver>=1.0.1 in /usr/local/lib/python3.7/dist-packages (from matplotlib->celluloid) (1.3.1)\n",
      "Requirement already satisfied: pyparsing!=2.0.4,!=2.1.2,!=2.1.6,>=2.0.1 in /usr/local/lib/python3.7/dist-packages (from matplotlib->celluloid) (2.4.7)\n",
      "Requirement already satisfied: cycler>=0.10 in /usr/local/lib/python3.7/dist-packages (from matplotlib->celluloid) (0.10.0)\n",
      "Requirement already satisfied: six>=1.5 in /usr/local/lib/python3.7/dist-packages (from python-dateutil>=2.1->matplotlib->celluloid) (1.15.0)\n",
      "Installing collected packages: celluloid\n",
      "Successfully installed celluloid-0.2.0\n"
     ],
     "name": "stdout"
    }
   ]
  },
  {
   "cell_type": "code",
   "metadata": {
    "id": "AVtdaqF7YfRQ",
    "executionInfo": {
     "status": "ok",
     "timestamp": 1618839995318,
     "user_tz": -120,
     "elapsed": 879,
     "user": {
      "displayName": "Ignacio Soteras",
      "photoUrl": "",
      "userId": "02050793736257155229"
     }
    }
   },
   "source": [
    "from IPython.display import HTML\n",
    "from celluloid import Camera"
   ],
   "execution_count": 1,
   "outputs": []
  },
  {
   "cell_type": "markdown",
   "metadata": {
    "id": "mffGDgYJ2CyF"
   },
   "source": [
    "## Generate a population\n",
    "\n",
    "We  artificially generate 10,000 random observations that follow a **weird distribution**. This is going to be our population.\n",
    "\n",
    "Note: we generally don't have access to data about the entire population. We only do this for learning purposes, to demonstrate where do some concepts emerge from.\n",
    "\n",
    "To generate samples from a given distribution, we can use the scipy stats module: scipy.stats. Then we nedd to specify the intended distribution and use the `rvs` function."
   ]
  },
  {
   "cell_type": "code",
   "metadata": {
    "id": "bAh00Hcm2CyF",
    "executionInfo": {
     "status": "ok",
     "timestamp": 1618840000709,
     "user_tz": -120,
     "elapsed": 994,
     "user": {
      "displayName": "Ignacio Soteras",
      "photoUrl": "",
      "userId": "02050793736257155229"
     }
    }
   },
   "source": [
    "# some of the observations follow an exponential dist\n",
    "r1 = stats.expon.rvs(size=10000, random_state=1000)\n",
    "\n",
    "# some follow a normal dist. loc = mean, scale = sigma\n",
    "r2 = stats.norm.rvs(loc=2, scale=1.5, size=10000, random_state=847)\n",
    "\n",
    "# some follow a uniform dist: loc = min_value, scale = b - a\n",
    "r3 = stats.uniform.rvs(loc=-2, scale=9, size=10000, random_state=128)\n",
    "\n",
    "# there's a weird spike at some point\n",
    "r4 = stats.uniform.rvs(loc=5.5, scale=1, size=10000, random_state=128)\n",
    "\n",
    "pop = pd.Series(np.concatenate([r1, r2, r3, r4]))"
   ],
   "execution_count": 4,
   "outputs": []
  },
  {
   "cell_type": "markdown",
   "metadata": {
    "id": "HTYz6AZ82CyF"
   },
   "source": [
    "Here's the distribution of our population:"
   ]
  },
  {
   "cell_type": "code",
   "metadata": {
    "scrolled": true,
    "colab": {
     "base_uri": "https://localhost:8080/",
     "height": 282
    },
    "id": "VzUE3LE32CyH",
    "executionInfo": {
     "status": "ok",
     "timestamp": 1618840018322,
     "user_tz": -120,
     "elapsed": 977,
     "user": {
      "displayName": "Ignacio Soteras",
      "photoUrl": "",
      "userId": "02050793736257155229"
     }
    },
    "outputId": "b75c6eaf-f65a-4bcf-abb8-6fd9b0e00b5e"
   },
   "source": [
    "pop.hist(bins=35,) # population distribution"
   ],
   "execution_count": 13,
   "outputs": [
    {
     "data": {
      "text/plain": "<AxesSubplot:>"
     },
     "execution_count": 13,
     "metadata": {},
     "output_type": "execute_result"
    },
    {
     "data": {
      "text/plain": "<Figure size 432x288 with 1 Axes>",
      "image/png": "[encoded data removed]"
     },
     "metadata": {
      "needs_background": "light"
     },
     "output_type": "display_data"
    }
   ]
  },
  {
   "cell_type": "code",
   "metadata": {
    "colab": {
     "base_uri": "https://localhost:8080/"
    },
    "id": "qFy-bNqW2CyH",
    "executionInfo": {
     "status": "ok",
     "timestamp": 1618840097447,
     "user_tz": -120,
     "elapsed": 1171,
     "user": {
      "displayName": "Ignacio Soteras",
      "photoUrl": "",
      "userId": "02050793736257155229"
     }
    },
    "outputId": "5caa4800-e5f5-440e-a1d8-dca213c6f16f"
   },
   "source": [
    "# Population mean:\n",
    "pop_mean = np.mean(pop)\n",
    "print(\"Population mean: {:.2f}\".format(pop_mean))"
   ],
   "execution_count": 14,
   "outputs": [
    {
     "name": "stdout",
     "output_type": "stream",
     "text": [
      "Population mean: 2.88\n"
     ]
    }
   ]
  },
  {
   "cell_type": "code",
   "metadata": {
    "colab": {
     "base_uri": "https://localhost:8080/"
    },
    "id": "T8vDBX7r2CyH",
    "executionInfo": {
     "status": "ok",
     "timestamp": 1618840123907,
     "user_tz": -120,
     "elapsed": 840,
     "user": {
      "displayName": "Ignacio Soteras",
      "photoUrl": "",
      "userId": "02050793736257155229"
     }
    },
    "outputId": "cb0eaacf-a35c-4c21-b93b-20c08edbf37d"
   },
   "source": [
    "# Population standard deviation:\n",
    "pop_std = np.std(pop) \n",
    "# By default, np.std assumes that you are computing the POPULATION standard deviation, therefore divides by n.\n",
    "# if you are computing a SAMPLE standard deviation, you need to divide by n - 1 to get an unbiased estimation. To compute a sample std.dev, set the optional parameter ddof = 1.\n",
    "print(\"Population standard deviation: {:.2f}\".format(pop_std))"
   ],
   "execution_count": 21,
   "outputs": [
    {
     "name": "stdout",
     "output_type": "stream",
     "text": [
      "Population standard deviation: 2.47\n"
     ]
    }
   ]
  },
  {
   "cell_type": "markdown",
   "metadata": {
    "id": "iKkhHxK12CyI"
   },
   "source": [
    "Let's take a sample from our population. The mean of the sample is similar but not equal to the mean of the population. By the way, the mean of the sample is called... well, **sample mean**."
   ]
  },
  {
   "cell_type": "code",
   "metadata": {
    "id": "Qu7fNyPV2CyI",
    "colab": {
     "base_uri": "https://localhost:8080/"
    },
    "executionInfo": {
     "status": "ok",
     "timestamp": 1618840139569,
     "user_tz": -120,
     "elapsed": 550,
     "user": {
      "displayName": "Ignacio Soteras",
      "photoUrl": "",
      "userId": "02050793736257155229"
     }
    },
    "outputId": "f0c638c8-cf35-44e4-8eea-fe7191e83d63"
   },
   "source": [
    "# sample of size 50\n",
    "n = 50\n",
    "sample = pop.sample(n, random_state=9)\n",
    "sample"
   ],
   "execution_count": 25,
   "outputs": [
    {
     "data": {
      "text/plain": "22454    5.799907\n39325    6.050554\n30791    5.922130\n33372    6.355715\n19237    0.719219\n22959    1.809770\n29356    0.495226\n35059    6.194670\n24465    2.511263\n8403     0.722131\n39444    5.955502\n25242    6.457141\n11866    1.524035\n18661    1.770463\n29545   -1.137988\n517      1.082234\n24401    4.001872\n20556    1.323862\n29770    0.782960\n35419    5.538745\n20874    4.202092\n16701    0.848766\n11483    1.968901\n23122    5.040515\n1469     0.486209\n17180   -0.499076\n37096    6.077158\n26134    4.150074\n20949    2.303613\n10740    4.229228\n16870    1.295008\n401      0.532336\n27162    2.373962\n6519     1.024246\n26447    4.681069\n28457    1.520907\n17749    3.417334\n24905    6.197569\n10404    2.515449\n24192    4.880308\n15521    1.842786\n38330    6.361291\n22312    4.379458\n2544     0.122484\n5147     0.175075\n39925    5.566331\n37312    5.620816\n21331    6.855605\n33412    6.242717\n18950    1.667130\ndtype: float64"
     },
     "execution_count": 25,
     "metadata": {},
     "output_type": "execute_result"
    }
   ]
  },
  {
   "cell_type": "markdown",
   "metadata": {
    "id": "dCM3atNGZLf8"
   },
   "source": [
    "Let's compare our sample mean with the population mean and get the sampling error for the mean."
   ]
  },
  {
   "cell_type": "code",
   "metadata": {
    "colab": {
     "base_uri": "https://localhost:8080/"
    },
    "id": "bg4nnajb2CyI",
    "executionInfo": {
     "status": "ok",
     "timestamp": 1618840143566,
     "user_tz": -120,
     "elapsed": 635,
     "user": {
      "displayName": "Ignacio Soteras",
      "photoUrl": "",
      "userId": "02050793736257155229"
     }
    },
    "outputId": "47fffc96-bb02-4d5a-bc11-195f0e2019fa"
   },
   "source": [
    "# Comparing the population mean and the sample mean.\n",
    "# Population mean\n",
    "print(\"Population mean: {:.2f}\".format(pop_mean))\n",
    "\n",
    "# Sample mean\n",
    "print(\"Sample mean: {:.2f}\".format(np.mean(sample)))\n",
    "\n",
    "# Sampling error of the mean\n",
    "print(\"Sampling error: {:.2f}\".format(np.mean(sample) - pop_mean))"
   ],
   "execution_count": 23,
   "outputs": [
    {
     "name": "stdout",
     "output_type": "stream",
     "text": [
      "Population mean: 2.88\n",
      "Sample mean: 3.20\n",
      "Sampling error: 0.32\n"
     ]
    }
   ]
  },
  {
   "cell_type": "code",
   "metadata": {
    "colab": {
     "base_uri": "https://localhost:8080/"
    },
    "id": "anhC8lif2CyI",
    "executionInfo": {
     "status": "ok",
     "timestamp": 1618840248332,
     "user_tz": -120,
     "elapsed": 1135,
     "user": {
      "displayName": "Ignacio Soteras",
      "photoUrl": "",
      "userId": "02050793736257155229"
     }
    },
    "outputId": "1ff892dd-10a1-443f-ea71-41b723048f77"
   },
   "source": [
    "# Comparing standard deviations\n",
    "# Population\n",
    "print(\"Population standard deviation {:.2f}\".format(pop_std))\n",
    "\n",
    "# The same happens with the sample standard deviation. Remember that you are using a SAMPLE!\n",
    "# therefore, you need to divide by n - 1. Here we use the parameter ddof = 1.\n",
    "print(\"Sample standard deviation {:.2f}\".format(np.std(sample, ddof=1)))\n",
    "\n",
    "# Sampling error of the standard deviation\n",
    "print(\"Sampling error: {:.2f}\".format(np.std(sample, ddof=1) - pop_mean))"
   ],
   "execution_count": 24,
   "outputs": [
    {
     "name": "stdout",
     "output_type": "stream",
     "text": [
      "Population standard deviation 2.47\n",
      "Sample standard deviation 2.35\n",
      "Sampling error: -0.53\n"
     ]
    }
   ]
  },
  {
   "cell_type": "markdown",
   "metadata": {
    "id": "k5XeguGf2CyJ"
   },
   "source": [
    "If we take a different sample, the parameters will vary:"
   ]
  },
  {
   "cell_type": "code",
   "metadata": {
    "colab": {
     "base_uri": "https://localhost:8080/"
    },
    "id": "2W0dz7T-2CyL",
    "executionInfo": {
     "status": "ok",
     "timestamp": 1618840257209,
     "user_tz": -120,
     "elapsed": 1313,
     "user": {
      "displayName": "Ignacio Soteras",
      "photoUrl": "",
      "userId": "02050793736257155229"
     }
    },
    "outputId": "045545dc-7fa5-4d4a-f64d-c55ba1097c4f"
   },
   "source": [
    "sample = pop.sample(n, random_state=314159)\n",
    "\n",
    "# sample mean\n",
    "print(\"Sample mean: {:.2f}\".format(np.mean(sample)))"
   ],
   "execution_count": 32,
   "outputs": [
    {
     "name": "stdout",
     "output_type": "stream",
     "text": [
      "Sample mean: 3.02\n"
     ]
    }
   ]
  },
  {
   "cell_type": "markdown",
   "metadata": {
    "id": "Ju2erJ5lZm3N"
   },
   "source": [
    "# Histogram of sample means"
   ]
  },
  {
   "cell_type": "markdown",
   "metadata": {
    "id": "gm2AEr6a2CyM"
   },
   "source": [
    "Now we take 1000 samples, each one of size 50"
   ]
  },
  {
   "cell_type": "code",
   "metadata": {
    "id": "IS7qdCJd2CyM",
    "colab": {
     "base_uri": "https://localhost:8080/",
     "height": 284
    },
    "executionInfo": {
     "status": "ok",
     "timestamp": 1618841557460,
     "user_tz": -120,
     "elapsed": 73935,
     "user": {
      "displayName": "Ignacio Soteras",
      "photoUrl": "",
      "userId": "02050793736257155229"
     }
    },
    "outputId": "325e57e9-993a-49a4-fbe0-46e93ca8bed0"
   },
   "source": [
    "sns.set_theme()\n",
    "\n",
    "sample_means = []\n",
    "# Dataframe to contain the mean of each sample\n",
    "means = pd.DataFrame({'mean_of_means':[]})\n",
    "\n",
    "fig = plt.figure()\n",
    "camera = Camera(fig)\n",
    "\n",
    "for number in range(2*n): # We take 100 samples\n",
    "    # Getting a sample of size n=50\n",
    "    sample = np.random.choice(pop, size = n, replace = False)\n",
    "    #simple_random_sample = pop.sample(n=50)\n",
    "    # Computing the mean of the current sample\n",
    "    sample_mean = np.mean(sample)\n",
    "    # appending the mean of the current sample to the list of sample means\n",
    "    sample_means.append(sample_mean)\n",
    "    # Updating the dataframe of the means of all the samples\n",
    "    means = means.append({'mean_of_means': sample_mean}, ignore_index=True)\n",
    "    \n",
    "    #plt.clf()\n",
    "    plt.title(\"Histogram of sample means\")\n",
    "    plt.hist(means['mean_of_means'], color = 'c')\n",
    "    plt.axvline(x=pop_mean)\n",
    "    #plt.show()\n",
    "    \n",
    "    camera.snap()\n",
    "    \n",
    "animation = camera.animate() \n"
   ],
   "execution_count": 34,
   "outputs": [
    {
     "name": "stderr",
     "output_type": "stream",
     "text": [
      "/var/folders/lj/my6r3k650wl54v5nz5r6x5cm0000gn/T/ipykernel_29429/3150443977.py:19: FutureWarning: The frame.append method is deprecated and will be removed from pandas in a future version. Use pandas.concat instead.\n",
      "  means = means.append({'mean_of_means': sample_mean}, ignore_index=True)\n",
      "/var/folders/lj/my6r3k650wl54v5nz5r6x5cm0000gn/T/ipykernel_29429/3150443977.py:19: FutureWarning: The frame.append method is deprecated and will be removed from pandas in a future version. Use pandas.concat instead.\n",
      "  means = means.append({'mean_of_means': sample_mean}, ignore_index=True)\n",
      "/var/folders/lj/my6r3k650wl54v5nz5r6x5cm0000gn/T/ipykernel_29429/3150443977.py:19: FutureWarning: The frame.append method is deprecated and will be removed from pandas in a future version. Use pandas.concat instead.\n",
      "  means = means.append({'mean_of_means': sample_mean}, ignore_index=True)\n",
      "/var/folders/lj/my6r3k650wl54v5nz5r6x5cm0000gn/T/ipykernel_29429/3150443977.py:19: FutureWarning: The frame.append method is deprecated and will be removed from pandas in a future version. Use pandas.concat instead.\n",
      "  means = means.append({'mean_of_means': sample_mean}, ignore_index=True)\n",
      "/var/folders/lj/my6r3k650wl54v5nz5r6x5cm0000gn/T/ipykernel_29429/3150443977.py:19: FutureWarning: The frame.append method is deprecated and will be removed from pandas in a future version. Use pandas.concat instead.\n",
      "  means = means.append({'mean_of_means': sample_mean}, ignore_index=True)\n",
      "/var/folders/lj/my6r3k650wl54v5nz5r6x5cm0000gn/T/ipykernel_29429/3150443977.py:19: FutureWarning: The frame.append method is deprecated and will be removed from pandas in a future version. Use pandas.concat instead.\n",
      "  means = means.append({'mean_of_means': sample_mean}, ignore_index=True)\n",
      "/var/folders/lj/my6r3k650wl54v5nz5r6x5cm0000gn/T/ipykernel_29429/3150443977.py:19: FutureWarning: The frame.append method is deprecated and will be removed from pandas in a future version. Use pandas.concat instead.\n",
      "  means = means.append({'mean_of_means': sample_mean}, ignore_index=True)\n",
      "/var/folders/lj/my6r3k650wl54v5nz5r6x5cm0000gn/T/ipykernel_29429/3150443977.py:19: FutureWarning: The frame.append method is deprecated and will be removed from pandas in a future version. Use pandas.concat instead.\n",
      "  means = means.append({'mean_of_means': sample_mean}, ignore_index=True)\n",
      "/var/folders/lj/my6r3k650wl54v5nz5r6x5cm0000gn/T/ipykernel_29429/3150443977.py:19: FutureWarning: The frame.append method is deprecated and will be removed from pandas in a future version. Use pandas.concat instead.\n",
      "  means = means.append({'mean_of_means': sample_mean}, ignore_index=True)\n",
      "/var/folders/lj/my6r3k650wl54v5nz5r6x5cm0000gn/T/ipykernel_29429/3150443977.py:19: FutureWarning: The frame.append method is deprecated and will be removed from pandas in a future version. Use pandas.concat instead.\n",
      "  means = means.append({'mean_of_means': sample_mean}, ignore_index=True)\n",
      "/var/folders/lj/my6r3k650wl54v5nz5r6x5cm0000gn/T/ipykernel_29429/3150443977.py:19: FutureWarning: The frame.append method is deprecated and will be removed from pandas in a future version. Use pandas.concat instead.\n",
      "  means = means.append({'mean_of_means': sample_mean}, ignore_index=True)\n",
      "/var/folders/lj/my6r3k650wl54v5nz5r6x5cm0000gn/T/ipykernel_29429/3150443977.py:19: FutureWarning: The frame.append method is deprecated and will be removed from pandas in a future version. Use pandas.concat instead.\n",
      "  means = means.append({'mean_of_means': sample_mean}, ignore_index=True)\n",
      "/var/folders/lj/my6r3k650wl54v5nz5r6x5cm0000gn/T/ipykernel_29429/3150443977.py:19: FutureWarning: The frame.append method is deprecated and will be removed from pandas in a future version. Use pandas.concat instead.\n",
      "  means = means.append({'mean_of_means': sample_mean}, ignore_index=True)\n",
      "/var/folders/lj/my6r3k650wl54v5nz5r6x5cm0000gn/T/ipykernel_29429/3150443977.py:19: FutureWarning: The frame.append method is deprecated and will be removed from pandas in a future version. Use pandas.concat instead.\n",
      "  means = means.append({'mean_of_means': sample_mean}, ignore_index=True)\n",
      "/var/folders/lj/my6r3k650wl54v5nz5r6x5cm0000gn/T/ipykernel_29429/3150443977.py:19: FutureWarning: The frame.append method is deprecated and will be removed from pandas in a future version. Use pandas.concat instead.\n",
      "  means = means.append({'mean_of_means': sample_mean}, ignore_index=True)\n",
      "/var/folders/lj/my6r3k650wl54v5nz5r6x5cm0000gn/T/ipykernel_29429/3150443977.py:19: FutureWarning: The frame.append method is deprecated and will be removed from pandas in a future version. Use pandas.concat instead.\n",
      "  means = means.append({'mean_of_means': sample_mean}, ignore_index=True)\n",
      "/var/folders/lj/my6r3k650wl54v5nz5r6x5cm0000gn/T/ipykernel_29429/3150443977.py:19: FutureWarning: The frame.append method is deprecated and will be removed from pandas in a future version. Use pandas.concat instead.\n",
      "  means = means.append({'mean_of_means': sample_mean}, ignore_index=True)\n",
      "/var/folders/lj/my6r3k650wl54v5nz5r6x5cm0000gn/T/ipykernel_29429/3150443977.py:19: FutureWarning: The frame.append method is deprecated and will be removed from pandas in a future version. Use pandas.concat instead.\n",
      "  means = means.append({'mean_of_means': sample_mean}, ignore_index=True)\n",
      "/var/folders/lj/my6r3k650wl54v5nz5r6x5cm0000gn/T/ipykernel_29429/3150443977.py:19: FutureWarning: The frame.append method is deprecated and will be removed from pandas in a future version. Use pandas.concat instead.\n",
      "  means = means.append({'mean_of_means': sample_mean}, ignore_index=True)\n",
      "/var/folders/lj/my6r3k650wl54v5nz5r6x5cm0000gn/T/ipykernel_29429/3150443977.py:19: FutureWarning: The frame.append method is deprecated and will be removed from pandas in a future version. Use pandas.concat instead.\n",
      "  means = means.append({'mean_of_means': sample_mean}, ignore_index=True)\n",
      "/var/folders/lj/my6r3k650wl54v5nz5r6x5cm0000gn/T/ipykernel_29429/3150443977.py:19: FutureWarning: The frame.append method is deprecated and will be removed from pandas in a future version. Use pandas.concat instead.\n",
      "  means = means.append({'mean_of_means': sample_mean}, ignore_index=True)\n",
      "/var/folders/lj/my6r3k650wl54v5nz5r6x5cm0000gn/T/ipykernel_29429/3150443977.py:19: FutureWarning: The frame.append method is deprecated and will be removed from pandas in a future version. Use pandas.concat instead.\n",
      "  means = means.append({'mean_of_means': sample_mean}, ignore_index=True)\n",
      "/var/folders/lj/my6r3k650wl54v5nz5r6x5cm0000gn/T/ipykernel_29429/3150443977.py:19: FutureWarning: The frame.append method is deprecated and will be removed from pandas in a future version. Use pandas.concat instead.\n",
      "  means = means.append({'mean_of_means': sample_mean}, ignore_index=True)\n",
      "/var/folders/lj/my6r3k650wl54v5nz5r6x5cm0000gn/T/ipykernel_29429/3150443977.py:19: FutureWarning: The frame.append method is deprecated and will be removed from pandas in a future version. Use pandas.concat instead.\n",
      "  means = means.append({'mean_of_means': sample_mean}, ignore_index=True)\n",
      "/var/folders/lj/my6r3k650wl54v5nz5r6x5cm0000gn/T/ipykernel_29429/3150443977.py:19: FutureWarning: The frame.append method is deprecated and will be removed from pandas in a future version. Use pandas.concat instead.\n",
      "  means = means.append({'mean_of_means': sample_mean}, ignore_index=True)\n",
      "/var/folders/lj/my6r3k650wl54v5nz5r6x5cm0000gn/T/ipykernel_29429/3150443977.py:19: FutureWarning: The frame.append method is deprecated and will be removed from pandas in a future version. Use pandas.concat instead.\n",
      "  means = means.append({'mean_of_means': sample_mean}, ignore_index=True)\n",
      "/var/folders/lj/my6r3k650wl54v5nz5r6x5cm0000gn/T/ipykernel_29429/3150443977.py:19: FutureWarning: The frame.append method is deprecated and will be removed from pandas in a future version. Use pandas.concat instead.\n",
      "  means = means.append({'mean_of_means': sample_mean}, ignore_index=True)\n",
      "/var/folders/lj/my6r3k650wl54v5nz5r6x5cm0000gn/T/ipykernel_29429/3150443977.py:19: FutureWarning: The frame.append method is deprecated and will be removed from pandas in a future version. Use pandas.concat instead.\n",
      "  means = means.append({'mean_of_means': sample_mean}, ignore_index=True)\n",
      "/var/folders/lj/my6r3k650wl54v5nz5r6x5cm0000gn/T/ipykernel_29429/3150443977.py:19: FutureWarning: The frame.append method is deprecated and will be removed from pandas in a future version. Use pandas.concat instead.\n",
      "  means = means.append({'mean_of_means': sample_mean}, ignore_index=True)\n",
      "/var/folders/lj/my6r3k650wl54v5nz5r6x5cm0000gn/T/ipykernel_29429/3150443977.py:19: FutureWarning: The frame.append method is deprecated and will be removed from pandas in a future version. Use pandas.concat instead.\n",
      "  means = means.append({'mean_of_means': sample_mean}, ignore_index=True)\n",
      "/var/folders/lj/my6r3k650wl54v5nz5r6x5cm0000gn/T/ipykernel_29429/3150443977.py:19: FutureWarning: The frame.append method is deprecated and will be removed from pandas in a future version. Use pandas.concat instead.\n",
      "  means = means.append({'mean_of_means': sample_mean}, ignore_index=True)\n",
      "/var/folders/lj/my6r3k650wl54v5nz5r6x5cm0000gn/T/ipykernel_29429/3150443977.py:19: FutureWarning: The frame.append method is deprecated and will be removed from pandas in a future version. Use pandas.concat instead.\n",
      "  means = means.append({'mean_of_means': sample_mean}, ignore_index=True)\n",
      "/var/folders/lj/my6r3k650wl54v5nz5r6x5cm0000gn/T/ipykernel_29429/3150443977.py:19: FutureWarning: The frame.append method is deprecated and will be removed from pandas in a future version. Use pandas.concat instead.\n",
      "  means = means.append({'mean_of_means': sample_mean}, ignore_index=True)\n",
      "/var/folders/lj/my6r3k650wl54v5nz5r6x5cm0000gn/T/ipykernel_29429/3150443977.py:19: FutureWarning: The frame.append method is deprecated and will be removed from pandas in a future version. Use pandas.concat instead.\n",
      "  means = means.append({'mean_of_means': sample_mean}, ignore_index=True)\n",
      "/var/folders/lj/my6r3k650wl54v5nz5r6x5cm0000gn/T/ipykernel_29429/3150443977.py:19: FutureWarning: The frame.append method is deprecated and will be removed from pandas in a future version. Use pandas.concat instead.\n",
      "  means = means.append({'mean_of_means': sample_mean}, ignore_index=True)\n",
      "/var/folders/lj/my6r3k650wl54v5nz5r6x5cm0000gn/T/ipykernel_29429/3150443977.py:19: FutureWarning: The frame.append method is deprecated and will be removed from pandas in a future version. Use pandas.concat instead.\n",
      "  means = means.append({'mean_of_means': sample_mean}, ignore_index=True)\n",
      "/var/folders/lj/my6r3k650wl54v5nz5r6x5cm0000gn/T/ipykernel_29429/3150443977.py:19: FutureWarning: The frame.append method is deprecated and will be removed from pandas in a future version. Use pandas.concat instead.\n",
      "  means = means.append({'mean_of_means': sample_mean}, ignore_index=True)\n",
      "/var/folders/lj/my6r3k650wl54v5nz5r6x5cm0000gn/T/ipykernel_29429/3150443977.py:19: FutureWarning: The frame.append method is deprecated and will be removed from pandas in a future version. Use pandas.concat instead.\n",
      "  means = means.append({'mean_of_means': sample_mean}, ignore_index=True)\n",
      "/var/folders/lj/my6r3k650wl54v5nz5r6x5cm0000gn/T/ipykernel_29429/3150443977.py:19: FutureWarning: The frame.append method is deprecated and will be removed from pandas in a future version. Use pandas.concat instead.\n",
      "  means = means.append({'mean_of_means': sample_mean}, ignore_index=True)\n",
      "/var/folders/lj/my6r3k650wl54v5nz5r6x5cm0000gn/T/ipykernel_29429/3150443977.py:19: FutureWarning: The frame.append method is deprecated and will be removed from pandas in a future version. Use pandas.concat instead.\n",
      "  means = means.append({'mean_of_means': sample_mean}, ignore_index=True)\n",
      "/var/folders/lj/my6r3k650wl54v5nz5r6x5cm0000gn/T/ipykernel_29429/3150443977.py:19: FutureWarning: The frame.append method is deprecated and will be removed from pandas in a future version. Use pandas.concat instead.\n",
      "  means = means.append({'mean_of_means': sample_mean}, ignore_index=True)\n",
      "/var/folders/lj/my6r3k650wl54v5nz5r6x5cm0000gn/T/ipykernel_29429/3150443977.py:19: FutureWarning: The frame.append method is deprecated and will be removed from pandas in a future version. Use pandas.concat instead.\n",
      "  means = means.append({'mean_of_means': sample_mean}, ignore_index=True)\n",
      "/var/folders/lj/my6r3k650wl54v5nz5r6x5cm0000gn/T/ipykernel_29429/3150443977.py:19: FutureWarning: The frame.append method is deprecated and will be removed from pandas in a future version. Use pandas.concat instead.\n",
      "  means = means.append({'mean_of_means': sample_mean}, ignore_index=True)\n",
      "/var/folders/lj/my6r3k650wl54v5nz5r6x5cm0000gn/T/ipykernel_29429/3150443977.py:19: FutureWarning: The frame.append method is deprecated and will be removed from pandas in a future version. Use pandas.concat instead.\n",
      "  means = means.append({'mean_of_means': sample_mean}, ignore_index=True)\n",
      "/var/folders/lj/my6r3k650wl54v5nz5r6x5cm0000gn/T/ipykernel_29429/3150443977.py:19: FutureWarning: The frame.append method is deprecated and will be removed from pandas in a future version. Use pandas.concat instead.\n",
      "  means = means.append({'mean_of_means': sample_mean}, ignore_index=True)\n",
      "/var/folders/lj/my6r3k650wl54v5nz5r6x5cm0000gn/T/ipykernel_29429/3150443977.py:19: FutureWarning: The frame.append method is deprecated and will be removed from pandas in a future version. Use pandas.concat instead.\n",
      "  means = means.append({'mean_of_means': sample_mean}, ignore_index=True)\n",
      "/var/folders/lj/my6r3k650wl54v5nz5r6x5cm0000gn/T/ipykernel_29429/3150443977.py:19: FutureWarning: The frame.append method is deprecated and will be removed from pandas in a future version. Use pandas.concat instead.\n",
      "  means = means.append({'mean_of_means': sample_mean}, ignore_index=True)\n",
      "/var/folders/lj/my6r3k650wl54v5nz5r6x5cm0000gn/T/ipykernel_29429/3150443977.py:19: FutureWarning: The frame.append method is deprecated and will be removed from pandas in a future version. Use pandas.concat instead.\n",
      "  means = means.append({'mean_of_means': sample_mean}, ignore_index=True)\n",
      "/var/folders/lj/my6r3k650wl54v5nz5r6x5cm0000gn/T/ipykernel_29429/3150443977.py:19: FutureWarning: The frame.append method is deprecated and will be removed from pandas in a future version. Use pandas.concat instead.\n",
      "  means = means.append({'mean_of_means': sample_mean}, ignore_index=True)\n",
      "/var/folders/lj/my6r3k650wl54v5nz5r6x5cm0000gn/T/ipykernel_29429/3150443977.py:19: FutureWarning: The frame.append method is deprecated and will be removed from pandas in a future version. Use pandas.concat instead.\n",
      "  means = means.append({'mean_of_means': sample_mean}, ignore_index=True)\n",
      "/var/folders/lj/my6r3k650wl54v5nz5r6x5cm0000gn/T/ipykernel_29429/3150443977.py:19: FutureWarning: The frame.append method is deprecated and will be removed from pandas in a future version. Use pandas.concat instead.\n",
      "  means = means.append({'mean_of_means': sample_mean}, ignore_index=True)\n",
      "/var/folders/lj/my6r3k650wl54v5nz5r6x5cm0000gn/T/ipykernel_29429/3150443977.py:19: FutureWarning: The frame.append method is deprecated and will be removed from pandas in a future version. Use pandas.concat instead.\n",
      "  means = means.append({'mean_of_means': sample_mean}, ignore_index=True)\n",
      "/var/folders/lj/my6r3k650wl54v5nz5r6x5cm0000gn/T/ipykernel_29429/3150443977.py:19: FutureWarning: The frame.append method is deprecated and will be removed from pandas in a future version. Use pandas.concat instead.\n",
      "  means = means.append({'mean_of_means': sample_mean}, ignore_index=True)\n",
      "/var/folders/lj/my6r3k650wl54v5nz5r6x5cm0000gn/T/ipykernel_29429/3150443977.py:19: FutureWarning: The frame.append method is deprecated and will be removed from pandas in a future version. Use pandas.concat instead.\n",
      "  means = means.append({'mean_of_means': sample_mean}, ignore_index=True)\n",
      "/var/folders/lj/my6r3k650wl54v5nz5r6x5cm0000gn/T/ipykernel_29429/3150443977.py:19: FutureWarning: The frame.append method is deprecated and will be removed from pandas in a future version. Use pandas.concat instead.\n",
      "  means = means.append({'mean_of_means': sample_mean}, ignore_index=True)\n",
      "/var/folders/lj/my6r3k650wl54v5nz5r6x5cm0000gn/T/ipykernel_29429/3150443977.py:19: FutureWarning: The frame.append method is deprecated and will be removed from pandas in a future version. Use pandas.concat instead.\n",
      "  means = means.append({'mean_of_means': sample_mean}, ignore_index=True)\n",
      "/var/folders/lj/my6r3k650wl54v5nz5r6x5cm0000gn/T/ipykernel_29429/3150443977.py:19: FutureWarning: The frame.append method is deprecated and will be removed from pandas in a future version. Use pandas.concat instead.\n",
      "  means = means.append({'mean_of_means': sample_mean}, ignore_index=True)\n",
      "/var/folders/lj/my6r3k650wl54v5nz5r6x5cm0000gn/T/ipykernel_29429/3150443977.py:19: FutureWarning: The frame.append method is deprecated and will be removed from pandas in a future version. Use pandas.concat instead.\n",
      "  means = means.append({'mean_of_means': sample_mean}, ignore_index=True)\n",
      "/var/folders/lj/my6r3k650wl54v5nz5r6x5cm0000gn/T/ipykernel_29429/3150443977.py:19: FutureWarning: The frame.append method is deprecated and will be removed from pandas in a future version. Use pandas.concat instead.\n",
      "  means = means.append({'mean_of_means': sample_mean}, ignore_index=True)\n",
      "/var/folders/lj/my6r3k650wl54v5nz5r6x5cm0000gn/T/ipykernel_29429/3150443977.py:19: FutureWarning: The frame.append method is deprecated and will be removed from pandas in a future version. Use pandas.concat instead.\n",
      "  means = means.append({'mean_of_means': sample_mean}, ignore_index=True)\n",
      "/var/folders/lj/my6r3k650wl54v5nz5r6x5cm0000gn/T/ipykernel_29429/3150443977.py:19: FutureWarning: The frame.append method is deprecated and will be removed from pandas in a future version. Use pandas.concat instead.\n",
      "  means = means.append({'mean_of_means': sample_mean}, ignore_index=True)\n",
      "/var/folders/lj/my6r3k650wl54v5nz5r6x5cm0000gn/T/ipykernel_29429/3150443977.py:19: FutureWarning: The frame.append method is deprecated and will be removed from pandas in a future version. Use pandas.concat instead.\n",
      "  means = means.append({'mean_of_means': sample_mean}, ignore_index=True)\n",
      "/var/folders/lj/my6r3k650wl54v5nz5r6x5cm0000gn/T/ipykernel_29429/3150443977.py:19: FutureWarning: The frame.append method is deprecated and will be removed from pandas in a future version. Use pandas.concat instead.\n",
      "  means = means.append({'mean_of_means': sample_mean}, ignore_index=True)\n",
      "/var/folders/lj/my6r3k650wl54v5nz5r6x5cm0000gn/T/ipykernel_29429/3150443977.py:19: FutureWarning: The frame.append method is deprecated and will be removed from pandas in a future version. Use pandas.concat instead.\n",
      "  means = means.append({'mean_of_means': sample_mean}, ignore_index=True)\n",
      "/var/folders/lj/my6r3k650wl54v5nz5r6x5cm0000gn/T/ipykernel_29429/3150443977.py:19: FutureWarning: The frame.append method is deprecated and will be removed from pandas in a future version. Use pandas.concat instead.\n",
      "  means = means.append({'mean_of_means': sample_mean}, ignore_index=True)\n",
      "/var/folders/lj/my6r3k650wl54v5nz5r6x5cm0000gn/T/ipykernel_29429/3150443977.py:19: FutureWarning: The frame.append method is deprecated and will be removed from pandas in a future version. Use pandas.concat instead.\n",
      "  means = means.append({'mean_of_means': sample_mean}, ignore_index=True)\n",
      "/var/folders/lj/my6r3k650wl54v5nz5r6x5cm0000gn/T/ipykernel_29429/3150443977.py:19: FutureWarning: The frame.append method is deprecated and will be removed from pandas in a future version. Use pandas.concat instead.\n",
      "  means = means.append({'mean_of_means': sample_mean}, ignore_index=True)\n",
      "/var/folders/lj/my6r3k650wl54v5nz5r6x5cm0000gn/T/ipykernel_29429/3150443977.py:19: FutureWarning: The frame.append method is deprecated and will be removed from pandas in a future version. Use pandas.concat instead.\n",
      "  means = means.append({'mean_of_means': sample_mean}, ignore_index=True)\n",
      "/var/folders/lj/my6r3k650wl54v5nz5r6x5cm0000gn/T/ipykernel_29429/3150443977.py:19: FutureWarning: The frame.append method is deprecated and will be removed from pandas in a future version. Use pandas.concat instead.\n",
      "  means = means.append({'mean_of_means': sample_mean}, ignore_index=True)\n",
      "/var/folders/lj/my6r3k650wl54v5nz5r6x5cm0000gn/T/ipykernel_29429/3150443977.py:19: FutureWarning: The frame.append method is deprecated and will be removed from pandas in a future version. Use pandas.concat instead.\n",
      "  means = means.append({'mean_of_means': sample_mean}, ignore_index=True)\n",
      "/var/folders/lj/my6r3k650wl54v5nz5r6x5cm0000gn/T/ipykernel_29429/3150443977.py:19: FutureWarning: The frame.append method is deprecated and will be removed from pandas in a future version. Use pandas.concat instead.\n",
      "  means = means.append({'mean_of_means': sample_mean}, ignore_index=True)\n",
      "/var/folders/lj/my6r3k650wl54v5nz5r6x5cm0000gn/T/ipykernel_29429/3150443977.py:19: FutureWarning: The frame.append method is deprecated and will be removed from pandas in a future version. Use pandas.concat instead.\n",
      "  means = means.append({'mean_of_means': sample_mean}, ignore_index=True)\n",
      "/var/folders/lj/my6r3k650wl54v5nz5r6x5cm0000gn/T/ipykernel_29429/3150443977.py:19: FutureWarning: The frame.append method is deprecated and will be removed from pandas in a future version. Use pandas.concat instead.\n",
      "  means = means.append({'mean_of_means': sample_mean}, ignore_index=True)\n",
      "/var/folders/lj/my6r3k650wl54v5nz5r6x5cm0000gn/T/ipykernel_29429/3150443977.py:19: FutureWarning: The frame.append method is deprecated and will be removed from pandas in a future version. Use pandas.concat instead.\n",
      "  means = means.append({'mean_of_means': sample_mean}, ignore_index=True)\n",
      "/var/folders/lj/my6r3k650wl54v5nz5r6x5cm0000gn/T/ipykernel_29429/3150443977.py:19: FutureWarning: The frame.append method is deprecated and will be removed from pandas in a future version. Use pandas.concat instead.\n",
      "  means = means.append({'mean_of_means': sample_mean}, ignore_index=True)\n",
      "/var/folders/lj/my6r3k650wl54v5nz5r6x5cm0000gn/T/ipykernel_29429/3150443977.py:19: FutureWarning: The frame.append method is deprecated and will be removed from pandas in a future version. Use pandas.concat instead.\n",
      "  means = means.append({'mean_of_means': sample_mean}, ignore_index=True)\n",
      "/var/folders/lj/my6r3k650wl54v5nz5r6x5cm0000gn/T/ipykernel_29429/3150443977.py:19: FutureWarning: The frame.append method is deprecated and will be removed from pandas in a future version. Use pandas.concat instead.\n",
      "  means = means.append({'mean_of_means': sample_mean}, ignore_index=True)\n",
      "/var/folders/lj/my6r3k650wl54v5nz5r6x5cm0000gn/T/ipykernel_29429/3150443977.py:19: FutureWarning: The frame.append method is deprecated and will be removed from pandas in a future version. Use pandas.concat instead.\n",
      "  means = means.append({'mean_of_means': sample_mean}, ignore_index=True)\n",
      "/var/folders/lj/my6r3k650wl54v5nz5r6x5cm0000gn/T/ipykernel_29429/3150443977.py:19: FutureWarning: The frame.append method is deprecated and will be removed from pandas in a future version. Use pandas.concat instead.\n",
      "  means = means.append({'mean_of_means': sample_mean}, ignore_index=True)\n",
      "/var/folders/lj/my6r3k650wl54v5nz5r6x5cm0000gn/T/ipykernel_29429/3150443977.py:19: FutureWarning: The frame.append method is deprecated and will be removed from pandas in a future version. Use pandas.concat instead.\n",
      "  means = means.append({'mean_of_means': sample_mean}, ignore_index=True)\n",
      "/var/folders/lj/my6r3k650wl54v5nz5r6x5cm0000gn/T/ipykernel_29429/3150443977.py:19: FutureWarning: The frame.append method is deprecated and will be removed from pandas in a future version. Use pandas.concat instead.\n",
      "  means = means.append({'mean_of_means': sample_mean}, ignore_index=True)\n",
      "/var/folders/lj/my6r3k650wl54v5nz5r6x5cm0000gn/T/ipykernel_29429/3150443977.py:19: FutureWarning: The frame.append method is deprecated and will be removed from pandas in a future version. Use pandas.concat instead.\n",
      "  means = means.append({'mean_of_means': sample_mean}, ignore_index=True)\n",
      "/var/folders/lj/my6r3k650wl54v5nz5r6x5cm0000gn/T/ipykernel_29429/3150443977.py:19: FutureWarning: The frame.append method is deprecated and will be removed from pandas in a future version. Use pandas.concat instead.\n",
      "  means = means.append({'mean_of_means': sample_mean}, ignore_index=True)\n",
      "/var/folders/lj/my6r3k650wl54v5nz5r6x5cm0000gn/T/ipykernel_29429/3150443977.py:19: FutureWarning: The frame.append method is deprecated and will be removed from pandas in a future version. Use pandas.concat instead.\n",
      "  means = means.append({'mean_of_means': sample_mean}, ignore_index=True)\n",
      "/var/folders/lj/my6r3k650wl54v5nz5r6x5cm0000gn/T/ipykernel_29429/3150443977.py:19: FutureWarning: The frame.append method is deprecated and will be removed from pandas in a future version. Use pandas.concat instead.\n",
      "  means = means.append({'mean_of_means': sample_mean}, ignore_index=True)\n",
      "/var/folders/lj/my6r3k650wl54v5nz5r6x5cm0000gn/T/ipykernel_29429/3150443977.py:19: FutureWarning: The frame.append method is deprecated and will be removed from pandas in a future version. Use pandas.concat instead.\n",
      "  means = means.append({'mean_of_means': sample_mean}, ignore_index=True)\n",
      "/var/folders/lj/my6r3k650wl54v5nz5r6x5cm0000gn/T/ipykernel_29429/3150443977.py:19: FutureWarning: The frame.append method is deprecated and will be removed from pandas in a future version. Use pandas.concat instead.\n",
      "  means = means.append({'mean_of_means': sample_mean}, ignore_index=True)\n",
      "/var/folders/lj/my6r3k650wl54v5nz5r6x5cm0000gn/T/ipykernel_29429/3150443977.py:19: FutureWarning: The frame.append method is deprecated and will be removed from pandas in a future version. Use pandas.concat instead.\n",
      "  means = means.append({'mean_of_means': sample_mean}, ignore_index=True)\n",
      "/var/folders/lj/my6r3k650wl54v5nz5r6x5cm0000gn/T/ipykernel_29429/3150443977.py:19: FutureWarning: The frame.append method is deprecated and will be removed from pandas in a future version. Use pandas.concat instead.\n",
      "  means = means.append({'mean_of_means': sample_mean}, ignore_index=True)\n",
      "/var/folders/lj/my6r3k650wl54v5nz5r6x5cm0000gn/T/ipykernel_29429/3150443977.py:19: FutureWarning: The frame.append method is deprecated and will be removed from pandas in a future version. Use pandas.concat instead.\n",
      "  means = means.append({'mean_of_means': sample_mean}, ignore_index=True)\n",
      "/var/folders/lj/my6r3k650wl54v5nz5r6x5cm0000gn/T/ipykernel_29429/3150443977.py:19: FutureWarning: The frame.append method is deprecated and will be removed from pandas in a future version. Use pandas.concat instead.\n",
      "  means = means.append({'mean_of_means': sample_mean}, ignore_index=True)\n",
      "/var/folders/lj/my6r3k650wl54v5nz5r6x5cm0000gn/T/ipykernel_29429/3150443977.py:19: FutureWarning: The frame.append method is deprecated and will be removed from pandas in a future version. Use pandas.concat instead.\n",
      "  means = means.append({'mean_of_means': sample_mean}, ignore_index=True)\n",
      "/var/folders/lj/my6r3k650wl54v5nz5r6x5cm0000gn/T/ipykernel_29429/3150443977.py:19: FutureWarning: The frame.append method is deprecated and will be removed from pandas in a future version. Use pandas.concat instead.\n",
      "  means = means.append({'mean_of_means': sample_mean}, ignore_index=True)\n",
      "/var/folders/lj/my6r3k650wl54v5nz5r6x5cm0000gn/T/ipykernel_29429/3150443977.py:19: FutureWarning: The frame.append method is deprecated and will be removed from pandas in a future version. Use pandas.concat instead.\n",
      "  means = means.append({'mean_of_means': sample_mean}, ignore_index=True)\n",
      "/var/folders/lj/my6r3k650wl54v5nz5r6x5cm0000gn/T/ipykernel_29429/3150443977.py:19: FutureWarning: The frame.append method is deprecated and will be removed from pandas in a future version. Use pandas.concat instead.\n",
      "  means = means.append({'mean_of_means': sample_mean}, ignore_index=True)\n",
      "/var/folders/lj/my6r3k650wl54v5nz5r6x5cm0000gn/T/ipykernel_29429/3150443977.py:19: FutureWarning: The frame.append method is deprecated and will be removed from pandas in a future version. Use pandas.concat instead.\n",
      "  means = means.append({'mean_of_means': sample_mean}, ignore_index=True)\n",
      "/var/folders/lj/my6r3k650wl54v5nz5r6x5cm0000gn/T/ipykernel_29429/3150443977.py:19: FutureWarning: The frame.append method is deprecated and will be removed from pandas in a future version. Use pandas.concat instead.\n",
      "  means = means.append({'mean_of_means': sample_mean}, ignore_index=True)\n",
      "/var/folders/lj/my6r3k650wl54v5nz5r6x5cm0000gn/T/ipykernel_29429/3150443977.py:19: FutureWarning: The frame.append method is deprecated and will be removed from pandas in a future version. Use pandas.concat instead.\n",
      "  means = means.append({'mean_of_means': sample_mean}, ignore_index=True)\n",
      "/var/folders/lj/my6r3k650wl54v5nz5r6x5cm0000gn/T/ipykernel_29429/3150443977.py:19: FutureWarning: The frame.append method is deprecated and will be removed from pandas in a future version. Use pandas.concat instead.\n",
      "  means = means.append({'mean_of_means': sample_mean}, ignore_index=True)\n",
      "/var/folders/lj/my6r3k650wl54v5nz5r6x5cm0000gn/T/ipykernel_29429/3150443977.py:19: FutureWarning: The frame.append method is deprecated and will be removed from pandas in a future version. Use pandas.concat instead.\n",
      "  means = means.append({'mean_of_means': sample_mean}, ignore_index=True)\n",
      "/Users/antares/.pyenv/versions/mambaforge-4.10.1-4/envs/ih_DA_env/lib/python3.9/site-packages/matplotlib/animation.py:887: UserWarning: Animation was deleted without rendering anything. This is most likely not intended. To prevent deletion, assign the Animation to a variable, e.g. `anim`, that exists until you have outputted the Animation using `plt.show()` or `anim.save()`.\n",
      "  warnings.warn(\n"
     ]
    },
    {
     "data": {
      "text/plain": "<Figure size 432x288 with 1 Axes>",
      "image/png": "[encoded data removed]"
     },
     "metadata": {},
     "output_type": "display_data"
    }
   ]
  },
  {
   "cell_type": "code",
   "metadata": {
    "colab": {
     "base_uri": "https://localhost:8080/",
     "height": 309
    },
    "id": "h2ho20Fccnzl",
    "executionInfo": {
     "status": "ok",
     "timestamp": 1618841808865,
     "user_tz": -120,
     "elapsed": 243747,
     "user": {
      "displayName": "Ignacio Soteras",
      "photoUrl": "",
      "userId": "02050793736257155229"
     }
    },
    "outputId": "893acc43-0db6-4d6a-fc0a-898f5dd71431"
   },
   "source": [
    "from IPython.display import HTML\n",
    "\n",
    "HTML(animation.to_html5_video())"
   ],
   "execution_count": 35,
   "outputs": [
    {
     "data": {
      "text/plain": "<IPython.core.display.HTML object>",
      "text/html": "<video width=\"432\" height=\"288\" controls autoplay loop>\n  <source type=\"video/mp4\" src=\"data:video/mp4;base64,AAAAIGZ0eXBNNFYgAAACAE00ViBpc29taXNvMmF2YzEAAAAIZnJlZQAATIhtZGF0AAACrQYF//+p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\nLjI3LjEwMA==\n\">\n  Your browser does not support the video tag.\n</video>"
     },
     "execution_count": 35,
     "metadata": {},
     "output_type": "execute_result"
    }
   ]
  },
  {
   "cell_type": "markdown",
   "metadata": {
    "id": "SY5zxTzz2CyN"
   },
   "source": [
    "If the number of samples is large enough (rule of thumb: at least of size 30), the **sampling distribution**, i.e. the distribution of the mean of the sample means, will ressemble a normal distribution. This is the essence of the **Central Limit Theorem**.\n",
    "\n",
    "Otherwise, the sampling distribution will be a **t-student distribution**"
   ]
  },
  {
   "cell_type": "markdown",
   "metadata": {
    "id": "gT43JUqz2CyN"
   },
   "source": [
    "This is not super important, but in case you wanna double check this distribution follows a normal distribution, you can use a \"Quantile-quantile plot\".\n",
    "\n",
    "Learn more about qqplots here:\n",
    "https://www.statisticshowto.com/q-q-plots/#:~:text=Q%20Q%20Plots%20 \n"
   ]
  },
  {
   "cell_type": "code",
   "metadata": {
    "colab": {
     "base_uri": "https://localhost:8080/",
     "height": 1000
    },
    "id": "_-4YOwbC2CyN",
    "executionInfo": {
     "status": "ok",
     "timestamp": 1618842064487,
     "user_tz": -120,
     "elapsed": 1452,
     "user": {
      "displayName": "Ignacio Soteras",
      "photoUrl": "",
      "userId": "02050793736257155229"
     }
    },
    "outputId": "333e4bad-c975-44b7-d9b5-64e85393c875"
   },
   "source": [
    "import scipy.stats as stats\n",
    "\n",
    "stats.probplot(sample_means,dist=\"norm\", plot=plt)"
   ],
   "execution_count": 30,
   "outputs": [
    {
     "data": {
      "text/plain": "((array([-2.46203784, -2.12570747, -1.93122778, -1.79044653, -1.67819304,\n         -1.58381122, -1.50174123, -1.42869743, -1.36256869, -1.30191411,\n         -1.24570419, -1.19317644, -1.14374949, -1.09696931, -1.05247413,\n         -1.00997067, -0.96921765, -0.93001393, -0.89218993, -0.85560121,\n         -0.82012357, -0.78564937, -0.75208458, -0.71934648, -0.68736185,\n         -0.65606548, -0.62539893, -0.59530962, -0.56574992, -0.53667655,\n         -0.50804994, -0.47983378, -0.45199463, -0.42450149, -0.39732558,\n         -0.37044003, -0.34381966, -0.31744076, -0.29128096, -0.26531902,\n         -0.23953472, -0.21390872, -0.18842244, -0.16305799, -0.13779803,\n         -0.1126257 , -0.08752455, -0.06247843, -0.03747145, -0.01248789,\n          0.01248789,  0.03747145,  0.06247843,  0.08752455,  0.1126257 ,\n          0.13779803,  0.16305799,  0.18842244,  0.21390872,  0.23953472,\n          0.26531902,  0.29128096,  0.31744076,  0.34381966,  0.37044003,\n          0.39732558,  0.42450149,  0.45199463,  0.47983378,  0.50804994,\n          0.53667655,  0.56574992,  0.59530962,  0.62539893,  0.65606548,\n          0.68736185,  0.71934648,  0.75208458,  0.78564937,  0.82012357,\n          0.85560121,  0.89218993,  0.93001393,  0.96921765,  1.00997067,\n          1.05247413,  1.09696931,  1.14374949,  1.19317644,  1.24570419,\n          1.30191411,  1.36256869,  1.42869743,  1.50174123,  1.58381122,\n          1.67819304,  1.79044653,  1.93122778,  2.12570747,  2.46203784]),\n  array([2.06277232, 2.11527838, 2.13115087, 2.13336877, 2.1599181 ,\n         2.22693509, 2.26199021, 2.35341876, 2.39127094, 2.41002783,\n         2.41426245, 2.43025517, 2.50321334, 2.5146204 , 2.53207646,\n         2.54500859, 2.54629   , 2.58082392, 2.58225402, 2.58323167,\n         2.59648629, 2.60777765, 2.67721506, 2.67971063, 2.70317594,\n         2.70729778, 2.72396964, 2.72446456, 2.7344599 , 2.73923079,\n         2.74138779, 2.75359394, 2.75616844, 2.7582851 , 2.76477958,\n         2.76549957, 2.77109518, 2.77447593, 2.79185569, 2.79255317,\n         2.79531381, 2.80617268, 2.81174557, 2.81498741, 2.8353624 ,\n         2.84476095, 2.85235157, 2.87959071, 2.88230825, 2.90147527,\n         2.90600476, 2.90956483, 2.91397656, 2.91826254, 2.94404435,\n         2.94812586, 2.96847216, 2.97163872, 2.9817187 , 2.98956455,\n         2.99171853, 3.00587562, 3.0226666 , 3.04104327, 3.04694951,\n         3.07475549, 3.08156817, 3.09404522, 3.09660872, 3.09790758,\n         3.10259323, 3.10510387, 3.15653112, 3.17289744, 3.18512452,\n         3.18558294, 3.19713514, 3.22473796, 3.23912839, 3.24062006,\n         3.241825  , 3.24509158, 3.24527221, 3.31308177, 3.32809389,\n         3.34319103, 3.34527357, 3.3524175 , 3.3624574 , 3.36684497,\n         3.38116838, 3.41314708, 3.43552605, 3.45419625, 3.54560433,\n         3.57040197, 3.57552791, 3.62061637, 3.65268145, 3.97862911])),\n (0.3848122499514405, 2.910507327895435, 0.9961960063335717))"
     },
     "execution_count": 30,
     "metadata": {},
     "output_type": "execute_result"
    },
    {
     "data": {
      "text/plain": "<Figure size 432x288 with 1 Axes>",
      "image/png": "[encoded data removed]"
     },
     "metadata": {},
     "output_type": "display_data"
    }
   ]
  },
  {
   "cell_type": "markdown",
   "metadata": {
    "id": "H1EiuNqG2CyO"
   },
   "source": [
    "The mean of the sampling distribution of the sample means should be pretty close to the true mean of the population:"
   ]
  },
  {
   "cell_type": "code",
   "metadata": {
    "colab": {
     "base_uri": "https://localhost:8080/"
    },
    "id": "QlWpGamx2CyO",
    "executionInfo": {
     "status": "ok",
     "timestamp": 1618842383582,
     "user_tz": -120,
     "elapsed": 667,
     "user": {
      "displayName": "Ignacio Soteras",
      "photoUrl": "",
      "userId": "02050793736257155229"
     }
    },
    "outputId": "9aab9cfa-7222-4608-99b6-5e8e09a9c04d"
   },
   "source": [
    "mean_sdsm = np.mean(sample_means)\n",
    "print(\"Mean of all the sample means: {:.2f}\".format(mean_sdsm))\n",
    "print(\"Population mean: {:.2f}\".format(pop_mean))\n",
    "print(\"Difference: {:.2f}\".format(pop_mean - mean_sdsm))"
   ],
   "execution_count": 36,
   "outputs": [
    {
     "name": "stdout",
     "output_type": "stream",
     "text": [
      "Mean of all the sample means: 2.90\n",
      "Population mean: 2.88\n",
      "Difference: -0.02\n"
     ]
    }
   ]
  },
  {
   "cell_type": "markdown",
   "metadata": {
    "id": "MJmr8UYh2CyO"
   },
   "source": [
    "But we can do better than that: we know that in a normal distribution, 95% of the values fall within 2 standard deviations of the mean. Let's check that:"
   ]
  },
  {
   "cell_type": "code",
   "metadata": {
    "colab": {
     "base_uri": "https://localhost:8080/"
    },
    "id": "ZMIVkuKp2CyO",
    "executionInfo": {
     "status": "ok",
     "timestamp": 1618842492824,
     "user_tz": -120,
     "elapsed": 924,
     "user": {
      "displayName": "Ignacio Soteras",
      "photoUrl": "",
      "userId": "02050793736257155229"
     }
    },
    "outputId": "b208f607-ffa1-4e9c-ab67-fd9ce83aa9de"
   },
   "source": [
    "# Standard deviation of the samp. dist. of sample means\n",
    "std_sdsm = np.std(sample_means)\n",
    "\n",
    "# The lower and upper bound of the interval that should contain\n",
    "# ~95% of the sample means\n",
    "lower_bound = mean_sdsm - 2*std_sdsm\n",
    "upper_bound = mean_sdsm + 2*std_sdsm\n",
    "\n",
    "print(round(lower_bound, 2), \"-\", round(upper_bound, 2))"
   ],
   "execution_count": 37,
   "outputs": [
    {
     "name": "stdout",
     "output_type": "stream",
     "text": [
      "2.16 - 3.64\n"
     ]
    }
   ]
  },
  {
   "cell_type": "code",
   "metadata": {
    "colab": {
     "base_uri": "https://localhost:8080/"
    },
    "id": "ZhiZRFNh2CyO",
    "executionInfo": {
     "status": "ok",
     "timestamp": 1618842497789,
     "user_tz": -120,
     "elapsed": 699,
     "user": {
      "displayName": "Ignacio Soteras",
      "photoUrl": "",
      "userId": "02050793736257155229"
     }
    },
    "outputId": "2eaef890-6955-4fe9-bde1-6711b89303a4"
   },
   "source": [
    "# How many of the sample means fall within this interval?\n",
    "count = 0\n",
    "for i in sample_means:\n",
    "    if ( i > lower_bound and i < upper_bound ):\n",
    "        count +=1\n",
    "print(\"Percentage of sample means within 2 std of the mean = {:.2f}\".format(count/len(sample_means)*100))"
   ],
   "execution_count": 33,
   "outputs": [
    {
     "output_type": "stream",
     "text": [
      "Percentage of sample means within 2 std of the mean = 95.40\n"
     ],
     "name": "stdout"
    }
   ]
  },
  {
   "cell_type": "markdown",
   "metadata": {
    "id": "KVqfpyPe2CyP"
   },
   "source": [
    "Another cool property of the sampling distribution of the sample means is that its *standard deviation* is equal to the standard deviation of the population divided by the square root of n. \n",
    "\n",
    "Let's see how this checks out with our data:"
   ]
  },
  {
   "cell_type": "code",
   "metadata": {
    "colab": {
     "base_uri": "https://localhost:8080/"
    },
    "id": "MfgxJQUU2CyP",
    "executionInfo": {
     "status": "ok",
     "timestamp": 1618842550804,
     "user_tz": -120,
     "elapsed": 590,
     "user": {
      "displayName": "Ignacio Soteras",
      "photoUrl": "",
      "userId": "02050793736257155229"
     }
    },
    "outputId": "a71dec52-6b52-488d-81a2-64af939cde91"
   },
   "source": [
    "print(\"The standard deviation of all those sample means is: {:.2f}\".format(std_sdsm))"
   ],
   "execution_count": 35,
   "outputs": [
    {
     "output_type": "stream",
     "text": [
      "The standard deviation of all those sample means is: 0.35\n"
     ],
     "name": "stdout"
    }
   ]
  },
  {
   "cell_type": "code",
   "metadata": {
    "scrolled": true,
    "colab": {
     "base_uri": "https://localhost:8080/"
    },
    "id": "DhVYDAEJ2CyP",
    "executionInfo": {
     "status": "ok",
     "timestamp": 1618842624586,
     "user_tz": -120,
     "elapsed": 1230,
     "user": {
      "displayName": "Ignacio Soteras",
      "photoUrl": "",
      "userId": "02050793736257155229"
     }
    },
    "outputId": "f732a675-d0d7-4563-e18b-b754d4d277e5"
   },
   "source": [
    "print(\"The standard deviation of all the sample means divided by the root square of n is: {:.2f}\".format(pop_std/np.sqrt(n)))"
   ],
   "execution_count": 36,
   "outputs": [
    {
     "output_type": "stream",
     "text": [
      "The standard deviation of all the sample means divided by the root square of n is: 0.35\n"
     ],
     "name": "stdout"
    }
   ]
  },
  {
   "cell_type": "markdown",
   "metadata": {
    "id": "KJTnOD5g2CyP"
   },
   "source": [
    "The *standard deviation of the sampling distribution of the sample means* is also called the **standard error of the mean** and we'll use it in the next lessons.\n",
    "\n",
    "Before moving on, repeat the experiment with diferent sample sizes (both smaller and greater), and see what happens."
   ]
  },
  {
   "cell_type": "markdown",
   "metadata": {
    "id": "l0XzqbXZ2CyQ"
   },
   "source": [
    "## Squirrels example\n",
    "\n",
    "Let's assume that the 'pop' values represent the weights of squirrels. We go to the forest, take a sample of 50 squirrels and register their weight:"
   ]
  },
  {
   "cell_type": "code",
   "metadata": {
    "id": "WySOCsRr2CyQ",
    "executionInfo": {
     "status": "ok",
     "timestamp": 1618842722169,
     "user_tz": -120,
     "elapsed": 643,
     "user": {
      "displayName": "Ignacio Soteras",
      "photoUrl": "",
      "userId": "02050793736257155229"
     }
    }
   },
   "source": [
    "squirrels = pop.sample(n, random_state=1990)"
   ],
   "execution_count": 38,
   "outputs": []
  },
  {
   "cell_type": "code",
   "metadata": {
    "scrolled": true,
    "id": "AD6fsm8z2CyQ",
    "colab": {
     "base_uri": "https://localhost:8080/",
     "height": 285
    },
    "executionInfo": {
     "status": "ok",
     "timestamp": 1618842724109,
     "user_tz": -120,
     "elapsed": 1136,
     "user": {
      "displayName": "Ignacio Soteras",
      "photoUrl": "",
      "userId": "02050793736257155229"
     }
    },
    "outputId": "a7dce382-588b-49fb-f787-84d9fc71484b"
   },
   "source": [
    "# this is the distribution of the sample\n",
    "squirrels.hist()"
   ],
   "execution_count": 39,
   "outputs": [
    {
     "data": {
      "text/plain": "<AxesSubplot:>"
     },
     "execution_count": 39,
     "metadata": {},
     "output_type": "execute_result"
    },
    {
     "data": {
      "text/plain": "<Figure size 432x288 with 1 Axes>",
      "image/png": "[encoded data removed]"
     },
     "metadata": {},
     "output_type": "display_data"
    }
   ]
  },
  {
   "cell_type": "code",
   "metadata": {
    "colab": {
     "base_uri": "https://localhost:8080/"
    },
    "id": "zJy3W7s22CyQ",
    "executionInfo": {
     "status": "ok",
     "timestamp": 1618842774405,
     "user_tz": -120,
     "elapsed": 561,
     "user": {
      "displayName": "Ignacio Soteras",
      "photoUrl": "",
      "userId": "02050793736257155229"
     }
    },
    "outputId": "1b94c843-6f9c-4b2c-952a-bd705e682151"
   },
   "source": [
    "# We wonder if the mean of the weights of the squirrels is\n",
    "# close to the 'true' mean of the population (which we can't measure)\n",
    "print(\"The mean of the sample is: {:.2f}\".format(np.mean(squirrels)))"
   ],
   "execution_count": 41,
   "outputs": [
    {
     "output_type": "stream",
     "text": [
      "The mean of the sample is: 2.57\n"
     ],
     "name": "stdout"
    }
   ]
  },
  {
   "cell_type": "markdown",
   "metadata": {
    "id": "75U-9veM2CyR"
   },
   "source": [
    "The standard error of the mean is an estimate of how far the sample mean is likely to be from the population mean.\n",
    "\n",
    "It is an estimate of the standard deviation of the distribution of the sample means, which, as we've seen, follows a normal ditribution."
   ]
  },
  {
   "cell_type": "code",
   "metadata": {
    "scrolled": false,
    "colab": {
     "base_uri": "https://localhost:8080/"
    },
    "id": "VgnJmqpq2CyR",
    "executionInfo": {
     "status": "ok",
     "timestamp": 1618842890343,
     "user_tz": -120,
     "elapsed": 1726,
     "user": {
      "displayName": "Ignacio Soteras",
      "photoUrl": "",
      "userId": "02050793736257155229"
     }
    },
    "outputId": "e124ddbd-bd48-4495-a42e-0aaad6cdec13"
   },
   "source": [
    "# standard error of the mean\n",
    "np.std(squirrels)/np.sqrt(len(squirrels))"
   ],
   "execution_count": 45,
   "outputs": [
    {
     "output_type": "execute_result",
     "data": {
      "text/plain": [
       "0.3229993534488167"
      ]
     },
     "metadata": {
      "tags": []
     },
     "execution_count": 45
    }
   ]
  },
  {
   "cell_type": "code",
   "metadata": {
    "colab": {
     "base_uri": "https://localhost:8080/"
    },
    "id": "BFxLaqr72CyR",
    "executionInfo": {
     "status": "ok",
     "timestamp": 1618842883373,
     "user_tz": -120,
     "elapsed": 1131,
     "user": {
      "displayName": "Ignacio Soteras",
      "photoUrl": "",
      "userId": "02050793736257155229"
     }
    },
    "outputId": "eb3b3d9a-082b-4c1e-a019-d10f82e5165d"
   },
   "source": [
    "# using scipy you can also calculate the standard error of the mean\n",
    "#?stats.sem\n",
    "stats.sem(squirrels, \n",
    "          ddof=0) # degrees of freedom. the default is 1,\n",
    "                  # which results in a more conservative estimate"
   ],
   "execution_count": 44,
   "outputs": [
    {
     "output_type": "execute_result",
     "data": {
      "text/plain": [
       "0.3229993534488167"
      ]
     },
     "metadata": {
      "tags": []
     },
     "execution_count": 44
    }
   ]
  },
  {
   "cell_type": "markdown",
   "metadata": {
    "id": "NedUfn-p2CyR"
   },
   "source": [
    "We know that no matter the distribution of our sample or the population, the sampling distribution of the sample mean is normal (Central Limit Theorem).\n",
    "\n",
    "Knowing that, we can use the properties of the normal distribution to gain information about our sample and how much it might differ from the true population.\n",
    "\n",
    "In a normal distribution, 95% of the observations fall within 2 standard deviations above and below the mean.\n",
    "\n",
    "We have the mean of the sample. And we also computed the standard error, which is an estimate of the standard deviation of the sample means.\n",
    "\n",
    "With those values, we can compute the confidence interval.\n",
    "\n",
    "The **confidence interval** is a 'plausible range of values' for a population parameter (in this case, the mean).\n"
   ]
  },
  {
   "cell_type": "code",
   "metadata": {
    "colab": {
     "base_uri": "https://localhost:8080/"
    },
    "id": "ueI6gVcC2CyR",
    "executionInfo": {
     "status": "ok",
     "timestamp": 1618843060453,
     "user_tz": -120,
     "elapsed": 1025,
     "user": {
      "displayName": "Ignacio Soteras",
      "photoUrl": "",
      "userId": "02050793736257155229"
     }
    },
    "outputId": "f8a15010-6e90-4cd7-8f29-8d63ca029849"
   },
   "source": [
    "# upper bound of the confidence interval\n",
    "print(\"Upper bound to the population mean based on the sample mean with a 95% confidence interval: {:.2f}\".format(np.mean(squirrels) + stats.sem(squirrels)*2)) # two standard deviations above"
   ],
   "execution_count": 47,
   "outputs": [
    {
     "output_type": "stream",
     "text": [
      "Upper bound to the population mean based on the sample mean with a 95% confidence interval: 3.23\n"
     ],
     "name": "stdout"
    }
   ]
  },
  {
   "cell_type": "code",
   "metadata": {
    "colab": {
     "base_uri": "https://localhost:8080/"
    },
    "id": "cR6mzCP42CyS",
    "executionInfo": {
     "status": "ok",
     "timestamp": 1618843086934,
     "user_tz": -120,
     "elapsed": 797,
     "user": {
      "displayName": "Ignacio Soteras",
      "photoUrl": "",
      "userId": "02050793736257155229"
     }
    },
    "outputId": "c99a80c5-e7b5-426d-9ab0-12b6b8972e95"
   },
   "source": [
    "# lower bound of the confidence interval\n",
    "print(\"Lower bound to the population mean based on the sample mean with a 95% confidence interval: {:.2f}\".format(np.mean(squirrels) - stats.sem(squirrels)*2)) # two standard deviations below"
   ],
   "execution_count": 40,
   "outputs": [
    {
     "name": "stdout",
     "output_type": "stream",
     "text": [
      "Lower bound to the population mean based on the sample mean with a 95% confidence interval: 1.92\n"
     ]
    }
   ]
  },
  {
   "cell_type": "code",
   "metadata": {
    "colab": {
     "base_uri": "https://localhost:8080/"
    },
    "id": "AeDAQP772CyS",
    "executionInfo": {
     "status": "ok",
     "timestamp": 1618843190917,
     "user_tz": -120,
     "elapsed": 553,
     "user": {
      "displayName": "Ignacio Soteras",
      "photoUrl": "",
      "userId": "02050793736257155229"
     }
    },
    "outputId": "ba80e431-74b1-4bbb-be57-8657cd811ef8"
   },
   "source": [
    "# using scipy to calculate the confidence interval:\n",
    "low, upp = stats.norm.interval(0.95, # the confidence level\n",
    "                 loc=np.mean(squirrels), # mean of our sample\n",
    "                 scale=stats.sem(squirrels)) # standard error of the mean\n",
    "\n",
    "print(\"Upper bound to the population mean based on the sample mean with a 95% confidence interval: {:.2f}\".format(upp)) # two standard deviations above\n",
    "print(\"Lower bound to the population mean based on the sample mean with a 95% confidence interval: {:.2f}\".format(low)) # two standard deviations below"
   ],
   "execution_count": 41,
   "outputs": [
    {
     "name": "stdout",
     "output_type": "stream",
     "text": [
      "Upper bound to the population mean based on the sample mean with a 95% confidence interval: 3.21\n",
      "Lower bound to the population mean based on the sample mean with a 95% confidence interval: 1.93\n"
     ]
    }
   ]
  },
  {
   "cell_type": "code",
   "metadata": {
    "colab": {
     "base_uri": "https://localhost:8080/"
    },
    "id": "kdJOAg4Q2CyS",
    "executionInfo": {
     "status": "ok",
     "timestamp": 1618843284701,
     "user_tz": -120,
     "elapsed": 647,
     "user": {
      "displayName": "Ignacio Soteras",
      "photoUrl": "",
      "userId": "02050793736257155229"
     }
    },
    "outputId": "33a9d5e9-2d29-41bc-948c-cfb4f221f5ef"
   },
   "source": [
    "# using a t distribution:\n",
    "t_low, t_upp = stats.t.interval(0.95, # the confidence level\n",
    "                                len(squirrels)-1, # degrees of freedom = sample size - 1\n",
    "                                loc=np.mean(squirrels), # mean of our sample\n",
    "                                scale=stats.sem(squirrels)) # standard error of the mean\n",
    "\n",
    "print(\"Upper bound to the population mean based on the sample mean with a 95% confidence interval: {:.2f}\".format(t_upp)) # two standard deviations above\n",
    "print(\"Lower bound to the population mean based on the sample mean with a 95% confidence interval: {:.2f}\".format(t_low)) # two standard deviations below"
   ],
   "execution_count": 42,
   "outputs": [
    {
     "name": "stdout",
     "output_type": "stream",
     "text": [
      "Upper bound to the population mean based on the sample mean with a 95% confidence interval: 3.23\n",
      "Lower bound to the population mean based on the sample mean with a 95% confidence interval: 1.92\n"
     ]
    }
   ]
  },
  {
   "cell_type": "markdown",
   "metadata": {
    "id": "qyAGGVcX2CyS"
   },
   "source": [
    "In the second interval we've used a t distribution, instead of a normal distribution, to get a more conservative estimate of the confidence intermal.\n",
    "\n",
    "A t distribution is 'flatter' and has 'fat tails' for small populations, and is indistinguishable from a normal distribution for bigger populations.\n",
    "\n",
    "The confidence interval is slightly thinner if we use a normal distribution."
   ]
  },
  {
   "cell_type": "code",
   "execution_count": null,
   "outputs": [],
   "source": [],
   "metadata": {
    "collapsed": false
   }
  }
 ]
}
